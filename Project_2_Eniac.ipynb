{
  "nbformat": 4,
  "nbformat_minor": 0,
  "metadata": {
    "colab": {
      "provenance": [],
      "toc_visible": true,
      "authorship_tag": "ABX9TyMT7v9XshVXAURmbT7onweZ",
      "include_colab_link": true
    },
    "kernelspec": {
      "name": "python3",
      "display_name": "Python 3"
    },
    "language_info": {
      "name": "python"
    }
  },
  "cells": [
    {
      "cell_type": "markdown",
      "metadata": {
        "id": "view-in-github",
        "colab_type": "text"
      },
      "source": [
        "<a href=\"https://colab.research.google.com/github/JacquelineBashta/Pandas_Eniac/blob/main/Project_2_Eniac.ipynb\" target=\"_parent\"><img src=\"https://colab.research.google.com/assets/colab-badge.svg\" alt=\"Open In Colab\"/></a>"
      ]
    },
    {
      "cell_type": "markdown",
      "source": [
        "# CleaningUp orders.csv (ord_)\n",
        "#### orders.csv – Every row in this file represents an order.\n",
        "- order_id – a unique identifier for each order\n",
        "- created_date – a timestamp for when the order was created\n",
        "- total_paid – the total amount paid by the customer for this order, in euros\n",
        "- state \n",
        "  - “Shopping basket” – products have been placed in the shopping basket, but the order has not been processed yet.\n",
        "  - “Pending” – the shopping basket has been processed, but payment confirmation is pending.\n",
        "  - “Completed” – the order has been placed and paid, and the transaction is completed.\n",
        "  - “Cancelled” – the order has been cancelled and the payment returned to the customer."
      ],
      "metadata": {
        "id": "RCIYjmVBHMnx"
      }
    },
    {
      "cell_type": "markdown",
      "source": [
        "##Importing the data\n",
        "- glob-glob(\"file_pat\") --> read multi files \n",
        "- pd.concat(dfs_list, ignore_index=True) --> create 1 df from multi dfs\n",
        "- pd.read_csv(path) --> create 1 df from a csv file"
      ],
      "metadata": {
        "id": "pG4_-xlaHrtV"
      }
    },
    {
      "cell_type": "code",
      "source": [
        "import pandas as pd\n",
        "\n",
        "url = \"https://drive.google.com/file/d/1Vu0q91qZw6lqhIqbjoXYvYAQTmVHh6uZ/view?usp=sharing\" \n",
        "path = \"https://drive.google.com/uc?export=download&id=\"+url.split(\"/\")[-2]\n",
        "orders = pd.read_csv(path)\n",
        "\n"
      ],
      "metadata": {
        "id": "N5PcASxWHmmb"
      },
      "execution_count": 258,
      "outputs": []
    },
    {
      "cell_type": "code",
      "source": [
        "#pd.options.display.max_rows = 999\n",
        "pd.set_option(\"display.max_rows\", 50) #Question : doesn't work!\n",
        "pd.get_option(\"display.max_rows\")\n"
      ],
      "metadata": {
        "colab": {
          "base_uri": "https://localhost:8080/"
        },
        "id": "wdtR5G1SleHd",
        "outputId": "10ba6b0f-ed99-4bd9-d4f2-dc797eeb2bfe"
      },
      "execution_count": 296,
      "outputs": [
        {
          "output_type": "execute_result",
          "data": {
            "text/plain": [
              "50"
            ]
          },
          "metadata": {},
          "execution_count": 296
        }
      ]
    },
    {
      "cell_type": "markdown",
      "source": [
        "## Explore the data\n",
        "- .shape, .size, .ndim\n",
        "- .sample(5), .info()\n",
        "- Numerical : .describe(), .nlargest(), .nsmallest()\n",
        "- Category: .nunique(), .unique() "
      ],
      "metadata": {
        "id": "9OsnA7TrIVZh"
      }
    },
    {
      "cell_type": "code",
      "source": [
        "orders.shape"
      ],
      "metadata": {
        "colab": {
          "base_uri": "https://localhost:8080/"
        },
        "id": "WYH-IAlTMPfb",
        "outputId": "c109bd1e-dfa3-454b-e399-476a54c5a51d"
      },
      "execution_count": 260,
      "outputs": [
        {
          "output_type": "execute_result",
          "data": {
            "text/plain": [
              "(226909, 4)"
            ]
          },
          "metadata": {},
          "execution_count": 260
        }
      ]
    },
    {
      "cell_type": "code",
      "source": [
        "orders.sample(5)"
      ],
      "metadata": {
        "colab": {
          "base_uri": "https://localhost:8080/",
          "height": 206
        },
        "id": "D-h_qX3xOFje",
        "outputId": "9eacbdc6-2228-481f-b15f-4c2bc474df80"
      },
      "execution_count": 261,
      "outputs": [
        {
          "output_type": "execute_result",
          "data": {
            "text/plain": [
              "        order_id         created_date  total_paid            state\n",
              "20571     320051  2017-02-05 10:00:51       73.98  Shopping Basket\n",
              "177353    477745  2017-12-30 23:46:53       98.49          Pending\n",
              "25696     325176  2017-02-16 12:26:40        0.00  Shopping Basket\n",
              "67473     367019  2017-06-19 11:17:42      655.18          Pending\n",
              "7740      307209  2017-01-11 12:19:08      321.98        Completed"
            ],
            "text/html": [
              "\n",
              "  <div id=\"df-27b2abde-6e6b-4152-8fee-ffcb12ef6739\">\n",
              "    <div class=\"colab-df-container\">\n",
              "      <div>\n",
              "<style scoped>\n",
              "    .dataframe tbody tr th:only-of-type {\n",
              "        vertical-align: middle;\n",
              "    }\n",
              "\n",
              "    .dataframe tbody tr th {\n",
              "        vertical-align: top;\n",
              "    }\n",
              "\n",
              "    .dataframe thead th {\n",
              "        text-align: right;\n",
              "    }\n",
              "</style>\n",
              "<table border=\"1\" class=\"dataframe\">\n",
              "  <thead>\n",
              "    <tr style=\"text-align: right;\">\n",
              "      <th></th>\n",
              "      <th>order_id</th>\n",
              "      <th>created_date</th>\n",
              "      <th>total_paid</th>\n",
              "      <th>state</th>\n",
              "    </tr>\n",
              "  </thead>\n",
              "  <tbody>\n",
              "    <tr>\n",
              "      <th>20571</th>\n",
              "      <td>320051</td>\n",
              "      <td>2017-02-05 10:00:51</td>\n",
              "      <td>73.98</td>\n",
              "      <td>Shopping Basket</td>\n",
              "    </tr>\n",
              "    <tr>\n",
              "      <th>177353</th>\n",
              "      <td>477745</td>\n",
              "      <td>2017-12-30 23:46:53</td>\n",
              "      <td>98.49</td>\n",
              "      <td>Pending</td>\n",
              "    </tr>\n",
              "    <tr>\n",
              "      <th>25696</th>\n",
              "      <td>325176</td>\n",
              "      <td>2017-02-16 12:26:40</td>\n",
              "      <td>0.00</td>\n",
              "      <td>Shopping Basket</td>\n",
              "    </tr>\n",
              "    <tr>\n",
              "      <th>67473</th>\n",
              "      <td>367019</td>\n",
              "      <td>2017-06-19 11:17:42</td>\n",
              "      <td>655.18</td>\n",
              "      <td>Pending</td>\n",
              "    </tr>\n",
              "    <tr>\n",
              "      <th>7740</th>\n",
              "      <td>307209</td>\n",
              "      <td>2017-01-11 12:19:08</td>\n",
              "      <td>321.98</td>\n",
              "      <td>Completed</td>\n",
              "    </tr>\n",
              "  </tbody>\n",
              "</table>\n",
              "</div>\n",
              "      <button class=\"colab-df-convert\" onclick=\"convertToInteractive('df-27b2abde-6e6b-4152-8fee-ffcb12ef6739')\"\n",
              "              title=\"Convert this dataframe to an interactive table.\"\n",
              "              style=\"display:none;\">\n",
              "        \n",
              "  <svg xmlns=\"http://www.w3.org/2000/svg\" height=\"24px\"viewBox=\"0 0 24 24\"\n",
              "       width=\"24px\">\n",
              "    <path d=\"M0 0h24v24H0V0z\" fill=\"none\"/>\n",
              "    <path d=\"M18.56 5.44l.94 2.06.94-2.06 2.06-.94-2.06-.94-.94-2.06-.94 2.06-2.06.94zm-11 1L8.5 8.5l.94-2.06 2.06-.94-2.06-.94L8.5 2.5l-.94 2.06-2.06.94zm10 10l.94 2.06.94-2.06 2.06-.94-2.06-.94-.94-2.06-.94 2.06-2.06.94z\"/><path d=\"M17.41 7.96l-1.37-1.37c-.4-.4-.92-.59-1.43-.59-.52 0-1.04.2-1.43.59L10.3 9.45l-7.72 7.72c-.78.78-.78 2.05 0 2.83L4 21.41c.39.39.9.59 1.41.59.51 0 1.02-.2 1.41-.59l7.78-7.78 2.81-2.81c.8-.78.8-2.07 0-2.86zM5.41 20L4 18.59l7.72-7.72 1.47 1.35L5.41 20z\"/>\n",
              "  </svg>\n",
              "      </button>\n",
              "      \n",
              "  <style>\n",
              "    .colab-df-container {\n",
              "      display:flex;\n",
              "      flex-wrap:wrap;\n",
              "      gap: 12px;\n",
              "    }\n",
              "\n",
              "    .colab-df-convert {\n",
              "      background-color: #E8F0FE;\n",
              "      border: none;\n",
              "      border-radius: 50%;\n",
              "      cursor: pointer;\n",
              "      display: none;\n",
              "      fill: #1967D2;\n",
              "      height: 32px;\n",
              "      padding: 0 0 0 0;\n",
              "      width: 32px;\n",
              "    }\n",
              "\n",
              "    .colab-df-convert:hover {\n",
              "      background-color: #E2EBFA;\n",
              "      box-shadow: 0px 1px 2px rgba(60, 64, 67, 0.3), 0px 1px 3px 1px rgba(60, 64, 67, 0.15);\n",
              "      fill: #174EA6;\n",
              "    }\n",
              "\n",
              "    [theme=dark] .colab-df-convert {\n",
              "      background-color: #3B4455;\n",
              "      fill: #D2E3FC;\n",
              "    }\n",
              "\n",
              "    [theme=dark] .colab-df-convert:hover {\n",
              "      background-color: #434B5C;\n",
              "      box-shadow: 0px 1px 3px 1px rgba(0, 0, 0, 0.15);\n",
              "      filter: drop-shadow(0px 1px 2px rgba(0, 0, 0, 0.3));\n",
              "      fill: #FFFFFF;\n",
              "    }\n",
              "  </style>\n",
              "\n",
              "      <script>\n",
              "        const buttonEl =\n",
              "          document.querySelector('#df-27b2abde-6e6b-4152-8fee-ffcb12ef6739 button.colab-df-convert');\n",
              "        buttonEl.style.display =\n",
              "          google.colab.kernel.accessAllowed ? 'block' : 'none';\n",
              "\n",
              "        async function convertToInteractive(key) {\n",
              "          const element = document.querySelector('#df-27b2abde-6e6b-4152-8fee-ffcb12ef6739');\n",
              "          const dataTable =\n",
              "            await google.colab.kernel.invokeFunction('convertToInteractive',\n",
              "                                                     [key], {});\n",
              "          if (!dataTable) return;\n",
              "\n",
              "          const docLinkHtml = 'Like what you see? Visit the ' +\n",
              "            '<a target=\"_blank\" href=https://colab.research.google.com/notebooks/data_table.ipynb>data table notebook</a>'\n",
              "            + ' to learn more about interactive tables.';\n",
              "          element.innerHTML = '';\n",
              "          dataTable['output_type'] = 'display_data';\n",
              "          await google.colab.output.renderOutput(dataTable, element);\n",
              "          const docLink = document.createElement('div');\n",
              "          docLink.innerHTML = docLinkHtml;\n",
              "          element.appendChild(docLink);\n",
              "        }\n",
              "      </script>\n",
              "    </div>\n",
              "  </div>\n",
              "  "
            ]
          },
          "metadata": {},
          "execution_count": 261
        }
      ]
    },
    {
      "cell_type": "code",
      "source": [
        "orders.info()  \n",
        "## hint: there are 5 nulls in total_paid - fix required\n",
        "## hint: created_date is of type object, has to be datetime - fix required"
      ],
      "metadata": {
        "colab": {
          "base_uri": "https://localhost:8080/"
        },
        "id": "JrY5nsdmMUeL",
        "outputId": "17cbb184-a6b1-45c5-8313-2e2878d96463"
      },
      "execution_count": 262,
      "outputs": [
        {
          "output_type": "stream",
          "name": "stdout",
          "text": [
            "<class 'pandas.core.frame.DataFrame'>\n",
            "RangeIndex: 226909 entries, 0 to 226908\n",
            "Data columns (total 4 columns):\n",
            " #   Column        Non-Null Count   Dtype  \n",
            "---  ------        --------------   -----  \n",
            " 0   order_id      226909 non-null  int64  \n",
            " 1   created_date  226909 non-null  object \n",
            " 2   total_paid    226904 non-null  float64\n",
            " 3   state         226909 non-null  object \n",
            "dtypes: float64(1), int64(1), object(2)\n",
            "memory usage: 6.9+ MB\n"
          ]
        }
      ]
    },
    {
      "cell_type": "code",
      "source": [
        "orders.describe()\n",
        "## hint: total_paid has huge std , min = 0 as some points! probably we should exclude the total_paid = 0 - fix required"
      ],
      "metadata": {
        "colab": {
          "base_uri": "https://localhost:8080/",
          "height": 300
        },
        "id": "xt3AjCMpOWWG",
        "outputId": "e9a8fb9d-0e53-4199-d6c7-450c867855c1"
      },
      "execution_count": 263,
      "outputs": [
        {
          "output_type": "execute_result",
          "data": {
            "text/plain": [
              "            order_id     total_paid\n",
              "count  226909.000000  226904.000000\n",
              "mean   413296.482480     569.225818\n",
              "std     65919.250331    1761.778002\n",
              "min    241319.000000       0.000000\n",
              "25%    356263.000000      34.190000\n",
              "50%    413040.000000     112.990000\n",
              "75%    470553.000000     525.980000\n",
              "max    527401.000000  214747.530000"
            ],
            "text/html": [
              "\n",
              "  <div id=\"df-4da362a5-a37c-41e7-9560-0f9bb6ff2c86\">\n",
              "    <div class=\"colab-df-container\">\n",
              "      <div>\n",
              "<style scoped>\n",
              "    .dataframe tbody tr th:only-of-type {\n",
              "        vertical-align: middle;\n",
              "    }\n",
              "\n",
              "    .dataframe tbody tr th {\n",
              "        vertical-align: top;\n",
              "    }\n",
              "\n",
              "    .dataframe thead th {\n",
              "        text-align: right;\n",
              "    }\n",
              "</style>\n",
              "<table border=\"1\" class=\"dataframe\">\n",
              "  <thead>\n",
              "    <tr style=\"text-align: right;\">\n",
              "      <th></th>\n",
              "      <th>order_id</th>\n",
              "      <th>total_paid</th>\n",
              "    </tr>\n",
              "  </thead>\n",
              "  <tbody>\n",
              "    <tr>\n",
              "      <th>count</th>\n",
              "      <td>226909.000000</td>\n",
              "      <td>226904.000000</td>\n",
              "    </tr>\n",
              "    <tr>\n",
              "      <th>mean</th>\n",
              "      <td>413296.482480</td>\n",
              "      <td>569.225818</td>\n",
              "    </tr>\n",
              "    <tr>\n",
              "      <th>std</th>\n",
              "      <td>65919.250331</td>\n",
              "      <td>1761.778002</td>\n",
              "    </tr>\n",
              "    <tr>\n",
              "      <th>min</th>\n",
              "      <td>241319.000000</td>\n",
              "      <td>0.000000</td>\n",
              "    </tr>\n",
              "    <tr>\n",
              "      <th>25%</th>\n",
              "      <td>356263.000000</td>\n",
              "      <td>34.190000</td>\n",
              "    </tr>\n",
              "    <tr>\n",
              "      <th>50%</th>\n",
              "      <td>413040.000000</td>\n",
              "      <td>112.990000</td>\n",
              "    </tr>\n",
              "    <tr>\n",
              "      <th>75%</th>\n",
              "      <td>470553.000000</td>\n",
              "      <td>525.980000</td>\n",
              "    </tr>\n",
              "    <tr>\n",
              "      <th>max</th>\n",
              "      <td>527401.000000</td>\n",
              "      <td>214747.530000</td>\n",
              "    </tr>\n",
              "  </tbody>\n",
              "</table>\n",
              "</div>\n",
              "      <button class=\"colab-df-convert\" onclick=\"convertToInteractive('df-4da362a5-a37c-41e7-9560-0f9bb6ff2c86')\"\n",
              "              title=\"Convert this dataframe to an interactive table.\"\n",
              "              style=\"display:none;\">\n",
              "        \n",
              "  <svg xmlns=\"http://www.w3.org/2000/svg\" height=\"24px\"viewBox=\"0 0 24 24\"\n",
              "       width=\"24px\">\n",
              "    <path d=\"M0 0h24v24H0V0z\" fill=\"none\"/>\n",
              "    <path d=\"M18.56 5.44l.94 2.06.94-2.06 2.06-.94-2.06-.94-.94-2.06-.94 2.06-2.06.94zm-11 1L8.5 8.5l.94-2.06 2.06-.94-2.06-.94L8.5 2.5l-.94 2.06-2.06.94zm10 10l.94 2.06.94-2.06 2.06-.94-2.06-.94-.94-2.06-.94 2.06-2.06.94z\"/><path d=\"M17.41 7.96l-1.37-1.37c-.4-.4-.92-.59-1.43-.59-.52 0-1.04.2-1.43.59L10.3 9.45l-7.72 7.72c-.78.78-.78 2.05 0 2.83L4 21.41c.39.39.9.59 1.41.59.51 0 1.02-.2 1.41-.59l7.78-7.78 2.81-2.81c.8-.78.8-2.07 0-2.86zM5.41 20L4 18.59l7.72-7.72 1.47 1.35L5.41 20z\"/>\n",
              "  </svg>\n",
              "      </button>\n",
              "      \n",
              "  <style>\n",
              "    .colab-df-container {\n",
              "      display:flex;\n",
              "      flex-wrap:wrap;\n",
              "      gap: 12px;\n",
              "    }\n",
              "\n",
              "    .colab-df-convert {\n",
              "      background-color: #E8F0FE;\n",
              "      border: none;\n",
              "      border-radius: 50%;\n",
              "      cursor: pointer;\n",
              "      display: none;\n",
              "      fill: #1967D2;\n",
              "      height: 32px;\n",
              "      padding: 0 0 0 0;\n",
              "      width: 32px;\n",
              "    }\n",
              "\n",
              "    .colab-df-convert:hover {\n",
              "      background-color: #E2EBFA;\n",
              "      box-shadow: 0px 1px 2px rgba(60, 64, 67, 0.3), 0px 1px 3px 1px rgba(60, 64, 67, 0.15);\n",
              "      fill: #174EA6;\n",
              "    }\n",
              "\n",
              "    [theme=dark] .colab-df-convert {\n",
              "      background-color: #3B4455;\n",
              "      fill: #D2E3FC;\n",
              "    }\n",
              "\n",
              "    [theme=dark] .colab-df-convert:hover {\n",
              "      background-color: #434B5C;\n",
              "      box-shadow: 0px 1px 3px 1px rgba(0, 0, 0, 0.15);\n",
              "      filter: drop-shadow(0px 1px 2px rgba(0, 0, 0, 0.3));\n",
              "      fill: #FFFFFF;\n",
              "    }\n",
              "  </style>\n",
              "\n",
              "      <script>\n",
              "        const buttonEl =\n",
              "          document.querySelector('#df-4da362a5-a37c-41e7-9560-0f9bb6ff2c86 button.colab-df-convert');\n",
              "        buttonEl.style.display =\n",
              "          google.colab.kernel.accessAllowed ? 'block' : 'none';\n",
              "\n",
              "        async function convertToInteractive(key) {\n",
              "          const element = document.querySelector('#df-4da362a5-a37c-41e7-9560-0f9bb6ff2c86');\n",
              "          const dataTable =\n",
              "            await google.colab.kernel.invokeFunction('convertToInteractive',\n",
              "                                                     [key], {});\n",
              "          if (!dataTable) return;\n",
              "\n",
              "          const docLinkHtml = 'Like what you see? Visit the ' +\n",
              "            '<a target=\"_blank\" href=https://colab.research.google.com/notebooks/data_table.ipynb>data table notebook</a>'\n",
              "            + ' to learn more about interactive tables.';\n",
              "          element.innerHTML = '';\n",
              "          dataTable['output_type'] = 'display_data';\n",
              "          await google.colab.output.renderOutput(dataTable, element);\n",
              "          const docLink = document.createElement('div');\n",
              "          docLink.innerHTML = docLinkHtml;\n",
              "          element.appendChild(docLink);\n",
              "        }\n",
              "      </script>\n",
              "    </div>\n",
              "  </div>\n",
              "  "
            ]
          },
          "metadata": {},
          "execution_count": 263
        }
      ]
    },
    {
      "cell_type": "code",
      "source": [
        "orders.nunique() # hint: order_id is unique per row \n",
        "# hint: state is category data"
      ],
      "metadata": {
        "colab": {
          "base_uri": "https://localhost:8080/"
        },
        "id": "JOUkYsQLO5NK",
        "outputId": "ce313205-e4ea-467e-ab4b-a9bb904b0862"
      },
      "execution_count": 264,
      "outputs": [
        {
          "output_type": "execute_result",
          "data": {
            "text/plain": [
              "order_id        226909\n",
              "created_date    224828\n",
              "total_paid       31236\n",
              "state                5\n",
              "dtype: int64"
            ]
          },
          "metadata": {},
          "execution_count": 264
        }
      ]
    },
    {
      "cell_type": "code",
      "source": [
        "orders.state.unique()\n",
        "#hint: state has value \"Shopping Basket\"/\"Pending\" which ideally shall not be part of the analysis - fix required\n",
        "# (if we care about actuall sold products)\n"
      ],
      "metadata": {
        "colab": {
          "base_uri": "https://localhost:8080/"
        },
        "id": "uNxu8V_zPPV6",
        "outputId": "ecd3d2de-ec0a-4cdc-f1c7-7dd6fab3925b"
      },
      "execution_count": 265,
      "outputs": [
        {
          "output_type": "execute_result",
          "data": {
            "text/plain": [
              "array(['Cancelled', 'Completed', 'Pending', 'Shopping Basket',\n",
              "       'Place Order'], dtype=object)"
            ]
          },
          "metadata": {},
          "execution_count": 265
        }
      ]
    },
    {
      "cell_type": "markdown",
      "source": [
        "##Clean the data per csv\n",
        "- Remember to create a copy of the df using .copy()"
      ],
      "metadata": {
        "id": "D7qtLn9bIaWv"
      }
    },
    {
      "cell_type": "code",
      "source": [
        "orders_c = orders.copy()"
      ],
      "metadata": {
        "id": "2iF8aX-tQce6"
      },
      "execution_count": 266,
      "outputs": []
    },
    {
      "cell_type": "markdown",
      "source": [
        "###Rename Columns , Set Index\n",
        " - df.columns  , df.index\n",
        " - df=df.rename(columns={\"A\": \"a\", \"B\": \"c\"})\n",
        " - df.columns = [\"a\",\"b\":\"x\"]\n",
        "   - take care, renaming the columns like that will convert the NAN to some value!!\n",
        " - df=df.set_index(\"col\") , df=df.reset_index()"
      ],
      "metadata": {
        "id": "bWRDa2TgI36i"
      }
    },
    {
      "cell_type": "code",
      "source": [
        "orders_c.columns #hint: columns names shall has indec ord_"
      ],
      "metadata": {
        "colab": {
          "base_uri": "https://localhost:8080/"
        },
        "id": "Bb2s2UbkSDN5",
        "outputId": "4cfabe5b-9b4d-4adf-e129-4a3506516d6a"
      },
      "execution_count": 267,
      "outputs": [
        {
          "output_type": "execute_result",
          "data": {
            "text/plain": [
              "Index(['order_id', 'created_date', 'total_paid', 'state'], dtype='object')"
            ]
          },
          "metadata": {},
          "execution_count": 267
        }
      ]
    },
    {
      "cell_type": "code",
      "source": [
        "#orders_c.columns=['ord_id', 'ord_created_date', 'ord_total_paid', 'ord_state'] \n",
        "## take care, renaming the columns like that will convert the NAN to some value!!\n"
      ],
      "metadata": {
        "id": "mHDdqIRypXox"
      },
      "execution_count": 268,
      "outputs": []
    },
    {
      "cell_type": "code",
      "source": [
        "orders_c=orders_c.rename(columns={\"order_id\": \"ord_id\", \"created_date\": \"ord_created_date\"\n",
        ", \"total_paid\": \"ord_total_paid\", \"state\": \"ord_state\"})"
      ],
      "metadata": {
        "id": "72ZZgSWZqtpo"
      },
      "execution_count": 269,
      "outputs": []
    },
    {
      "cell_type": "code",
      "source": [
        "orders_c.index #hint: no need to change index"
      ],
      "metadata": {
        "colab": {
          "base_uri": "https://localhost:8080/"
        },
        "id": "qD7W0_cBSReE",
        "outputId": "bc26bd31-063d-4d78-a64a-79d53059ee85"
      },
      "execution_count": 270,
      "outputs": [
        {
          "output_type": "execute_result",
          "data": {
            "text/plain": [
              "RangeIndex(start=0, stop=226909, step=1)"
            ]
          },
          "metadata": {},
          "execution_count": 270
        }
      ]
    },
    {
      "cell_type": "markdown",
      "source": [
        "### Remove Duplicates Rows\n",
        "- df.duplicated().sum()\n",
        "- df.loc[df.duplicated()==True]\n",
        "- df=df.drop:duplicates() \n",
        "- df=df.drop:duplicates(subset=[\"col\"]) --> remove rows based on duplicated in specific column"
      ],
      "metadata": {
        "id": "fgvb_kkVIfSf"
      }
    },
    {
      "cell_type": "code",
      "source": [
        "orders_c.duplicated().sum() #hint : No duplicates"
      ],
      "metadata": {
        "colab": {
          "base_uri": "https://localhost:8080/"
        },
        "id": "KmIlg8smTjcd",
        "outputId": "05d236b0-c047-4c57-a37a-10f3961fc508"
      },
      "execution_count": 271,
      "outputs": [
        {
          "output_type": "execute_result",
          "data": {
            "text/plain": [
              "0"
            ]
          },
          "metadata": {},
          "execution_count": 271
        }
      ]
    },
    {
      "cell_type": "code",
      "source": [
        "orders_c.loc[orders_c.duplicated()==True]"
      ],
      "metadata": {
        "colab": {
          "base_uri": "https://localhost:8080/",
          "height": 49
        },
        "id": "IDHRyORYUdkB",
        "outputId": "2153327a-6a08-430e-8c07-af8d34a8fd4a"
      },
      "execution_count": 272,
      "outputs": [
        {
          "output_type": "execute_result",
          "data": {
            "text/plain": [
              "Empty DataFrame\n",
              "Columns: [ord_id, ord_created_date, ord_total_paid, ord_state]\n",
              "Index: []"
            ],
            "text/html": [
              "\n",
              "  <div id=\"df-64bfef33-9115-456e-8be6-3f9850bcea5d\">\n",
              "    <div class=\"colab-df-container\">\n",
              "      <div>\n",
              "<style scoped>\n",
              "    .dataframe tbody tr th:only-of-type {\n",
              "        vertical-align: middle;\n",
              "    }\n",
              "\n",
              "    .dataframe tbody tr th {\n",
              "        vertical-align: top;\n",
              "    }\n",
              "\n",
              "    .dataframe thead th {\n",
              "        text-align: right;\n",
              "    }\n",
              "</style>\n",
              "<table border=\"1\" class=\"dataframe\">\n",
              "  <thead>\n",
              "    <tr style=\"text-align: right;\">\n",
              "      <th></th>\n",
              "      <th>ord_id</th>\n",
              "      <th>ord_created_date</th>\n",
              "      <th>ord_total_paid</th>\n",
              "      <th>ord_state</th>\n",
              "    </tr>\n",
              "  </thead>\n",
              "  <tbody>\n",
              "  </tbody>\n",
              "</table>\n",
              "</div>\n",
              "      <button class=\"colab-df-convert\" onclick=\"convertToInteractive('df-64bfef33-9115-456e-8be6-3f9850bcea5d')\"\n",
              "              title=\"Convert this dataframe to an interactive table.\"\n",
              "              style=\"display:none;\">\n",
              "        \n",
              "  <svg xmlns=\"http://www.w3.org/2000/svg\" height=\"24px\"viewBox=\"0 0 24 24\"\n",
              "       width=\"24px\">\n",
              "    <path d=\"M0 0h24v24H0V0z\" fill=\"none\"/>\n",
              "    <path d=\"M18.56 5.44l.94 2.06.94-2.06 2.06-.94-2.06-.94-.94-2.06-.94 2.06-2.06.94zm-11 1L8.5 8.5l.94-2.06 2.06-.94-2.06-.94L8.5 2.5l-.94 2.06-2.06.94zm10 10l.94 2.06.94-2.06 2.06-.94-2.06-.94-.94-2.06-.94 2.06-2.06.94z\"/><path d=\"M17.41 7.96l-1.37-1.37c-.4-.4-.92-.59-1.43-.59-.52 0-1.04.2-1.43.59L10.3 9.45l-7.72 7.72c-.78.78-.78 2.05 0 2.83L4 21.41c.39.39.9.59 1.41.59.51 0 1.02-.2 1.41-.59l7.78-7.78 2.81-2.81c.8-.78.8-2.07 0-2.86zM5.41 20L4 18.59l7.72-7.72 1.47 1.35L5.41 20z\"/>\n",
              "  </svg>\n",
              "      </button>\n",
              "      \n",
              "  <style>\n",
              "    .colab-df-container {\n",
              "      display:flex;\n",
              "      flex-wrap:wrap;\n",
              "      gap: 12px;\n",
              "    }\n",
              "\n",
              "    .colab-df-convert {\n",
              "      background-color: #E8F0FE;\n",
              "      border: none;\n",
              "      border-radius: 50%;\n",
              "      cursor: pointer;\n",
              "      display: none;\n",
              "      fill: #1967D2;\n",
              "      height: 32px;\n",
              "      padding: 0 0 0 0;\n",
              "      width: 32px;\n",
              "    }\n",
              "\n",
              "    .colab-df-convert:hover {\n",
              "      background-color: #E2EBFA;\n",
              "      box-shadow: 0px 1px 2px rgba(60, 64, 67, 0.3), 0px 1px 3px 1px rgba(60, 64, 67, 0.15);\n",
              "      fill: #174EA6;\n",
              "    }\n",
              "\n",
              "    [theme=dark] .colab-df-convert {\n",
              "      background-color: #3B4455;\n",
              "      fill: #D2E3FC;\n",
              "    }\n",
              "\n",
              "    [theme=dark] .colab-df-convert:hover {\n",
              "      background-color: #434B5C;\n",
              "      box-shadow: 0px 1px 3px 1px rgba(0, 0, 0, 0.15);\n",
              "      filter: drop-shadow(0px 1px 2px rgba(0, 0, 0, 0.3));\n",
              "      fill: #FFFFFF;\n",
              "    }\n",
              "  </style>\n",
              "\n",
              "      <script>\n",
              "        const buttonEl =\n",
              "          document.querySelector('#df-64bfef33-9115-456e-8be6-3f9850bcea5d button.colab-df-convert');\n",
              "        buttonEl.style.display =\n",
              "          google.colab.kernel.accessAllowed ? 'block' : 'none';\n",
              "\n",
              "        async function convertToInteractive(key) {\n",
              "          const element = document.querySelector('#df-64bfef33-9115-456e-8be6-3f9850bcea5d');\n",
              "          const dataTable =\n",
              "            await google.colab.kernel.invokeFunction('convertToInteractive',\n",
              "                                                     [key], {});\n",
              "          if (!dataTable) return;\n",
              "\n",
              "          const docLinkHtml = 'Like what you see? Visit the ' +\n",
              "            '<a target=\"_blank\" href=https://colab.research.google.com/notebooks/data_table.ipynb>data table notebook</a>'\n",
              "            + ' to learn more about interactive tables.';\n",
              "          element.innerHTML = '';\n",
              "          dataTable['output_type'] = 'display_data';\n",
              "          await google.colab.output.renderOutput(dataTable, element);\n",
              "          const docLink = document.createElement('div');\n",
              "          docLink.innerHTML = docLinkHtml;\n",
              "          element.appendChild(docLink);\n",
              "        }\n",
              "      </script>\n",
              "    </div>\n",
              "  </div>\n",
              "  "
            ]
          },
          "metadata": {},
          "execution_count": 272
        }
      ]
    },
    {
      "cell_type": "markdown",
      "source": [
        "### Clean NAN and empty cells\n",
        "- df.isna().sum()\n",
        "- df = df.replace('^\\s*$', np.nan) -->replace empty cells and cells with only whitspace with NAN\n",
        "- df=df.col.fillna(value,method=\"bfill\"or\"ffill\",limit=value)\n",
        "\n",
        "- Extra: \n",
        "  - (df.values == '').sum() --> check if any cell is empty\n",
        "  - df.col.str.isspace().sum() --> check if all cell is filled with whitespaces"
      ],
      "metadata": {
        "id": "B7UNm64jIq0J"
      }
    },
    {
      "cell_type": "code",
      "source": [
        "orders_c.sample(5)"
      ],
      "metadata": {
        "colab": {
          "base_uri": "https://localhost:8080/",
          "height": 206
        },
        "id": "bGvRgxz3p_TV",
        "outputId": "132e4088-a562-4f8d-e0f7-d32eb775321e"
      },
      "execution_count": 273,
      "outputs": [
        {
          "output_type": "execute_result",
          "data": {
            "text/plain": [
              "        ord_id     ord_created_date  ord_total_paid        ord_state\n",
              "170289  470661  2017-12-24 11:49:08         1159.00  Shopping Basket\n",
              "83538   383113  2017-07-28 03:22:26           19.99  Shopping Basket\n",
              "140872  440798  2017-11-24 18:50:32           77.28      Place Order\n",
              "143024  443117  2017-11-25 12:32:50           21.23  Shopping Basket\n",
              "130975  430617  2017-11-21 20:50:11         1842.59      Place Order"
            ],
            "text/html": [
              "\n",
              "  <div id=\"df-cb503257-583e-479f-8189-5b6e0d71f7be\">\n",
              "    <div class=\"colab-df-container\">\n",
              "      <div>\n",
              "<style scoped>\n",
              "    .dataframe tbody tr th:only-of-type {\n",
              "        vertical-align: middle;\n",
              "    }\n",
              "\n",
              "    .dataframe tbody tr th {\n",
              "        vertical-align: top;\n",
              "    }\n",
              "\n",
              "    .dataframe thead th {\n",
              "        text-align: right;\n",
              "    }\n",
              "</style>\n",
              "<table border=\"1\" class=\"dataframe\">\n",
              "  <thead>\n",
              "    <tr style=\"text-align: right;\">\n",
              "      <th></th>\n",
              "      <th>ord_id</th>\n",
              "      <th>ord_created_date</th>\n",
              "      <th>ord_total_paid</th>\n",
              "      <th>ord_state</th>\n",
              "    </tr>\n",
              "  </thead>\n",
              "  <tbody>\n",
              "    <tr>\n",
              "      <th>170289</th>\n",
              "      <td>470661</td>\n",
              "      <td>2017-12-24 11:49:08</td>\n",
              "      <td>1159.00</td>\n",
              "      <td>Shopping Basket</td>\n",
              "    </tr>\n",
              "    <tr>\n",
              "      <th>83538</th>\n",
              "      <td>383113</td>\n",
              "      <td>2017-07-28 03:22:26</td>\n",
              "      <td>19.99</td>\n",
              "      <td>Shopping Basket</td>\n",
              "    </tr>\n",
              "    <tr>\n",
              "      <th>140872</th>\n",
              "      <td>440798</td>\n",
              "      <td>2017-11-24 18:50:32</td>\n",
              "      <td>77.28</td>\n",
              "      <td>Place Order</td>\n",
              "    </tr>\n",
              "    <tr>\n",
              "      <th>143024</th>\n",
              "      <td>443117</td>\n",
              "      <td>2017-11-25 12:32:50</td>\n",
              "      <td>21.23</td>\n",
              "      <td>Shopping Basket</td>\n",
              "    </tr>\n",
              "    <tr>\n",
              "      <th>130975</th>\n",
              "      <td>430617</td>\n",
              "      <td>2017-11-21 20:50:11</td>\n",
              "      <td>1842.59</td>\n",
              "      <td>Place Order</td>\n",
              "    </tr>\n",
              "  </tbody>\n",
              "</table>\n",
              "</div>\n",
              "      <button class=\"colab-df-convert\" onclick=\"convertToInteractive('df-cb503257-583e-479f-8189-5b6e0d71f7be')\"\n",
              "              title=\"Convert this dataframe to an interactive table.\"\n",
              "              style=\"display:none;\">\n",
              "        \n",
              "  <svg xmlns=\"http://www.w3.org/2000/svg\" height=\"24px\"viewBox=\"0 0 24 24\"\n",
              "       width=\"24px\">\n",
              "    <path d=\"M0 0h24v24H0V0z\" fill=\"none\"/>\n",
              "    <path d=\"M18.56 5.44l.94 2.06.94-2.06 2.06-.94-2.06-.94-.94-2.06-.94 2.06-2.06.94zm-11 1L8.5 8.5l.94-2.06 2.06-.94-2.06-.94L8.5 2.5l-.94 2.06-2.06.94zm10 10l.94 2.06.94-2.06 2.06-.94-2.06-.94-.94-2.06-.94 2.06-2.06.94z\"/><path d=\"M17.41 7.96l-1.37-1.37c-.4-.4-.92-.59-1.43-.59-.52 0-1.04.2-1.43.59L10.3 9.45l-7.72 7.72c-.78.78-.78 2.05 0 2.83L4 21.41c.39.39.9.59 1.41.59.51 0 1.02-.2 1.41-.59l7.78-7.78 2.81-2.81c.8-.78.8-2.07 0-2.86zM5.41 20L4 18.59l7.72-7.72 1.47 1.35L5.41 20z\"/>\n",
              "  </svg>\n",
              "      </button>\n",
              "      \n",
              "  <style>\n",
              "    .colab-df-container {\n",
              "      display:flex;\n",
              "      flex-wrap:wrap;\n",
              "      gap: 12px;\n",
              "    }\n",
              "\n",
              "    .colab-df-convert {\n",
              "      background-color: #E8F0FE;\n",
              "      border: none;\n",
              "      border-radius: 50%;\n",
              "      cursor: pointer;\n",
              "      display: none;\n",
              "      fill: #1967D2;\n",
              "      height: 32px;\n",
              "      padding: 0 0 0 0;\n",
              "      width: 32px;\n",
              "    }\n",
              "\n",
              "    .colab-df-convert:hover {\n",
              "      background-color: #E2EBFA;\n",
              "      box-shadow: 0px 1px 2px rgba(60, 64, 67, 0.3), 0px 1px 3px 1px rgba(60, 64, 67, 0.15);\n",
              "      fill: #174EA6;\n",
              "    }\n",
              "\n",
              "    [theme=dark] .colab-df-convert {\n",
              "      background-color: #3B4455;\n",
              "      fill: #D2E3FC;\n",
              "    }\n",
              "\n",
              "    [theme=dark] .colab-df-convert:hover {\n",
              "      background-color: #434B5C;\n",
              "      box-shadow: 0px 1px 3px 1px rgba(0, 0, 0, 0.15);\n",
              "      filter: drop-shadow(0px 1px 2px rgba(0, 0, 0, 0.3));\n",
              "      fill: #FFFFFF;\n",
              "    }\n",
              "  </style>\n",
              "\n",
              "      <script>\n",
              "        const buttonEl =\n",
              "          document.querySelector('#df-cb503257-583e-479f-8189-5b6e0d71f7be button.colab-df-convert');\n",
              "        buttonEl.style.display =\n",
              "          google.colab.kernel.accessAllowed ? 'block' : 'none';\n",
              "\n",
              "        async function convertToInteractive(key) {\n",
              "          const element = document.querySelector('#df-cb503257-583e-479f-8189-5b6e0d71f7be');\n",
              "          const dataTable =\n",
              "            await google.colab.kernel.invokeFunction('convertToInteractive',\n",
              "                                                     [key], {});\n",
              "          if (!dataTable) return;\n",
              "\n",
              "          const docLinkHtml = 'Like what you see? Visit the ' +\n",
              "            '<a target=\"_blank\" href=https://colab.research.google.com/notebooks/data_table.ipynb>data table notebook</a>'\n",
              "            + ' to learn more about interactive tables.';\n",
              "          element.innerHTML = '';\n",
              "          dataTable['output_type'] = 'display_data';\n",
              "          await google.colab.output.renderOutput(dataTable, element);\n",
              "          const docLink = document.createElement('div');\n",
              "          docLink.innerHTML = docLinkHtml;\n",
              "          element.appendChild(docLink);\n",
              "        }\n",
              "      </script>\n",
              "    </div>\n",
              "  </div>\n",
              "  "
            ]
          },
          "metadata": {},
          "execution_count": 273
        }
      ]
    },
    {
      "cell_type": "code",
      "source": [
        "orders_c.isna().sum()"
      ],
      "metadata": {
        "colab": {
          "base_uri": "https://localhost:8080/"
        },
        "id": "8cQXrWrmU_lv",
        "outputId": "50f2daff-89b4-41b9-d2ff-799380e8a804"
      },
      "execution_count": 274,
      "outputs": [
        {
          "output_type": "execute_result",
          "data": {
            "text/plain": [
              "ord_id              0\n",
              "ord_created_date    0\n",
              "ord_total_paid      5\n",
              "ord_state           0\n",
              "dtype: int64"
            ]
          },
          "metadata": {},
          "execution_count": 274
        }
      ]
    },
    {
      "cell_type": "code",
      "source": [
        "orders_c.info()"
      ],
      "metadata": {
        "colab": {
          "base_uri": "https://localhost:8080/"
        },
        "id": "Z6zNoY-vVx8N",
        "outputId": "a9fc4762-d731-41cf-b0f5-124621a50ca1"
      },
      "execution_count": 275,
      "outputs": [
        {
          "output_type": "stream",
          "name": "stdout",
          "text": [
            "<class 'pandas.core.frame.DataFrame'>\n",
            "RangeIndex: 226909 entries, 0 to 226908\n",
            "Data columns (total 4 columns):\n",
            " #   Column            Non-Null Count   Dtype  \n",
            "---  ------            --------------   -----  \n",
            " 0   ord_id            226909 non-null  int64  \n",
            " 1   ord_created_date  226909 non-null  object \n",
            " 2   ord_total_paid    226904 non-null  float64\n",
            " 3   ord_state         226909 non-null  object \n",
            "dtypes: float64(1), int64(1), object(2)\n",
            "memory usage: 6.9+ MB\n"
          ]
        }
      ]
    },
    {
      "cell_type": "code",
      "source": [
        "import numpy as np\n",
        "orders_c = orders_c.replace('^\\s*$', np.nan) #Question is it safe to do that?\n"
      ],
      "metadata": {
        "id": "y_O3cG6YYOtI"
      },
      "execution_count": 276,
      "outputs": []
    },
    {
      "cell_type": "code",
      "source": [
        "orders_c.isna().sum()"
      ],
      "metadata": {
        "colab": {
          "base_uri": "https://localhost:8080/"
        },
        "id": "lXZRPynxaN49",
        "outputId": "7ddb1349-627f-4bb8-c178-d6b7e7e4d4a8"
      },
      "execution_count": 277,
      "outputs": [
        {
          "output_type": "execute_result",
          "data": {
            "text/plain": [
              "ord_id              0\n",
              "ord_created_date    0\n",
              "ord_total_paid      5\n",
              "ord_state           0\n",
              "dtype: int64"
            ]
          },
          "metadata": {},
          "execution_count": 277
        }
      ]
    },
    {
      "cell_type": "code",
      "source": [
        "orders_c.ord_total_paid.dtype"
      ],
      "metadata": {
        "colab": {
          "base_uri": "https://localhost:8080/"
        },
        "id": "PItz3zJjbXn7",
        "outputId": "3c6cf23a-0a2a-48e0-ecaf-4c647e765c57"
      },
      "execution_count": 278,
      "outputs": [
        {
          "output_type": "execute_result",
          "data": {
            "text/plain": [
              "dtype('float64')"
            ]
          },
          "metadata": {},
          "execution_count": 278
        }
      ]
    },
    {
      "cell_type": "code",
      "source": [
        "orders_c.ord_total_paid=orders_c.ord_total_paid.fillna(0.0)"
      ],
      "metadata": {
        "id": "8wLfrPM3bg4A"
      },
      "execution_count": 279,
      "outputs": []
    },
    {
      "cell_type": "code",
      "source": [
        "orders_c.ord_total_paid.dtype"
      ],
      "metadata": {
        "colab": {
          "base_uri": "https://localhost:8080/"
        },
        "id": "k-NpApZjbuSQ",
        "outputId": "f1276805-74d7-41f7-f003-6403658d7549"
      },
      "execution_count": 280,
      "outputs": [
        {
          "output_type": "execute_result",
          "data": {
            "text/plain": [
              "dtype('float64')"
            ]
          },
          "metadata": {},
          "execution_count": 280
        }
      ]
    },
    {
      "cell_type": "code",
      "source": [
        "orders_c.isna().sum()"
      ],
      "metadata": {
        "colab": {
          "base_uri": "https://localhost:8080/"
        },
        "id": "FzfCtPiubqm1",
        "outputId": "6c2f7600-a643-45e2-e75f-d2c52e8614ad"
      },
      "execution_count": 281,
      "outputs": [
        {
          "output_type": "execute_result",
          "data": {
            "text/plain": [
              "ord_id              0\n",
              "ord_created_date    0\n",
              "ord_total_paid      0\n",
              "ord_state           0\n",
              "dtype: int64"
            ]
          },
          "metadata": {},
          "execution_count": 281
        }
      ]
    },
    {
      "cell_type": "markdown",
      "source": [
        "###Fix DataTypes\n",
        "- df.col.astype(type,errors=\"raise\")\n",
        "  - type = \"int\",\"float\",\"bool\",\"category\",\"object\",\"datetime\",\"timedelta\"\n",
        "- for mixed data\n",
        "  - pd.to_numeric(df.col, downcast=x,errors=\"raise\") \n",
        "  x = \"integer\" or \"float\"\n",
        "  - pd.to_datetime(df.col, downcast=None,errors=\"raise\") \n",
        "  - pd.to_timedelta(df.col, downcast=None,errors=\"raise\") "
      ],
      "metadata": {
        "id": "-EJsq-6qIvA_"
      }
    },
    {
      "cell_type": "code",
      "source": [
        "orders_c.info()"
      ],
      "metadata": {
        "colab": {
          "base_uri": "https://localhost:8080/"
        },
        "id": "4HelvLkBfjrm",
        "outputId": "00ceccbc-9ac8-466a-e84b-aeb777198f40"
      },
      "execution_count": 282,
      "outputs": [
        {
          "output_type": "stream",
          "name": "stdout",
          "text": [
            "<class 'pandas.core.frame.DataFrame'>\n",
            "RangeIndex: 226909 entries, 0 to 226908\n",
            "Data columns (total 4 columns):\n",
            " #   Column            Non-Null Count   Dtype  \n",
            "---  ------            --------------   -----  \n",
            " 0   ord_id            226909 non-null  int64  \n",
            " 1   ord_created_date  226909 non-null  object \n",
            " 2   ord_total_paid    226909 non-null  float64\n",
            " 3   ord_state         226909 non-null  object \n",
            "dtypes: float64(1), int64(1), object(2)\n",
            "memory usage: 6.9+ MB\n"
          ]
        }
      ]
    },
    {
      "cell_type": "code",
      "source": [
        "orders_c.ord_created_date=pd.to_datetime(orders_c.ord_created_date,errors=\"raise\")"
      ],
      "metadata": {
        "id": "qIRWcTgkfFmy"
      },
      "execution_count": 283,
      "outputs": []
    },
    {
      "cell_type": "code",
      "source": [
        "orders_c.info()"
      ],
      "metadata": {
        "colab": {
          "base_uri": "https://localhost:8080/"
        },
        "id": "05zcp9HQgJX5",
        "outputId": "f3e7e90b-09c6-467c-fdae-fcb2d7ca680c"
      },
      "execution_count": 284,
      "outputs": [
        {
          "output_type": "stream",
          "name": "stdout",
          "text": [
            "<class 'pandas.core.frame.DataFrame'>\n",
            "RangeIndex: 226909 entries, 0 to 226908\n",
            "Data columns (total 4 columns):\n",
            " #   Column            Non-Null Count   Dtype         \n",
            "---  ------            --------------   -----         \n",
            " 0   ord_id            226909 non-null  int64         \n",
            " 1   ord_created_date  226909 non-null  datetime64[ns]\n",
            " 2   ord_total_paid    226909 non-null  float64       \n",
            " 3   ord_state         226909 non-null  object        \n",
            "dtypes: datetime64[ns](1), float64(1), int64(1), object(1)\n",
            "memory usage: 6.9+ MB\n"
          ]
        }
      ]
    },
    {
      "cell_type": "code",
      "source": [
        "orders_c.ord_state=orders_c.ord_state.astype(\"category\",errors=\"raise\")"
      ],
      "metadata": {
        "id": "Hd9EZvnngWeI"
      },
      "execution_count": 285,
      "outputs": []
    },
    {
      "cell_type": "code",
      "source": [
        "orders_c.info()"
      ],
      "metadata": {
        "colab": {
          "base_uri": "https://localhost:8080/"
        },
        "id": "sRWFgZP2gqMf",
        "outputId": "fd41cd8c-4509-4e58-f048-3f75b5a53d84"
      },
      "execution_count": 286,
      "outputs": [
        {
          "output_type": "stream",
          "name": "stdout",
          "text": [
            "<class 'pandas.core.frame.DataFrame'>\n",
            "RangeIndex: 226909 entries, 0 to 226908\n",
            "Data columns (total 4 columns):\n",
            " #   Column            Non-Null Count   Dtype         \n",
            "---  ------            --------------   -----         \n",
            " 0   ord_id            226909 non-null  int64         \n",
            " 1   ord_created_date  226909 non-null  datetime64[ns]\n",
            " 2   ord_total_paid    226909 non-null  float64       \n",
            " 3   ord_state         226909 non-null  category      \n",
            "dtypes: category(1), datetime64[ns](1), float64(1), int64(1)\n",
            "memory usage: 5.4 MB\n"
          ]
        }
      ]
    },
    {
      "cell_type": "markdown",
      "source": [
        "### Drop duplicate/un-necessary Columns\n",
        "- df=df.drop(columns=[\"col1\",\"col2\"])"
      ],
      "metadata": {
        "id": "txLIlKN0Jds0"
      }
    },
    {
      "cell_type": "code",
      "source": [
        "orders_c.describe() ## hint: all columns contain needed data. nothing to drop"
      ],
      "metadata": {
        "colab": {
          "base_uri": "https://localhost:8080/",
          "height": 300
        },
        "id": "zlSSs4wChCgj",
        "outputId": "09078e97-c8cb-485c-c43f-5097dd5b1f2e"
      },
      "execution_count": 287,
      "outputs": [
        {
          "output_type": "execute_result",
          "data": {
            "text/plain": [
              "              ord_id  ord_total_paid\n",
              "count  226909.000000   226909.000000\n",
              "mean   413296.482480      569.213275\n",
              "std     65919.250331     1761.760618\n",
              "min    241319.000000        0.000000\n",
              "25%    356263.000000       34.190000\n",
              "50%    413040.000000      112.990000\n",
              "75%    470553.000000      525.970000\n",
              "max    527401.000000   214747.530000"
            ],
            "text/html": [
              "\n",
              "  <div id=\"df-7913090c-0244-4655-9312-dc7da0834bc8\">\n",
              "    <div class=\"colab-df-container\">\n",
              "      <div>\n",
              "<style scoped>\n",
              "    .dataframe tbody tr th:only-of-type {\n",
              "        vertical-align: middle;\n",
              "    }\n",
              "\n",
              "    .dataframe tbody tr th {\n",
              "        vertical-align: top;\n",
              "    }\n",
              "\n",
              "    .dataframe thead th {\n",
              "        text-align: right;\n",
              "    }\n",
              "</style>\n",
              "<table border=\"1\" class=\"dataframe\">\n",
              "  <thead>\n",
              "    <tr style=\"text-align: right;\">\n",
              "      <th></th>\n",
              "      <th>ord_id</th>\n",
              "      <th>ord_total_paid</th>\n",
              "    </tr>\n",
              "  </thead>\n",
              "  <tbody>\n",
              "    <tr>\n",
              "      <th>count</th>\n",
              "      <td>226909.000000</td>\n",
              "      <td>226909.000000</td>\n",
              "    </tr>\n",
              "    <tr>\n",
              "      <th>mean</th>\n",
              "      <td>413296.482480</td>\n",
              "      <td>569.213275</td>\n",
              "    </tr>\n",
              "    <tr>\n",
              "      <th>std</th>\n",
              "      <td>65919.250331</td>\n",
              "      <td>1761.760618</td>\n",
              "    </tr>\n",
              "    <tr>\n",
              "      <th>min</th>\n",
              "      <td>241319.000000</td>\n",
              "      <td>0.000000</td>\n",
              "    </tr>\n",
              "    <tr>\n",
              "      <th>25%</th>\n",
              "      <td>356263.000000</td>\n",
              "      <td>34.190000</td>\n",
              "    </tr>\n",
              "    <tr>\n",
              "      <th>50%</th>\n",
              "      <td>413040.000000</td>\n",
              "      <td>112.990000</td>\n",
              "    </tr>\n",
              "    <tr>\n",
              "      <th>75%</th>\n",
              "      <td>470553.000000</td>\n",
              "      <td>525.970000</td>\n",
              "    </tr>\n",
              "    <tr>\n",
              "      <th>max</th>\n",
              "      <td>527401.000000</td>\n",
              "      <td>214747.530000</td>\n",
              "    </tr>\n",
              "  </tbody>\n",
              "</table>\n",
              "</div>\n",
              "      <button class=\"colab-df-convert\" onclick=\"convertToInteractive('df-7913090c-0244-4655-9312-dc7da0834bc8')\"\n",
              "              title=\"Convert this dataframe to an interactive table.\"\n",
              "              style=\"display:none;\">\n",
              "        \n",
              "  <svg xmlns=\"http://www.w3.org/2000/svg\" height=\"24px\"viewBox=\"0 0 24 24\"\n",
              "       width=\"24px\">\n",
              "    <path d=\"M0 0h24v24H0V0z\" fill=\"none\"/>\n",
              "    <path d=\"M18.56 5.44l.94 2.06.94-2.06 2.06-.94-2.06-.94-.94-2.06-.94 2.06-2.06.94zm-11 1L8.5 8.5l.94-2.06 2.06-.94-2.06-.94L8.5 2.5l-.94 2.06-2.06.94zm10 10l.94 2.06.94-2.06 2.06-.94-2.06-.94-.94-2.06-.94 2.06-2.06.94z\"/><path d=\"M17.41 7.96l-1.37-1.37c-.4-.4-.92-.59-1.43-.59-.52 0-1.04.2-1.43.59L10.3 9.45l-7.72 7.72c-.78.78-.78 2.05 0 2.83L4 21.41c.39.39.9.59 1.41.59.51 0 1.02-.2 1.41-.59l7.78-7.78 2.81-2.81c.8-.78.8-2.07 0-2.86zM5.41 20L4 18.59l7.72-7.72 1.47 1.35L5.41 20z\"/>\n",
              "  </svg>\n",
              "      </button>\n",
              "      \n",
              "  <style>\n",
              "    .colab-df-container {\n",
              "      display:flex;\n",
              "      flex-wrap:wrap;\n",
              "      gap: 12px;\n",
              "    }\n",
              "\n",
              "    .colab-df-convert {\n",
              "      background-color: #E8F0FE;\n",
              "      border: none;\n",
              "      border-radius: 50%;\n",
              "      cursor: pointer;\n",
              "      display: none;\n",
              "      fill: #1967D2;\n",
              "      height: 32px;\n",
              "      padding: 0 0 0 0;\n",
              "      width: 32px;\n",
              "    }\n",
              "\n",
              "    .colab-df-convert:hover {\n",
              "      background-color: #E2EBFA;\n",
              "      box-shadow: 0px 1px 2px rgba(60, 64, 67, 0.3), 0px 1px 3px 1px rgba(60, 64, 67, 0.15);\n",
              "      fill: #174EA6;\n",
              "    }\n",
              "\n",
              "    [theme=dark] .colab-df-convert {\n",
              "      background-color: #3B4455;\n",
              "      fill: #D2E3FC;\n",
              "    }\n",
              "\n",
              "    [theme=dark] .colab-df-convert:hover {\n",
              "      background-color: #434B5C;\n",
              "      box-shadow: 0px 1px 3px 1px rgba(0, 0, 0, 0.15);\n",
              "      filter: drop-shadow(0px 1px 2px rgba(0, 0, 0, 0.3));\n",
              "      fill: #FFFFFF;\n",
              "    }\n",
              "  </style>\n",
              "\n",
              "      <script>\n",
              "        const buttonEl =\n",
              "          document.querySelector('#df-7913090c-0244-4655-9312-dc7da0834bc8 button.colab-df-convert');\n",
              "        buttonEl.style.display =\n",
              "          google.colab.kernel.accessAllowed ? 'block' : 'none';\n",
              "\n",
              "        async function convertToInteractive(key) {\n",
              "          const element = document.querySelector('#df-7913090c-0244-4655-9312-dc7da0834bc8');\n",
              "          const dataTable =\n",
              "            await google.colab.kernel.invokeFunction('convertToInteractive',\n",
              "                                                     [key], {});\n",
              "          if (!dataTable) return;\n",
              "\n",
              "          const docLinkHtml = 'Like what you see? Visit the ' +\n",
              "            '<a target=\"_blank\" href=https://colab.research.google.com/notebooks/data_table.ipynb>data table notebook</a>'\n",
              "            + ' to learn more about interactive tables.';\n",
              "          element.innerHTML = '';\n",
              "          dataTable['output_type'] = 'display_data';\n",
              "          await google.colab.output.renderOutput(dataTable, element);\n",
              "          const docLink = document.createElement('div');\n",
              "          docLink.innerHTML = docLinkHtml;\n",
              "          element.appendChild(docLink);\n",
              "        }\n",
              "      </script>\n",
              "    </div>\n",
              "  </div>\n",
              "  "
            ]
          },
          "metadata": {},
          "execution_count": 287
        }
      ]
    },
    {
      "cell_type": "markdown",
      "source": [
        "## Re-Explore the data\n",
        "drow some hist() , boxplot() per column\n",
        "take notes"
      ],
      "metadata": {
        "id": "KW-1Z3wsJs7P"
      }
    },
    {
      "cell_type": "code",
      "source": [
        "orders_c.sample(10)  # Question: how state=\"Shopping Basket\" while \"Total_paid\" has a value!! "
      ],
      "metadata": {
        "colab": {
          "base_uri": "https://localhost:8080/",
          "height": 363
        },
        "id": "-X8xGWkoiIhW",
        "outputId": "140a3104-f62f-445a-e27c-5fbacb9dcceb"
      },
      "execution_count": 288,
      "outputs": [
        {
          "output_type": "execute_result",
          "data": {
            "text/plain": [
              "        ord_id    ord_created_date  ord_total_paid        ord_state\n",
              "204083  504571 2018-02-02 17:50:44            3.99      Place Order\n",
              "137994  437782 2017-11-24 14:28:30          466.16        Completed\n",
              "33778   333262 2017-03-08 13:19:37           70.99  Shopping Basket\n",
              "55430   354966 2017-05-11 16:48:30           50.98        Completed\n",
              "168472  468817 2017-12-21 14:13:03           29.99  Shopping Basket\n",
              "140317  440216 2017-11-24 17:02:36          316.27  Shopping Basket\n",
              "124214  423811 2017-11-09 13:36:54          299.00  Shopping Basket\n",
              "40556   340044 2017-03-28 13:20:40          107.04  Shopping Basket\n",
              "225570  526062 2018-03-12 17:36:21           48.99  Shopping Basket\n",
              "68336   367882 2017-06-21 20:26:33           42.98          Pending"
            ],
            "text/html": [
              "\n",
              "  <div id=\"df-1f2a59af-ba40-4ec7-b872-3e6f8a88bdf9\">\n",
              "    <div class=\"colab-df-container\">\n",
              "      <div>\n",
              "<style scoped>\n",
              "    .dataframe tbody tr th:only-of-type {\n",
              "        vertical-align: middle;\n",
              "    }\n",
              "\n",
              "    .dataframe tbody tr th {\n",
              "        vertical-align: top;\n",
              "    }\n",
              "\n",
              "    .dataframe thead th {\n",
              "        text-align: right;\n",
              "    }\n",
              "</style>\n",
              "<table border=\"1\" class=\"dataframe\">\n",
              "  <thead>\n",
              "    <tr style=\"text-align: right;\">\n",
              "      <th></th>\n",
              "      <th>ord_id</th>\n",
              "      <th>ord_created_date</th>\n",
              "      <th>ord_total_paid</th>\n",
              "      <th>ord_state</th>\n",
              "    </tr>\n",
              "  </thead>\n",
              "  <tbody>\n",
              "    <tr>\n",
              "      <th>204083</th>\n",
              "      <td>504571</td>\n",
              "      <td>2018-02-02 17:50:44</td>\n",
              "      <td>3.99</td>\n",
              "      <td>Place Order</td>\n",
              "    </tr>\n",
              "    <tr>\n",
              "      <th>137994</th>\n",
              "      <td>437782</td>\n",
              "      <td>2017-11-24 14:28:30</td>\n",
              "      <td>466.16</td>\n",
              "      <td>Completed</td>\n",
              "    </tr>\n",
              "    <tr>\n",
              "      <th>33778</th>\n",
              "      <td>333262</td>\n",
              "      <td>2017-03-08 13:19:37</td>\n",
              "      <td>70.99</td>\n",
              "      <td>Shopping Basket</td>\n",
              "    </tr>\n",
              "    <tr>\n",
              "      <th>55430</th>\n",
              "      <td>354966</td>\n",
              "      <td>2017-05-11 16:48:30</td>\n",
              "      <td>50.98</td>\n",
              "      <td>Completed</td>\n",
              "    </tr>\n",
              "    <tr>\n",
              "      <th>168472</th>\n",
              "      <td>468817</td>\n",
              "      <td>2017-12-21 14:13:03</td>\n",
              "      <td>29.99</td>\n",
              "      <td>Shopping Basket</td>\n",
              "    </tr>\n",
              "    <tr>\n",
              "      <th>140317</th>\n",
              "      <td>440216</td>\n",
              "      <td>2017-11-24 17:02:36</td>\n",
              "      <td>316.27</td>\n",
              "      <td>Shopping Basket</td>\n",
              "    </tr>\n",
              "    <tr>\n",
              "      <th>124214</th>\n",
              "      <td>423811</td>\n",
              "      <td>2017-11-09 13:36:54</td>\n",
              "      <td>299.00</td>\n",
              "      <td>Shopping Basket</td>\n",
              "    </tr>\n",
              "    <tr>\n",
              "      <th>40556</th>\n",
              "      <td>340044</td>\n",
              "      <td>2017-03-28 13:20:40</td>\n",
              "      <td>107.04</td>\n",
              "      <td>Shopping Basket</td>\n",
              "    </tr>\n",
              "    <tr>\n",
              "      <th>225570</th>\n",
              "      <td>526062</td>\n",
              "      <td>2018-03-12 17:36:21</td>\n",
              "      <td>48.99</td>\n",
              "      <td>Shopping Basket</td>\n",
              "    </tr>\n",
              "    <tr>\n",
              "      <th>68336</th>\n",
              "      <td>367882</td>\n",
              "      <td>2017-06-21 20:26:33</td>\n",
              "      <td>42.98</td>\n",
              "      <td>Pending</td>\n",
              "    </tr>\n",
              "  </tbody>\n",
              "</table>\n",
              "</div>\n",
              "      <button class=\"colab-df-convert\" onclick=\"convertToInteractive('df-1f2a59af-ba40-4ec7-b872-3e6f8a88bdf9')\"\n",
              "              title=\"Convert this dataframe to an interactive table.\"\n",
              "              style=\"display:none;\">\n",
              "        \n",
              "  <svg xmlns=\"http://www.w3.org/2000/svg\" height=\"24px\"viewBox=\"0 0 24 24\"\n",
              "       width=\"24px\">\n",
              "    <path d=\"M0 0h24v24H0V0z\" fill=\"none\"/>\n",
              "    <path d=\"M18.56 5.44l.94 2.06.94-2.06 2.06-.94-2.06-.94-.94-2.06-.94 2.06-2.06.94zm-11 1L8.5 8.5l.94-2.06 2.06-.94-2.06-.94L8.5 2.5l-.94 2.06-2.06.94zm10 10l.94 2.06.94-2.06 2.06-.94-2.06-.94-.94-2.06-.94 2.06-2.06.94z\"/><path d=\"M17.41 7.96l-1.37-1.37c-.4-.4-.92-.59-1.43-.59-.52 0-1.04.2-1.43.59L10.3 9.45l-7.72 7.72c-.78.78-.78 2.05 0 2.83L4 21.41c.39.39.9.59 1.41.59.51 0 1.02-.2 1.41-.59l7.78-7.78 2.81-2.81c.8-.78.8-2.07 0-2.86zM5.41 20L4 18.59l7.72-7.72 1.47 1.35L5.41 20z\"/>\n",
              "  </svg>\n",
              "      </button>\n",
              "      \n",
              "  <style>\n",
              "    .colab-df-container {\n",
              "      display:flex;\n",
              "      flex-wrap:wrap;\n",
              "      gap: 12px;\n",
              "    }\n",
              "\n",
              "    .colab-df-convert {\n",
              "      background-color: #E8F0FE;\n",
              "      border: none;\n",
              "      border-radius: 50%;\n",
              "      cursor: pointer;\n",
              "      display: none;\n",
              "      fill: #1967D2;\n",
              "      height: 32px;\n",
              "      padding: 0 0 0 0;\n",
              "      width: 32px;\n",
              "    }\n",
              "\n",
              "    .colab-df-convert:hover {\n",
              "      background-color: #E2EBFA;\n",
              "      box-shadow: 0px 1px 2px rgba(60, 64, 67, 0.3), 0px 1px 3px 1px rgba(60, 64, 67, 0.15);\n",
              "      fill: #174EA6;\n",
              "    }\n",
              "\n",
              "    [theme=dark] .colab-df-convert {\n",
              "      background-color: #3B4455;\n",
              "      fill: #D2E3FC;\n",
              "    }\n",
              "\n",
              "    [theme=dark] .colab-df-convert:hover {\n",
              "      background-color: #434B5C;\n",
              "      box-shadow: 0px 1px 3px 1px rgba(0, 0, 0, 0.15);\n",
              "      filter: drop-shadow(0px 1px 2px rgba(0, 0, 0, 0.3));\n",
              "      fill: #FFFFFF;\n",
              "    }\n",
              "  </style>\n",
              "\n",
              "      <script>\n",
              "        const buttonEl =\n",
              "          document.querySelector('#df-1f2a59af-ba40-4ec7-b872-3e6f8a88bdf9 button.colab-df-convert');\n",
              "        buttonEl.style.display =\n",
              "          google.colab.kernel.accessAllowed ? 'block' : 'none';\n",
              "\n",
              "        async function convertToInteractive(key) {\n",
              "          const element = document.querySelector('#df-1f2a59af-ba40-4ec7-b872-3e6f8a88bdf9');\n",
              "          const dataTable =\n",
              "            await google.colab.kernel.invokeFunction('convertToInteractive',\n",
              "                                                     [key], {});\n",
              "          if (!dataTable) return;\n",
              "\n",
              "          const docLinkHtml = 'Like what you see? Visit the ' +\n",
              "            '<a target=\"_blank\" href=https://colab.research.google.com/notebooks/data_table.ipynb>data table notebook</a>'\n",
              "            + ' to learn more about interactive tables.';\n",
              "          element.innerHTML = '';\n",
              "          dataTable['output_type'] = 'display_data';\n",
              "          await google.colab.output.renderOutput(dataTable, element);\n",
              "          const docLink = document.createElement('div');\n",
              "          docLink.innerHTML = docLinkHtml;\n",
              "          element.appendChild(docLink);\n",
              "        }\n",
              "      </script>\n",
              "    </div>\n",
              "  </div>\n",
              "  "
            ]
          },
          "metadata": {},
          "execution_count": 288
        }
      ]
    },
    {
      "cell_type": "code",
      "source": [
        "orders_c.loc[orders_c.ord_total_paid == 0.0].ord_state.unique()"
      ],
      "metadata": {
        "colab": {
          "base_uri": "https://localhost:8080/"
        },
        "id": "Z3g7JNrriewg",
        "outputId": "99126be4-e361-450d-b6c9-34b0cc7b604e"
      },
      "execution_count": 289,
      "outputs": [
        {
          "output_type": "execute_result",
          "data": {
            "text/plain": [
              "['Completed', 'Shopping Basket', 'Place Order', 'Pending', 'Cancelled']\n",
              "Categories (5, object): ['Cancelled', 'Completed', 'Pending', 'Place Order', 'Shopping Basket']"
            ]
          },
          "metadata": {},
          "execution_count": 289
        }
      ]
    },
    {
      "cell_type": "markdown",
      "source": [
        "# CleaningUp orderlines.csv (ol_)\n",
        "#### orderlines.csv – Every row represents each one of the different products involved in an order.\n",
        "- id – a unique identifier for each row in this file\n",
        "- id_order – corresponds to orders.order_id\n",
        "- product_id – an old identifier for each product, nowadays not in use\n",
        "- product_quantity – how many units of that product were purchased on that order\n",
        "- sku – stock keeping unit: a unique identifier for each product\n",
        "- unit_price – the unitary price (in euros) of each product at the moment of placing that order\n",
        "- date – timestamp for the processing of that product"
      ],
      "metadata": {
        "id": "jgqLMFFInEFC"
      }
    },
    {
      "cell_type": "markdown",
      "source": [
        "##Importing the data\n",
        "- glob-glob(\"file_pat\") --> read multi files \n",
        "- pd.concat(dfs_list, ignore_index=True) --> create 1 df from multi dfs\n",
        "- pd.read_csv(path) --> create 1 df from a csv file"
      ],
      "metadata": {
        "id": "mo3w8u4OnEFD"
      }
    },
    {
      "cell_type": "code",
      "source": [
        "import pandas as pd\n",
        "\n",
        "url = \"https://drive.google.com/file/d/1FYhN_2AzTBFuWcfHaRuKcuCE6CWXsWtG/view?usp=sharing\" \n",
        "path = \"https://drive.google.com/uc?export=download&id=\"+url.split(\"/\")[-2]\n",
        "ol = pd.read_csv(path)\n",
        "\n"
      ],
      "metadata": {
        "id": "cI0W2L18nEFD"
      },
      "execution_count": 306,
      "outputs": []
    },
    {
      "cell_type": "code",
      "source": [
        "pd.set_option(\"display.max_rows\", 50) #Question : doesn't work!\n",
        "pd.get_option(\"display.max_rows\")\n"
      ],
      "metadata": {
        "colab": {
          "base_uri": "https://localhost:8080/"
        },
        "id": "OH3Hy6AMnEFD",
        "outputId": "3002ac6e-013c-4334-db4c-382c2584f60e"
      },
      "execution_count": 307,
      "outputs": [
        {
          "output_type": "execute_result",
          "data": {
            "text/plain": [
              "50"
            ]
          },
          "metadata": {},
          "execution_count": 307
        }
      ]
    },
    {
      "cell_type": "markdown",
      "source": [
        "## Explore the data\n",
        "- .shape, .size, .ndim\n",
        "- .sample(5), .info()\n",
        "- Numerical : .describe(), .nlargest(), .nsmallest()\n",
        "- Category: .nunique(), .unique() "
      ],
      "metadata": {
        "id": "H_6VgqtSnEFD"
      }
    },
    {
      "cell_type": "code",
      "source": [
        "ol.shape"
      ],
      "metadata": {
        "colab": {
          "base_uri": "https://localhost:8080/"
        },
        "outputId": "8b3444ba-4006-4645-907b-ddf619d21b91",
        "id": "FA_Kn2opnEFE"
      },
      "execution_count": 308,
      "outputs": [
        {
          "output_type": "execute_result",
          "data": {
            "text/plain": [
              "(293983, 7)"
            ]
          },
          "metadata": {},
          "execution_count": 308
        }
      ]
    },
    {
      "cell_type": "code",
      "source": [
        "ol.sample(5)"
      ],
      "metadata": {
        "colab": {
          "base_uri": "https://localhost:8080/",
          "height": 206
        },
        "outputId": "2b93902a-30a1-4e57-cb5b-63d6aca66c57",
        "id": "DdJ36FwTnEFE"
      },
      "execution_count": 309,
      "outputs": [
        {
          "output_type": "execute_result",
          "data": {
            "text/plain": [
              "             id  id_order  product_id  product_quantity      sku unit_price  \\\n",
              "284407  1635975    521356           0                 2  APP0663     219.00   \n",
              "162859  1439017    439981           0                 1  PAC2074   2.307.59   \n",
              "123933  1365355    406312           0                 1  APP2205   2.874.60   \n",
              "214482  1519508    473644           0                 1  SAN0102       7.89   \n",
              "281364  1631131    519262           0                 1  APP2135   1.252.00   \n",
              "\n",
              "                       date  \n",
              "284407  2018-03-05 10:36:05  \n",
              "162859  2017-11-24 16:24:06  \n",
              "123933  2017-09-29 14:37:29  \n",
              "214482  2017-12-27 17:15:35  \n",
              "281364  2018-03-01 08:44:34  "
            ],
            "text/html": [
              "\n",
              "  <div id=\"df-e383d2a3-1ed1-43b4-85da-7ce59147b402\">\n",
              "    <div class=\"colab-df-container\">\n",
              "      <div>\n",
              "<style scoped>\n",
              "    .dataframe tbody tr th:only-of-type {\n",
              "        vertical-align: middle;\n",
              "    }\n",
              "\n",
              "    .dataframe tbody tr th {\n",
              "        vertical-align: top;\n",
              "    }\n",
              "\n",
              "    .dataframe thead th {\n",
              "        text-align: right;\n",
              "    }\n",
              "</style>\n",
              "<table border=\"1\" class=\"dataframe\">\n",
              "  <thead>\n",
              "    <tr style=\"text-align: right;\">\n",
              "      <th></th>\n",
              "      <th>id</th>\n",
              "      <th>id_order</th>\n",
              "      <th>product_id</th>\n",
              "      <th>product_quantity</th>\n",
              "      <th>sku</th>\n",
              "      <th>unit_price</th>\n",
              "      <th>date</th>\n",
              "    </tr>\n",
              "  </thead>\n",
              "  <tbody>\n",
              "    <tr>\n",
              "      <th>284407</th>\n",
              "      <td>1635975</td>\n",
              "      <td>521356</td>\n",
              "      <td>0</td>\n",
              "      <td>2</td>\n",
              "      <td>APP0663</td>\n",
              "      <td>219.00</td>\n",
              "      <td>2018-03-05 10:36:05</td>\n",
              "    </tr>\n",
              "    <tr>\n",
              "      <th>162859</th>\n",
              "      <td>1439017</td>\n",
              "      <td>439981</td>\n",
              "      <td>0</td>\n",
              "      <td>1</td>\n",
              "      <td>PAC2074</td>\n",
              "      <td>2.307.59</td>\n",
              "      <td>2017-11-24 16:24:06</td>\n",
              "    </tr>\n",
              "    <tr>\n",
              "      <th>123933</th>\n",
              "      <td>1365355</td>\n",
              "      <td>406312</td>\n",
              "      <td>0</td>\n",
              "      <td>1</td>\n",
              "      <td>APP2205</td>\n",
              "      <td>2.874.60</td>\n",
              "      <td>2017-09-29 14:37:29</td>\n",
              "    </tr>\n",
              "    <tr>\n",
              "      <th>214482</th>\n",
              "      <td>1519508</td>\n",
              "      <td>473644</td>\n",
              "      <td>0</td>\n",
              "      <td>1</td>\n",
              "      <td>SAN0102</td>\n",
              "      <td>7.89</td>\n",
              "      <td>2017-12-27 17:15:35</td>\n",
              "    </tr>\n",
              "    <tr>\n",
              "      <th>281364</th>\n",
              "      <td>1631131</td>\n",
              "      <td>519262</td>\n",
              "      <td>0</td>\n",
              "      <td>1</td>\n",
              "      <td>APP2135</td>\n",
              "      <td>1.252.00</td>\n",
              "      <td>2018-03-01 08:44:34</td>\n",
              "    </tr>\n",
              "  </tbody>\n",
              "</table>\n",
              "</div>\n",
              "      <button class=\"colab-df-convert\" onclick=\"convertToInteractive('df-e383d2a3-1ed1-43b4-85da-7ce59147b402')\"\n",
              "              title=\"Convert this dataframe to an interactive table.\"\n",
              "              style=\"display:none;\">\n",
              "        \n",
              "  <svg xmlns=\"http://www.w3.org/2000/svg\" height=\"24px\"viewBox=\"0 0 24 24\"\n",
              "       width=\"24px\">\n",
              "    <path d=\"M0 0h24v24H0V0z\" fill=\"none\"/>\n",
              "    <path d=\"M18.56 5.44l.94 2.06.94-2.06 2.06-.94-2.06-.94-.94-2.06-.94 2.06-2.06.94zm-11 1L8.5 8.5l.94-2.06 2.06-.94-2.06-.94L8.5 2.5l-.94 2.06-2.06.94zm10 10l.94 2.06.94-2.06 2.06-.94-2.06-.94-.94-2.06-.94 2.06-2.06.94z\"/><path d=\"M17.41 7.96l-1.37-1.37c-.4-.4-.92-.59-1.43-.59-.52 0-1.04.2-1.43.59L10.3 9.45l-7.72 7.72c-.78.78-.78 2.05 0 2.83L4 21.41c.39.39.9.59 1.41.59.51 0 1.02-.2 1.41-.59l7.78-7.78 2.81-2.81c.8-.78.8-2.07 0-2.86zM5.41 20L4 18.59l7.72-7.72 1.47 1.35L5.41 20z\"/>\n",
              "  </svg>\n",
              "      </button>\n",
              "      \n",
              "  <style>\n",
              "    .colab-df-container {\n",
              "      display:flex;\n",
              "      flex-wrap:wrap;\n",
              "      gap: 12px;\n",
              "    }\n",
              "\n",
              "    .colab-df-convert {\n",
              "      background-color: #E8F0FE;\n",
              "      border: none;\n",
              "      border-radius: 50%;\n",
              "      cursor: pointer;\n",
              "      display: none;\n",
              "      fill: #1967D2;\n",
              "      height: 32px;\n",
              "      padding: 0 0 0 0;\n",
              "      width: 32px;\n",
              "    }\n",
              "\n",
              "    .colab-df-convert:hover {\n",
              "      background-color: #E2EBFA;\n",
              "      box-shadow: 0px 1px 2px rgba(60, 64, 67, 0.3), 0px 1px 3px 1px rgba(60, 64, 67, 0.15);\n",
              "      fill: #174EA6;\n",
              "    }\n",
              "\n",
              "    [theme=dark] .colab-df-convert {\n",
              "      background-color: #3B4455;\n",
              "      fill: #D2E3FC;\n",
              "    }\n",
              "\n",
              "    [theme=dark] .colab-df-convert:hover {\n",
              "      background-color: #434B5C;\n",
              "      box-shadow: 0px 1px 3px 1px rgba(0, 0, 0, 0.15);\n",
              "      filter: drop-shadow(0px 1px 2px rgba(0, 0, 0, 0.3));\n",
              "      fill: #FFFFFF;\n",
              "    }\n",
              "  </style>\n",
              "\n",
              "      <script>\n",
              "        const buttonEl =\n",
              "          document.querySelector('#df-e383d2a3-1ed1-43b4-85da-7ce59147b402 button.colab-df-convert');\n",
              "        buttonEl.style.display =\n",
              "          google.colab.kernel.accessAllowed ? 'block' : 'none';\n",
              "\n",
              "        async function convertToInteractive(key) {\n",
              "          const element = document.querySelector('#df-e383d2a3-1ed1-43b4-85da-7ce59147b402');\n",
              "          const dataTable =\n",
              "            await google.colab.kernel.invokeFunction('convertToInteractive',\n",
              "                                                     [key], {});\n",
              "          if (!dataTable) return;\n",
              "\n",
              "          const docLinkHtml = 'Like what you see? Visit the ' +\n",
              "            '<a target=\"_blank\" href=https://colab.research.google.com/notebooks/data_table.ipynb>data table notebook</a>'\n",
              "            + ' to learn more about interactive tables.';\n",
              "          element.innerHTML = '';\n",
              "          dataTable['output_type'] = 'display_data';\n",
              "          await google.colab.output.renderOutput(dataTable, element);\n",
              "          const docLink = document.createElement('div');\n",
              "          docLink.innerHTML = docLinkHtml;\n",
              "          element.appendChild(docLink);\n",
              "        }\n",
              "      </script>\n",
              "    </div>\n",
              "  </div>\n",
              "  "
            ]
          },
          "metadata": {},
          "execution_count": 309
        }
      ]
    },
    {
      "cell_type": "code",
      "source": [
        "ol.info()  \n",
        "## hint: there are no nulls \n",
        "## hint: date  is of type object, has to be datetime - fix required\n",
        "## hint: unit_price is of type object, has to be float - fix required"
      ],
      "metadata": {
        "colab": {
          "base_uri": "https://localhost:8080/"
        },
        "outputId": "9b946aac-a568-4f89-8c78-e396e372520b",
        "id": "56OTkBi3nEFF"
      },
      "execution_count": 310,
      "outputs": [
        {
          "output_type": "stream",
          "name": "stdout",
          "text": [
            "<class 'pandas.core.frame.DataFrame'>\n",
            "RangeIndex: 293983 entries, 0 to 293982\n",
            "Data columns (total 7 columns):\n",
            " #   Column            Non-Null Count   Dtype \n",
            "---  ------            --------------   ----- \n",
            " 0   id                293983 non-null  int64 \n",
            " 1   id_order          293983 non-null  int64 \n",
            " 2   product_id        293983 non-null  int64 \n",
            " 3   product_quantity  293983 non-null  int64 \n",
            " 4   sku               293983 non-null  object\n",
            " 5   unit_price        293983 non-null  object\n",
            " 6   date              293983 non-null  object\n",
            "dtypes: int64(4), object(3)\n",
            "memory usage: 15.7+ MB\n"
          ]
        }
      ]
    },
    {
      "cell_type": "code",
      "source": [
        "ol.describe()\n",
        "# hint: product_id seems like empty and shall be removed - Fix required\n",
        "# hint: product_quantity 3rd quartile = min = 1, max=999! probably we shall handle orders with different quantities differently - fix required"
      ],
      "metadata": {
        "colab": {
          "base_uri": "https://localhost:8080/",
          "height": 300
        },
        "outputId": "8286c862-4634-4e57-b89f-94b16aff99e3",
        "id": "j0vx5ysTnEFF"
      },
      "execution_count": 311,
      "outputs": [
        {
          "output_type": "execute_result",
          "data": {
            "text/plain": [
              "                 id       id_order  product_id  product_quantity\n",
              "count  2.939830e+05  293983.000000    293983.0     293983.000000\n",
              "mean   1.397918e+06  419999.116544         0.0          1.121126\n",
              "std    1.530096e+05   66344.486479         0.0          3.396569\n",
              "min    1.119109e+06  241319.000000         0.0          1.000000\n",
              "25%    1.262542e+06  362258.500000         0.0          1.000000\n",
              "50%    1.406940e+06  425956.000000         0.0          1.000000\n",
              "75%    1.531322e+06  478657.000000         0.0          1.000000\n",
              "max    1.650203e+06  527401.000000         0.0        999.000000"
            ],
            "text/html": [
              "\n",
              "  <div id=\"df-03ddb0be-6ef4-40d5-9a85-9ffaa4b18033\">\n",
              "    <div class=\"colab-df-container\">\n",
              "      <div>\n",
              "<style scoped>\n",
              "    .dataframe tbody tr th:only-of-type {\n",
              "        vertical-align: middle;\n",
              "    }\n",
              "\n",
              "    .dataframe tbody tr th {\n",
              "        vertical-align: top;\n",
              "    }\n",
              "\n",
              "    .dataframe thead th {\n",
              "        text-align: right;\n",
              "    }\n",
              "</style>\n",
              "<table border=\"1\" class=\"dataframe\">\n",
              "  <thead>\n",
              "    <tr style=\"text-align: right;\">\n",
              "      <th></th>\n",
              "      <th>id</th>\n",
              "      <th>id_order</th>\n",
              "      <th>product_id</th>\n",
              "      <th>product_quantity</th>\n",
              "    </tr>\n",
              "  </thead>\n",
              "  <tbody>\n",
              "    <tr>\n",
              "      <th>count</th>\n",
              "      <td>2.939830e+05</td>\n",
              "      <td>293983.000000</td>\n",
              "      <td>293983.0</td>\n",
              "      <td>293983.000000</td>\n",
              "    </tr>\n",
              "    <tr>\n",
              "      <th>mean</th>\n",
              "      <td>1.397918e+06</td>\n",
              "      <td>419999.116544</td>\n",
              "      <td>0.0</td>\n",
              "      <td>1.121126</td>\n",
              "    </tr>\n",
              "    <tr>\n",
              "      <th>std</th>\n",
              "      <td>1.530096e+05</td>\n",
              "      <td>66344.486479</td>\n",
              "      <td>0.0</td>\n",
              "      <td>3.396569</td>\n",
              "    </tr>\n",
              "    <tr>\n",
              "      <th>min</th>\n",
              "      <td>1.119109e+06</td>\n",
              "      <td>241319.000000</td>\n",
              "      <td>0.0</td>\n",
              "      <td>1.000000</td>\n",
              "    </tr>\n",
              "    <tr>\n",
              "      <th>25%</th>\n",
              "      <td>1.262542e+06</td>\n",
              "      <td>362258.500000</td>\n",
              "      <td>0.0</td>\n",
              "      <td>1.000000</td>\n",
              "    </tr>\n",
              "    <tr>\n",
              "      <th>50%</th>\n",
              "      <td>1.406940e+06</td>\n",
              "      <td>425956.000000</td>\n",
              "      <td>0.0</td>\n",
              "      <td>1.000000</td>\n",
              "    </tr>\n",
              "    <tr>\n",
              "      <th>75%</th>\n",
              "      <td>1.531322e+06</td>\n",
              "      <td>478657.000000</td>\n",
              "      <td>0.0</td>\n",
              "      <td>1.000000</td>\n",
              "    </tr>\n",
              "    <tr>\n",
              "      <th>max</th>\n",
              "      <td>1.650203e+06</td>\n",
              "      <td>527401.000000</td>\n",
              "      <td>0.0</td>\n",
              "      <td>999.000000</td>\n",
              "    </tr>\n",
              "  </tbody>\n",
              "</table>\n",
              "</div>\n",
              "      <button class=\"colab-df-convert\" onclick=\"convertToInteractive('df-03ddb0be-6ef4-40d5-9a85-9ffaa4b18033')\"\n",
              "              title=\"Convert this dataframe to an interactive table.\"\n",
              "              style=\"display:none;\">\n",
              "        \n",
              "  <svg xmlns=\"http://www.w3.org/2000/svg\" height=\"24px\"viewBox=\"0 0 24 24\"\n",
              "       width=\"24px\">\n",
              "    <path d=\"M0 0h24v24H0V0z\" fill=\"none\"/>\n",
              "    <path d=\"M18.56 5.44l.94 2.06.94-2.06 2.06-.94-2.06-.94-.94-2.06-.94 2.06-2.06.94zm-11 1L8.5 8.5l.94-2.06 2.06-.94-2.06-.94L8.5 2.5l-.94 2.06-2.06.94zm10 10l.94 2.06.94-2.06 2.06-.94-2.06-.94-.94-2.06-.94 2.06-2.06.94z\"/><path d=\"M17.41 7.96l-1.37-1.37c-.4-.4-.92-.59-1.43-.59-.52 0-1.04.2-1.43.59L10.3 9.45l-7.72 7.72c-.78.78-.78 2.05 0 2.83L4 21.41c.39.39.9.59 1.41.59.51 0 1.02-.2 1.41-.59l7.78-7.78 2.81-2.81c.8-.78.8-2.07 0-2.86zM5.41 20L4 18.59l7.72-7.72 1.47 1.35L5.41 20z\"/>\n",
              "  </svg>\n",
              "      </button>\n",
              "      \n",
              "  <style>\n",
              "    .colab-df-container {\n",
              "      display:flex;\n",
              "      flex-wrap:wrap;\n",
              "      gap: 12px;\n",
              "    }\n",
              "\n",
              "    .colab-df-convert {\n",
              "      background-color: #E8F0FE;\n",
              "      border: none;\n",
              "      border-radius: 50%;\n",
              "      cursor: pointer;\n",
              "      display: none;\n",
              "      fill: #1967D2;\n",
              "      height: 32px;\n",
              "      padding: 0 0 0 0;\n",
              "      width: 32px;\n",
              "    }\n",
              "\n",
              "    .colab-df-convert:hover {\n",
              "      background-color: #E2EBFA;\n",
              "      box-shadow: 0px 1px 2px rgba(60, 64, 67, 0.3), 0px 1px 3px 1px rgba(60, 64, 67, 0.15);\n",
              "      fill: #174EA6;\n",
              "    }\n",
              "\n",
              "    [theme=dark] .colab-df-convert {\n",
              "      background-color: #3B4455;\n",
              "      fill: #D2E3FC;\n",
              "    }\n",
              "\n",
              "    [theme=dark] .colab-df-convert:hover {\n",
              "      background-color: #434B5C;\n",
              "      box-shadow: 0px 1px 3px 1px rgba(0, 0, 0, 0.15);\n",
              "      filter: drop-shadow(0px 1px 2px rgba(0, 0, 0, 0.3));\n",
              "      fill: #FFFFFF;\n",
              "    }\n",
              "  </style>\n",
              "\n",
              "      <script>\n",
              "        const buttonEl =\n",
              "          document.querySelector('#df-03ddb0be-6ef4-40d5-9a85-9ffaa4b18033 button.colab-df-convert');\n",
              "        buttonEl.style.display =\n",
              "          google.colab.kernel.accessAllowed ? 'block' : 'none';\n",
              "\n",
              "        async function convertToInteractive(key) {\n",
              "          const element = document.querySelector('#df-03ddb0be-6ef4-40d5-9a85-9ffaa4b18033');\n",
              "          const dataTable =\n",
              "            await google.colab.kernel.invokeFunction('convertToInteractive',\n",
              "                                                     [key], {});\n",
              "          if (!dataTable) return;\n",
              "\n",
              "          const docLinkHtml = 'Like what you see? Visit the ' +\n",
              "            '<a target=\"_blank\" href=https://colab.research.google.com/notebooks/data_table.ipynb>data table notebook</a>'\n",
              "            + ' to learn more about interactive tables.';\n",
              "          element.innerHTML = '';\n",
              "          dataTable['output_type'] = 'display_data';\n",
              "          await google.colab.output.renderOutput(dataTable, element);\n",
              "          const docLink = document.createElement('div');\n",
              "          docLink.innerHTML = docLinkHtml;\n",
              "          element.appendChild(docLink);\n",
              "        }\n",
              "      </script>\n",
              "    </div>\n",
              "  </div>\n",
              "  "
            ]
          },
          "metadata": {},
          "execution_count": 311
        }
      ]
    },
    {
      "cell_type": "code",
      "source": [
        "ol.nunique() # hint: id is unique per row \n",
        "# hint: product_id is useless, shall be removed - fix required"
      ],
      "metadata": {
        "colab": {
          "base_uri": "https://localhost:8080/"
        },
        "outputId": "40dfb857-891f-4ed5-93e3-5c34d1cf3835",
        "id": "LWsD94v7nEFF"
      },
      "execution_count": 303,
      "outputs": [
        {
          "output_type": "execute_result",
          "data": {
            "text/plain": [
              "id                  293983\n",
              "id_order            204855\n",
              "product_id               1\n",
              "product_quantity        67\n",
              "sku                   7951\n",
              "unit_price           11329\n",
              "date                251631\n",
              "dtype: int64"
            ]
          },
          "metadata": {},
          "execution_count": 303
        }
      ]
    },
    {
      "cell_type": "code",
      "source": [
        "ol.product_id.unique()\n",
        "#hint: useless data\n"
      ],
      "metadata": {
        "colab": {
          "base_uri": "https://localhost:8080/"
        },
        "outputId": "4c725a56-b588-4df7-e5f9-b236d03e2636",
        "id": "-L31okREnEFF"
      },
      "execution_count": 312,
      "outputs": [
        {
          "output_type": "execute_result",
          "data": {
            "text/plain": [
              "array([0])"
            ]
          },
          "metadata": {},
          "execution_count": 312
        }
      ]
    },
    {
      "cell_type": "code",
      "source": [
        "ol.unit_price.sort_values(ascending=False).tail(40) \n",
        "# There is negative value in unit_price,  Fix Required"
      ],
      "metadata": {
        "colab": {
          "base_uri": "https://localhost:8080/"
        },
        "id": "G_huaPhRDqxj",
        "outputId": "be891056-c7c3-49bf-82b9-45df953851a9"
      },
      "execution_count": 325,
      "outputs": [
        {
          "output_type": "execute_result",
          "data": {
            "text/plain": [
              "225400       0.00\n",
              "225401       0.00\n",
              "276547       0.00\n",
              "276548       0.00\n",
              "67456        0.00\n",
              "199139       0.00\n",
              "280903       0.00\n",
              "67563        0.00\n",
              "280907       0.00\n",
              "67854        0.00\n",
              "265161       0.00\n",
              "256505       0.00\n",
              "280906       0.00\n",
              "246443       0.00\n",
              "256504       0.00\n",
              "280905       0.00\n",
              "67848        0.00\n",
              "265159       0.00\n",
              "265158       0.00\n",
              "67812        0.00\n",
              "246444       0.00\n",
              "67802        0.00\n",
              "67773        0.00\n",
              "265157       0.00\n",
              "67768        0.00\n",
              "67585        0.00\n",
              "67626        0.00\n",
              "212228       0.00\n",
              "280904       0.00\n",
              "67644        0.00\n",
              "67661        0.00\n",
              "67682        0.00\n",
              "67701        0.00\n",
              "212227       0.00\n",
              "67717        0.00\n",
              "265154       0.00\n",
              "67746        0.00\n",
              "265156       0.00\n",
              "261851       0.00\n",
              "77008     -119.00\n",
              "Name: unit_price, dtype: object"
            ]
          },
          "metadata": {},
          "execution_count": 325
        }
      ]
    },
    {
      "cell_type": "code",
      "source": [
        "ol.loc[ol.unit_price == \"0.00\"]"
      ],
      "metadata": {
        "colab": {
          "base_uri": "https://localhost:8080/",
          "height": 423
        },
        "id": "_g9m1mbEE_xI",
        "outputId": "079df2bf-0136-486a-d586-ca4db07d18b5"
      },
      "execution_count": 326,
      "outputs": [
        {
          "output_type": "execute_result",
          "data": {
            "text/plain": [
              "             id  id_order  product_id  product_quantity        sku unit_price  \\\n",
              "53515   1227566    345934           0                 1  KIN0153-2       0.00   \n",
              "53530   1227590    345957           0                 1    WDT0347       0.00   \n",
              "56529   1232832    348502           0                 1      LIBRO       0.00   \n",
              "56562   1232888    348531           0                 1      LIBRO       0.00   \n",
              "56576   1232909    348542           0                 1      LIBRO       0.00   \n",
              "...         ...       ...         ...               ...        ...        ...   \n",
              "291880  1646431    525595           0                 1    SYN0150       0.00   \n",
              "292216  1647014    525883           0                 1    APP0699       0.00   \n",
              "292388  1647334    526025           0                 1    WAC0251       0.00   \n",
              "292905  1648288    526430           0                 1    OWC0110       0.00   \n",
              "292906  1648289    526430           0                 1    NTE0013       0.00   \n",
              "\n",
              "                       date  \n",
              "53515   2017-04-13 13:47:21  \n",
              "53530   2017-04-13 14:44:05  \n",
              "56529   2017-04-21 18:14:54  \n",
              "56562   2017-04-21 19:46:54  \n",
              "56576   2017-04-21 20:48:06  \n",
              "...                     ...  \n",
              "291880  2018-03-11 20:50:46  \n",
              "292216  2018-03-12 12:26:57  \n",
              "292388  2018-03-12 16:31:39  \n",
              "292905  2018-03-13 13:27:05  \n",
              "292906  2018-03-13 13:27:05  \n",
              "\n",
              "[865 rows x 7 columns]"
            ],
            "text/html": [
              "\n",
              "  <div id=\"df-787bad3c-02bd-4813-bee7-96ad365ba3a5\">\n",
              "    <div class=\"colab-df-container\">\n",
              "      <div>\n",
              "<style scoped>\n",
              "    .dataframe tbody tr th:only-of-type {\n",
              "        vertical-align: middle;\n",
              "    }\n",
              "\n",
              "    .dataframe tbody tr th {\n",
              "        vertical-align: top;\n",
              "    }\n",
              "\n",
              "    .dataframe thead th {\n",
              "        text-align: right;\n",
              "    }\n",
              "</style>\n",
              "<table border=\"1\" class=\"dataframe\">\n",
              "  <thead>\n",
              "    <tr style=\"text-align: right;\">\n",
              "      <th></th>\n",
              "      <th>id</th>\n",
              "      <th>id_order</th>\n",
              "      <th>product_id</th>\n",
              "      <th>product_quantity</th>\n",
              "      <th>sku</th>\n",
              "      <th>unit_price</th>\n",
              "      <th>date</th>\n",
              "    </tr>\n",
              "  </thead>\n",
              "  <tbody>\n",
              "    <tr>\n",
              "      <th>53515</th>\n",
              "      <td>1227566</td>\n",
              "      <td>345934</td>\n",
              "      <td>0</td>\n",
              "      <td>1</td>\n",
              "      <td>KIN0153-2</td>\n",
              "      <td>0.00</td>\n",
              "      <td>2017-04-13 13:47:21</td>\n",
              "    </tr>\n",
              "    <tr>\n",
              "      <th>53530</th>\n",
              "      <td>1227590</td>\n",
              "      <td>345957</td>\n",
              "      <td>0</td>\n",
              "      <td>1</td>\n",
              "      <td>WDT0347</td>\n",
              "      <td>0.00</td>\n",
              "      <td>2017-04-13 14:44:05</td>\n",
              "    </tr>\n",
              "    <tr>\n",
              "      <th>56529</th>\n",
              "      <td>1232832</td>\n",
              "      <td>348502</td>\n",
              "      <td>0</td>\n",
              "      <td>1</td>\n",
              "      <td>LIBRO</td>\n",
              "      <td>0.00</td>\n",
              "      <td>2017-04-21 18:14:54</td>\n",
              "    </tr>\n",
              "    <tr>\n",
              "      <th>56562</th>\n",
              "      <td>1232888</td>\n",
              "      <td>348531</td>\n",
              "      <td>0</td>\n",
              "      <td>1</td>\n",
              "      <td>LIBRO</td>\n",
              "      <td>0.00</td>\n",
              "      <td>2017-04-21 19:46:54</td>\n",
              "    </tr>\n",
              "    <tr>\n",
              "      <th>56576</th>\n",
              "      <td>1232909</td>\n",
              "      <td>348542</td>\n",
              "      <td>0</td>\n",
              "      <td>1</td>\n",
              "      <td>LIBRO</td>\n",
              "      <td>0.00</td>\n",
              "      <td>2017-04-21 20:48:06</td>\n",
              "    </tr>\n",
              "    <tr>\n",
              "      <th>...</th>\n",
              "      <td>...</td>\n",
              "      <td>...</td>\n",
              "      <td>...</td>\n",
              "      <td>...</td>\n",
              "      <td>...</td>\n",
              "      <td>...</td>\n",
              "      <td>...</td>\n",
              "    </tr>\n",
              "    <tr>\n",
              "      <th>291880</th>\n",
              "      <td>1646431</td>\n",
              "      <td>525595</td>\n",
              "      <td>0</td>\n",
              "      <td>1</td>\n",
              "      <td>SYN0150</td>\n",
              "      <td>0.00</td>\n",
              "      <td>2018-03-11 20:50:46</td>\n",
              "    </tr>\n",
              "    <tr>\n",
              "      <th>292216</th>\n",
              "      <td>1647014</td>\n",
              "      <td>525883</td>\n",
              "      <td>0</td>\n",
              "      <td>1</td>\n",
              "      <td>APP0699</td>\n",
              "      <td>0.00</td>\n",
              "      <td>2018-03-12 12:26:57</td>\n",
              "    </tr>\n",
              "    <tr>\n",
              "      <th>292388</th>\n",
              "      <td>1647334</td>\n",
              "      <td>526025</td>\n",
              "      <td>0</td>\n",
              "      <td>1</td>\n",
              "      <td>WAC0251</td>\n",
              "      <td>0.00</td>\n",
              "      <td>2018-03-12 16:31:39</td>\n",
              "    </tr>\n",
              "    <tr>\n",
              "      <th>292905</th>\n",
              "      <td>1648288</td>\n",
              "      <td>526430</td>\n",
              "      <td>0</td>\n",
              "      <td>1</td>\n",
              "      <td>OWC0110</td>\n",
              "      <td>0.00</td>\n",
              "      <td>2018-03-13 13:27:05</td>\n",
              "    </tr>\n",
              "    <tr>\n",
              "      <th>292906</th>\n",
              "      <td>1648289</td>\n",
              "      <td>526430</td>\n",
              "      <td>0</td>\n",
              "      <td>1</td>\n",
              "      <td>NTE0013</td>\n",
              "      <td>0.00</td>\n",
              "      <td>2018-03-13 13:27:05</td>\n",
              "    </tr>\n",
              "  </tbody>\n",
              "</table>\n",
              "<p>865 rows × 7 columns</p>\n",
              "</div>\n",
              "      <button class=\"colab-df-convert\" onclick=\"convertToInteractive('df-787bad3c-02bd-4813-bee7-96ad365ba3a5')\"\n",
              "              title=\"Convert this dataframe to an interactive table.\"\n",
              "              style=\"display:none;\">\n",
              "        \n",
              "  <svg xmlns=\"http://www.w3.org/2000/svg\" height=\"24px\"viewBox=\"0 0 24 24\"\n",
              "       width=\"24px\">\n",
              "    <path d=\"M0 0h24v24H0V0z\" fill=\"none\"/>\n",
              "    <path d=\"M18.56 5.44l.94 2.06.94-2.06 2.06-.94-2.06-.94-.94-2.06-.94 2.06-2.06.94zm-11 1L8.5 8.5l.94-2.06 2.06-.94-2.06-.94L8.5 2.5l-.94 2.06-2.06.94zm10 10l.94 2.06.94-2.06 2.06-.94-2.06-.94-.94-2.06-.94 2.06-2.06.94z\"/><path d=\"M17.41 7.96l-1.37-1.37c-.4-.4-.92-.59-1.43-.59-.52 0-1.04.2-1.43.59L10.3 9.45l-7.72 7.72c-.78.78-.78 2.05 0 2.83L4 21.41c.39.39.9.59 1.41.59.51 0 1.02-.2 1.41-.59l7.78-7.78 2.81-2.81c.8-.78.8-2.07 0-2.86zM5.41 20L4 18.59l7.72-7.72 1.47 1.35L5.41 20z\"/>\n",
              "  </svg>\n",
              "      </button>\n",
              "      \n",
              "  <style>\n",
              "    .colab-df-container {\n",
              "      display:flex;\n",
              "      flex-wrap:wrap;\n",
              "      gap: 12px;\n",
              "    }\n",
              "\n",
              "    .colab-df-convert {\n",
              "      background-color: #E8F0FE;\n",
              "      border: none;\n",
              "      border-radius: 50%;\n",
              "      cursor: pointer;\n",
              "      display: none;\n",
              "      fill: #1967D2;\n",
              "      height: 32px;\n",
              "      padding: 0 0 0 0;\n",
              "      width: 32px;\n",
              "    }\n",
              "\n",
              "    .colab-df-convert:hover {\n",
              "      background-color: #E2EBFA;\n",
              "      box-shadow: 0px 1px 2px rgba(60, 64, 67, 0.3), 0px 1px 3px 1px rgba(60, 64, 67, 0.15);\n",
              "      fill: #174EA6;\n",
              "    }\n",
              "\n",
              "    [theme=dark] .colab-df-convert {\n",
              "      background-color: #3B4455;\n",
              "      fill: #D2E3FC;\n",
              "    }\n",
              "\n",
              "    [theme=dark] .colab-df-convert:hover {\n",
              "      background-color: #434B5C;\n",
              "      box-shadow: 0px 1px 3px 1px rgba(0, 0, 0, 0.15);\n",
              "      filter: drop-shadow(0px 1px 2px rgba(0, 0, 0, 0.3));\n",
              "      fill: #FFFFFF;\n",
              "    }\n",
              "  </style>\n",
              "\n",
              "      <script>\n",
              "        const buttonEl =\n",
              "          document.querySelector('#df-787bad3c-02bd-4813-bee7-96ad365ba3a5 button.colab-df-convert');\n",
              "        buttonEl.style.display =\n",
              "          google.colab.kernel.accessAllowed ? 'block' : 'none';\n",
              "\n",
              "        async function convertToInteractive(key) {\n",
              "          const element = document.querySelector('#df-787bad3c-02bd-4813-bee7-96ad365ba3a5');\n",
              "          const dataTable =\n",
              "            await google.colab.kernel.invokeFunction('convertToInteractive',\n",
              "                                                     [key], {});\n",
              "          if (!dataTable) return;\n",
              "\n",
              "          const docLinkHtml = 'Like what you see? Visit the ' +\n",
              "            '<a target=\"_blank\" href=https://colab.research.google.com/notebooks/data_table.ipynb>data table notebook</a>'\n",
              "            + ' to learn more about interactive tables.';\n",
              "          element.innerHTML = '';\n",
              "          dataTable['output_type'] = 'display_data';\n",
              "          await google.colab.output.renderOutput(dataTable, element);\n",
              "          const docLink = document.createElement('div');\n",
              "          docLink.innerHTML = docLinkHtml;\n",
              "          element.appendChild(docLink);\n",
              "        }\n",
              "      </script>\n",
              "    </div>\n",
              "  </div>\n",
              "  "
            ]
          },
          "metadata": {},
          "execution_count": 326
        }
      ]
    },
    {
      "cell_type": "code",
      "source": [
        "(ol\n",
        " .query(\"unit_price == '0.00'\")\n",
        " [[\"id\",\"sku\"]]\n",
        ")"
      ],
      "metadata": {
        "colab": {
          "base_uri": "https://localhost:8080/",
          "height": 423
        },
        "id": "qsJ7T5icEtP8",
        "outputId": "9dd353e9-fef6-4025-a3ff-7044bb6adc9c"
      },
      "execution_count": 330,
      "outputs": [
        {
          "output_type": "execute_result",
          "data": {
            "text/plain": [
              "             id        sku\n",
              "53515   1227566  KIN0153-2\n",
              "53530   1227590    WDT0347\n",
              "56529   1232832      LIBRO\n",
              "56562   1232888      LIBRO\n",
              "56576   1232909      LIBRO\n",
              "...         ...        ...\n",
              "291880  1646431    SYN0150\n",
              "292216  1647014    APP0699\n",
              "292388  1647334    WAC0251\n",
              "292905  1648288    OWC0110\n",
              "292906  1648289    NTE0013\n",
              "\n",
              "[865 rows x 2 columns]"
            ],
            "text/html": [
              "\n",
              "  <div id=\"df-8b5402b1-703f-45e2-ae68-c61a249855c0\">\n",
              "    <div class=\"colab-df-container\">\n",
              "      <div>\n",
              "<style scoped>\n",
              "    .dataframe tbody tr th:only-of-type {\n",
              "        vertical-align: middle;\n",
              "    }\n",
              "\n",
              "    .dataframe tbody tr th {\n",
              "        vertical-align: top;\n",
              "    }\n",
              "\n",
              "    .dataframe thead th {\n",
              "        text-align: right;\n",
              "    }\n",
              "</style>\n",
              "<table border=\"1\" class=\"dataframe\">\n",
              "  <thead>\n",
              "    <tr style=\"text-align: right;\">\n",
              "      <th></th>\n",
              "      <th>id</th>\n",
              "      <th>sku</th>\n",
              "    </tr>\n",
              "  </thead>\n",
              "  <tbody>\n",
              "    <tr>\n",
              "      <th>53515</th>\n",
              "      <td>1227566</td>\n",
              "      <td>KIN0153-2</td>\n",
              "    </tr>\n",
              "    <tr>\n",
              "      <th>53530</th>\n",
              "      <td>1227590</td>\n",
              "      <td>WDT0347</td>\n",
              "    </tr>\n",
              "    <tr>\n",
              "      <th>56529</th>\n",
              "      <td>1232832</td>\n",
              "      <td>LIBRO</td>\n",
              "    </tr>\n",
              "    <tr>\n",
              "      <th>56562</th>\n",
              "      <td>1232888</td>\n",
              "      <td>LIBRO</td>\n",
              "    </tr>\n",
              "    <tr>\n",
              "      <th>56576</th>\n",
              "      <td>1232909</td>\n",
              "      <td>LIBRO</td>\n",
              "    </tr>\n",
              "    <tr>\n",
              "      <th>...</th>\n",
              "      <td>...</td>\n",
              "      <td>...</td>\n",
              "    </tr>\n",
              "    <tr>\n",
              "      <th>291880</th>\n",
              "      <td>1646431</td>\n",
              "      <td>SYN0150</td>\n",
              "    </tr>\n",
              "    <tr>\n",
              "      <th>292216</th>\n",
              "      <td>1647014</td>\n",
              "      <td>APP0699</td>\n",
              "    </tr>\n",
              "    <tr>\n",
              "      <th>292388</th>\n",
              "      <td>1647334</td>\n",
              "      <td>WAC0251</td>\n",
              "    </tr>\n",
              "    <tr>\n",
              "      <th>292905</th>\n",
              "      <td>1648288</td>\n",
              "      <td>OWC0110</td>\n",
              "    </tr>\n",
              "    <tr>\n",
              "      <th>292906</th>\n",
              "      <td>1648289</td>\n",
              "      <td>NTE0013</td>\n",
              "    </tr>\n",
              "  </tbody>\n",
              "</table>\n",
              "<p>865 rows × 2 columns</p>\n",
              "</div>\n",
              "      <button class=\"colab-df-convert\" onclick=\"convertToInteractive('df-8b5402b1-703f-45e2-ae68-c61a249855c0')\"\n",
              "              title=\"Convert this dataframe to an interactive table.\"\n",
              "              style=\"display:none;\">\n",
              "        \n",
              "  <svg xmlns=\"http://www.w3.org/2000/svg\" height=\"24px\"viewBox=\"0 0 24 24\"\n",
              "       width=\"24px\">\n",
              "    <path d=\"M0 0h24v24H0V0z\" fill=\"none\"/>\n",
              "    <path d=\"M18.56 5.44l.94 2.06.94-2.06 2.06-.94-2.06-.94-.94-2.06-.94 2.06-2.06.94zm-11 1L8.5 8.5l.94-2.06 2.06-.94-2.06-.94L8.5 2.5l-.94 2.06-2.06.94zm10 10l.94 2.06.94-2.06 2.06-.94-2.06-.94-.94-2.06-.94 2.06-2.06.94z\"/><path d=\"M17.41 7.96l-1.37-1.37c-.4-.4-.92-.59-1.43-.59-.52 0-1.04.2-1.43.59L10.3 9.45l-7.72 7.72c-.78.78-.78 2.05 0 2.83L4 21.41c.39.39.9.59 1.41.59.51 0 1.02-.2 1.41-.59l7.78-7.78 2.81-2.81c.8-.78.8-2.07 0-2.86zM5.41 20L4 18.59l7.72-7.72 1.47 1.35L5.41 20z\"/>\n",
              "  </svg>\n",
              "      </button>\n",
              "      \n",
              "  <style>\n",
              "    .colab-df-container {\n",
              "      display:flex;\n",
              "      flex-wrap:wrap;\n",
              "      gap: 12px;\n",
              "    }\n",
              "\n",
              "    .colab-df-convert {\n",
              "      background-color: #E8F0FE;\n",
              "      border: none;\n",
              "      border-radius: 50%;\n",
              "      cursor: pointer;\n",
              "      display: none;\n",
              "      fill: #1967D2;\n",
              "      height: 32px;\n",
              "      padding: 0 0 0 0;\n",
              "      width: 32px;\n",
              "    }\n",
              "\n",
              "    .colab-df-convert:hover {\n",
              "      background-color: #E2EBFA;\n",
              "      box-shadow: 0px 1px 2px rgba(60, 64, 67, 0.3), 0px 1px 3px 1px rgba(60, 64, 67, 0.15);\n",
              "      fill: #174EA6;\n",
              "    }\n",
              "\n",
              "    [theme=dark] .colab-df-convert {\n",
              "      background-color: #3B4455;\n",
              "      fill: #D2E3FC;\n",
              "    }\n",
              "\n",
              "    [theme=dark] .colab-df-convert:hover {\n",
              "      background-color: #434B5C;\n",
              "      box-shadow: 0px 1px 3px 1px rgba(0, 0, 0, 0.15);\n",
              "      filter: drop-shadow(0px 1px 2px rgba(0, 0, 0, 0.3));\n",
              "      fill: #FFFFFF;\n",
              "    }\n",
              "  </style>\n",
              "\n",
              "      <script>\n",
              "        const buttonEl =\n",
              "          document.querySelector('#df-8b5402b1-703f-45e2-ae68-c61a249855c0 button.colab-df-convert');\n",
              "        buttonEl.style.display =\n",
              "          google.colab.kernel.accessAllowed ? 'block' : 'none';\n",
              "\n",
              "        async function convertToInteractive(key) {\n",
              "          const element = document.querySelector('#df-8b5402b1-703f-45e2-ae68-c61a249855c0');\n",
              "          const dataTable =\n",
              "            await google.colab.kernel.invokeFunction('convertToInteractive',\n",
              "                                                     [key], {});\n",
              "          if (!dataTable) return;\n",
              "\n",
              "          const docLinkHtml = 'Like what you see? Visit the ' +\n",
              "            '<a target=\"_blank\" href=https://colab.research.google.com/notebooks/data_table.ipynb>data table notebook</a>'\n",
              "            + ' to learn more about interactive tables.';\n",
              "          element.innerHTML = '';\n",
              "          dataTable['output_type'] = 'display_data';\n",
              "          await google.colab.output.renderOutput(dataTable, element);\n",
              "          const docLink = document.createElement('div');\n",
              "          docLink.innerHTML = docLinkHtml;\n",
              "          element.appendChild(docLink);\n",
              "        }\n",
              "      </script>\n",
              "    </div>\n",
              "  </div>\n",
              "  "
            ]
          },
          "metadata": {},
          "execution_count": 330
        }
      ]
    },
    {
      "cell_type": "markdown",
      "source": [
        "##Clean the data per csv\n",
        "- Remember to create a copy of the df using .copy()"
      ],
      "metadata": {
        "id": "iBFBMEEWnEFG"
      }
    },
    {
      "cell_type": "code",
      "source": [
        "orderlines_c = orderlines.copy()"
      ],
      "metadata": {
        "id": "Ojy5J29rnEFG"
      },
      "execution_count": 255,
      "outputs": []
    },
    {
      "cell_type": "markdown",
      "source": [
        "###Rename Columns , Set Index\n",
        " - df.columns  , df.index\n",
        " - df=df.rename(columns={\"A\": \"a\", \"B\": \"c\"})\n",
        " - df.columns = [\"a\",\"b\":\"x\"]\n",
        "  - take care, renaming the columns like that will convert the NAN to some value!!\n",
        " - df=df.set_index(\"col\") , df=df.reset_index()"
      ],
      "metadata": {
        "id": "emAynTSAnEFG"
      }
    },
    {
      "cell_type": "code",
      "source": [
        "orderlines_c.columns #hint: columns names looks good"
      ],
      "metadata": {
        "colab": {
          "base_uri": "https://localhost:8080/"
        },
        "outputId": "78b0fa7e-b4e6-46b6-8754-0795641bf050",
        "id": "SrA_W_qWnEFG"
      },
      "execution_count": 256,
      "outputs": [
        {
          "output_type": "execute_result",
          "data": {
            "text/plain": [
              "Index(['id', 'id_order', 'product_id', 'product_quantity', 'sku', 'unit_price',\n",
              "       'date'],\n",
              "      dtype='object')"
            ]
          },
          "metadata": {},
          "execution_count": 256
        }
      ]
    },
    {
      "cell_type": "code",
      "source": [
        "orders_c=orders_c.rename(columns={\"id\": \"ordli_id\", \"id_order\": \"ordli_ord_id\"\n",
        ", \"product_id\": \"ordli_product_id\", \"product_quantity\": \"ordli_product_quantity\", \"sku\": \"ordli_sku\"\n",
        ", \"unit_price\": \"ordli_product_unit_price\"})"
      ],
      "metadata": {
        "id": "qXZYkcSwvSWx"
      },
      "execution_count": null,
      "outputs": []
    },
    {
      "cell_type": "code",
      "source": [
        "orders_c.index #hint: no need to change index"
      ],
      "metadata": {
        "colab": {
          "base_uri": "https://localhost:8080/"
        },
        "outputId": "2ebba2d5-5423-46df-f331-baa8e559fd53",
        "id": "A7T1mMH1nEFH"
      },
      "execution_count": 257,
      "outputs": [
        {
          "output_type": "execute_result",
          "data": {
            "text/plain": [
              "RangeIndex(start=0, stop=226909, step=1)"
            ]
          },
          "metadata": {},
          "execution_count": 257
        }
      ]
    },
    {
      "cell_type": "markdown",
      "source": [
        "### Remove Duplicates Rows\n",
        "- df.duplicated().sum()\n",
        "- df.loc[df.duplicated()==True]\n",
        "- df=df.drop:duplicates() \n",
        "- df=df.drop:duplicates(subset=[\"col\"]) --> remove rows based on duplicated in specific column"
      ],
      "metadata": {
        "id": "dFhPLGSQnEFH"
      }
    },
    {
      "cell_type": "code",
      "source": [
        "orders_c.duplicated().sum() #hint : No duplicates"
      ],
      "metadata": {
        "colab": {
          "base_uri": "https://localhost:8080/"
        },
        "outputId": "26a3a61c-d5f6-4dea-fc57-cbd4065ae58c",
        "id": "uwR3XOZXnEFH"
      },
      "execution_count": null,
      "outputs": [
        {
          "output_type": "execute_result",
          "data": {
            "text/plain": [
              "0"
            ]
          },
          "metadata": {},
          "execution_count": 172
        }
      ]
    },
    {
      "cell_type": "code",
      "source": [
        "orders_c.loc[orders_c.duplicated()==True]"
      ],
      "metadata": {
        "colab": {
          "base_uri": "https://localhost:8080/",
          "height": 49
        },
        "outputId": "1df8c800-451f-420a-8d98-e1d8b17e076c",
        "id": "svKfv5JJnEFH"
      },
      "execution_count": null,
      "outputs": [
        {
          "output_type": "execute_result",
          "data": {
            "text/plain": [
              "Empty DataFrame\n",
              "Columns: [order_id, created_date, total_paid, state]\n",
              "Index: []"
            ],
            "text/html": [
              "\n",
              "  <div id=\"df-59258e69-bed9-4185-b331-02612f554507\">\n",
              "    <div class=\"colab-df-container\">\n",
              "      <div>\n",
              "<style scoped>\n",
              "    .dataframe tbody tr th:only-of-type {\n",
              "        vertical-align: middle;\n",
              "    }\n",
              "\n",
              "    .dataframe tbody tr th {\n",
              "        vertical-align: top;\n",
              "    }\n",
              "\n",
              "    .dataframe thead th {\n",
              "        text-align: right;\n",
              "    }\n",
              "</style>\n",
              "<table border=\"1\" class=\"dataframe\">\n",
              "  <thead>\n",
              "    <tr style=\"text-align: right;\">\n",
              "      <th></th>\n",
              "      <th>order_id</th>\n",
              "      <th>created_date</th>\n",
              "      <th>total_paid</th>\n",
              "      <th>state</th>\n",
              "    </tr>\n",
              "  </thead>\n",
              "  <tbody>\n",
              "  </tbody>\n",
              "</table>\n",
              "</div>\n",
              "      <button class=\"colab-df-convert\" onclick=\"convertToInteractive('df-59258e69-bed9-4185-b331-02612f554507')\"\n",
              "              title=\"Convert this dataframe to an interactive table.\"\n",
              "              style=\"display:none;\">\n",
              "        \n",
              "  <svg xmlns=\"http://www.w3.org/2000/svg\" height=\"24px\"viewBox=\"0 0 24 24\"\n",
              "       width=\"24px\">\n",
              "    <path d=\"M0 0h24v24H0V0z\" fill=\"none\"/>\n",
              "    <path d=\"M18.56 5.44l.94 2.06.94-2.06 2.06-.94-2.06-.94-.94-2.06-.94 2.06-2.06.94zm-11 1L8.5 8.5l.94-2.06 2.06-.94-2.06-.94L8.5 2.5l-.94 2.06-2.06.94zm10 10l.94 2.06.94-2.06 2.06-.94-2.06-.94-.94-2.06-.94 2.06-2.06.94z\"/><path d=\"M17.41 7.96l-1.37-1.37c-.4-.4-.92-.59-1.43-.59-.52 0-1.04.2-1.43.59L10.3 9.45l-7.72 7.72c-.78.78-.78 2.05 0 2.83L4 21.41c.39.39.9.59 1.41.59.51 0 1.02-.2 1.41-.59l7.78-7.78 2.81-2.81c.8-.78.8-2.07 0-2.86zM5.41 20L4 18.59l7.72-7.72 1.47 1.35L5.41 20z\"/>\n",
              "  </svg>\n",
              "      </button>\n",
              "      \n",
              "  <style>\n",
              "    .colab-df-container {\n",
              "      display:flex;\n",
              "      flex-wrap:wrap;\n",
              "      gap: 12px;\n",
              "    }\n",
              "\n",
              "    .colab-df-convert {\n",
              "      background-color: #E8F0FE;\n",
              "      border: none;\n",
              "      border-radius: 50%;\n",
              "      cursor: pointer;\n",
              "      display: none;\n",
              "      fill: #1967D2;\n",
              "      height: 32px;\n",
              "      padding: 0 0 0 0;\n",
              "      width: 32px;\n",
              "    }\n",
              "\n",
              "    .colab-df-convert:hover {\n",
              "      background-color: #E2EBFA;\n",
              "      box-shadow: 0px 1px 2px rgba(60, 64, 67, 0.3), 0px 1px 3px 1px rgba(60, 64, 67, 0.15);\n",
              "      fill: #174EA6;\n",
              "    }\n",
              "\n",
              "    [theme=dark] .colab-df-convert {\n",
              "      background-color: #3B4455;\n",
              "      fill: #D2E3FC;\n",
              "    }\n",
              "\n",
              "    [theme=dark] .colab-df-convert:hover {\n",
              "      background-color: #434B5C;\n",
              "      box-shadow: 0px 1px 3px 1px rgba(0, 0, 0, 0.15);\n",
              "      filter: drop-shadow(0px 1px 2px rgba(0, 0, 0, 0.3));\n",
              "      fill: #FFFFFF;\n",
              "    }\n",
              "  </style>\n",
              "\n",
              "      <script>\n",
              "        const buttonEl =\n",
              "          document.querySelector('#df-59258e69-bed9-4185-b331-02612f554507 button.colab-df-convert');\n",
              "        buttonEl.style.display =\n",
              "          google.colab.kernel.accessAllowed ? 'block' : 'none';\n",
              "\n",
              "        async function convertToInteractive(key) {\n",
              "          const element = document.querySelector('#df-59258e69-bed9-4185-b331-02612f554507');\n",
              "          const dataTable =\n",
              "            await google.colab.kernel.invokeFunction('convertToInteractive',\n",
              "                                                     [key], {});\n",
              "          if (!dataTable) return;\n",
              "\n",
              "          const docLinkHtml = 'Like what you see? Visit the ' +\n",
              "            '<a target=\"_blank\" href=https://colab.research.google.com/notebooks/data_table.ipynb>data table notebook</a>'\n",
              "            + ' to learn more about interactive tables.';\n",
              "          element.innerHTML = '';\n",
              "          dataTable['output_type'] = 'display_data';\n",
              "          await google.colab.output.renderOutput(dataTable, element);\n",
              "          const docLink = document.createElement('div');\n",
              "          docLink.innerHTML = docLinkHtml;\n",
              "          element.appendChild(docLink);\n",
              "        }\n",
              "      </script>\n",
              "    </div>\n",
              "  </div>\n",
              "  "
            ]
          },
          "metadata": {},
          "execution_count": 173
        }
      ]
    },
    {
      "cell_type": "markdown",
      "source": [
        "### Clean NAN and empty cells\n",
        "- df.isna().sum()\n",
        "- df = df.replace('^\\s*$', np.nan) -->replace empty cells and cells with only whitspace with NAN\n",
        "- df=df.col.fillna(value,method=\"bfill\"or\"ffill\",limit=value)\n",
        "\n",
        "- Extra: \n",
        "  - (df.values == '').sum() --> check if any cell is empty\n",
        "  - df.col.str.isspace().sum() --> check if all cell is filled with whitespaces"
      ],
      "metadata": {
        "id": "HbC0NAl9nEFI"
      }
    },
    {
      "cell_type": "code",
      "source": [
        "orders_c.isna().sum()"
      ],
      "metadata": {
        "colab": {
          "base_uri": "https://localhost:8080/"
        },
        "outputId": "e40ba6fe-a9c7-4c15-ec3e-a267c398959f",
        "id": "MBeRQrwWnEFI"
      },
      "execution_count": null,
      "outputs": [
        {
          "output_type": "execute_result",
          "data": {
            "text/plain": [
              "order_id        0\n",
              "created_date    0\n",
              "total_paid      5\n",
              "state           0\n",
              "dtype: int64"
            ]
          },
          "metadata": {},
          "execution_count": 174
        }
      ]
    },
    {
      "cell_type": "code",
      "source": [
        "orders_c.info()"
      ],
      "metadata": {
        "colab": {
          "base_uri": "https://localhost:8080/"
        },
        "outputId": "f08ffa8c-d839-4765-b0bd-d047d161e6c5",
        "id": "1ibrQEP-nEFI"
      },
      "execution_count": null,
      "outputs": [
        {
          "output_type": "stream",
          "name": "stdout",
          "text": [
            "<class 'pandas.core.frame.DataFrame'>\n",
            "RangeIndex: 226909 entries, 0 to 226908\n",
            "Data columns (total 4 columns):\n",
            " #   Column        Non-Null Count   Dtype  \n",
            "---  ------        --------------   -----  \n",
            " 0   order_id      226909 non-null  int64  \n",
            " 1   created_date  226909 non-null  object \n",
            " 2   total_paid    226904 non-null  float64\n",
            " 3   state         226909 non-null  object \n",
            "dtypes: float64(1), int64(1), object(2)\n",
            "memory usage: 6.9+ MB\n"
          ]
        }
      ]
    },
    {
      "cell_type": "code",
      "source": [
        "import numpy as np\n",
        "orders_c = orders_c.replace('^\\s*$', np.nan)\n"
      ],
      "metadata": {
        "id": "ML931FKUnEFJ"
      },
      "execution_count": null,
      "outputs": []
    },
    {
      "cell_type": "code",
      "source": [
        "orders_c.isna().sum()"
      ],
      "metadata": {
        "colab": {
          "base_uri": "https://localhost:8080/"
        },
        "outputId": "c3ddaf24-98c5-4c12-c60e-1035f92373a2",
        "id": "oA0Y_VPDnEFJ"
      },
      "execution_count": null,
      "outputs": [
        {
          "output_type": "execute_result",
          "data": {
            "text/plain": [
              "order_id        0\n",
              "created_date    0\n",
              "total_paid      5\n",
              "state           0\n",
              "dtype: int64"
            ]
          },
          "metadata": {},
          "execution_count": 177
        }
      ]
    },
    {
      "cell_type": "code",
      "source": [
        "orders_c.total_paid.dtype"
      ],
      "metadata": {
        "colab": {
          "base_uri": "https://localhost:8080/"
        },
        "outputId": "08b5cd91-9119-4fa2-9634-f163f8daf1b1",
        "id": "DAvqEr78nEFJ"
      },
      "execution_count": null,
      "outputs": [
        {
          "output_type": "execute_result",
          "data": {
            "text/plain": [
              "dtype('float64')"
            ]
          },
          "metadata": {},
          "execution_count": 178
        }
      ]
    },
    {
      "cell_type": "code",
      "source": [
        "orders_c.total_paid=orders_c.total_paid.fillna(0.0)"
      ],
      "metadata": {
        "id": "RQcnUeRTnEFJ"
      },
      "execution_count": null,
      "outputs": []
    },
    {
      "cell_type": "code",
      "source": [
        "orders_c.total_paid.dtype"
      ],
      "metadata": {
        "colab": {
          "base_uri": "https://localhost:8080/"
        },
        "outputId": "7df7c247-d498-4fcb-ae08-efddc334a73b",
        "id": "MVbhrkqPnEFJ"
      },
      "execution_count": null,
      "outputs": [
        {
          "output_type": "execute_result",
          "data": {
            "text/plain": [
              "dtype('float64')"
            ]
          },
          "metadata": {},
          "execution_count": 180
        }
      ]
    },
    {
      "cell_type": "code",
      "source": [
        "orders_c.isna().sum()"
      ],
      "metadata": {
        "colab": {
          "base_uri": "https://localhost:8080/"
        },
        "outputId": "9b7e0172-ef29-44c9-e003-d121d1a86861",
        "id": "UKLIPLw7nEFK"
      },
      "execution_count": null,
      "outputs": [
        {
          "output_type": "execute_result",
          "data": {
            "text/plain": [
              "order_id        0\n",
              "created_date    0\n",
              "total_paid      0\n",
              "state           0\n",
              "dtype: int64"
            ]
          },
          "metadata": {},
          "execution_count": 181
        }
      ]
    },
    {
      "cell_type": "markdown",
      "source": [
        "###Fix DataTypes\n",
        "- df.col.astype(type,errors=\"raise\")\n",
        "  - type = \"int\",\"float\",\"bool\",\"category\",\"object\",\"datetime\",\"timedelta\"\n",
        "- for mixed data\n",
        "  - pd.to_numeric(df.col, downcast=x,errors=\"raise\") \n",
        "  x = \"integer\" or \"float\"\n",
        "  - pd.to_datetime(df.col, downcast=None,errors=\"raise\") \n",
        "  - pd.to_timedelta(df.col, downcast=None,errors=\"raise\") "
      ],
      "metadata": {
        "id": "04bz8cjKnEFK"
      }
    },
    {
      "cell_type": "code",
      "source": [
        "orders_c.info()"
      ],
      "metadata": {
        "colab": {
          "base_uri": "https://localhost:8080/"
        },
        "outputId": "6eb167b8-5828-439f-bce6-279ec0301c82",
        "id": "LnKqIQTMnEFK"
      },
      "execution_count": null,
      "outputs": [
        {
          "output_type": "stream",
          "name": "stdout",
          "text": [
            "<class 'pandas.core.frame.DataFrame'>\n",
            "RangeIndex: 226909 entries, 0 to 226908\n",
            "Data columns (total 4 columns):\n",
            " #   Column        Non-Null Count   Dtype  \n",
            "---  ------        --------------   -----  \n",
            " 0   order_id      226909 non-null  int64  \n",
            " 1   created_date  226909 non-null  object \n",
            " 2   total_paid    226909 non-null  float64\n",
            " 3   state         226909 non-null  object \n",
            "dtypes: float64(1), int64(1), object(2)\n",
            "memory usage: 6.9+ MB\n"
          ]
        }
      ]
    },
    {
      "cell_type": "code",
      "source": [
        "orders_c.created_date=pd.to_datetime(orders_c.created_date,errors=\"raise\")"
      ],
      "metadata": {
        "id": "DYtBeUmZnEFL"
      },
      "execution_count": null,
      "outputs": []
    },
    {
      "cell_type": "code",
      "source": [
        "orders_c.info()"
      ],
      "metadata": {
        "colab": {
          "base_uri": "https://localhost:8080/"
        },
        "outputId": "74add692-079a-486e-bfce-17e44ebf8dcf",
        "id": "af0OZtmInEFM"
      },
      "execution_count": null,
      "outputs": [
        {
          "output_type": "stream",
          "name": "stdout",
          "text": [
            "<class 'pandas.core.frame.DataFrame'>\n",
            "RangeIndex: 226909 entries, 0 to 226908\n",
            "Data columns (total 4 columns):\n",
            " #   Column        Non-Null Count   Dtype         \n",
            "---  ------        --------------   -----         \n",
            " 0   order_id      226909 non-null  int64         \n",
            " 1   created_date  226909 non-null  datetime64[ns]\n",
            " 2   total_paid    226909 non-null  float64       \n",
            " 3   state         226909 non-null  object        \n",
            "dtypes: datetime64[ns](1), float64(1), int64(1), object(1)\n",
            "memory usage: 6.9+ MB\n"
          ]
        }
      ]
    },
    {
      "cell_type": "code",
      "source": [
        "orders_c.state=orders_c.state.astype(\"category\",errors=\"raise\")"
      ],
      "metadata": {
        "id": "I9RoFzwznEFM"
      },
      "execution_count": null,
      "outputs": []
    },
    {
      "cell_type": "code",
      "source": [
        "orders_c.info()"
      ],
      "metadata": {
        "colab": {
          "base_uri": "https://localhost:8080/"
        },
        "outputId": "f56f302b-8a2e-400b-cabb-305d5d72c039",
        "id": "Ey_Ep5iZnEFM"
      },
      "execution_count": null,
      "outputs": [
        {
          "output_type": "stream",
          "name": "stdout",
          "text": [
            "<class 'pandas.core.frame.DataFrame'>\n",
            "RangeIndex: 226909 entries, 0 to 226908\n",
            "Data columns (total 4 columns):\n",
            " #   Column        Non-Null Count   Dtype         \n",
            "---  ------        --------------   -----         \n",
            " 0   order_id      226909 non-null  int64         \n",
            " 1   created_date  226909 non-null  datetime64[ns]\n",
            " 2   total_paid    226909 non-null  float64       \n",
            " 3   state         226909 non-null  category      \n",
            "dtypes: category(1), datetime64[ns](1), float64(1), int64(1)\n",
            "memory usage: 5.4 MB\n"
          ]
        }
      ]
    },
    {
      "cell_type": "markdown",
      "source": [
        "### Drop duplicate/un-necessary Columns\n",
        "- df=df.drop(columns=[\"col1\",\"col2\"])"
      ],
      "metadata": {
        "id": "5l0U9Ew-nEFM"
      }
    },
    {
      "cell_type": "code",
      "source": [
        "orders_c.describe() ## hint: all columns contain needed data. nothing to drop"
      ],
      "metadata": {
        "colab": {
          "base_uri": "https://localhost:8080/",
          "height": 300
        },
        "outputId": "4cf45c33-9327-4489-b86d-9c19b9ae7a2e",
        "id": "flZkQLFanEFM"
      },
      "execution_count": null,
      "outputs": [
        {
          "output_type": "execute_result",
          "data": {
            "text/plain": [
              "            order_id     total_paid\n",
              "count  226909.000000  226909.000000\n",
              "mean   413296.482480     569.213275\n",
              "std     65919.250331    1761.760618\n",
              "min    241319.000000       0.000000\n",
              "25%    356263.000000      34.190000\n",
              "50%    413040.000000     112.990000\n",
              "75%    470553.000000     525.970000\n",
              "max    527401.000000  214747.530000"
            ],
            "text/html": [
              "\n",
              "  <div id=\"df-e4e744ec-0b19-4818-80b3-6b278e83780a\">\n",
              "    <div class=\"colab-df-container\">\n",
              "      <div>\n",
              "<style scoped>\n",
              "    .dataframe tbody tr th:only-of-type {\n",
              "        vertical-align: middle;\n",
              "    }\n",
              "\n",
              "    .dataframe tbody tr th {\n",
              "        vertical-align: top;\n",
              "    }\n",
              "\n",
              "    .dataframe thead th {\n",
              "        text-align: right;\n",
              "    }\n",
              "</style>\n",
              "<table border=\"1\" class=\"dataframe\">\n",
              "  <thead>\n",
              "    <tr style=\"text-align: right;\">\n",
              "      <th></th>\n",
              "      <th>order_id</th>\n",
              "      <th>total_paid</th>\n",
              "    </tr>\n",
              "  </thead>\n",
              "  <tbody>\n",
              "    <tr>\n",
              "      <th>count</th>\n",
              "      <td>226909.000000</td>\n",
              "      <td>226909.000000</td>\n",
              "    </tr>\n",
              "    <tr>\n",
              "      <th>mean</th>\n",
              "      <td>413296.482480</td>\n",
              "      <td>569.213275</td>\n",
              "    </tr>\n",
              "    <tr>\n",
              "      <th>std</th>\n",
              "      <td>65919.250331</td>\n",
              "      <td>1761.760618</td>\n",
              "    </tr>\n",
              "    <tr>\n",
              "      <th>min</th>\n",
              "      <td>241319.000000</td>\n",
              "      <td>0.000000</td>\n",
              "    </tr>\n",
              "    <tr>\n",
              "      <th>25%</th>\n",
              "      <td>356263.000000</td>\n",
              "      <td>34.190000</td>\n",
              "    </tr>\n",
              "    <tr>\n",
              "      <th>50%</th>\n",
              "      <td>413040.000000</td>\n",
              "      <td>112.990000</td>\n",
              "    </tr>\n",
              "    <tr>\n",
              "      <th>75%</th>\n",
              "      <td>470553.000000</td>\n",
              "      <td>525.970000</td>\n",
              "    </tr>\n",
              "    <tr>\n",
              "      <th>max</th>\n",
              "      <td>527401.000000</td>\n",
              "      <td>214747.530000</td>\n",
              "    </tr>\n",
              "  </tbody>\n",
              "</table>\n",
              "</div>\n",
              "      <button class=\"colab-df-convert\" onclick=\"convertToInteractive('df-e4e744ec-0b19-4818-80b3-6b278e83780a')\"\n",
              "              title=\"Convert this dataframe to an interactive table.\"\n",
              "              style=\"display:none;\">\n",
              "        \n",
              "  <svg xmlns=\"http://www.w3.org/2000/svg\" height=\"24px\"viewBox=\"0 0 24 24\"\n",
              "       width=\"24px\">\n",
              "    <path d=\"M0 0h24v24H0V0z\" fill=\"none\"/>\n",
              "    <path d=\"M18.56 5.44l.94 2.06.94-2.06 2.06-.94-2.06-.94-.94-2.06-.94 2.06-2.06.94zm-11 1L8.5 8.5l.94-2.06 2.06-.94-2.06-.94L8.5 2.5l-.94 2.06-2.06.94zm10 10l.94 2.06.94-2.06 2.06-.94-2.06-.94-.94-2.06-.94 2.06-2.06.94z\"/><path d=\"M17.41 7.96l-1.37-1.37c-.4-.4-.92-.59-1.43-.59-.52 0-1.04.2-1.43.59L10.3 9.45l-7.72 7.72c-.78.78-.78 2.05 0 2.83L4 21.41c.39.39.9.59 1.41.59.51 0 1.02-.2 1.41-.59l7.78-7.78 2.81-2.81c.8-.78.8-2.07 0-2.86zM5.41 20L4 18.59l7.72-7.72 1.47 1.35L5.41 20z\"/>\n",
              "  </svg>\n",
              "      </button>\n",
              "      \n",
              "  <style>\n",
              "    .colab-df-container {\n",
              "      display:flex;\n",
              "      flex-wrap:wrap;\n",
              "      gap: 12px;\n",
              "    }\n",
              "\n",
              "    .colab-df-convert {\n",
              "      background-color: #E8F0FE;\n",
              "      border: none;\n",
              "      border-radius: 50%;\n",
              "      cursor: pointer;\n",
              "      display: none;\n",
              "      fill: #1967D2;\n",
              "      height: 32px;\n",
              "      padding: 0 0 0 0;\n",
              "      width: 32px;\n",
              "    }\n",
              "\n",
              "    .colab-df-convert:hover {\n",
              "      background-color: #E2EBFA;\n",
              "      box-shadow: 0px 1px 2px rgba(60, 64, 67, 0.3), 0px 1px 3px 1px rgba(60, 64, 67, 0.15);\n",
              "      fill: #174EA6;\n",
              "    }\n",
              "\n",
              "    [theme=dark] .colab-df-convert {\n",
              "      background-color: #3B4455;\n",
              "      fill: #D2E3FC;\n",
              "    }\n",
              "\n",
              "    [theme=dark] .colab-df-convert:hover {\n",
              "      background-color: #434B5C;\n",
              "      box-shadow: 0px 1px 3px 1px rgba(0, 0, 0, 0.15);\n",
              "      filter: drop-shadow(0px 1px 2px rgba(0, 0, 0, 0.3));\n",
              "      fill: #FFFFFF;\n",
              "    }\n",
              "  </style>\n",
              "\n",
              "      <script>\n",
              "        const buttonEl =\n",
              "          document.querySelector('#df-e4e744ec-0b19-4818-80b3-6b278e83780a button.colab-df-convert');\n",
              "        buttonEl.style.display =\n",
              "          google.colab.kernel.accessAllowed ? 'block' : 'none';\n",
              "\n",
              "        async function convertToInteractive(key) {\n",
              "          const element = document.querySelector('#df-e4e744ec-0b19-4818-80b3-6b278e83780a');\n",
              "          const dataTable =\n",
              "            await google.colab.kernel.invokeFunction('convertToInteractive',\n",
              "                                                     [key], {});\n",
              "          if (!dataTable) return;\n",
              "\n",
              "          const docLinkHtml = 'Like what you see? Visit the ' +\n",
              "            '<a target=\"_blank\" href=https://colab.research.google.com/notebooks/data_table.ipynb>data table notebook</a>'\n",
              "            + ' to learn more about interactive tables.';\n",
              "          element.innerHTML = '';\n",
              "          dataTable['output_type'] = 'display_data';\n",
              "          await google.colab.output.renderOutput(dataTable, element);\n",
              "          const docLink = document.createElement('div');\n",
              "          docLink.innerHTML = docLinkHtml;\n",
              "          element.appendChild(docLink);\n",
              "        }\n",
              "      </script>\n",
              "    </div>\n",
              "  </div>\n",
              "  "
            ]
          },
          "metadata": {},
          "execution_count": 187
        }
      ]
    },
    {
      "cell_type": "code",
      "source": [],
      "metadata": {
        "id": "daXI2G6fnEFN"
      },
      "execution_count": null,
      "outputs": []
    },
    {
      "cell_type": "markdown",
      "source": [
        "## Re-Explore the data\n",
        "drow some hist() , boxplot() per column\n",
        "take notes"
      ],
      "metadata": {
        "id": "uaSmyQ4bnEFN"
      }
    },
    {
      "cell_type": "code",
      "source": [
        "orders_c.sample(10)  # Question: how state=\"Shopping Basket\" while \"Total_paid\" has a value!! "
      ],
      "metadata": {
        "colab": {
          "base_uri": "https://localhost:8080/",
          "height": 363
        },
        "outputId": "cdbeab0d-f6b0-4bb6-b913-a1ac8c5ab50c",
        "id": "eQtrH6R3nEFN"
      },
      "execution_count": null,
      "outputs": [
        {
          "output_type": "execute_result",
          "data": {
            "text/plain": [
              "        order_id        created_date  total_paid            state\n",
              "153054    453267 2017-12-01 15:52:25        0.00      Place Order\n",
              "207636    508127 2018-02-08 13:13:21     2511.59        Cancelled\n",
              "22219     321699 2017-02-09 10:41:43       80.99  Shopping Basket\n",
              "158350    458574 2017-12-09 21:38:25     2559.57  Shopping Basket\n",
              "107130    406715 2017-09-30 17:03:58       57.79  Shopping Basket\n",
              "56577     356113 2017-05-15 22:45:24       57.98      Place Order\n",
              "74786     374332 2017-07-07 18:33:43       99.98        Completed\n",
              "173457    473832 2017-12-27 19:26:21      270.04        Completed\n",
              "190772    491252 2018-01-15 16:10:44      506.97        Completed\n",
              "137866    437654 2017-11-24 09:33:37       83.19        Completed"
            ],
            "text/html": [
              "\n",
              "  <div id=\"df-3e74b7bb-b76e-4da5-ae19-8f53fec597d5\">\n",
              "    <div class=\"colab-df-container\">\n",
              "      <div>\n",
              "<style scoped>\n",
              "    .dataframe tbody tr th:only-of-type {\n",
              "        vertical-align: middle;\n",
              "    }\n",
              "\n",
              "    .dataframe tbody tr th {\n",
              "        vertical-align: top;\n",
              "    }\n",
              "\n",
              "    .dataframe thead th {\n",
              "        text-align: right;\n",
              "    }\n",
              "</style>\n",
              "<table border=\"1\" class=\"dataframe\">\n",
              "  <thead>\n",
              "    <tr style=\"text-align: right;\">\n",
              "      <th></th>\n",
              "      <th>order_id</th>\n",
              "      <th>created_date</th>\n",
              "      <th>total_paid</th>\n",
              "      <th>state</th>\n",
              "    </tr>\n",
              "  </thead>\n",
              "  <tbody>\n",
              "    <tr>\n",
              "      <th>153054</th>\n",
              "      <td>453267</td>\n",
              "      <td>2017-12-01 15:52:25</td>\n",
              "      <td>0.00</td>\n",
              "      <td>Place Order</td>\n",
              "    </tr>\n",
              "    <tr>\n",
              "      <th>207636</th>\n",
              "      <td>508127</td>\n",
              "      <td>2018-02-08 13:13:21</td>\n",
              "      <td>2511.59</td>\n",
              "      <td>Cancelled</td>\n",
              "    </tr>\n",
              "    <tr>\n",
              "      <th>22219</th>\n",
              "      <td>321699</td>\n",
              "      <td>2017-02-09 10:41:43</td>\n",
              "      <td>80.99</td>\n",
              "      <td>Shopping Basket</td>\n",
              "    </tr>\n",
              "    <tr>\n",
              "      <th>158350</th>\n",
              "      <td>458574</td>\n",
              "      <td>2017-12-09 21:38:25</td>\n",
              "      <td>2559.57</td>\n",
              "      <td>Shopping Basket</td>\n",
              "    </tr>\n",
              "    <tr>\n",
              "      <th>107130</th>\n",
              "      <td>406715</td>\n",
              "      <td>2017-09-30 17:03:58</td>\n",
              "      <td>57.79</td>\n",
              "      <td>Shopping Basket</td>\n",
              "    </tr>\n",
              "    <tr>\n",
              "      <th>56577</th>\n",
              "      <td>356113</td>\n",
              "      <td>2017-05-15 22:45:24</td>\n",
              "      <td>57.98</td>\n",
              "      <td>Place Order</td>\n",
              "    </tr>\n",
              "    <tr>\n",
              "      <th>74786</th>\n",
              "      <td>374332</td>\n",
              "      <td>2017-07-07 18:33:43</td>\n",
              "      <td>99.98</td>\n",
              "      <td>Completed</td>\n",
              "    </tr>\n",
              "    <tr>\n",
              "      <th>173457</th>\n",
              "      <td>473832</td>\n",
              "      <td>2017-12-27 19:26:21</td>\n",
              "      <td>270.04</td>\n",
              "      <td>Completed</td>\n",
              "    </tr>\n",
              "    <tr>\n",
              "      <th>190772</th>\n",
              "      <td>491252</td>\n",
              "      <td>2018-01-15 16:10:44</td>\n",
              "      <td>506.97</td>\n",
              "      <td>Completed</td>\n",
              "    </tr>\n",
              "    <tr>\n",
              "      <th>137866</th>\n",
              "      <td>437654</td>\n",
              "      <td>2017-11-24 09:33:37</td>\n",
              "      <td>83.19</td>\n",
              "      <td>Completed</td>\n",
              "    </tr>\n",
              "  </tbody>\n",
              "</table>\n",
              "</div>\n",
              "      <button class=\"colab-df-convert\" onclick=\"convertToInteractive('df-3e74b7bb-b76e-4da5-ae19-8f53fec597d5')\"\n",
              "              title=\"Convert this dataframe to an interactive table.\"\n",
              "              style=\"display:none;\">\n",
              "        \n",
              "  <svg xmlns=\"http://www.w3.org/2000/svg\" height=\"24px\"viewBox=\"0 0 24 24\"\n",
              "       width=\"24px\">\n",
              "    <path d=\"M0 0h24v24H0V0z\" fill=\"none\"/>\n",
              "    <path d=\"M18.56 5.44l.94 2.06.94-2.06 2.06-.94-2.06-.94-.94-2.06-.94 2.06-2.06.94zm-11 1L8.5 8.5l.94-2.06 2.06-.94-2.06-.94L8.5 2.5l-.94 2.06-2.06.94zm10 10l.94 2.06.94-2.06 2.06-.94-2.06-.94-.94-2.06-.94 2.06-2.06.94z\"/><path d=\"M17.41 7.96l-1.37-1.37c-.4-.4-.92-.59-1.43-.59-.52 0-1.04.2-1.43.59L10.3 9.45l-7.72 7.72c-.78.78-.78 2.05 0 2.83L4 21.41c.39.39.9.59 1.41.59.51 0 1.02-.2 1.41-.59l7.78-7.78 2.81-2.81c.8-.78.8-2.07 0-2.86zM5.41 20L4 18.59l7.72-7.72 1.47 1.35L5.41 20z\"/>\n",
              "  </svg>\n",
              "      </button>\n",
              "      \n",
              "  <style>\n",
              "    .colab-df-container {\n",
              "      display:flex;\n",
              "      flex-wrap:wrap;\n",
              "      gap: 12px;\n",
              "    }\n",
              "\n",
              "    .colab-df-convert {\n",
              "      background-color: #E8F0FE;\n",
              "      border: none;\n",
              "      border-radius: 50%;\n",
              "      cursor: pointer;\n",
              "      display: none;\n",
              "      fill: #1967D2;\n",
              "      height: 32px;\n",
              "      padding: 0 0 0 0;\n",
              "      width: 32px;\n",
              "    }\n",
              "\n",
              "    .colab-df-convert:hover {\n",
              "      background-color: #E2EBFA;\n",
              "      box-shadow: 0px 1px 2px rgba(60, 64, 67, 0.3), 0px 1px 3px 1px rgba(60, 64, 67, 0.15);\n",
              "      fill: #174EA6;\n",
              "    }\n",
              "\n",
              "    [theme=dark] .colab-df-convert {\n",
              "      background-color: #3B4455;\n",
              "      fill: #D2E3FC;\n",
              "    }\n",
              "\n",
              "    [theme=dark] .colab-df-convert:hover {\n",
              "      background-color: #434B5C;\n",
              "      box-shadow: 0px 1px 3px 1px rgba(0, 0, 0, 0.15);\n",
              "      filter: drop-shadow(0px 1px 2px rgba(0, 0, 0, 0.3));\n",
              "      fill: #FFFFFF;\n",
              "    }\n",
              "  </style>\n",
              "\n",
              "      <script>\n",
              "        const buttonEl =\n",
              "          document.querySelector('#df-3e74b7bb-b76e-4da5-ae19-8f53fec597d5 button.colab-df-convert');\n",
              "        buttonEl.style.display =\n",
              "          google.colab.kernel.accessAllowed ? 'block' : 'none';\n",
              "\n",
              "        async function convertToInteractive(key) {\n",
              "          const element = document.querySelector('#df-3e74b7bb-b76e-4da5-ae19-8f53fec597d5');\n",
              "          const dataTable =\n",
              "            await google.colab.kernel.invokeFunction('convertToInteractive',\n",
              "                                                     [key], {});\n",
              "          if (!dataTable) return;\n",
              "\n",
              "          const docLinkHtml = 'Like what you see? Visit the ' +\n",
              "            '<a target=\"_blank\" href=https://colab.research.google.com/notebooks/data_table.ipynb>data table notebook</a>'\n",
              "            + ' to learn more about interactive tables.';\n",
              "          element.innerHTML = '';\n",
              "          dataTable['output_type'] = 'display_data';\n",
              "          await google.colab.output.renderOutput(dataTable, element);\n",
              "          const docLink = document.createElement('div');\n",
              "          docLink.innerHTML = docLinkHtml;\n",
              "          element.appendChild(docLink);\n",
              "        }\n",
              "      </script>\n",
              "    </div>\n",
              "  </div>\n",
              "  "
            ]
          },
          "metadata": {},
          "execution_count": 159
        }
      ]
    },
    {
      "cell_type": "code",
      "source": [
        "orders_c.loc[orders_c.total_paid == 0.0].state.unique()"
      ],
      "metadata": {
        "colab": {
          "base_uri": "https://localhost:8080/"
        },
        "outputId": "98fd208a-69fd-4604-d35d-988b71104c94",
        "id": "TMblzswlnEFN"
      },
      "execution_count": null,
      "outputs": [
        {
          "output_type": "execute_result",
          "data": {
            "text/plain": [
              "['Completed', 'Shopping Basket', 'Place Order', 'Pending', 'Cancelled']\n",
              "Categories (5, object): ['Cancelled', 'Completed', 'Pending', 'Place Order', 'Shopping Basket']"
            ]
          },
          "metadata": {},
          "execution_count": 196
        }
      ]
    }
  ]
}