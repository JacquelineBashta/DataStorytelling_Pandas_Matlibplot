{
  "cells": [
    {
      "cell_type": "markdown",
      "metadata": {
        "id": "jgqLMFFInEFC"
      },
      "source": [
        "# CleaningUp orderlines.csv (ol_)\n",
        "orderlines.csv – Every row represents each one of the different products involved in an order.\n",
        "- id – a unique identifier for each row in this file\n",
        "- id_order – corresponds to orders.order_id\n",
        "- product_id – an old identifier for each product, nowadays not in use\n",
        "- product_quantity – how many units of that product were purchased on that order\n",
        "- sku – stock keeping unit: a unique identifier for each product\n",
        "- unit_price – the unitary price (in euros) of each product at the moment of placing that order\n",
        "- date – timestamp for the processing of that product"
      ]
    },
    {
      "cell_type": "markdown",
      "metadata": {
        "id": "mo3w8u4OnEFD"
      },
      "source": [
        "## Importing the data\n",
        "- ``` glob-glob(\"file_pat\") ``` --> read multi files \n",
        "- ``` pd.concat(dfs_list, ignore_index=True)```  --> create 1 df from multi dfs\n",
        "- ``` pd.read_csv(path)```  --> create 1 df from a csv file"
      ]
    },
    {
      "cell_type": "code",
      "execution_count": 477,
      "metadata": {
        "id": "cI0W2L18nEFD"
      },
      "outputs": [],
      "source": [
        "import pandas as pd\n",
        "\n",
        "url = \"https://drive.google.com/file/d/1FYhN_2AzTBFuWcfHaRuKcuCE6CWXsWtG/view?usp=sharing\" \n",
        "path = \"https://drive.google.com/uc?export=download&id=\"+url.split(\"/\")[-2]\n",
        "ol = pd.read_csv(path)\n",
        "\n"
      ]
    },
    {
      "cell_type": "code",
      "execution_count": 478,
      "metadata": {
        "colab": {
          "base_uri": "https://localhost:8080/"
        },
        "id": "OH3Hy6AMnEFD",
        "outputId": "3002ac6e-013c-4334-db4c-382c2584f60e"
      },
      "outputs": [
        {
          "data": {
            "text/plain": [
              "0"
            ]
          },
          "execution_count": 478,
          "metadata": {},
          "output_type": "execute_result"
        }
      ],
      "source": [
        "pd.set_option(\"display.min_rows\", 0) \n",
        "pd.set_option(\"display.max_rows\", 200) \n"
      ]
    },
    {
      "cell_type": "markdown",
      "metadata": {
        "id": "H_6VgqtSnEFD"
      },
      "source": [
        "## Explore the data\n",
        "- ``` df.shape``` , ``` df.size``` , ``` df.ndim``` \n",
        "- ``` df.sample(5)``` , ``` df.info()``` \n",
        "- Numerical : ``` df.describe()``` , ``` df.nlargest()``` , ``` df.nsmallest()``` \n",
        "- Category : ``` df.nunique()``` , ``` df.unique() ``` "
      ]
    },
    {
      "cell_type": "code",
      "execution_count": 508,
      "metadata": {
        "colab": {
          "base_uri": "https://localhost:8080/"
        },
        "id": "FA_Kn2opnEFE",
        "outputId": "8b3444ba-4006-4645-907b-ddf619d21b91"
      },
      "outputs": [
        {
          "data": {
            "text/plain": [
              "(293983, 7)"
            ]
          },
          "execution_count": 508,
          "metadata": {},
          "output_type": "execute_result"
        }
      ],
      "source": [
        "ol.shape"
      ]
    },
    {
      "cell_type": "code",
      "execution_count": 518,
      "metadata": {
        "colab": {
          "base_uri": "https://localhost:8080/",
          "height": 206
        },
        "id": "DdJ36FwTnEFE",
        "outputId": "2b93902a-30a1-4e57-cb5b-63d6aca66c57"
      },
      "outputs": [
        {
          "data": {
            "text/html": [
              "<div>\n",
              "<style scoped>\n",
              "    .dataframe tbody tr th:only-of-type {\n",
              "        vertical-align: middle;\n",
              "    }\n",
              "\n",
              "    .dataframe tbody tr th {\n",
              "        vertical-align: top;\n",
              "    }\n",
              "\n",
              "    .dataframe thead th {\n",
              "        text-align: right;\n",
              "    }\n",
              "</style>\n",
              "<table border=\"1\" class=\"dataframe\">\n",
              "  <thead>\n",
              "    <tr style=\"text-align: right;\">\n",
              "      <th></th>\n",
              "      <th>id</th>\n",
              "      <th>id_order</th>\n",
              "      <th>product_id</th>\n",
              "      <th>product_quantity</th>\n",
              "      <th>sku</th>\n",
              "      <th>unit_price</th>\n",
              "      <th>date</th>\n",
              "    </tr>\n",
              "  </thead>\n",
              "  <tbody>\n",
              "    <tr>\n",
              "      <th>173374</th>\n",
              "      <td>1456504</td>\n",
              "      <td>447574</td>\n",
              "      <td>0</td>\n",
              "      <td>2</td>\n",
              "      <td>CRU0053</td>\n",
              "      <td>229.90</td>\n",
              "      <td>2017-11-27 11:09:12</td>\n",
              "    </tr>\n",
              "    <tr>\n",
              "      <th>24169</th>\n",
              "      <td>1173183</td>\n",
              "      <td>318773</td>\n",
              "      <td>0</td>\n",
              "      <td>1</td>\n",
              "      <td>ADN0022</td>\n",
              "      <td>49.99</td>\n",
              "      <td>2017-02-07 10:08:27</td>\n",
              "    </tr>\n",
              "    <tr>\n",
              "      <th>237022</th>\n",
              "      <td>1559183</td>\n",
              "      <td>490305</td>\n",
              "      <td>0</td>\n",
              "      <td>1</td>\n",
              "      <td>APP1199</td>\n",
              "      <td>1.859.00</td>\n",
              "      <td>2018-01-13 22:15:02</td>\n",
              "    </tr>\n",
              "    <tr>\n",
              "      <th>267622</th>\n",
              "      <td>1607715</td>\n",
              "      <td>508873</td>\n",
              "      <td>0</td>\n",
              "      <td>1</td>\n",
              "      <td>PAC2127</td>\n",
              "      <td>4.035.54</td>\n",
              "      <td>2018-02-09 15:39:40</td>\n",
              "    </tr>\n",
              "    <tr>\n",
              "      <th>203980</th>\n",
              "      <td>1499503</td>\n",
              "      <td>464279</td>\n",
              "      <td>0</td>\n",
              "      <td>1</td>\n",
              "      <td>APP2479</td>\n",
              "      <td>793.00</td>\n",
              "      <td>2017-12-16 11:43:59</td>\n",
              "    </tr>\n",
              "    <tr>\n",
              "      <th>290647</th>\n",
              "      <td>1644892</td>\n",
              "      <td>524978</td>\n",
              "      <td>0</td>\n",
              "      <td>1</td>\n",
              "      <td>WAC0254</td>\n",
              "      <td>83.99</td>\n",
              "      <td>2018-03-10 19:13:02</td>\n",
              "    </tr>\n",
              "    <tr>\n",
              "      <th>203366</th>\n",
              "      <td>1498340</td>\n",
              "      <td>463738</td>\n",
              "      <td>0</td>\n",
              "      <td>1</td>\n",
              "      <td>DLL0031</td>\n",
              "      <td>599.99</td>\n",
              "      <td>2017-12-15 13:17:49</td>\n",
              "    </tr>\n",
              "    <tr>\n",
              "      <th>285567</th>\n",
              "      <td>1637749</td>\n",
              "      <td>522141</td>\n",
              "      <td>0</td>\n",
              "      <td>2</td>\n",
              "      <td>APP2073</td>\n",
              "      <td>1.199.00</td>\n",
              "      <td>2018-03-06 11:57:21</td>\n",
              "    </tr>\n",
              "    <tr>\n",
              "      <th>34071</th>\n",
              "      <td>1191933</td>\n",
              "      <td>329309</td>\n",
              "      <td>0</td>\n",
              "      <td>1</td>\n",
              "      <td>APP1735</td>\n",
              "      <td>469.00</td>\n",
              "      <td>2017-02-26 22:27:56</td>\n",
              "    </tr>\n",
              "    <tr>\n",
              "      <th>182902</th>\n",
              "      <td>1470211</td>\n",
              "      <td>452766</td>\n",
              "      <td>0</td>\n",
              "      <td>1</td>\n",
              "      <td>ZAG0024</td>\n",
              "      <td>34.99</td>\n",
              "      <td>2017-11-30 17:47:31</td>\n",
              "    </tr>\n",
              "    <tr>\n",
              "      <th>115992</th>\n",
              "      <td>1351046</td>\n",
              "      <td>399337</td>\n",
              "      <td>0</td>\n",
              "      <td>1</td>\n",
              "      <td>JMO0056</td>\n",
              "      <td>44.99</td>\n",
              "      <td>2017-09-12 21:53:23</td>\n",
              "    </tr>\n",
              "    <tr>\n",
              "      <th>160100</th>\n",
              "      <td>1434045</td>\n",
              "      <td>437684</td>\n",
              "      <td>0</td>\n",
              "      <td>1</td>\n",
              "      <td>CRU0026-2</td>\n",
              "      <td>138.54</td>\n",
              "      <td>2017-11-24 09:31:20</td>\n",
              "    </tr>\n",
              "    <tr>\n",
              "      <th>103710</th>\n",
              "      <td>1316615</td>\n",
              "      <td>388790</td>\n",
              "      <td>0</td>\n",
              "      <td>1</td>\n",
              "      <td>EVU0007</td>\n",
              "      <td>29.99</td>\n",
              "      <td>2017-08-11 18:20:50</td>\n",
              "    </tr>\n",
              "    <tr>\n",
              "      <th>291816</th>\n",
              "      <td>1646336</td>\n",
              "      <td>525553</td>\n",
              "      <td>0</td>\n",
              "      <td>1</td>\n",
              "      <td>APP1779-A</td>\n",
              "      <td>253.90</td>\n",
              "      <td>2018-03-11 19:26:48</td>\n",
              "    </tr>\n",
              "    <tr>\n",
              "      <th>102381</th>\n",
              "      <td>1314307</td>\n",
              "      <td>387648</td>\n",
              "      <td>0</td>\n",
              "      <td>1</td>\n",
              "      <td>APP2073</td>\n",
              "      <td>1.288.59</td>\n",
              "      <td>2017-08-08 20:08:29</td>\n",
              "    </tr>\n",
              "    <tr>\n",
              "      <th>79818</th>\n",
              "      <td>1273537</td>\n",
              "      <td>368268</td>\n",
              "      <td>0</td>\n",
              "      <td>1</td>\n",
              "      <td>APP1644</td>\n",
              "      <td>769.00</td>\n",
              "      <td>2017-06-22 22:47:35</td>\n",
              "    </tr>\n",
              "    <tr>\n",
              "      <th>138249</th>\n",
              "      <td>1391075</td>\n",
              "      <td>418806</td>\n",
              "      <td>0</td>\n",
              "      <td>1</td>\n",
              "      <td>LAC0146</td>\n",
              "      <td>171.79</td>\n",
              "      <td>2017-10-28 11:49:23</td>\n",
              "    </tr>\n",
              "    <tr>\n",
              "      <th>133729</th>\n",
              "      <td>1383067</td>\n",
              "      <td>414990</td>\n",
              "      <td>0</td>\n",
              "      <td>2</td>\n",
              "      <td>OWC0037-2</td>\n",
              "      <td>158.99</td>\n",
              "      <td>2017-10-20 11:10:40</td>\n",
              "    </tr>\n",
              "    <tr>\n",
              "      <th>221308</th>\n",
              "      <td>1532975</td>\n",
              "      <td>479839</td>\n",
              "      <td>0</td>\n",
              "      <td>1</td>\n",
              "      <td>DLK0009</td>\n",
              "      <td>86.99</td>\n",
              "      <td>2018-01-02 16:04:27</td>\n",
              "    </tr>\n",
              "    <tr>\n",
              "      <th>61127</th>\n",
              "      <td>1240665</td>\n",
              "      <td>352242</td>\n",
              "      <td>0</td>\n",
              "      <td>2</td>\n",
              "      <td>APP0703</td>\n",
              "      <td>69.99</td>\n",
              "      <td>2017-05-03 13:07:05</td>\n",
              "    </tr>\n",
              "  </tbody>\n",
              "</table>\n",
              "</div>"
            ],
            "text/plain": [
              "             id  id_order  product_id  product_quantity        sku unit_price  \\\n",
              "173374  1456504    447574           0                 2    CRU0053     229.90   \n",
              "24169   1173183    318773           0                 1    ADN0022      49.99   \n",
              "237022  1559183    490305           0                 1    APP1199   1.859.00   \n",
              "267622  1607715    508873           0                 1    PAC2127   4.035.54   \n",
              "203980  1499503    464279           0                 1    APP2479     793.00   \n",
              "290647  1644892    524978           0                 1    WAC0254      83.99   \n",
              "203366  1498340    463738           0                 1    DLL0031     599.99   \n",
              "285567  1637749    522141           0                 2    APP2073   1.199.00   \n",
              "34071   1191933    329309           0                 1    APP1735     469.00   \n",
              "182902  1470211    452766           0                 1    ZAG0024      34.99   \n",
              "115992  1351046    399337           0                 1    JMO0056      44.99   \n",
              "160100  1434045    437684           0                 1  CRU0026-2     138.54   \n",
              "103710  1316615    388790           0                 1    EVU0007      29.99   \n",
              "291816  1646336    525553           0                 1  APP1779-A     253.90   \n",
              "102381  1314307    387648           0                 1    APP2073   1.288.59   \n",
              "79818   1273537    368268           0                 1    APP1644     769.00   \n",
              "138249  1391075    418806           0                 1    LAC0146     171.79   \n",
              "133729  1383067    414990           0                 2  OWC0037-2     158.99   \n",
              "221308  1532975    479839           0                 1    DLK0009      86.99   \n",
              "61127   1240665    352242           0                 2    APP0703      69.99   \n",
              "\n",
              "                       date  \n",
              "173374  2017-11-27 11:09:12  \n",
              "24169   2017-02-07 10:08:27  \n",
              "237022  2018-01-13 22:15:02  \n",
              "267622  2018-02-09 15:39:40  \n",
              "203980  2017-12-16 11:43:59  \n",
              "290647  2018-03-10 19:13:02  \n",
              "203366  2017-12-15 13:17:49  \n",
              "285567  2018-03-06 11:57:21  \n",
              "34071   2017-02-26 22:27:56  \n",
              "182902  2017-11-30 17:47:31  \n",
              "115992  2017-09-12 21:53:23  \n",
              "160100  2017-11-24 09:31:20  \n",
              "103710  2017-08-11 18:20:50  \n",
              "291816  2018-03-11 19:26:48  \n",
              "102381  2017-08-08 20:08:29  \n",
              "79818   2017-06-22 22:47:35  \n",
              "138249  2017-10-28 11:49:23  \n",
              "133729  2017-10-20 11:10:40  \n",
              "221308  2018-01-02 16:04:27  \n",
              "61127   2017-05-03 13:07:05  "
            ]
          },
          "execution_count": 518,
          "metadata": {},
          "output_type": "execute_result"
        }
      ],
      "source": [
        "ol.sample(20)\n",
        "## unit_price has numbers like 3.121.59 TODO: fix it to proper float"
      ]
    },
    {
      "cell_type": "code",
      "execution_count": 519,
      "metadata": {
        "colab": {
          "base_uri": "https://localhost:8080/"
        },
        "id": "56OTkBi3nEFF",
        "outputId": "9b946aac-a568-4f89-8c78-e396e372520b"
      },
      "outputs": [
        {
          "name": "stdout",
          "output_type": "stream",
          "text": [
            "<class 'pandas.core.frame.DataFrame'>\n",
            "RangeIndex: 293983 entries, 0 to 293982\n",
            "Data columns (total 7 columns):\n",
            " #   Column            Non-Null Count   Dtype \n",
            "---  ------            --------------   ----- \n",
            " 0   id                293983 non-null  int64 \n",
            " 1   id_order          293983 non-null  int64 \n",
            " 2   product_id        293983 non-null  int64 \n",
            " 3   product_quantity  293983 non-null  int64 \n",
            " 4   sku               293983 non-null  object\n",
            " 5   unit_price        293983 non-null  object\n",
            " 6   date              293983 non-null  object\n",
            "dtypes: int64(4), object(3)\n",
            "memory usage: 15.7+ MB\n"
          ]
        }
      ],
      "source": [
        "ol.info()  \n",
        "## hint: there are no nulls \n",
        "## hint: date  is of type object, has to be datetime - TODO: fix required\n",
        "## hint: unit_price is of type object, has to be float - TODO: fix required"
      ]
    },
    {
      "cell_type": "code",
      "execution_count": 520,
      "metadata": {
        "colab": {
          "base_uri": "https://localhost:8080/",
          "height": 300
        },
        "id": "j0vx5ysTnEFF",
        "outputId": "8286c862-4634-4e57-b89f-94b16aff99e3"
      },
      "outputs": [
        {
          "data": {
            "text/html": [
              "<div>\n",
              "<style scoped>\n",
              "    .dataframe tbody tr th:only-of-type {\n",
              "        vertical-align: middle;\n",
              "    }\n",
              "\n",
              "    .dataframe tbody tr th {\n",
              "        vertical-align: top;\n",
              "    }\n",
              "\n",
              "    .dataframe thead th {\n",
              "        text-align: right;\n",
              "    }\n",
              "</style>\n",
              "<table border=\"1\" class=\"dataframe\">\n",
              "  <thead>\n",
              "    <tr style=\"text-align: right;\">\n",
              "      <th></th>\n",
              "      <th>id</th>\n",
              "      <th>id_order</th>\n",
              "      <th>product_id</th>\n",
              "      <th>product_quantity</th>\n",
              "    </tr>\n",
              "  </thead>\n",
              "  <tbody>\n",
              "    <tr>\n",
              "      <th>count</th>\n",
              "      <td>2.939830e+05</td>\n",
              "      <td>293983.000000</td>\n",
              "      <td>293983.0</td>\n",
              "      <td>293983.000000</td>\n",
              "    </tr>\n",
              "    <tr>\n",
              "      <th>mean</th>\n",
              "      <td>1.397918e+06</td>\n",
              "      <td>419999.116544</td>\n",
              "      <td>0.0</td>\n",
              "      <td>1.121126</td>\n",
              "    </tr>\n",
              "    <tr>\n",
              "      <th>std</th>\n",
              "      <td>1.530096e+05</td>\n",
              "      <td>66344.486479</td>\n",
              "      <td>0.0</td>\n",
              "      <td>3.396569</td>\n",
              "    </tr>\n",
              "    <tr>\n",
              "      <th>min</th>\n",
              "      <td>1.119109e+06</td>\n",
              "      <td>241319.000000</td>\n",
              "      <td>0.0</td>\n",
              "      <td>1.000000</td>\n",
              "    </tr>\n",
              "    <tr>\n",
              "      <th>25%</th>\n",
              "      <td>1.262542e+06</td>\n",
              "      <td>362258.500000</td>\n",
              "      <td>0.0</td>\n",
              "      <td>1.000000</td>\n",
              "    </tr>\n",
              "    <tr>\n",
              "      <th>50%</th>\n",
              "      <td>1.406940e+06</td>\n",
              "      <td>425956.000000</td>\n",
              "      <td>0.0</td>\n",
              "      <td>1.000000</td>\n",
              "    </tr>\n",
              "    <tr>\n",
              "      <th>75%</th>\n",
              "      <td>1.531322e+06</td>\n",
              "      <td>478657.000000</td>\n",
              "      <td>0.0</td>\n",
              "      <td>1.000000</td>\n",
              "    </tr>\n",
              "    <tr>\n",
              "      <th>max</th>\n",
              "      <td>1.650203e+06</td>\n",
              "      <td>527401.000000</td>\n",
              "      <td>0.0</td>\n",
              "      <td>999.000000</td>\n",
              "    </tr>\n",
              "  </tbody>\n",
              "</table>\n",
              "</div>"
            ],
            "text/plain": [
              "                 id       id_order  product_id  product_quantity\n",
              "count  2.939830e+05  293983.000000    293983.0     293983.000000\n",
              "mean   1.397918e+06  419999.116544         0.0          1.121126\n",
              "std    1.530096e+05   66344.486479         0.0          3.396569\n",
              "min    1.119109e+06  241319.000000         0.0          1.000000\n",
              "25%    1.262542e+06  362258.500000         0.0          1.000000\n",
              "50%    1.406940e+06  425956.000000         0.0          1.000000\n",
              "75%    1.531322e+06  478657.000000         0.0          1.000000\n",
              "max    1.650203e+06  527401.000000         0.0        999.000000"
            ]
          },
          "execution_count": 520,
          "metadata": {},
          "output_type": "execute_result"
        }
      ],
      "source": [
        "ol.describe()\n",
        "# hint: product_id seems like empty and shall be removed - TODO: Fix required\n",
        "# hint: product_quantity 3rd quartile = min = 1, max=999! \n",
        "    # probably we shall handle orders with different quantities differently - TODO:fix required"
      ]
    },
    {
      "cell_type": "code",
      "execution_count": 521,
      "metadata": {
        "colab": {
          "base_uri": "https://localhost:8080/"
        },
        "id": "LWsD94v7nEFF",
        "outputId": "40dfb857-891f-4ed5-93e3-5c34d1cf3835"
      },
      "outputs": [
        {
          "data": {
            "text/plain": [
              "id                  293983\n",
              "id_order            204855\n",
              "product_id               1\n",
              "product_quantity        67\n",
              "sku                   7951\n",
              "unit_price           11329\n",
              "date                251631\n",
              "dtype: int64"
            ]
          },
          "execution_count": 521,
          "metadata": {},
          "output_type": "execute_result"
        }
      ],
      "source": [
        "ol.nunique() # hint: id is unique per row \n",
        "# hint: product_id is useless, shall be removed - TODO: fix required"
      ]
    },
    {
      "cell_type": "code",
      "execution_count": 522,
      "metadata": {
        "colab": {
          "base_uri": "https://localhost:8080/"
        },
        "id": "-L31okREnEFF",
        "outputId": "4c725a56-b588-4df7-e5f9-b236d03e2636"
      },
      "outputs": [
        {
          "data": {
            "text/plain": [
              "array([0], dtype=int64)"
            ]
          },
          "execution_count": 522,
          "metadata": {},
          "output_type": "execute_result"
        }
      ],
      "source": [
        "ol.product_id.unique()\n",
        "#hint: useless data\n"
      ]
    },
    {
      "cell_type": "code",
      "execution_count": 523,
      "metadata": {
        "colab": {
          "base_uri": "https://localhost:8080/"
        },
        "id": "G_huaPhRDqxj",
        "outputId": "be891056-c7c3-49bf-82b9-45df953851a9"
      },
      "outputs": [
        {
          "data": {
            "text/plain": [
              "225400       0.00\n",
              "225401       0.00\n",
              "276547       0.00\n",
              "276548       0.00\n",
              "67456        0.00\n",
              "199139       0.00\n",
              "280903       0.00\n",
              "67563        0.00\n",
              "280907       0.00\n",
              "67854        0.00\n",
              "265161       0.00\n",
              "256505       0.00\n",
              "280906       0.00\n",
              "246443       0.00\n",
              "256504       0.00\n",
              "280905       0.00\n",
              "67848        0.00\n",
              "265159       0.00\n",
              "265158       0.00\n",
              "67812        0.00\n",
              "246444       0.00\n",
              "67802        0.00\n",
              "67773        0.00\n",
              "265157       0.00\n",
              "67768        0.00\n",
              "67585        0.00\n",
              "67626        0.00\n",
              "212228       0.00\n",
              "280904       0.00\n",
              "67644        0.00\n",
              "67661        0.00\n",
              "67682        0.00\n",
              "67701        0.00\n",
              "212227       0.00\n",
              "67717        0.00\n",
              "265154       0.00\n",
              "67746        0.00\n",
              "265156       0.00\n",
              "261851       0.00\n",
              "77008     -119.00\n",
              "Name: unit_price, dtype: object"
            ]
          },
          "execution_count": 523,
          "metadata": {},
          "output_type": "execute_result"
        }
      ],
      "source": [
        "ol.unit_price.sort_values(ascending=False).tail(40) \n",
        "# There is negative value in unit_price,  TODO: Fix Required"
      ]
    },
    {
      "cell_type": "code",
      "execution_count": 526,
      "metadata": {
        "colab": {
          "base_uri": "https://localhost:8080/",
          "height": 423
        },
        "id": "_g9m1mbEE_xI",
        "outputId": "079df2bf-0136-486a-d586-ca4db07d18b5"
      },
      "outputs": [
        {
          "data": {
            "text/plain": [
              "946"
            ]
          },
          "execution_count": 526,
          "metadata": {},
          "output_type": "execute_result"
        }
      ],
      "source": [
        "ol.loc[(ol.unit_price == \"0.00\")].product_quantity.sum()\n",
        "#That amount of product with price 0.00! TODO:check more about it"
      ]
    },
    {
      "cell_type": "markdown",
      "metadata": {
        "id": "iBFBMEEWnEFG"
      },
      "source": [
        "## Clean the data per csv\n",
        "- Remember to create a copy of the df using ``` df.copy()``` "
      ]
    },
    {
      "cell_type": "code",
      "execution_count": 527,
      "metadata": {
        "id": "Ojy5J29rnEFG"
      },
      "outputs": [],
      "source": [
        "ol_c = ol.copy()"
      ]
    },
    {
      "cell_type": "markdown",
      "metadata": {
        "id": "emAynTSAnEFG"
      },
      "source": [
        "### Rename Columns , Set Index\n",
        " - ``` df.columns```   , ``` df.index``` \n",
        " - ``` df=df.rename(columns={\"A\": \"a\", \"B\": \"c\"})``` \n",
        " - ``` df.columns = [\"a\",\"b\":\"x\"]``` \n",
        "     - take care, renaming the columns like that will convert the NAN to some value!!\n",
        " - ``` df=df.set_index(\"col\")```  , ``` df=df.reset_index()``` "
      ]
    },
    {
      "cell_type": "code",
      "execution_count": 528,
      "metadata": {
        "colab": {
          "base_uri": "https://localhost:8080/"
        },
        "id": "SrA_W_qWnEFG",
        "outputId": "78b0fa7e-b4e6-46b6-8754-0795641bf050"
      },
      "outputs": [
        {
          "data": {
            "text/plain": [
              "Index(['id', 'id_order', 'product_id', 'product_quantity', 'sku', 'unit_price',\n",
              "       'date'],\n",
              "      dtype='object')"
            ]
          },
          "execution_count": 528,
          "metadata": {},
          "output_type": "execute_result"
        }
      ],
      "source": [
        "ol_c.columns"
      ]
    },
    {
      "cell_type": "code",
      "execution_count": 529,
      "metadata": {
        "id": "qXZYkcSwvSWx"
      },
      "outputs": [],
      "source": [
        "ol_c=ol_c.rename(columns={\"id\": \"ol_ID\"\n",
        "                        , \"id_order\": \"ol_ord_ID\"\n",
        "                        , \"product_id\": \"ol_ProductId\"\n",
        "                        , \"product_quantity\": \"ol_ProdQuantity\"\n",
        "                        , \"sku\": \"ol_sku\"\n",
        "                        , \"unit_price\": \"ol_ProdUnitPrice\"\n",
        "                        , \"date\": \"ol_ProcessDate\"})"
      ]
    },
    {
      "cell_type": "code",
      "execution_count": 530,
      "metadata": {},
      "outputs": [
        {
          "data": {
            "text/plain": [
              "Index(['ol_ID', 'ol_ord_ID', 'ol_ProductId', 'ol_ProdQuantity', 'ol_sku',\n",
              "       'ol_ProdUnitPrice', 'ol_ProcessDate'],\n",
              "      dtype='object')"
            ]
          },
          "execution_count": 530,
          "metadata": {},
          "output_type": "execute_result"
        }
      ],
      "source": [
        "ol_c.columns"
      ]
    },
    {
      "cell_type": "code",
      "execution_count": 531,
      "metadata": {
        "colab": {
          "base_uri": "https://localhost:8080/"
        },
        "id": "A7T1mMH1nEFH",
        "outputId": "2ebba2d5-5423-46df-f331-baa8e559fd53"
      },
      "outputs": [
        {
          "data": {
            "text/plain": [
              "RangeIndex(start=0, stop=293983, step=1)"
            ]
          },
          "execution_count": 531,
          "metadata": {},
          "output_type": "execute_result"
        }
      ],
      "source": [
        "ol_c.index #hint: no need to change index"
      ]
    },
    {
      "cell_type": "markdown",
      "metadata": {
        "id": "dFhPLGSQnEFH"
      },
      "source": [
        "### Remove Duplicates Rows\n",
        "- ``` df.duplicated().sum()``` \n",
        "- ``` df.loc[df.duplicated()==True]``` \n",
        "- ``` df=df.drop:duplicates() ``` \n",
        "- ``` df=df.drop:duplicates(subset=[\"col\"])```  --> remove rows based on duplicated in specific column"
      ]
    },
    {
      "cell_type": "code",
      "execution_count": 532,
      "metadata": {
        "colab": {
          "base_uri": "https://localhost:8080/"
        },
        "id": "uwR3XOZXnEFH",
        "outputId": "26a3a61c-d5f6-4dea-fc57-cbd4065ae58c"
      },
      "outputs": [
        {
          "data": {
            "text/plain": [
              "0"
            ]
          },
          "execution_count": 532,
          "metadata": {},
          "output_type": "execute_result"
        }
      ],
      "source": [
        "ol_c.duplicated().sum() #hint : No duplicates"
      ]
    },
    {
      "cell_type": "code",
      "execution_count": 560,
      "metadata": {
        "colab": {
          "base_uri": "https://localhost:8080/",
          "height": 49
        },
        "id": "svKfv5JJnEFH",
        "outputId": "1df8c800-451f-420a-8d98-e1d8b17e076c"
      },
      "outputs": [
        {
          "data": {
            "text/html": [
              "<div>\n",
              "<style scoped>\n",
              "    .dataframe tbody tr th:only-of-type {\n",
              "        vertical-align: middle;\n",
              "    }\n",
              "\n",
              "    .dataframe tbody tr th {\n",
              "        vertical-align: top;\n",
              "    }\n",
              "\n",
              "    .dataframe thead th {\n",
              "        text-align: right;\n",
              "    }\n",
              "</style>\n",
              "<table border=\"1\" class=\"dataframe\">\n",
              "  <thead>\n",
              "    <tr style=\"text-align: right;\">\n",
              "      <th></th>\n",
              "      <th>ol_ID</th>\n",
              "      <th>ol_ord_ID</th>\n",
              "      <th>ol_ProductId</th>\n",
              "      <th>ol_ProdQuantity</th>\n",
              "      <th>ol_sku</th>\n",
              "      <th>ol_ProdUnitPrice</th>\n",
              "      <th>ol_ProcessDate</th>\n",
              "    </tr>\n",
              "  </thead>\n",
              "  <tbody>\n",
              "  </tbody>\n",
              "</table>\n",
              "</div>"
            ],
            "text/plain": [
              "Empty DataFrame\n",
              "Columns: [ol_ID, ol_ord_ID, ol_ProductId, ol_ProdQuantity, ol_sku, ol_ProdUnitPrice, ol_ProcessDate]\n",
              "Index: []"
            ]
          },
          "execution_count": 560,
          "metadata": {},
          "output_type": "execute_result"
        }
      ],
      "source": [
        "ol_c.loc[ol_c.duplicated()==True]"
      ]
    },
    {
      "cell_type": "markdown",
      "metadata": {},
      "source": [
        "#### Remove duplicated rows related to Unique columns\n",
        "- find possible duplicates ``` len(df.col.unique())```   vs ``` df.shape``` \n",
        "- get the excat value for duplicate columns ``` df.loc[df.duplicated(subset=\"col\")]``` \n",
        "- find all columns with same value ``` df[products.col==\"APP1197\"]``` "
      ]
    },
    {
      "cell_type": "code",
      "execution_count": null,
      "metadata": {},
      "outputs": [],
      "source": []
    },
    {
      "cell_type": "markdown",
      "metadata": {},
      "source": [
        "### Strip whitespaces\n",
        "- ``` df.applymap(lambda x: x.strip() if isinstance(x, str) else x)``` "
      ]
    },
    {
      "cell_type": "code",
      "execution_count": 534,
      "metadata": {},
      "outputs": [],
      "source": [
        "ol_c = ol_c.applymap(lambda x: x.strip() if isinstance(x, str) else x)"
      ]
    },
    {
      "cell_type": "markdown",
      "metadata": {
        "id": "HbC0NAl9nEFI"
      },
      "source": [
        "### Clean NAN and empty cells\n",
        "- ``` df.isna().sum()``` \n",
        "- ``` df = df.replace('^\\s*$', np.nan)```  -->replace empty cells and cells with only whitspace with NAN\n",
        "- ``` df=df.col.fillna(value,method=\"bfill\"or\"ffill\",limit=value)``` \n",
        "\n",
        "- Extra: \n",
        "  - ``` (df.values == '').sum()```  --> check if any cell is empty\n",
        "  - ``` df.col.str.isspace().sum()```  --> check if all cell is filled with whitespaces"
      ]
    },
    {
      "cell_type": "code",
      "execution_count": 535,
      "metadata": {
        "colab": {
          "base_uri": "https://localhost:8080/"
        },
        "id": "MBeRQrwWnEFI",
        "outputId": "e40ba6fe-a9c7-4c15-ec3e-a267c398959f"
      },
      "outputs": [
        {
          "data": {
            "text/plain": [
              "ol_ID               0\n",
              "ol_ord_ID           0\n",
              "ol_ProductId        0\n",
              "ol_ProdQuantity     0\n",
              "ol_sku              0\n",
              "ol_ProdUnitPrice    0\n",
              "ol_ProcessDate      0\n",
              "dtype: int64"
            ]
          },
          "execution_count": 535,
          "metadata": {},
          "output_type": "execute_result"
        }
      ],
      "source": [
        "ol_c.isna().sum()"
      ]
    },
    {
      "cell_type": "code",
      "execution_count": 536,
      "metadata": {
        "colab": {
          "base_uri": "https://localhost:8080/"
        },
        "id": "1ibrQEP-nEFI",
        "outputId": "f08ffa8c-d839-4765-b0bd-d047d161e6c5"
      },
      "outputs": [
        {
          "name": "stdout",
          "output_type": "stream",
          "text": [
            "<class 'pandas.core.frame.DataFrame'>\n",
            "RangeIndex: 293983 entries, 0 to 293982\n",
            "Data columns (total 7 columns):\n",
            " #   Column            Non-Null Count   Dtype \n",
            "---  ------            --------------   ----- \n",
            " 0   ol_ID             293983 non-null  int64 \n",
            " 1   ol_ord_ID         293983 non-null  int64 \n",
            " 2   ol_ProductId      293983 non-null  int64 \n",
            " 3   ol_ProdQuantity   293983 non-null  int64 \n",
            " 4   ol_sku            293983 non-null  object\n",
            " 5   ol_ProdUnitPrice  293983 non-null  object\n",
            " 6   ol_ProcessDate    293983 non-null  object\n",
            "dtypes: int64(4), object(3)\n",
            "memory usage: 15.7+ MB\n"
          ]
        }
      ],
      "source": [
        "ol_c.info()"
      ]
    },
    {
      "cell_type": "code",
      "execution_count": 537,
      "metadata": {
        "id": "ML931FKUnEFJ"
      },
      "outputs": [],
      "source": [
        "import numpy as np\n",
        "ol_c = ol_c.replace('^\\s*$', np.nan)\n"
      ]
    },
    {
      "cell_type": "code",
      "execution_count": 538,
      "metadata": {
        "colab": {
          "base_uri": "https://localhost:8080/"
        },
        "id": "oA0Y_VPDnEFJ",
        "outputId": "c3ddaf24-98c5-4c12-c60e-1035f92373a2"
      },
      "outputs": [
        {
          "data": {
            "text/plain": [
              "ol_ID               0\n",
              "ol_ord_ID           0\n",
              "ol_ProductId        0\n",
              "ol_ProdQuantity     0\n",
              "ol_sku              0\n",
              "ol_ProdUnitPrice    0\n",
              "ol_ProcessDate      0\n",
              "dtype: int64"
            ]
          },
          "execution_count": 538,
          "metadata": {},
          "output_type": "execute_result"
        }
      ],
      "source": [
        "ol_c.isna().sum()"
      ]
    },
    {
      "cell_type": "markdown",
      "metadata": {
        "id": "04bz8cjKnEFK"
      },
      "source": [
        "### Fix DataTypes\n",
        "- before change, make sure all values will be converted correct\n",
        "  - to convert to numeric : check no letters, \n",
        "      - if float(2dec) ```(~df.col.str.contains(\"^\\d+.\\d{2}$\")).sum()```\n",
        "  - to convert to category : check there are reasonable number of unique items\n",
        "  - to convert to Datetime : ```(~df.col.str.contains(\"^\\d{4}-\\d{2}-\\d{2} \\d{2}:\\d{2}:\\d{2}$\")).sum()```\n",
        "- ``` df.col.astype(type,errors=\"raise\")``` \n",
        "  - type = \"int\",\"float\",\"bool\",\"category\",\"object\",\"datetime\",\"timedelta\"\n",
        "- for mixed data\n",
        "  - ``` pd.to_numeric(df.col, downcast=x,errors=\"raise\") ``` \n",
        "  x = \"integer\" or \"float\"\n",
        "  - ``` pd.to_datetime(df.col, downcast=None,errors=\"raise\") ``` \n",
        "  - ``` pd.to_timedelta(df.col, downcast=None,errors=\"raise\") ``` "
      ]
    },
    {
      "cell_type": "code",
      "execution_count": 539,
      "metadata": {
        "colab": {
          "base_uri": "https://localhost:8080/"
        },
        "id": "LnKqIQTMnEFK",
        "outputId": "6eb167b8-5828-439f-bce6-279ec0301c82"
      },
      "outputs": [
        {
          "name": "stdout",
          "output_type": "stream",
          "text": [
            "<class 'pandas.core.frame.DataFrame'>\n",
            "RangeIndex: 293983 entries, 0 to 293982\n",
            "Data columns (total 7 columns):\n",
            " #   Column            Non-Null Count   Dtype \n",
            "---  ------            --------------   ----- \n",
            " 0   ol_ID             293983 non-null  int64 \n",
            " 1   ol_ord_ID         293983 non-null  int64 \n",
            " 2   ol_ProductId      293983 non-null  int64 \n",
            " 3   ol_ProdQuantity   293983 non-null  int64 \n",
            " 4   ol_sku            293983 non-null  object\n",
            " 5   ol_ProdUnitPrice  293983 non-null  object\n",
            " 6   ol_ProcessDate    293983 non-null  object\n",
            "dtypes: int64(4), object(3)\n",
            "memory usage: 15.7+ MB\n"
          ]
        }
      ],
      "source": [
        "ol_c.info()"
      ]
    },
    {
      "cell_type": "code",
      "execution_count": 540,
      "metadata": {
        "id": "DYtBeUmZnEFL"
      },
      "outputs": [
        {
          "data": {
            "text/plain": [
              "0"
            ]
          },
          "execution_count": 540,
          "metadata": {},
          "output_type": "execute_result"
        }
      ],
      "source": [
        "(~ol_c.ol_ProcessDate.str.contains(\"^\\d{4}-\\d{2}-\\d{2} \\d{2}:\\d{2}:\\d{2}$\")).sum() \n",
        "# all rows has the datetime pattern, save to convert"
      ]
    },
    {
      "cell_type": "code",
      "execution_count": 541,
      "metadata": {},
      "outputs": [],
      "source": [
        "ol_c.ol_ProcessDate = pd.to_datetime(ol_c.ol_ProcessDate, errors=\"raise\")"
      ]
    },
    {
      "cell_type": "code",
      "execution_count": 542,
      "metadata": {},
      "outputs": [
        {
          "data": {
            "text/plain": [
              "184112   2017-12-02 04:37:11\n",
              "215672   2017-12-28 12:57:29\n",
              "270268   2018-02-13 15:05:00\n",
              "95264    2017-07-24 20:56:26\n",
              "167243   2017-11-25 13:00:42\n",
              "163403   2017-11-24 17:42:42\n",
              "19809    2017-01-30 00:07:46\n",
              "229233   2018-01-08 10:43:16\n",
              "135929   2017-10-24 17:59:35\n",
              "46647    2017-03-28 13:02:25\n",
              "Name: ol_ProcessDate, dtype: datetime64[ns]"
            ]
          },
          "execution_count": 542,
          "metadata": {},
          "output_type": "execute_result"
        }
      ],
      "source": [
        "ol_c.ol_ProcessDate.sample(10)"
      ]
    },
    {
      "cell_type": "code",
      "execution_count": 543,
      "metadata": {
        "colab": {
          "base_uri": "https://localhost:8080/"
        },
        "id": "af0OZtmInEFM",
        "outputId": "74add692-079a-486e-bfce-17e44ebf8dcf"
      },
      "outputs": [
        {
          "name": "stdout",
          "output_type": "stream",
          "text": [
            "<class 'pandas.core.frame.DataFrame'>\n",
            "RangeIndex: 293983 entries, 0 to 293982\n",
            "Data columns (total 7 columns):\n",
            " #   Column            Non-Null Count   Dtype         \n",
            "---  ------            --------------   -----         \n",
            " 0   ol_ID             293983 non-null  int64         \n",
            " 1   ol_ord_ID         293983 non-null  int64         \n",
            " 2   ol_ProductId      293983 non-null  int64         \n",
            " 3   ol_ProdQuantity   293983 non-null  int64         \n",
            " 4   ol_sku            293983 non-null  object        \n",
            " 5   ol_ProdUnitPrice  293983 non-null  object        \n",
            " 6   ol_ProcessDate    293983 non-null  datetime64[ns]\n",
            "dtypes: datetime64[ns](1), int64(4), object(2)\n",
            "memory usage: 15.7+ MB\n"
          ]
        }
      ],
      "source": [
        "ol_c.info()"
      ]
    },
    {
      "cell_type": "code",
      "execution_count": 544,
      "metadata": {
        "id": "I9RoFzwznEFM"
      },
      "outputs": [
        {
          "data": {
            "text/plain": [
              "210969      359.00\n",
              "22820       109.00\n",
              "113308      840.33\n",
              "45939        18.99\n",
              "282983      139.00\n",
              "198563      130.00\n",
              "174487    2.998.59\n",
              "77078        43.49\n",
              "289216      109.00\n",
              "114544       34.99\n",
              "Name: ol_ProdUnitPrice, dtype: object"
            ]
          },
          "execution_count": 544,
          "metadata": {},
          "output_type": "execute_result"
        }
      ],
      "source": [
        "ol_c.ol_ProdUnitPrice.sample(10)"
      ]
    },
    {
      "cell_type": "code",
      "execution_count": 559,
      "metadata": {},
      "outputs": [
        {
          "data": {
            "text/plain": [
              "36169"
            ]
          },
          "execution_count": 559,
          "metadata": {},
          "output_type": "execute_result"
        }
      ],
      "source": [
        "(~ol_c.ol_ProdUnitPrice.str.contains(\"^\\d+.\\d{2}$\")).sum()\n",
        "#36170 rows doesn't has the correct pattern"
      ]
    },
    {
      "cell_type": "code",
      "execution_count": 546,
      "metadata": {},
      "outputs": [
        {
          "data": {
            "text/plain": [
              "6         1.137.99\n",
              "11        2.565.99\n",
              "15        3.278.99\n",
              "43        2.616.99\n",
              "59        2.873.99\n",
              "61        2.780.99\n",
              "64        2.316.99\n",
              "67        2.558.99\n",
              "69        2.797.99\n",
              "82        4.260.99\n",
              "105       2.054.99\n",
              "107       2.769.99\n",
              "111       2.172.99\n",
              "131       2.050.99\n",
              "155       1.426.99\n",
              "159       1.351.99\n",
              "163       1.426.99\n",
              "164       1.348.99\n",
              "174       1.845.99\n",
              "187       1.019.00\n",
              "201       2.098.99\n",
              "225       3.318.99\n",
              "230       1.584.99\n",
              "240       2.133.99\n",
              "242       2.626.99\n",
              "264       2.698.99\n",
              "270       1.986.99\n",
              "279       1.398.99\n",
              "281       3.830.99\n",
              "303       6.029.99\n",
              "305       1.986.99\n",
              "328       1.688.99\n",
              "342       1.024.99\n",
              "355       2.558.99\n",
              "356       3.198.99\n",
              "379       3.177.99\n",
              "380       1.776.99\n",
              "382       1.024.99\n",
              "386       1.986.99\n",
              "418       2.089.99\n",
              "434       2.469.99\n",
              "459       1.114.99\n",
              "465       1.922.99\n",
              "471       1.649.99\n",
              "492       2.371.99\n",
              "495       2.199.99\n",
              "498       1.348.99\n",
              "501       1.024.99\n",
              "508       1.998.99\n",
              "524       1.794.99\n",
              "595       1.598.99\n",
              "602       2.599.99\n",
              "615       1.193.99\n",
              "643       2.788.99\n",
              "644       1.794.99\n",
              "655       1.688.99\n",
              "711       1.594.99\n",
              "715       1.584.99\n",
              "722       3.318.99\n",
              "747       1.688.99\n",
              "755       1.949.99\n",
              "804       2.322.99\n",
              "807       1.019.00\n",
              "860       2.209.99\n",
              "874       3.318.99\n",
              "875       3.438.99\n",
              "877       1.370.99\n",
              "941       1.584.99\n",
              "977       1.259.99\n",
              "1025      3.984.99\n",
              "1087      1.612.99\n",
              "1099      4.038.99\n",
              "1114      2.698.99\n",
              "1120      4.038.99\n",
              "1122      3.441.99\n",
              "1139      1.998.99\n",
              "1188      1.370.99\n",
              "1196      1.009.00\n",
              "1207      1.259.99\n",
              "1235      1.193.99\n",
              "1237      1.612.99\n",
              "1255      2.146.99\n",
              "1258      1.159.00\n",
              "1262      1.794.99\n",
              "1264      1.584.99\n",
              "1270      2.825.61\n",
              "1271      2.237.99\n",
              "1277      2.098.99\n",
              "1280      2.088.99\n",
              "1336      2.198.99\n",
              "1368      1.351.99\n",
              "1453      1.576.99\n",
              "1466      3.599.99\n",
              "1475      1.922.99\n",
              "1524      2.698.99\n",
              "1525      1.584.99\n",
              "1526      3.010.99\n",
              "1534      1.569.00\n",
              "1539      1.193.99\n",
              "1542      2.698.99\n",
              "            ...   \n",
              "292981    3.725.00\n",
              "292983    2.925.00\n",
              "292989    2.039.00\n",
              "292997    1.099.00\n",
              "293001    1.415.00\n",
              "293003    1.099.00\n",
              "293017    1.329.00\n",
              "293020    1.340.49\n",
              "293021    1.329.00\n",
              "293026    3.147.00\n",
              "293039    2.443.00\n",
              "293042    3.375.00\n",
              "293045    1.329.00\n",
              "293048    1.159.00\n",
              "293049    1.159.00\n",
              "293053    2.999.00\n",
              "293059    1.199.00\n",
              "293064    1.820.67\n",
              "293066    1.099.00\n",
              "293073    2.412.00\n",
              "293076    5.093.00\n",
              "293083    1.519.99\n",
              "293088    1.099.00\n",
              "293091    3.075.00\n",
              "293099    1.430.00\n",
              "293101    1.059.00\n",
              "293110    2.922.00\n",
              "293114    2.217.00\n",
              "293118    1.329.00\n",
              "293119    3.148.01\n",
              "293123    1.453.00\n",
              "293126    2.825.00\n",
              "293135    1.099.00\n",
              "293144    1.782.00\n",
              "293147    1.099.00\n",
              "293151    1.159.00\n",
              "293153    1.329.00\n",
              "293160    1.099.00\n",
              "293162    1.979.00\n",
              "293173    1.329.00\n",
              "293174    1.199.00\n",
              "293176    1.099.00\n",
              "293183    1.329.00\n",
              "293184    1.179.00\n",
              "293185    1.329.00\n",
              "293191    1.099.00\n",
              "293194    1.099.00\n",
              "293196    2.479.00\n",
              "293199    1.059.00\n",
              "293205    1.329.00\n",
              "293209    1.099.00\n",
              "293216    2.999.00\n",
              "293218    2.999.00\n",
              "293219    1.099.00\n",
              "293236    2.161.00\n",
              "293245    1.099.00\n",
              "293249    2.868.00\n",
              "293254    2.161.00\n",
              "293256    2.469.01\n",
              "293267    1.329.00\n",
              "293268    1.329.00\n",
              "293281    1.327.02\n",
              "293288    1.099.00\n",
              "293302    1.329.00\n",
              "293306    1.747.00\n",
              "293308    1.823.00\n",
              "293311    1.099.00\n",
              "293314    3.075.00\n",
              "293319    1.099.00\n",
              "293320    1.034.07\n",
              "293321    1.259.01\n",
              "293324    1.099.00\n",
              "293344    2.999.01\n",
              "293345    1.099.00\n",
              "293357    1.399.00\n",
              "293383    2.449.00\n",
              "293390    1.147.99\n",
              "293395    1.503.00\n",
              "293399    3.182.00\n",
              "293403    1.099.00\n",
              "293407    1.329.00\n",
              "293415    1.649.00\n",
              "293416    1.503.00\n",
              "293451    2.549.00\n",
              "293457    2.129.00\n",
              "293628    2.949.00\n",
              "293632    2.167.00\n",
              "293668    1.099.00\n",
              "293703    1.885.00\n",
              "293713    4.500.00\n",
              "293728    1.099.00\n",
              "293748    1.099.00\n",
              "293756    1.099.00\n",
              "293790    3.475.00\n",
              "293838    1.159.00\n",
              "293862    2.999.00\n",
              "293887    3.497.00\n",
              "293889    3.075.00\n",
              "293911    1.329.00\n",
              "293936    1.329.00\n",
              "Name: ol_ProdUnitPrice, Length: 36170, dtype: object"
            ]
          },
          "execution_count": 546,
          "metadata": {},
          "output_type": "execute_result"
        }
      ],
      "source": [
        "ol_c.ol_ProdUnitPrice[(~ol_c.ol_ProdUnitPrice.str.contains(\"^\\d+.\\d{2}$\"))]\n",
        "#can not convert as:\n",
        "# there is 1 negative value, make it +ve\n",
        "# for the values 6.543.59 convert it to 6543.59"
      ]
    },
    {
      "cell_type": "code",
      "execution_count": 555,
      "metadata": {},
      "outputs": [],
      "source": [
        "ol_c.ol_ProdUnitPrice = ol_c.ol_ProdUnitPrice.str.replace(\"-\",\"\")\n",
        "# (\n",
        "# ol_c\n",
        "#  .query(\"ol_ProdUnitPrice.str.contains('-')\")\n",
        "#  .ol_ProdUnitPrice\n",
        "#  .str.replace(\"-\",\"\")\n",
        "# )\n"
      ]
    },
    {
      "cell_type": "code",
      "execution_count": 558,
      "metadata": {},
      "outputs": [
        {
          "data": {
            "text/plain": [
              "0"
            ]
          },
          "execution_count": 558,
          "metadata": {},
          "output_type": "execute_result"
        }
      ],
      "source": [
        "ol_c.ol_ProdUnitPrice.str.contains(\"-\").sum()"
      ]
    },
    {
      "cell_type": "code",
      "execution_count": null,
      "metadata": {},
      "outputs": [],
      "source": []
    },
    {
      "cell_type": "code",
      "execution_count": null,
      "metadata": {
        "colab": {
          "base_uri": "https://localhost:8080/"
        },
        "id": "Ey_Ep5iZnEFM",
        "outputId": "f56f302b-8a2e-400b-cabb-305d5d72c039"
      },
      "outputs": [
        {
          "name": "stdout",
          "output_type": "stream",
          "text": [
            "<class 'pandas.core.frame.DataFrame'>\n",
            "RangeIndex: 226909 entries, 0 to 226908\n",
            "Data columns (total 4 columns):\n",
            " #   Column        Non-Null Count   Dtype         \n",
            "---  ------        --------------   -----         \n",
            " 0   order_id      226909 non-null  int64         \n",
            " 1   created_date  226909 non-null  datetime64[ns]\n",
            " 2   total_paid    226909 non-null  float64       \n",
            " 3   state         226909 non-null  category      \n",
            "dtypes: category(1), datetime64[ns](1), float64(1), int64(1)\n",
            "memory usage: 5.4 MB\n"
          ]
        }
      ],
      "source": [
        "orders_c.info()"
      ]
    },
    {
      "cell_type": "markdown",
      "metadata": {
        "id": "5l0U9Ew-nEFM"
      },
      "source": [
        "### Drop duplicate/un-necessary Columns\n",
        "- ``` df=df.drop(columns=[\"col1\",\"col2\"])``` "
      ]
    },
    {
      "cell_type": "code",
      "execution_count": null,
      "metadata": {
        "colab": {
          "base_uri": "https://localhost:8080/",
          "height": 300
        },
        "id": "flZkQLFanEFM",
        "outputId": "4cf45c33-9327-4489-b86d-9c19b9ae7a2e"
      },
      "outputs": [
        {
          "data": {
            "text/html": [
              "\n",
              "  <div id=\"df-e4e744ec-0b19-4818-80b3-6b278e83780a\">\n",
              "    <div class=\"colab-df-container\">\n",
              "      <div>\n",
              "<style scoped>\n",
              "    .dataframe tbody tr th:only-of-type {\n",
              "        vertical-align: middle;\n",
              "    }\n",
              "\n",
              "    .dataframe tbody tr th {\n",
              "        vertical-align: top;\n",
              "    }\n",
              "\n",
              "    .dataframe thead th {\n",
              "        text-align: right;\n",
              "    }\n",
              "</style>\n",
              "<table border=\"1\" class=\"dataframe\">\n",
              "  <thead>\n",
              "    <tr style=\"text-align: right;\">\n",
              "      <th></th>\n",
              "      <th>order_id</th>\n",
              "      <th>total_paid</th>\n",
              "    </tr>\n",
              "  </thead>\n",
              "  <tbody>\n",
              "    <tr>\n",
              "      <th>count</th>\n",
              "      <td>226909.000000</td>\n",
              "      <td>226909.000000</td>\n",
              "    </tr>\n",
              "    <tr>\n",
              "      <th>mean</th>\n",
              "      <td>413296.482480</td>\n",
              "      <td>569.213275</td>\n",
              "    </tr>\n",
              "    <tr>\n",
              "      <th>std</th>\n",
              "      <td>65919.250331</td>\n",
              "      <td>1761.760618</td>\n",
              "    </tr>\n",
              "    <tr>\n",
              "      <th>min</th>\n",
              "      <td>241319.000000</td>\n",
              "      <td>0.000000</td>\n",
              "    </tr>\n",
              "    <tr>\n",
              "      <th>25%</th>\n",
              "      <td>356263.000000</td>\n",
              "      <td>34.190000</td>\n",
              "    </tr>\n",
              "    <tr>\n",
              "      <th>50%</th>\n",
              "      <td>413040.000000</td>\n",
              "      <td>112.990000</td>\n",
              "    </tr>\n",
              "    <tr>\n",
              "      <th>75%</th>\n",
              "      <td>470553.000000</td>\n",
              "      <td>525.970000</td>\n",
              "    </tr>\n",
              "    <tr>\n",
              "      <th>max</th>\n",
              "      <td>527401.000000</td>\n",
              "      <td>214747.530000</td>\n",
              "    </tr>\n",
              "  </tbody>\n",
              "</table>\n",
              "</div>\n",
              "      <button class=\"colab-df-convert\" onclick=\"convertToInteractive('df-e4e744ec-0b19-4818-80b3-6b278e83780a')\"\n",
              "              title=\"Convert this dataframe to an interactive table.\"\n",
              "              style=\"display:none;\">\n",
              "        \n",
              "  <svg xmlns=\"http://www.w3.org/2000/svg\" height=\"24px\"viewBox=\"0 0 24 24\"\n",
              "       width=\"24px\">\n",
              "    <path d=\"M0 0h24v24H0V0z\" fill=\"none\"/>\n",
              "    <path d=\"M18.56 5.44l.94 2.06.94-2.06 2.06-.94-2.06-.94-.94-2.06-.94 2.06-2.06.94zm-11 1L8.5 8.5l.94-2.06 2.06-.94-2.06-.94L8.5 2.5l-.94 2.06-2.06.94zm10 10l.94 2.06.94-2.06 2.06-.94-2.06-.94-.94-2.06-.94 2.06-2.06.94z\"/><path d=\"M17.41 7.96l-1.37-1.37c-.4-.4-.92-.59-1.43-.59-.52 0-1.04.2-1.43.59L10.3 9.45l-7.72 7.72c-.78.78-.78 2.05 0 2.83L4 21.41c.39.39.9.59 1.41.59.51 0 1.02-.2 1.41-.59l7.78-7.78 2.81-2.81c.8-.78.8-2.07 0-2.86zM5.41 20L4 18.59l7.72-7.72 1.47 1.35L5.41 20z\"/>\n",
              "  </svg>\n",
              "      </button>\n",
              "      \n",
              "  <style>\n",
              "    .colab-df-container {\n",
              "      display:flex;\n",
              "      flex-wrap:wrap;\n",
              "      gap: 12px;\n",
              "    }\n",
              "\n",
              "    .colab-df-convert {\n",
              "      background-color: #E8F0FE;\n",
              "      border: none;\n",
              "      border-radius: 50%;\n",
              "      cursor: pointer;\n",
              "      display: none;\n",
              "      fill: #1967D2;\n",
              "      height: 32px;\n",
              "      padding: 0 0 0 0;\n",
              "      width: 32px;\n",
              "    }\n",
              "\n",
              "    .colab-df-convert:hover {\n",
              "      background-color: #E2EBFA;\n",
              "      box-shadow: 0px 1px 2px rgba(60, 64, 67, 0.3), 0px 1px 3px 1px rgba(60, 64, 67, 0.15);\n",
              "      fill: #174EA6;\n",
              "    }\n",
              "\n",
              "    [theme=dark] .colab-df-convert {\n",
              "      background-color: #3B4455;\n",
              "      fill: #D2E3FC;\n",
              "    }\n",
              "\n",
              "    [theme=dark] .colab-df-convert:hover {\n",
              "      background-color: #434B5C;\n",
              "      box-shadow: 0px 1px 3px 1px rgba(0, 0, 0, 0.15);\n",
              "      filter: drop-shadow(0px 1px 2px rgba(0, 0, 0, 0.3));\n",
              "      fill: #FFFFFF;\n",
              "    }\n",
              "  </style>\n",
              "\n",
              "      <script>\n",
              "        const buttonEl =\n",
              "          document.querySelector('#df-e4e744ec-0b19-4818-80b3-6b278e83780a button.colab-df-convert');\n",
              "        buttonEl.style.display =\n",
              "          google.colab.kernel.accessAllowed ? 'block' : 'none';\n",
              "\n",
              "        async function convertToInteractive(key) {\n",
              "          const element = document.querySelector('#df-e4e744ec-0b19-4818-80b3-6b278e83780a');\n",
              "          const dataTable =\n",
              "            await google.colab.kernel.invokeFunction('convertToInteractive',\n",
              "                                                     [key], {});\n",
              "          if (!dataTable) return;\n",
              "\n",
              "          const docLinkHtml = 'Like what you see? Visit the ' +\n",
              "            '<a target=\"_blank\" href=https://colab.research.google.com/notebooks/data_table.ipynb>data table notebook</a>'\n",
              "            + ' to learn more about interactive tables.';\n",
              "          element.innerHTML = '';\n",
              "          dataTable['output_type'] = 'display_data';\n",
              "          await google.colab.output.renderOutput(dataTable, element);\n",
              "          const docLink = document.createElement('div');\n",
              "          docLink.innerHTML = docLinkHtml;\n",
              "          element.appendChild(docLink);\n",
              "        }\n",
              "      </script>\n",
              "    </div>\n",
              "  </div>\n",
              "  "
            ],
            "text/plain": [
              "            order_id     total_paid\n",
              "count  226909.000000  226909.000000\n",
              "mean   413296.482480     569.213275\n",
              "std     65919.250331    1761.760618\n",
              "min    241319.000000       0.000000\n",
              "25%    356263.000000      34.190000\n",
              "50%    413040.000000     112.990000\n",
              "75%    470553.000000     525.970000\n",
              "max    527401.000000  214747.530000"
            ]
          },
          "execution_count": 187,
          "metadata": {},
          "output_type": "execute_result"
        }
      ],
      "source": [
        "orders_c.describe() ## hint: all columns contain needed data. nothing to drop"
      ]
    },
    {
      "cell_type": "code",
      "execution_count": null,
      "metadata": {
        "id": "daXI2G6fnEFN"
      },
      "outputs": [],
      "source": []
    },
    {
      "cell_type": "markdown",
      "metadata": {
        "id": "uaSmyQ4bnEFN"
      },
      "source": [
        "## Re-Explore the data\n",
        "draw some ``` df.col.hist()```  , ``` df.ser.boxplot()```  per column\n",
        "take notes"
      ]
    },
    {
      "cell_type": "code",
      "execution_count": null,
      "metadata": {
        "colab": {
          "base_uri": "https://localhost:8080/",
          "height": 363
        },
        "id": "eQtrH6R3nEFN",
        "outputId": "cdbeab0d-f6b0-4bb6-b913-a1ac8c5ab50c"
      },
      "outputs": [
        {
          "data": {
            "text/html": [
              "\n",
              "  <div id=\"df-3e74b7bb-b76e-4da5-ae19-8f53fec597d5\">\n",
              "    <div class=\"colab-df-container\">\n",
              "      <div>\n",
              "<style scoped>\n",
              "    .dataframe tbody tr th:only-of-type {\n",
              "        vertical-align: middle;\n",
              "    }\n",
              "\n",
              "    .dataframe tbody tr th {\n",
              "        vertical-align: top;\n",
              "    }\n",
              "\n",
              "    .dataframe thead th {\n",
              "        text-align: right;\n",
              "    }\n",
              "</style>\n",
              "<table border=\"1\" class=\"dataframe\">\n",
              "  <thead>\n",
              "    <tr style=\"text-align: right;\">\n",
              "      <th></th>\n",
              "      <th>order_id</th>\n",
              "      <th>created_date</th>\n",
              "      <th>total_paid</th>\n",
              "      <th>state</th>\n",
              "    </tr>\n",
              "  </thead>\n",
              "  <tbody>\n",
              "    <tr>\n",
              "      <th>153054</th>\n",
              "      <td>453267</td>\n",
              "      <td>2017-12-01 15:52:25</td>\n",
              "      <td>0.00</td>\n",
              "      <td>Place Order</td>\n",
              "    </tr>\n",
              "    <tr>\n",
              "      <th>207636</th>\n",
              "      <td>508127</td>\n",
              "      <td>2018-02-08 13:13:21</td>\n",
              "      <td>2511.59</td>\n",
              "      <td>Cancelled</td>\n",
              "    </tr>\n",
              "    <tr>\n",
              "      <th>22219</th>\n",
              "      <td>321699</td>\n",
              "      <td>2017-02-09 10:41:43</td>\n",
              "      <td>80.99</td>\n",
              "      <td>Shopping Basket</td>\n",
              "    </tr>\n",
              "    <tr>\n",
              "      <th>158350</th>\n",
              "      <td>458574</td>\n",
              "      <td>2017-12-09 21:38:25</td>\n",
              "      <td>2559.57</td>\n",
              "      <td>Shopping Basket</td>\n",
              "    </tr>\n",
              "    <tr>\n",
              "      <th>107130</th>\n",
              "      <td>406715</td>\n",
              "      <td>2017-09-30 17:03:58</td>\n",
              "      <td>57.79</td>\n",
              "      <td>Shopping Basket</td>\n",
              "    </tr>\n",
              "    <tr>\n",
              "      <th>56577</th>\n",
              "      <td>356113</td>\n",
              "      <td>2017-05-15 22:45:24</td>\n",
              "      <td>57.98</td>\n",
              "      <td>Place Order</td>\n",
              "    </tr>\n",
              "    <tr>\n",
              "      <th>74786</th>\n",
              "      <td>374332</td>\n",
              "      <td>2017-07-07 18:33:43</td>\n",
              "      <td>99.98</td>\n",
              "      <td>Completed</td>\n",
              "    </tr>\n",
              "    <tr>\n",
              "      <th>173457</th>\n",
              "      <td>473832</td>\n",
              "      <td>2017-12-27 19:26:21</td>\n",
              "      <td>270.04</td>\n",
              "      <td>Completed</td>\n",
              "    </tr>\n",
              "    <tr>\n",
              "      <th>190772</th>\n",
              "      <td>491252</td>\n",
              "      <td>2018-01-15 16:10:44</td>\n",
              "      <td>506.97</td>\n",
              "      <td>Completed</td>\n",
              "    </tr>\n",
              "    <tr>\n",
              "      <th>137866</th>\n",
              "      <td>437654</td>\n",
              "      <td>2017-11-24 09:33:37</td>\n",
              "      <td>83.19</td>\n",
              "      <td>Completed</td>\n",
              "    </tr>\n",
              "  </tbody>\n",
              "</table>\n",
              "</div>\n",
              "      <button class=\"colab-df-convert\" onclick=\"convertToInteractive('df-3e74b7bb-b76e-4da5-ae19-8f53fec597d5')\"\n",
              "              title=\"Convert this dataframe to an interactive table.\"\n",
              "              style=\"display:none;\">\n",
              "        \n",
              "  <svg xmlns=\"http://www.w3.org/2000/svg\" height=\"24px\"viewBox=\"0 0 24 24\"\n",
              "       width=\"24px\">\n",
              "    <path d=\"M0 0h24v24H0V0z\" fill=\"none\"/>\n",
              "    <path d=\"M18.56 5.44l.94 2.06.94-2.06 2.06-.94-2.06-.94-.94-2.06-.94 2.06-2.06.94zm-11 1L8.5 8.5l.94-2.06 2.06-.94-2.06-.94L8.5 2.5l-.94 2.06-2.06.94zm10 10l.94 2.06.94-2.06 2.06-.94-2.06-.94-.94-2.06-.94 2.06-2.06.94z\"/><path d=\"M17.41 7.96l-1.37-1.37c-.4-.4-.92-.59-1.43-.59-.52 0-1.04.2-1.43.59L10.3 9.45l-7.72 7.72c-.78.78-.78 2.05 0 2.83L4 21.41c.39.39.9.59 1.41.59.51 0 1.02-.2 1.41-.59l7.78-7.78 2.81-2.81c.8-.78.8-2.07 0-2.86zM5.41 20L4 18.59l7.72-7.72 1.47 1.35L5.41 20z\"/>\n",
              "  </svg>\n",
              "      </button>\n",
              "      \n",
              "  <style>\n",
              "    .colab-df-container {\n",
              "      display:flex;\n",
              "      flex-wrap:wrap;\n",
              "      gap: 12px;\n",
              "    }\n",
              "\n",
              "    .colab-df-convert {\n",
              "      background-color: #E8F0FE;\n",
              "      border: none;\n",
              "      border-radius: 50%;\n",
              "      cursor: pointer;\n",
              "      display: none;\n",
              "      fill: #1967D2;\n",
              "      height: 32px;\n",
              "      padding: 0 0 0 0;\n",
              "      width: 32px;\n",
              "    }\n",
              "\n",
              "    .colab-df-convert:hover {\n",
              "      background-color: #E2EBFA;\n",
              "      box-shadow: 0px 1px 2px rgba(60, 64, 67, 0.3), 0px 1px 3px 1px rgba(60, 64, 67, 0.15);\n",
              "      fill: #174EA6;\n",
              "    }\n",
              "\n",
              "    [theme=dark] .colab-df-convert {\n",
              "      background-color: #3B4455;\n",
              "      fill: #D2E3FC;\n",
              "    }\n",
              "\n",
              "    [theme=dark] .colab-df-convert:hover {\n",
              "      background-color: #434B5C;\n",
              "      box-shadow: 0px 1px 3px 1px rgba(0, 0, 0, 0.15);\n",
              "      filter: drop-shadow(0px 1px 2px rgba(0, 0, 0, 0.3));\n",
              "      fill: #FFFFFF;\n",
              "    }\n",
              "  </style>\n",
              "\n",
              "      <script>\n",
              "        const buttonEl =\n",
              "          document.querySelector('#df-3e74b7bb-b76e-4da5-ae19-8f53fec597d5 button.colab-df-convert');\n",
              "        buttonEl.style.display =\n",
              "          google.colab.kernel.accessAllowed ? 'block' : 'none';\n",
              "\n",
              "        async function convertToInteractive(key) {\n",
              "          const element = document.querySelector('#df-3e74b7bb-b76e-4da5-ae19-8f53fec597d5');\n",
              "          const dataTable =\n",
              "            await google.colab.kernel.invokeFunction('convertToInteractive',\n",
              "                                                     [key], {});\n",
              "          if (!dataTable) return;\n",
              "\n",
              "          const docLinkHtml = 'Like what you see? Visit the ' +\n",
              "            '<a target=\"_blank\" href=https://colab.research.google.com/notebooks/data_table.ipynb>data table notebook</a>'\n",
              "            + ' to learn more about interactive tables.';\n",
              "          element.innerHTML = '';\n",
              "          dataTable['output_type'] = 'display_data';\n",
              "          await google.colab.output.renderOutput(dataTable, element);\n",
              "          const docLink = document.createElement('div');\n",
              "          docLink.innerHTML = docLinkHtml;\n",
              "          element.appendChild(docLink);\n",
              "        }\n",
              "      </script>\n",
              "    </div>\n",
              "  </div>\n",
              "  "
            ],
            "text/plain": [
              "        order_id        created_date  total_paid            state\n",
              "153054    453267 2017-12-01 15:52:25        0.00      Place Order\n",
              "207636    508127 2018-02-08 13:13:21     2511.59        Cancelled\n",
              "22219     321699 2017-02-09 10:41:43       80.99  Shopping Basket\n",
              "158350    458574 2017-12-09 21:38:25     2559.57  Shopping Basket\n",
              "107130    406715 2017-09-30 17:03:58       57.79  Shopping Basket\n",
              "56577     356113 2017-05-15 22:45:24       57.98      Place Order\n",
              "74786     374332 2017-07-07 18:33:43       99.98        Completed\n",
              "173457    473832 2017-12-27 19:26:21      270.04        Completed\n",
              "190772    491252 2018-01-15 16:10:44      506.97        Completed\n",
              "137866    437654 2017-11-24 09:33:37       83.19        Completed"
            ]
          },
          "execution_count": 159,
          "metadata": {},
          "output_type": "execute_result"
        }
      ],
      "source": [
        "orders_c.sample(10)  # Question: how state=\"Shopping Basket\" while \"Total_paid\" has a value!! "
      ]
    },
    {
      "cell_type": "code",
      "execution_count": null,
      "metadata": {
        "colab": {
          "base_uri": "https://localhost:8080/"
        },
        "id": "TMblzswlnEFN",
        "outputId": "98fd208a-69fd-4604-d35d-988b71104c94"
      },
      "outputs": [
        {
          "data": {
            "text/plain": [
              "['Completed', 'Shopping Basket', 'Place Order', 'Pending', 'Cancelled']\n",
              "Categories (5, object): ['Cancelled', 'Completed', 'Pending', 'Place Order', 'Shopping Basket']"
            ]
          },
          "execution_count": 196,
          "metadata": {},
          "output_type": "execute_result"
        }
      ],
      "source": [
        "orders_c.loc[orders_c.total_paid == 0.0].state.unique()"
      ]
    }
  ],
  "metadata": {
    "colab": {
      "authorship_tag": "ABX9TyMT7v9XshVXAURmbT7onweZ",
      "include_colab_link": true,
      "provenance": [],
      "toc_visible": true
    },
    "kernelspec": {
      "display_name": "Python 3.9.1 64-bit",
      "language": "python",
      "name": "python3"
    },
    "language_info": {
      "codemirror_mode": {
        "name": "ipython",
        "version": 3
      },
      "file_extension": ".py",
      "mimetype": "text/x-python",
      "name": "python",
      "nbconvert_exporter": "python",
      "pygments_lexer": "ipython3",
      "version": "3.9.1"
    },
    "vscode": {
      "interpreter": {
        "hash": "81794d4967e6c3204c66dcd87b604927b115b27c00565d3d43f05ba2f3a2cb0d"
      }
    }
  },
  "nbformat": 4,
  "nbformat_minor": 0
}
