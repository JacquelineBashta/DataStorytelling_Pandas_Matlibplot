{
  "cells": [
    {
      "cell_type": "markdown",
      "metadata": {
        "id": "jgqLMFFInEFC"
      },
      "source": [
        "# orderlines.csv (ol_)\n",
        "Every row represents each one of the different products involved in an order.\n",
        "- id – a unique identifier for each row in this file\n",
        "- id_order – corresponds to orders.order_id\n",
        "- product_id – an old identifier for each product, nowadays not in use\n",
        "- product_quantity – how many units of that product were purchased on that order\n",
        "- sku – stock keeping unit: a unique identifier for each product\n",
        "- unit_price – the unitary price (in euros) of each product at the moment of placing that order\n",
        "- date – timestamp for the processing of that product"
      ]
    },
    {
      "cell_type": "markdown",
      "metadata": {
        "id": "mo3w8u4OnEFD"
      },
      "source": [
        "    ==============================================================================================\n",
        "\n",
        "## Importing the data\n",
        "- ``` glob-glob(\"file_pat\") ``` --> read multi files \n",
        "- ``` pd.concat(dfs_list, ignore_index=True)```  --> create 1 df from multi dfs\n",
        "- ``` pd.read_csv(path)```  --> create 1 df from a csv file"
      ]
    },
    {
      "cell_type": "code",
      "execution_count": 16,
      "metadata": {
        "id": "cI0W2L18nEFD"
      },
      "outputs": [
        {
          "data": {
            "text/plain": [
              "'1.4.4'"
            ]
          },
          "execution_count": 16,
          "metadata": {},
          "output_type": "execute_result"
        }
      ],
      "source": [
        "import pandas as pd\n",
        "import numpy as np\n",
        "\n",
        "pd.set_option(\"display.min_rows\", 0) \n",
        "pd.set_option(\"display.max_rows\", 30) \n",
        "pd.__version__"
      ]
    },
    {
      "cell_type": "code",
      "execution_count": 17,
      "metadata": {
        "colab": {
          "base_uri": "https://localhost:8080/"
        },
        "id": "OH3Hy6AMnEFD",
        "outputId": "3002ac6e-013c-4334-db4c-382c2584f60e"
      },
      "outputs": [],
      "source": [
        "url = \"https://drive.google.com/file/d/1FYhN_2AzTBFuWcfHaRuKcuCE6CWXsWtG/view?usp=sharing\" \n",
        "path = \"https://drive.google.com/uc?export=download&id=\"+url.split(\"/\")[-2]\n",
        "ol = pd.read_csv(path)"
      ]
    },
    {
      "cell_type": "markdown",
      "metadata": {
        "id": "emAynTSAnEFG"
      },
      "source": [
        "      ===============================================\n",
        "\n",
        "## Rename Columns , Set Index\n",
        "- Rules: \n",
        "    - add 2-3 chars prefix to all columns\n",
        "    - change column name to CamelCase\n",
        "    - shorten it as max as possible\n",
        "    - the Unique column shall have ALL_CAP name\n",
        " - ``` df.columns```   , ``` df.index``` \n",
        " - ``` df=df.rename(columns={\"A\": \"a\", \"B\": \"c\"})``` \n",
        " - ``` df.columns = [\"a\",\"b\":\"x\"]``` \n",
        "     - take care, renaming the columns like that will convert the NAN to some value!!\n",
        " - ``` df=df.set_index(\"col\")```  , ``` df=df.reset_index()``` "
      ]
    },
    {
      "cell_type": "code",
      "execution_count": 18,
      "metadata": {
        "colab": {
          "base_uri": "https://localhost:8080/"
        },
        "id": "SrA_W_qWnEFG",
        "outputId": "78b0fa7e-b4e6-46b6-8754-0795641bf050"
      },
      "outputs": [
        {
          "data": {
            "text/plain": [
              "Index(['id', 'id_order', 'product_id', 'product_quantity', 'sku', 'unit_price',\n",
              "       'date'],\n",
              "      dtype='object')"
            ]
          },
          "execution_count": 18,
          "metadata": {},
          "output_type": "execute_result"
        }
      ],
      "source": [
        "ol.columns"
      ]
    },
    {
      "cell_type": "code",
      "execution_count": 19,
      "metadata": {
        "id": "qXZYkcSwvSWx"
      },
      "outputs": [],
      "source": [
        "ol=ol.rename(columns={\"id\": \"OL_ID\"\n",
        "                        , \"id_order\": \"ol_ORD_ID\"\n",
        "                        , \"product_id\": \"ol_ProdId\"\n",
        "                        , \"product_quantity\": \"ol_ProdQnty\"\n",
        "                        , \"sku\": \"ol_Sku\"\n",
        "                        , \"unit_price\": \"ol_ProdUntPr\"\n",
        "                        , \"date\": \"ol_ProcessDate\"})"
      ]
    },
    {
      "cell_type": "code",
      "execution_count": 20,
      "metadata": {},
      "outputs": [
        {
          "data": {
            "text/plain": [
              "Index(['OL_ID', 'ol_ORD_ID', 'ol_ProdId', 'ol_ProdQnty', 'ol_Sku',\n",
              "       'ol_ProdUntPr', 'ol_ProcessDate'],\n",
              "      dtype='object')"
            ]
          },
          "execution_count": 20,
          "metadata": {},
          "output_type": "execute_result"
        }
      ],
      "source": [
        "ol.columns"
      ]
    },
    {
      "cell_type": "code",
      "execution_count": 21,
      "metadata": {
        "colab": {
          "base_uri": "https://localhost:8080/"
        },
        "id": "A7T1mMH1nEFH",
        "outputId": "2ebba2d5-5423-46df-f331-baa8e559fd53"
      },
      "outputs": [
        {
          "data": {
            "text/plain": [
              "RangeIndex(start=0, stop=293983, step=1)"
            ]
          },
          "execution_count": 21,
          "metadata": {},
          "output_type": "execute_result"
        }
      ],
      "source": [
        "ol.index #hint: no need to change index"
      ]
    },
    {
      "cell_type": "markdown",
      "metadata": {
        "id": "H_6VgqtSnEFD"
      },
      "source": [
        "    ==============================================================================================\n",
        "\n",
        "## Explore the data\n",
        "- ``` df.shape``` , ``` df.size``` , ``` df.ndim``` \n",
        "- ``` df.sample(5)``` , ``` df.info()``` \n",
        "- Numerical : ``` df.describe()``` , ``` df.col.nlargest()``` , ``` df.col.nsmallest()``` \n",
        "- Category : ``` df.nunique()``` , ``` df.unique() ``` "
      ]
    },
    {
      "cell_type": "code",
      "execution_count": 22,
      "metadata": {
        "colab": {
          "base_uri": "https://localhost:8080/"
        },
        "id": "FA_Kn2opnEFE",
        "outputId": "8b3444ba-4006-4645-907b-ddf619d21b91"
      },
      "outputs": [
        {
          "data": {
            "text/plain": [
              "(293983, 7)"
            ]
          },
          "execution_count": 22,
          "metadata": {},
          "output_type": "execute_result"
        }
      ],
      "source": [
        "ol.shape"
      ]
    },
    {
      "cell_type": "code",
      "execution_count": 23,
      "metadata": {
        "colab": {
          "base_uri": "https://localhost:8080/",
          "height": 206
        },
        "id": "DdJ36FwTnEFE",
        "outputId": "2b93902a-30a1-4e57-cb5b-63d6aca66c57"
      },
      "outputs": [
        {
          "data": {
            "text/html": [
              "<div>\n",
              "<style scoped>\n",
              "    .dataframe tbody tr th:only-of-type {\n",
              "        vertical-align: middle;\n",
              "    }\n",
              "\n",
              "    .dataframe tbody tr th {\n",
              "        vertical-align: top;\n",
              "    }\n",
              "\n",
              "    .dataframe thead th {\n",
              "        text-align: right;\n",
              "    }\n",
              "</style>\n",
              "<table border=\"1\" class=\"dataframe\">\n",
              "  <thead>\n",
              "    <tr style=\"text-align: right;\">\n",
              "      <th></th>\n",
              "      <th>OL_ID</th>\n",
              "      <th>ol_ORD_ID</th>\n",
              "      <th>ol_ProdId</th>\n",
              "      <th>ol_ProdQnty</th>\n",
              "      <th>ol_Sku</th>\n",
              "      <th>ol_ProdUntPr</th>\n",
              "      <th>ol_ProcessDate</th>\n",
              "    </tr>\n",
              "  </thead>\n",
              "  <tbody>\n",
              "    <tr>\n",
              "      <th>1535</th>\n",
              "      <td>1122273</td>\n",
              "      <td>300965</td>\n",
              "      <td>0</td>\n",
              "      <td>1</td>\n",
              "      <td>HTE0008</td>\n",
              "      <td>29.99</td>\n",
              "      <td>2017-01-02 20:34:12</td>\n",
              "    </tr>\n",
              "    <tr>\n",
              "      <th>62431</th>\n",
              "      <td>1242935</td>\n",
              "      <td>353397</td>\n",
              "      <td>0</td>\n",
              "      <td>1</td>\n",
              "      <td>APP1853</td>\n",
              "      <td>2.658.99</td>\n",
              "      <td>2017-05-07 08:53:10</td>\n",
              "    </tr>\n",
              "    <tr>\n",
              "      <th>229188</th>\n",
              "      <td>1545961</td>\n",
              "      <td>485135</td>\n",
              "      <td>0</td>\n",
              "      <td>1</td>\n",
              "      <td>APP0482</td>\n",
              "      <td>33.00</td>\n",
              "      <td>2018-01-08 10:13:03</td>\n",
              "    </tr>\n",
              "    <tr>\n",
              "      <th>273577</th>\n",
              "      <td>1617742</td>\n",
              "      <td>513307</td>\n",
              "      <td>0</td>\n",
              "      <td>1</td>\n",
              "      <td>BEL0311</td>\n",
              "      <td>19.99</td>\n",
              "      <td>2018-02-17 12:28:07</td>\n",
              "    </tr>\n",
              "    <tr>\n",
              "      <th>237705</th>\n",
              "      <td>1560405</td>\n",
              "      <td>490833</td>\n",
              "      <td>0</td>\n",
              "      <td>1</td>\n",
              "      <td>APP2514</td>\n",
              "      <td>37.00</td>\n",
              "      <td>2018-01-14 23:15:55</td>\n",
              "    </tr>\n",
              "    <tr>\n",
              "      <th>21581</th>\n",
              "      <td>1168411</td>\n",
              "      <td>318585</td>\n",
              "      <td>0</td>\n",
              "      <td>1</td>\n",
              "      <td>ADN0042</td>\n",
              "      <td>74.99</td>\n",
              "      <td>2017-02-01 00:36:07</td>\n",
              "    </tr>\n",
              "    <tr>\n",
              "      <th>45281</th>\n",
              "      <td>1212844</td>\n",
              "      <td>338888</td>\n",
              "      <td>0</td>\n",
              "      <td>1</td>\n",
              "      <td>LOG0190</td>\n",
              "      <td>24.99</td>\n",
              "      <td>2017-03-24 22:31:47</td>\n",
              "    </tr>\n",
              "    <tr>\n",
              "      <th>128246</th>\n",
              "      <td>1373369</td>\n",
              "      <td>408609</td>\n",
              "      <td>0</td>\n",
              "      <td>1</td>\n",
              "      <td>SAT0040</td>\n",
              "      <td>25.49</td>\n",
              "      <td>2017-10-08 23:12:13</td>\n",
              "    </tr>\n",
              "    <tr>\n",
              "      <th>27947</th>\n",
              "      <td>1180361</td>\n",
              "      <td>324092</td>\n",
              "      <td>0</td>\n",
              "      <td>1</td>\n",
              "      <td>SEA0106</td>\n",
              "      <td>103.99</td>\n",
              "      <td>2017-02-14 14:19:28</td>\n",
              "    </tr>\n",
              "    <tr>\n",
              "      <th>46961</th>\n",
              "      <td>1215987</td>\n",
              "      <td>338465</td>\n",
              "      <td>0</td>\n",
              "      <td>1</td>\n",
              "      <td>APP1581</td>\n",
              "      <td>1.016.99</td>\n",
              "      <td>2017-03-29 08:49:23</td>\n",
              "    </tr>\n",
              "  </tbody>\n",
              "</table>\n",
              "</div>"
            ],
            "text/plain": [
              "          OL_ID  ol_ORD_ID  ol_ProdId  ol_ProdQnty   ol_Sku ol_ProdUntPr  \\\n",
              "1535    1122273     300965          0            1  HTE0008        29.99   \n",
              "62431   1242935     353397          0            1  APP1853     2.658.99   \n",
              "229188  1545961     485135          0            1  APP0482        33.00   \n",
              "273577  1617742     513307          0            1  BEL0311        19.99   \n",
              "237705  1560405     490833          0            1  APP2514        37.00   \n",
              "21581   1168411     318585          0            1  ADN0042        74.99   \n",
              "45281   1212844     338888          0            1  LOG0190        24.99   \n",
              "128246  1373369     408609          0            1  SAT0040        25.49   \n",
              "27947   1180361     324092          0            1  SEA0106       103.99   \n",
              "46961   1215987     338465          0            1  APP1581     1.016.99   \n",
              "\n",
              "             ol_ProcessDate  \n",
              "1535    2017-01-02 20:34:12  \n",
              "62431   2017-05-07 08:53:10  \n",
              "229188  2018-01-08 10:13:03  \n",
              "273577  2018-02-17 12:28:07  \n",
              "237705  2018-01-14 23:15:55  \n",
              "21581   2017-02-01 00:36:07  \n",
              "45281   2017-03-24 22:31:47  \n",
              "128246  2017-10-08 23:12:13  \n",
              "27947   2017-02-14 14:19:28  \n",
              "46961   2017-03-29 08:49:23  "
            ]
          },
          "execution_count": 23,
          "metadata": {},
          "output_type": "execute_result"
        }
      ],
      "source": [
        "ol.sample(10)\n",
        "## unit_price has numbers like 3.121.59 TODO: fix it to proper float"
      ]
    },
    {
      "cell_type": "code",
      "execution_count": 24,
      "metadata": {
        "colab": {
          "base_uri": "https://localhost:8080/"
        },
        "id": "56OTkBi3nEFF",
        "outputId": "9b946aac-a568-4f89-8c78-e396e372520b"
      },
      "outputs": [
        {
          "name": "stdout",
          "output_type": "stream",
          "text": [
            "<class 'pandas.core.frame.DataFrame'>\n",
            "RangeIndex: 293983 entries, 0 to 293982\n",
            "Data columns (total 7 columns):\n",
            " #   Column          Non-Null Count   Dtype \n",
            "---  ------          --------------   ----- \n",
            " 0   OL_ID           293983 non-null  int64 \n",
            " 1   ol_ORD_ID       293983 non-null  int64 \n",
            " 2   ol_ProdId       293983 non-null  int64 \n",
            " 3   ol_ProdQnty     293983 non-null  int64 \n",
            " 4   ol_Sku          293983 non-null  object\n",
            " 5   ol_ProdUntPr    293983 non-null  object\n",
            " 6   ol_ProcessDate  293983 non-null  object\n",
            "dtypes: int64(4), object(3)\n",
            "memory usage: 15.7+ MB\n"
          ]
        }
      ],
      "source": [
        "ol.info()  \n",
        "## hint: there are no nulls \n",
        "## hint: date  is of type object, has to be datetime - TODO: fix required\n",
        "## hint: unit_price is of type object, has to be float - TODO: fix required"
      ]
    },
    {
      "cell_type": "code",
      "execution_count": 25,
      "metadata": {
        "colab": {
          "base_uri": "https://localhost:8080/",
          "height": 300
        },
        "id": "j0vx5ysTnEFF",
        "outputId": "8286c862-4634-4e57-b89f-94b16aff99e3"
      },
      "outputs": [
        {
          "data": {
            "text/html": [
              "<div>\n",
              "<style scoped>\n",
              "    .dataframe tbody tr th:only-of-type {\n",
              "        vertical-align: middle;\n",
              "    }\n",
              "\n",
              "    .dataframe tbody tr th {\n",
              "        vertical-align: top;\n",
              "    }\n",
              "\n",
              "    .dataframe thead th {\n",
              "        text-align: right;\n",
              "    }\n",
              "</style>\n",
              "<table border=\"1\" class=\"dataframe\">\n",
              "  <thead>\n",
              "    <tr style=\"text-align: right;\">\n",
              "      <th></th>\n",
              "      <th>OL_ID</th>\n",
              "      <th>ol_ORD_ID</th>\n",
              "      <th>ol_ProdId</th>\n",
              "      <th>ol_ProdQnty</th>\n",
              "    </tr>\n",
              "  </thead>\n",
              "  <tbody>\n",
              "    <tr>\n",
              "      <th>count</th>\n",
              "      <td>2.939830e+05</td>\n",
              "      <td>293983.000000</td>\n",
              "      <td>293983.0</td>\n",
              "      <td>293983.000000</td>\n",
              "    </tr>\n",
              "    <tr>\n",
              "      <th>mean</th>\n",
              "      <td>1.397918e+06</td>\n",
              "      <td>419999.116544</td>\n",
              "      <td>0.0</td>\n",
              "      <td>1.121126</td>\n",
              "    </tr>\n",
              "    <tr>\n",
              "      <th>std</th>\n",
              "      <td>1.530096e+05</td>\n",
              "      <td>66344.486479</td>\n",
              "      <td>0.0</td>\n",
              "      <td>3.396569</td>\n",
              "    </tr>\n",
              "    <tr>\n",
              "      <th>min</th>\n",
              "      <td>1.119109e+06</td>\n",
              "      <td>241319.000000</td>\n",
              "      <td>0.0</td>\n",
              "      <td>1.000000</td>\n",
              "    </tr>\n",
              "    <tr>\n",
              "      <th>25%</th>\n",
              "      <td>1.262542e+06</td>\n",
              "      <td>362258.500000</td>\n",
              "      <td>0.0</td>\n",
              "      <td>1.000000</td>\n",
              "    </tr>\n",
              "    <tr>\n",
              "      <th>50%</th>\n",
              "      <td>1.406940e+06</td>\n",
              "      <td>425956.000000</td>\n",
              "      <td>0.0</td>\n",
              "      <td>1.000000</td>\n",
              "    </tr>\n",
              "    <tr>\n",
              "      <th>75%</th>\n",
              "      <td>1.531322e+06</td>\n",
              "      <td>478657.000000</td>\n",
              "      <td>0.0</td>\n",
              "      <td>1.000000</td>\n",
              "    </tr>\n",
              "    <tr>\n",
              "      <th>max</th>\n",
              "      <td>1.650203e+06</td>\n",
              "      <td>527401.000000</td>\n",
              "      <td>0.0</td>\n",
              "      <td>999.000000</td>\n",
              "    </tr>\n",
              "  </tbody>\n",
              "</table>\n",
              "</div>"
            ],
            "text/plain": [
              "              OL_ID      ol_ORD_ID  ol_ProdId    ol_ProdQnty\n",
              "count  2.939830e+05  293983.000000   293983.0  293983.000000\n",
              "mean   1.397918e+06  419999.116544        0.0       1.121126\n",
              "std    1.530096e+05   66344.486479        0.0       3.396569\n",
              "min    1.119109e+06  241319.000000        0.0       1.000000\n",
              "25%    1.262542e+06  362258.500000        0.0       1.000000\n",
              "50%    1.406940e+06  425956.000000        0.0       1.000000\n",
              "75%    1.531322e+06  478657.000000        0.0       1.000000\n",
              "max    1.650203e+06  527401.000000        0.0     999.000000"
            ]
          },
          "execution_count": 25,
          "metadata": {},
          "output_type": "execute_result"
        }
      ],
      "source": [
        "ol.describe()\n",
        "# hint: product_id seems like empty and shall be removed - TODO: Fix required\n",
        "# hint: product_quantity 3rd quartile = min = 1, max=999! \n",
        "    # probably we shall handle orders with different quantities differently - TODO:fix required"
      ]
    },
    {
      "cell_type": "code",
      "execution_count": 26,
      "metadata": {
        "colab": {
          "base_uri": "https://localhost:8080/"
        },
        "id": "LWsD94v7nEFF",
        "outputId": "40dfb857-891f-4ed5-93e3-5c34d1cf3835"
      },
      "outputs": [
        {
          "data": {
            "text/plain": [
              "OL_ID             293983\n",
              "ol_ORD_ID         204855\n",
              "ol_ProdId              1\n",
              "ol_ProdQnty           67\n",
              "ol_Sku              7951\n",
              "ol_ProdUntPr       11329\n",
              "ol_ProcessDate    251631\n",
              "dtype: int64"
            ]
          },
          "execution_count": 26,
          "metadata": {},
          "output_type": "execute_result"
        }
      ],
      "source": [
        "ol.nunique() # hint: id is unique per row \n",
        "# hint: product_id is useless, shall be removed - TODO: fix required"
      ]
    },
    {
      "cell_type": "code",
      "execution_count": 27,
      "metadata": {
        "colab": {
          "base_uri": "https://localhost:8080/"
        },
        "id": "-L31okREnEFF",
        "outputId": "4c725a56-b588-4df7-e5f9-b236d03e2636"
      },
      "outputs": [
        {
          "data": {
            "text/plain": [
              "array([0], dtype=int64)"
            ]
          },
          "execution_count": 27,
          "metadata": {},
          "output_type": "execute_result"
        }
      ],
      "source": [
        "ol.ol_ProdId.unique()\n",
        "#hint: useless data\n"
      ]
    },
    {
      "cell_type": "code",
      "execution_count": 28,
      "metadata": {
        "colab": {
          "base_uri": "https://localhost:8080/"
        },
        "id": "G_huaPhRDqxj",
        "outputId": "be891056-c7c3-49bf-82b9-45df953851a9"
      },
      "outputs": [
        {
          "data": {
            "text/plain": [
              "225400       0.00\n",
              "225401       0.00\n",
              "276547       0.00\n",
              "276548       0.00\n",
              "67456        0.00\n",
              "199139       0.00\n",
              "280903       0.00\n",
              "67563        0.00\n",
              "280907       0.00\n",
              "67854        0.00\n",
              "265161       0.00\n",
              "256505       0.00\n",
              "280906       0.00\n",
              "246443       0.00\n",
              "256504       0.00\n",
              "           ...   \n",
              "67585        0.00\n",
              "67626        0.00\n",
              "212228       0.00\n",
              "280904       0.00\n",
              "67644        0.00\n",
              "67661        0.00\n",
              "67682        0.00\n",
              "67701        0.00\n",
              "212227       0.00\n",
              "67717        0.00\n",
              "265154       0.00\n",
              "67746        0.00\n",
              "265156       0.00\n",
              "261851       0.00\n",
              "77008     -119.00\n",
              "Name: ol_ProdUntPr, Length: 40, dtype: object"
            ]
          },
          "execution_count": 28,
          "metadata": {},
          "output_type": "execute_result"
        }
      ],
      "source": [
        "ol.ol_ProdUntPr.sort_values(ascending=False).tail(40) \n",
        "# There is negative value in ol_ProdUnitPrice,  TODO: Fix Required"
      ]
    },
    {
      "cell_type": "code",
      "execution_count": 29,
      "metadata": {
        "colab": {
          "base_uri": "https://localhost:8080/",
          "height": 423
        },
        "id": "_g9m1mbEE_xI",
        "outputId": "079df2bf-0136-486a-d586-ca4db07d18b5"
      },
      "outputs": [
        {
          "data": {
            "text/plain": [
              "946"
            ]
          },
          "execution_count": 29,
          "metadata": {},
          "output_type": "execute_result"
        }
      ],
      "source": [
        "ol.loc[(ol.ol_ProdUntPr == \"0.00\")].ol_ProdQnty.sum()\n",
        "#That amount of product with price 0.00! TODO:check more about it 946/293983 = 0.3%"
      ]
    },
    {
      "cell_type": "markdown",
      "metadata": {
        "id": "iBFBMEEWnEFG"
      },
      "source": [
        "    ==============================================================================================\n",
        "\n",
        "## Initial Clean\n",
        "- Remember to create a copy of the df using ``` df.copy()``` "
      ]
    },
    {
      "cell_type": "code",
      "execution_count": 30,
      "metadata": {
        "id": "Ojy5J29rnEFG"
      },
      "outputs": [],
      "source": [
        "ol_original = ol.copy()"
      ]
    },
    {
      "cell_type": "markdown",
      "metadata": {},
      "source": [
        "      ===============================================\n",
        "\n",
        "### Strip whitespaces\n",
        "- ``` df.applymap(lambda x: x.strip() if isinstance(x, str) else x)```"
      ]
    },
    {
      "cell_type": "code",
      "execution_count": 31,
      "metadata": {},
      "outputs": [],
      "source": [
        "ol = ol.applymap(lambda x: x.strip() if isinstance(x, str) else x)"
      ]
    },
    {
      "cell_type": "markdown",
      "metadata": {
        "id": "dFhPLGSQnEFH"
      },
      "source": [
        "      ===============================================\n",
        "### Remove Duplicates Rows\n",
        "- ``` df.duplicated().sum()``` \n",
        "- ``` df.loc[df.duplicated()==True]``` \n",
        "- ``` df=df.drop:duplicates() ``` \n",
        "- ``` df=df.drop:duplicates(subset=[\"col\"])```  --> remove rows based on duplicated in specific column"
      ]
    },
    {
      "cell_type": "code",
      "execution_count": 32,
      "metadata": {
        "colab": {
          "base_uri": "https://localhost:8080/"
        },
        "id": "uwR3XOZXnEFH",
        "outputId": "26a3a61c-d5f6-4dea-fc57-cbd4065ae58c"
      },
      "outputs": [
        {
          "data": {
            "text/plain": [
              "0"
            ]
          },
          "execution_count": 32,
          "metadata": {},
          "output_type": "execute_result"
        }
      ],
      "source": [
        "ol.duplicated().sum() #hint : No duplicates"
      ]
    },
    {
      "cell_type": "markdown",
      "metadata": {},
      "source": [
        "      =======================\n",
        "\n",
        "#### Remove duplicated rows related to Unique columns\n",
        "- find possible duplicates ``` len(df.col.unique()) == df.shape[0] ``` \n",
        "- get the excat value for duplicate columns ``` df.loc[df.duplicated(subset=\"col\")]``` \n",
        "- find all columns with same value ``` df[df.col==\"val\"]``` "
      ]
    },
    {
      "cell_type": "markdown",
      "metadata": {},
      "source": [
        "check if ol_ID is unique"
      ]
    },
    {
      "cell_type": "code",
      "execution_count": 33,
      "metadata": {},
      "outputs": [
        {
          "data": {
            "text/plain": [
              "True"
            ]
          },
          "execution_count": 33,
          "metadata": {},
          "output_type": "execute_result"
        }
      ],
      "source": [
        "len(ol.OL_ID.unique()) == ol.shape[0]"
      ]
    },
    {
      "cell_type": "markdown",
      "metadata": {
        "id": "5l0U9Ew-nEFM"
      },
      "source": [
        "      ===============================================\n",
        "\n",
        "### Drop duplicate/un-necessary Columns\n",
        "- ``` df=df.drop(columns=[\"col1\",\"col2\"])``` "
      ]
    },
    {
      "cell_type": "code",
      "execution_count": 34,
      "metadata": {
        "colab": {
          "base_uri": "https://localhost:8080/",
          "height": 300
        },
        "id": "flZkQLFanEFM",
        "outputId": "4cf45c33-9327-4489-b86d-9c19b9ae7a2e"
      },
      "outputs": [
        {
          "data": {
            "text/html": [
              "<div>\n",
              "<style scoped>\n",
              "    .dataframe tbody tr th:only-of-type {\n",
              "        vertical-align: middle;\n",
              "    }\n",
              "\n",
              "    .dataframe tbody tr th {\n",
              "        vertical-align: top;\n",
              "    }\n",
              "\n",
              "    .dataframe thead th {\n",
              "        text-align: right;\n",
              "    }\n",
              "</style>\n",
              "<table border=\"1\" class=\"dataframe\">\n",
              "  <thead>\n",
              "    <tr style=\"text-align: right;\">\n",
              "      <th></th>\n",
              "      <th>OL_ID</th>\n",
              "      <th>ol_ORD_ID</th>\n",
              "      <th>ol_ProdId</th>\n",
              "      <th>ol_ProdQnty</th>\n",
              "    </tr>\n",
              "  </thead>\n",
              "  <tbody>\n",
              "    <tr>\n",
              "      <th>count</th>\n",
              "      <td>2.939830e+05</td>\n",
              "      <td>293983.000000</td>\n",
              "      <td>293983.0</td>\n",
              "      <td>293983.000000</td>\n",
              "    </tr>\n",
              "    <tr>\n",
              "      <th>mean</th>\n",
              "      <td>1.397918e+06</td>\n",
              "      <td>419999.116544</td>\n",
              "      <td>0.0</td>\n",
              "      <td>1.121126</td>\n",
              "    </tr>\n",
              "    <tr>\n",
              "      <th>std</th>\n",
              "      <td>1.530096e+05</td>\n",
              "      <td>66344.486479</td>\n",
              "      <td>0.0</td>\n",
              "      <td>3.396569</td>\n",
              "    </tr>\n",
              "    <tr>\n",
              "      <th>min</th>\n",
              "      <td>1.119109e+06</td>\n",
              "      <td>241319.000000</td>\n",
              "      <td>0.0</td>\n",
              "      <td>1.000000</td>\n",
              "    </tr>\n",
              "    <tr>\n",
              "      <th>25%</th>\n",
              "      <td>1.262542e+06</td>\n",
              "      <td>362258.500000</td>\n",
              "      <td>0.0</td>\n",
              "      <td>1.000000</td>\n",
              "    </tr>\n",
              "    <tr>\n",
              "      <th>50%</th>\n",
              "      <td>1.406940e+06</td>\n",
              "      <td>425956.000000</td>\n",
              "      <td>0.0</td>\n",
              "      <td>1.000000</td>\n",
              "    </tr>\n",
              "    <tr>\n",
              "      <th>75%</th>\n",
              "      <td>1.531322e+06</td>\n",
              "      <td>478657.000000</td>\n",
              "      <td>0.0</td>\n",
              "      <td>1.000000</td>\n",
              "    </tr>\n",
              "    <tr>\n",
              "      <th>max</th>\n",
              "      <td>1.650203e+06</td>\n",
              "      <td>527401.000000</td>\n",
              "      <td>0.0</td>\n",
              "      <td>999.000000</td>\n",
              "    </tr>\n",
              "  </tbody>\n",
              "</table>\n",
              "</div>"
            ],
            "text/plain": [
              "              OL_ID      ol_ORD_ID  ol_ProdId    ol_ProdQnty\n",
              "count  2.939830e+05  293983.000000   293983.0  293983.000000\n",
              "mean   1.397918e+06  419999.116544        0.0       1.121126\n",
              "std    1.530096e+05   66344.486479        0.0       3.396569\n",
              "min    1.119109e+06  241319.000000        0.0       1.000000\n",
              "25%    1.262542e+06  362258.500000        0.0       1.000000\n",
              "50%    1.406940e+06  425956.000000        0.0       1.000000\n",
              "75%    1.531322e+06  478657.000000        0.0       1.000000\n",
              "max    1.650203e+06  527401.000000        0.0     999.000000"
            ]
          },
          "execution_count": 34,
          "metadata": {},
          "output_type": "execute_result"
        }
      ],
      "source": [
        "ol.describe() ## hint: all columns contain needed data. nothing to drop"
      ]
    },
    {
      "cell_type": "markdown",
      "metadata": {},
      "source": [
        "drop ol_ProductId"
      ]
    },
    {
      "cell_type": "code",
      "execution_count": 35,
      "metadata": {},
      "outputs": [],
      "source": [
        "ol = ol.drop(columns=[\"ol_ProdId\"])"
      ]
    },
    {
      "cell_type": "markdown",
      "metadata": {},
      "source": [
        "    ==============================================================================================\n",
        "\n",
        "## Compare to original DataFrame\n",
        "``` df.compare(df2)``` "
      ]
    },
    {
      "cell_type": "code",
      "execution_count": 36,
      "metadata": {},
      "outputs": [],
      "source": [
        "#ol.compare(ol_original)"
      ]
    },
    {
      "cell_type": "markdown",
      "metadata": {},
      "source": [
        "    ==============================================================================================\n",
        "\n",
        "## Export the cleaned DataFrame\n",
        "\n",
        "``` df.to_pickle(\"file_name.pkl\")``` "
      ]
    },
    {
      "cell_type": "code",
      "execution_count": 37,
      "metadata": {},
      "outputs": [],
      "source": [
        "ol.to_pickle(\"clean_Tables\\OrderLines_c.pkl\")"
      ]
    }
  ],
  "metadata": {
    "colab": {
      "authorship_tag": "ABX9TyMT7v9XshVXAURmbT7onweZ",
      "include_colab_link": true,
      "provenance": [],
      "toc_visible": true
    },
    "kernelspec": {
      "display_name": "Python 3.9.1 64-bit",
      "language": "python",
      "name": "python3"
    },
    "language_info": {
      "codemirror_mode": {
        "name": "ipython",
        "version": 3
      },
      "file_extension": ".py",
      "mimetype": "text/x-python",
      "name": "python",
      "nbconvert_exporter": "python",
      "pygments_lexer": "ipython3",
      "version": "3.9.1"
    },
    "vscode": {
      "interpreter": {
        "hash": "81794d4967e6c3204c66dcd87b604927b115b27c00565d3d43f05ba2f3a2cb0d"
      }
    }
  },
  "nbformat": 4,
  "nbformat_minor": 0
}
