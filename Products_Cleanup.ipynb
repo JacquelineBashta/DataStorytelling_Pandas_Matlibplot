{
  "cells": [
    {
      "cell_type": "markdown",
      "metadata": {
        "id": "jgqLMFFInEFC"
      },
      "source": [
        "# Products.csv (pro_)\n",
        "- sku – stock keeping unit: a unique identifier for each product\n",
        "- name – product name\n",
        "- desc – product description\n",
        "- in_stock – whether or not the product was in stock at the moment of the data extraction\n",
        "- type – a numerical code for product type"
      ]
    },
    {
      "cell_type": "markdown",
      "metadata": {
        "id": "mo3w8u4OnEFD"
      },
      "source": [
        "    ==============================================================================================\n",
        "\n",
        "## Importing the data\n",
        "- ``` glob-glob(\"file_pat\") ``` --> read multi files \n",
        "- ``` pd.concat(dfs_list, ignore_index=True)```  --> create 1 df from multi dfs\n",
        "- ``` pd.read_csv(path)```  --> create 1 df from a csv file"
      ]
    },
    {
      "cell_type": "code",
      "execution_count": 219,
      "metadata": {
        "id": "cI0W2L18nEFD"
      },
      "outputs": [
        {
          "data": {
            "text/plain": [
              "'1.4.4'"
            ]
          },
          "execution_count": 219,
          "metadata": {},
          "output_type": "execute_result"
        }
      ],
      "source": [
        "import pandas as pd\n",
        "import numpy as np\n",
        "\n",
        "pd.set_option(\"display.min_rows\", 0) \n",
        "pd.set_option(\"display.max_rows\", 30) \n",
        "pd.__version__"
      ]
    },
    {
      "cell_type": "code",
      "execution_count": 220,
      "metadata": {
        "colab": {
          "base_uri": "https://localhost:8080/"
        },
        "id": "OH3Hy6AMnEFD",
        "outputId": "3002ac6e-013c-4334-db4c-382c2584f60e"
      },
      "outputs": [],
      "source": [
        "url = \"https://drive.google.com/file/d/1afxwDXfl-7cQ_qLwyDitfcCx3u7WMvkU/view?usp=sharing\" \n",
        "path = \"https://drive.google.com/uc?export=download&id=\"+url.split(\"/\")[-2]\n",
        "pro = pd.read_csv(path)"
      ]
    },
    {
      "cell_type": "markdown",
      "metadata": {
        "id": "emAynTSAnEFG"
      },
      "source": [
        "      ===============================================\n",
        "\n",
        "## Rename Columns , Set Index\n",
        "- Rules: \n",
        "    - add 2-3 chars prefix to all columns\n",
        "    - change column name to CamelCase\n",
        "    - shorten it as max as possible\n",
        "    - the Unique column shall have ALL_CAP name\n",
        " - ``` df.columns```   , ``` df.index``` \n",
        " - ``` df=df.rename(columns={\"A\": \"a\", \"B\": \"c\"})``` \n",
        " - ``` df.columns = [\"a\",\"b\":\"x\"]``` \n",
        "     - take care, renaming the columns like that will convert the NAN to some value!!\n",
        " - ``` df=df.set_index(\"col\")```  , ``` df=df.reset_index()``` "
      ]
    },
    {
      "cell_type": "code",
      "execution_count": 221,
      "metadata": {
        "colab": {
          "base_uri": "https://localhost:8080/"
        },
        "id": "SrA_W_qWnEFG",
        "outputId": "78b0fa7e-b4e6-46b6-8754-0795641bf050"
      },
      "outputs": [
        {
          "data": {
            "text/plain": [
              "Index(['sku', 'name', 'desc', 'price', 'promo_price', 'in_stock', 'type'], dtype='object')"
            ]
          },
          "execution_count": 221,
          "metadata": {},
          "output_type": "execute_result"
        }
      ],
      "source": [
        "pro.columns"
      ]
    },
    {
      "cell_type": "code",
      "execution_count": 222,
      "metadata": {
        "id": "qXZYkcSwvSWx"
      },
      "outputs": [],
      "source": [
        "pro=pro.rename(columns={\"sku\": \"PRO_SKU\"\n",
        "                        , \"name\": \"pro_Name\"\n",
        "                        , \"desc\": \"pro_Desc\"\n",
        "                        , \"price\": \"pro_Pr\"\n",
        "                        , \"promo_price\": \"pro_PromPr\"\n",
        "                        , \"in_stock\": \"pro_InStock\"\n",
        "                        , \"type\": \"pro_Type\"})"
      ]
    },
    {
      "cell_type": "code",
      "execution_count": 223,
      "metadata": {},
      "outputs": [
        {
          "data": {
            "text/plain": [
              "Index(['PRO_SKU', 'pro_Name', 'pro_Desc', 'pro_Pr', 'pro_PromPr', 'pro_InStock', 'pro_Type'], dtype='object')"
            ]
          },
          "execution_count": 223,
          "metadata": {},
          "output_type": "execute_result"
        }
      ],
      "source": [
        "pro.columns"
      ]
    },
    {
      "cell_type": "code",
      "execution_count": 224,
      "metadata": {
        "colab": {
          "base_uri": "https://localhost:8080/"
        },
        "id": "A7T1mMH1nEFH",
        "outputId": "2ebba2d5-5423-46df-f331-baa8e559fd53"
      },
      "outputs": [
        {
          "data": {
            "text/plain": [
              "RangeIndex(start=0, stop=19326, step=1)"
            ]
          },
          "execution_count": 224,
          "metadata": {},
          "output_type": "execute_result"
        }
      ],
      "source": [
        "pro.index"
      ]
    },
    {
      "cell_type": "markdown",
      "metadata": {
        "id": "H_6VgqtSnEFD"
      },
      "source": [
        "    ==============================================================================================\n",
        "\n",
        "## Explore the data\n",
        "- ``` df.shape``` , ``` df.size``` , ``` df.ndim``` \n",
        "- ``` df.sample(5)``` , ``` df.info()``` \n",
        "- Numerical : ``` df.describe()``` , ``` df.col.nlargest()``` , ``` df.col.nsmallest()``` \n",
        "- Category : ``` df.nunique()``` , ``` df.unique() ``` "
      ]
    },
    {
      "cell_type": "code",
      "execution_count": 225,
      "metadata": {
        "colab": {
          "base_uri": "https://localhost:8080/"
        },
        "id": "FA_Kn2opnEFE",
        "outputId": "8b3444ba-4006-4645-907b-ddf619d21b91"
      },
      "outputs": [
        {
          "data": {
            "text/plain": [
              "(19326, 7)"
            ]
          },
          "execution_count": 225,
          "metadata": {},
          "output_type": "execute_result"
        }
      ],
      "source": [
        "pro.shape"
      ]
    },
    {
      "cell_type": "code",
      "execution_count": 226,
      "metadata": {
        "colab": {
          "base_uri": "https://localhost:8080/",
          "height": 206
        },
        "id": "DdJ36FwTnEFE",
        "outputId": "2b93902a-30a1-4e57-cb5b-63d6aca66c57"
      },
      "outputs": [
        {
          "data": {
            "text/html": [
              "<div>\n",
              "<style scoped>\n",
              "    .dataframe tbody tr th:only-of-type {\n",
              "        vertical-align: middle;\n",
              "    }\n",
              "\n",
              "    .dataframe tbody tr th {\n",
              "        vertical-align: top;\n",
              "    }\n",
              "\n",
              "    .dataframe thead th {\n",
              "        text-align: right;\n",
              "    }\n",
              "</style>\n",
              "<table border=\"1\" class=\"dataframe\">\n",
              "  <thead>\n",
              "    <tr style=\"text-align: right;\">\n",
              "      <th></th>\n",
              "      <th>PRO_SKU</th>\n",
              "      <th>pro_Name</th>\n",
              "      <th>pro_Desc</th>\n",
              "      <th>pro_Pr</th>\n",
              "      <th>pro_PromPr</th>\n",
              "      <th>pro_InStock</th>\n",
              "      <th>pro_Type</th>\n",
              "    </tr>\n",
              "  </thead>\n",
              "  <tbody>\n",
              "    <tr>\n",
              "      <th>16342</th>\n",
              "      <td>APP2269</td>\n",
              "      <td>Apple MacBook Pro 13 \"Core i5 Touch Bar 33GHz ...</td>\n",
              "      <td>New MacBook Pro 13 inch Touch Bar 33 GHz Core ...</td>\n",
              "      <td>2869</td>\n",
              "      <td>26.970.041</td>\n",
              "      <td>0</td>\n",
              "      <td>1,02E+12</td>\n",
              "    </tr>\n",
              "    <tr>\n",
              "      <th>13011</th>\n",
              "      <td>IOT0022</td>\n",
              "      <td>iOttie Easy One Touch Mini Car iPhone Support ...</td>\n",
              "      <td>Mini support for car vent all models of iPhone</td>\n",
              "      <td>29.99</td>\n",
              "      <td>209.899</td>\n",
              "      <td>1</td>\n",
              "      <td>5720</td>\n",
              "    </tr>\n",
              "    <tr>\n",
              "      <th>5009</th>\n",
              "      <td>PAC1044</td>\n",
              "      <td>Apple iMac 27 \"Core i5 3.3GHz Retina 5K | 16GB...</td>\n",
              "      <td>IMac desktop computer 27 inch 5K Retina i5 3.3...</td>\n",
              "      <td>3109</td>\n",
              "      <td>28.169.901</td>\n",
              "      <td>0</td>\n",
              "      <td>5,74E+15</td>\n",
              "    </tr>\n",
              "    <tr>\n",
              "      <th>7979</th>\n",
              "      <td>PAC1628</td>\n",
              "      <td>Apple iMac 27 \"Core i7 Retina 5K 4GHz | 32GB R...</td>\n",
              "      <td>IMac desktop computer 27 inch Retina 5K 4GHz C...</td>\n",
              "      <td>5389</td>\n",
              "      <td>40.499.898</td>\n",
              "      <td>0</td>\n",
              "      <td>5,74E+15</td>\n",
              "    </tr>\n",
              "    <tr>\n",
              "      <th>3606</th>\n",
              "      <td>APP1378</td>\n",
              "      <td>Apple iMac 27 \"Core i7 Retina 5K 4GHz | 8GB | ...</td>\n",
              "      <td>IMac desktop computer 27 inch 8GB RAM 256GB Re...</td>\n",
              "      <td>2929</td>\n",
              "      <td>27.895.848</td>\n",
              "      <td>0</td>\n",
              "      <td>5,74E+15</td>\n",
              "    </tr>\n",
              "    <tr>\n",
              "      <th>1250</th>\n",
              "      <td>TUC0171</td>\n",
              "      <td>Filo Tucano iPhone 6 Case Silver</td>\n",
              "      <td>Case closed book card case for iPhone 6.</td>\n",
              "      <td>26.9</td>\n",
              "      <td>184.888</td>\n",
              "      <td>0</td>\n",
              "      <td>11865403</td>\n",
              "    </tr>\n",
              "    <tr>\n",
              "      <th>18662</th>\n",
              "      <td>APP0762</td>\n",
              "      <td>Wireless Apple Keyboard German unboxed</td>\n",
              "      <td>Wireless Keyboard Apple Wireless Keyboard Germ...</td>\n",
              "      <td>79</td>\n",
              "      <td>639.993</td>\n",
              "      <td>1</td>\n",
              "      <td>13855401</td>\n",
              "    </tr>\n",
              "    <tr>\n",
              "      <th>16149</th>\n",
              "      <td>ADN0050</td>\n",
              "      <td>Adonit Jot Mini 3.0 Pointer Silver</td>\n",
              "      <td>Triangular pointer with clip design disc trans...</td>\n",
              "      <td>25.2</td>\n",
              "      <td>189.897</td>\n",
              "      <td>0</td>\n",
              "      <td>1229</td>\n",
              "    </tr>\n",
              "    <tr>\n",
              "      <th>14864</th>\n",
              "      <td>NTE0110</td>\n",
              "      <td>NewerTech NuPower Charger 60W USB-C for MacBoo...</td>\n",
              "      <td>60W charger with USB-C and USB 3.0 connection ...</td>\n",
              "      <td>72.99</td>\n",
              "      <td>599.906</td>\n",
              "      <td>0</td>\n",
              "      <td>1515</td>\n",
              "    </tr>\n",
              "    <tr>\n",
              "      <th>10699</th>\n",
              "      <td>PAC1168</td>\n",
              "      <td>Synology DS416 Pack | Seagate 16TB IronWolf</td>\n",
              "      <td>Synology DS416 + Pack 16TB (4x4TB) IronWolf Se...</td>\n",
              "      <td>1105.95</td>\n",
              "      <td>9.023.684</td>\n",
              "      <td>0</td>\n",
              "      <td>12175397</td>\n",
              "    </tr>\n",
              "  </tbody>\n",
              "</table>\n",
              "</div>"
            ],
            "text/plain": [
              "       PRO_SKU                                           pro_Name                                           pro_Desc   pro_Pr  pro_PromPr  \\\n",
              "16342  APP2269  Apple MacBook Pro 13 \"Core i5 Touch Bar 33GHz ...  New MacBook Pro 13 inch Touch Bar 33 GHz Core ...     2869  26.970.041   \n",
              "13011  IOT0022  iOttie Easy One Touch Mini Car iPhone Support ...     Mini support for car vent all models of iPhone    29.99     209.899   \n",
              "5009   PAC1044  Apple iMac 27 \"Core i5 3.3GHz Retina 5K | 16GB...  IMac desktop computer 27 inch 5K Retina i5 3.3...     3109  28.169.901   \n",
              "7979   PAC1628  Apple iMac 27 \"Core i7 Retina 5K 4GHz | 32GB R...  IMac desktop computer 27 inch Retina 5K 4GHz C...     5389  40.499.898   \n",
              "3606   APP1378  Apple iMac 27 \"Core i7 Retina 5K 4GHz | 8GB | ...  IMac desktop computer 27 inch 8GB RAM 256GB Re...     2929  27.895.848   \n",
              "1250   TUC0171                   Filo Tucano iPhone 6 Case Silver           Case closed book card case for iPhone 6.     26.9     184.888   \n",
              "18662  APP0762             Wireless Apple Keyboard German unboxed  Wireless Keyboard Apple Wireless Keyboard Germ...       79     639.993   \n",
              "16149  ADN0050                 Adonit Jot Mini 3.0 Pointer Silver  Triangular pointer with clip design disc trans...     25.2     189.897   \n",
              "14864  NTE0110  NewerTech NuPower Charger 60W USB-C for MacBoo...  60W charger with USB-C and USB 3.0 connection ...    72.99     599.906   \n",
              "10699  PAC1168        Synology DS416 Pack | Seagate 16TB IronWolf  Synology DS416 + Pack 16TB (4x4TB) IronWolf Se...  1105.95   9.023.684   \n",
              "\n",
              "       pro_InStock  pro_Type  \n",
              "16342            0  1,02E+12  \n",
              "13011            1      5720  \n",
              "5009             0  5,74E+15  \n",
              "7979             0  5,74E+15  \n",
              "3606             0  5,74E+15  \n",
              "1250             0  11865403  \n",
              "18662            1  13855401  \n",
              "16149            0      1229  \n",
              "14864            0      1515  \n",
              "10699            0  12175397  "
            ]
          },
          "execution_count": 226,
          "metadata": {},
          "output_type": "execute_result"
        }
      ],
      "source": [
        "pro.sample(10)\n",
        "## price and promo_price require clean up TODO: fix"
      ]
    },
    {
      "cell_type": "code",
      "execution_count": 227,
      "metadata": {
        "colab": {
          "base_uri": "https://localhost:8080/"
        },
        "id": "56OTkBi3nEFF",
        "outputId": "9b946aac-a568-4f89-8c78-e396e372520b"
      },
      "outputs": [
        {
          "name": "stdout",
          "output_type": "stream",
          "text": [
            "<class 'pandas.core.frame.DataFrame'>\n",
            "RangeIndex: 19326 entries, 0 to 19325\n",
            "Data columns (total 7 columns):\n",
            " #   Column       Non-Null Count  Dtype \n",
            "---  ------       --------------  ----- \n",
            " 0   PRO_SKU      19326 non-null  object\n",
            " 1   pro_Name     19326 non-null  object\n",
            " 2   pro_Desc     19319 non-null  object\n",
            " 3   pro_Pr       19280 non-null  object\n",
            " 4   pro_PromPr   19326 non-null  object\n",
            " 5   pro_InStock  19326 non-null  int64 \n",
            " 6   pro_Type     19276 non-null  object\n",
            "dtypes: int64(1), object(6)\n",
            "memory usage: 1.0+ MB\n"
          ]
        }
      ],
      "source": [
        "pro.info()  \n",
        "## hint: there are no nulls \n",
        "## hint: price  is of type object, has to be float - TODO: fix required\n",
        "## hint: promo_price is of type object, has to be float - TODO: fix required"
      ]
    },
    {
      "cell_type": "code",
      "execution_count": 228,
      "metadata": {
        "colab": {
          "base_uri": "https://localhost:8080/",
          "height": 300
        },
        "id": "j0vx5ysTnEFF",
        "outputId": "8286c862-4634-4e57-b89f-94b16aff99e3"
      },
      "outputs": [
        {
          "data": {
            "text/html": [
              "<div>\n",
              "<style scoped>\n",
              "    .dataframe tbody tr th:only-of-type {\n",
              "        vertical-align: middle;\n",
              "    }\n",
              "\n",
              "    .dataframe tbody tr th {\n",
              "        vertical-align: top;\n",
              "    }\n",
              "\n",
              "    .dataframe thead th {\n",
              "        text-align: right;\n",
              "    }\n",
              "</style>\n",
              "<table border=\"1\" class=\"dataframe\">\n",
              "  <thead>\n",
              "    <tr style=\"text-align: right;\">\n",
              "      <th></th>\n",
              "      <th>pro_InStock</th>\n",
              "    </tr>\n",
              "  </thead>\n",
              "  <tbody>\n",
              "    <tr>\n",
              "      <th>count</th>\n",
              "      <td>19326.000000</td>\n",
              "    </tr>\n",
              "    <tr>\n",
              "      <th>mean</th>\n",
              "      <td>0.109593</td>\n",
              "    </tr>\n",
              "    <tr>\n",
              "      <th>std</th>\n",
              "      <td>0.312390</td>\n",
              "    </tr>\n",
              "    <tr>\n",
              "      <th>min</th>\n",
              "      <td>0.000000</td>\n",
              "    </tr>\n",
              "    <tr>\n",
              "      <th>25%</th>\n",
              "      <td>0.000000</td>\n",
              "    </tr>\n",
              "    <tr>\n",
              "      <th>50%</th>\n",
              "      <td>0.000000</td>\n",
              "    </tr>\n",
              "    <tr>\n",
              "      <th>75%</th>\n",
              "      <td>0.000000</td>\n",
              "    </tr>\n",
              "    <tr>\n",
              "      <th>max</th>\n",
              "      <td>1.000000</td>\n",
              "    </tr>\n",
              "  </tbody>\n",
              "</table>\n",
              "</div>"
            ],
            "text/plain": [
              "        pro_InStock\n",
              "count  19326.000000\n",
              "mean       0.109593\n",
              "std        0.312390\n",
              "min        0.000000\n",
              "25%        0.000000\n",
              "50%        0.000000\n",
              "75%        0.000000\n",
              "max        1.000000"
            ]
          },
          "execution_count": 228,
          "metadata": {},
          "output_type": "execute_result"
        }
      ],
      "source": [
        "pro.describe()\n",
        "# in_stock seems to be bool TODO: convert to bool\n",
        "# TODO: 75% are 0 !!! there is no stock!!"
      ]
    },
    {
      "cell_type": "code",
      "execution_count": 229,
      "metadata": {
        "colab": {
          "base_uri": "https://localhost:8080/"
        },
        "id": "LWsD94v7nEFF",
        "outputId": "40dfb857-891f-4ed5-93e3-5c34d1cf3835"
      },
      "outputs": [
        {
          "data": {
            "text/plain": [
              "PRO_SKU        10579\n",
              "pro_Name       10373\n",
              "pro_Desc        7098\n",
              "pro_Pr          2690\n",
              "pro_PromPr      4614\n",
              "pro_InStock        2\n",
              "pro_Type         126\n",
              "dtype: int64"
            ]
          },
          "execution_count": 229,
          "metadata": {},
          "output_type": "execute_result"
        }
      ],
      "source": [
        "pro.nunique() # hint: id is unique per row \n",
        "# seems there is alot of duplicates"
      ]
    },
    {
      "cell_type": "code",
      "execution_count": 230,
      "metadata": {},
      "outputs": [
        {
          "data": {
            "text/plain": [
              "array(['999.99', '999.944', '999.896', ..., '1.099.043', '1.090.004', nan],\n",
              "      dtype=object)"
            ]
          },
          "execution_count": 230,
          "metadata": {},
          "output_type": "execute_result"
        }
      ],
      "source": [
        "pro.pro_Pr.sort_values(ascending=False).unique()"
      ]
    },
    {
      "cell_type": "code",
      "execution_count": 231,
      "metadata": {
        "colab": {
          "base_uri": "https://localhost:8080/"
        },
        "id": "G_huaPhRDqxj",
        "outputId": "be891056-c7c3-49bf-82b9-45df953851a9"
      },
      "outputs": [
        {
          "data": {
            "text/plain": [
              "2206        999.99\n",
              "11809       999.99\n",
              "2649       999.944\n",
              "2670       999.944\n",
              "12108      999.944\n",
              "10793      999.944\n",
              "11456      999.944\n",
              "10785      999.944\n",
              "2404       999.944\n",
              "2403       999.944\n",
              "11764      999.944\n",
              "14609      999.944\n",
              "769        999.944\n",
              "76         999.944\n",
              "77         999.944\n",
              "           ...    \n",
              "2949     1.027.943\n",
              "16678    1.027.002\n",
              "16676    1.027.002\n",
              "16677    1.027.002\n",
              "12962    1.026.775\n",
              "14653    1.021.777\n",
              "299      1.019.933\n",
              "1861     1.019.909\n",
              "2644     1.017.937\n",
              "18640    1.013.179\n",
              "17125    1.010.414\n",
              "11237    1.008.368\n",
              "11236    1.008.368\n",
              "2064     1.007.942\n",
              "17320    1.003.978\n",
              "Name: pro_PromPr, Length: 19326, dtype: object"
            ]
          },
          "execution_count": 231,
          "metadata": {},
          "output_type": "execute_result"
        }
      ],
      "source": [
        "pro.pro_PromPr.sort_values(ascending=False)"
      ]
    },
    {
      "cell_type": "markdown",
      "metadata": {
        "id": "iBFBMEEWnEFG"
      },
      "source": [
        "    ==============================================================================================\n",
        "\n",
        "## Initial Clean\n",
        "- Remember to create a copy of the df using ``` df.copy()``` "
      ]
    },
    {
      "cell_type": "code",
      "execution_count": 232,
      "metadata": {
        "id": "Ojy5J29rnEFG"
      },
      "outputs": [],
      "source": [
        "pro_original = pro.copy()"
      ]
    },
    {
      "cell_type": "markdown",
      "metadata": {},
      "source": [
        "      ===============================================\n",
        "\n",
        "### Strip whitespaces\n",
        "- ``` df.applymap(lambda x: x.strip() if isinstance(x, str) else x)```"
      ]
    },
    {
      "cell_type": "code",
      "execution_count": 233,
      "metadata": {},
      "outputs": [],
      "source": [
        "pro = pro.applymap(lambda x: x.strip() if isinstance(x, str) else x)"
      ]
    },
    {
      "cell_type": "markdown",
      "metadata": {
        "id": "dFhPLGSQnEFH"
      },
      "source": [
        "      ===============================================\n",
        "### Remove Duplicates Rows\n",
        "- ``` df.duplicated().sum()``` \n",
        "- ``` df.loc[df.duplicated()==True]``` \n",
        "- ``` df=df.drop_duplicates() ``` \n",
        "- ``` df=df.drop_duplicates(subset=[\"col\"])```  --> remove rows based on duplicated in specific column"
      ]
    },
    {
      "cell_type": "code",
      "execution_count": 234,
      "metadata": {
        "colab": {
          "base_uri": "https://localhost:8080/"
        },
        "id": "uwR3XOZXnEFH",
        "outputId": "26a3a61c-d5f6-4dea-fc57-cbd4065ae58c"
      },
      "outputs": [
        {
          "data": {
            "text/plain": [
              "8746"
            ]
          },
          "execution_count": 234,
          "metadata": {},
          "output_type": "execute_result"
        }
      ],
      "source": [
        "pro.duplicated().sum() #hint : No duplicates"
      ]
    },
    {
      "cell_type": "code",
      "execution_count": 235,
      "metadata": {
        "colab": {
          "base_uri": "https://localhost:8080/",
          "height": 49
        },
        "id": "svKfv5JJnEFH",
        "outputId": "1df8c800-451f-420a-8d98-e1d8b17e076c"
      },
      "outputs": [
        {
          "data": {
            "text/html": [
              "<div>\n",
              "<style scoped>\n",
              "    .dataframe tbody tr th:only-of-type {\n",
              "        vertical-align: middle;\n",
              "    }\n",
              "\n",
              "    .dataframe tbody tr th {\n",
              "        vertical-align: top;\n",
              "    }\n",
              "\n",
              "    .dataframe thead th {\n",
              "        text-align: right;\n",
              "    }\n",
              "</style>\n",
              "<table border=\"1\" class=\"dataframe\">\n",
              "  <thead>\n",
              "    <tr style=\"text-align: right;\">\n",
              "      <th></th>\n",
              "      <th>PRO_SKU</th>\n",
              "      <th>pro_Name</th>\n",
              "      <th>pro_Desc</th>\n",
              "      <th>pro_Pr</th>\n",
              "      <th>pro_PromPr</th>\n",
              "      <th>pro_InStock</th>\n",
              "      <th>pro_Type</th>\n",
              "    </tr>\n",
              "  </thead>\n",
              "  <tbody>\n",
              "    <tr>\n",
              "      <th>101</th>\n",
              "      <td>APP0390</td>\n",
              "      <td>Apple MacBook Pro 133 \"Core i5 25GHz | 4GB RAM...</td>\n",
              "      <td>MacBook Pro laptop 133 inches (MD101Y / A).</td>\n",
              "      <td>1199</td>\n",
              "      <td>11.455.917</td>\n",
              "      <td>0</td>\n",
              "      <td>1282</td>\n",
              "    </tr>\n",
              "    <tr>\n",
              "      <th>102</th>\n",
              "      <td>APP0390</td>\n",
              "      <td>Apple MacBook Pro 133 \"Core i5 25GHz | 4GB RAM...</td>\n",
              "      <td>MacBook Pro laptop 133 inches (MD101Y / A).</td>\n",
              "      <td>1199</td>\n",
              "      <td>11.455.917</td>\n",
              "      <td>0</td>\n",
              "      <td>1282</td>\n",
              "    </tr>\n",
              "    <tr>\n",
              "      <th>103</th>\n",
              "      <td>APP0390</td>\n",
              "      <td>Apple MacBook Pro 133 \"Core i5 25GHz | 4GB RAM...</td>\n",
              "      <td>MacBook Pro laptop 133 inches (MD101Y / A).</td>\n",
              "      <td>1199</td>\n",
              "      <td>11.455.917</td>\n",
              "      <td>0</td>\n",
              "      <td>1282</td>\n",
              "    </tr>\n",
              "    <tr>\n",
              "      <th>104</th>\n",
              "      <td>APP0390</td>\n",
              "      <td>Apple MacBook Pro 133 \"Core i5 25GHz | 4GB RAM...</td>\n",
              "      <td>MacBook Pro laptop 133 inches (MD101Y / A).</td>\n",
              "      <td>1199</td>\n",
              "      <td>11.455.917</td>\n",
              "      <td>0</td>\n",
              "      <td>1282</td>\n",
              "    </tr>\n",
              "    <tr>\n",
              "      <th>105</th>\n",
              "      <td>APP0390</td>\n",
              "      <td>Apple MacBook Pro 133 \"Core i5 25GHz | 4GB RAM...</td>\n",
              "      <td>MacBook Pro laptop 133 inches (MD101Y / A).</td>\n",
              "      <td>1199</td>\n",
              "      <td>11.455.917</td>\n",
              "      <td>0</td>\n",
              "      <td>1282</td>\n",
              "    </tr>\n",
              "    <tr>\n",
              "      <th>106</th>\n",
              "      <td>APP0390</td>\n",
              "      <td>Apple MacBook Pro 133 \"Core i5 25GHz | 4GB RAM...</td>\n",
              "      <td>MacBook Pro laptop 133 inches (MD101Y / A).</td>\n",
              "      <td>1199</td>\n",
              "      <td>11.455.917</td>\n",
              "      <td>0</td>\n",
              "      <td>1282</td>\n",
              "    </tr>\n",
              "    <tr>\n",
              "      <th>107</th>\n",
              "      <td>APP0390</td>\n",
              "      <td>Apple MacBook Pro 133 \"Core i5 25GHz | 4GB RAM...</td>\n",
              "      <td>MacBook Pro laptop 133 inches (MD101Y / A).</td>\n",
              "      <td>1199</td>\n",
              "      <td>11.455.917</td>\n",
              "      <td>0</td>\n",
              "      <td>1282</td>\n",
              "    </tr>\n",
              "    <tr>\n",
              "      <th>108</th>\n",
              "      <td>APP0390</td>\n",
              "      <td>Apple MacBook Pro 133 \"Core i5 25GHz | 4GB RAM...</td>\n",
              "      <td>MacBook Pro laptop 133 inches (MD101Y / A).</td>\n",
              "      <td>1199</td>\n",
              "      <td>11.455.917</td>\n",
              "      <td>0</td>\n",
              "      <td>1282</td>\n",
              "    </tr>\n",
              "    <tr>\n",
              "      <th>110</th>\n",
              "      <td>PAC0508</td>\n",
              "      <td>Apple MacBook Pro 133 '' 25GHz | 16GB RAM | 1T...</td>\n",
              "      <td>Apple MacBook Pro Fusion Drive 16GB 2 internal...</td>\n",
              "      <td>1919</td>\n",
              "      <td>16.999.895</td>\n",
              "      <td>0</td>\n",
              "      <td>1282</td>\n",
              "    </tr>\n",
              "    <tr>\n",
              "      <th>111</th>\n",
              "      <td>PAC0508</td>\n",
              "      <td>Apple MacBook Pro 133 '' 25GHz | 16GB RAM | 1T...</td>\n",
              "      <td>Apple MacBook Pro Fusion Drive 16GB 2 internal...</td>\n",
              "      <td>1919</td>\n",
              "      <td>16.999.895</td>\n",
              "      <td>0</td>\n",
              "      <td>1282</td>\n",
              "    </tr>\n",
              "    <tr>\n",
              "      <th>112</th>\n",
              "      <td>PAC0508</td>\n",
              "      <td>Apple MacBook Pro 133 '' 25GHz | 16GB RAM | 1T...</td>\n",
              "      <td>Apple MacBook Pro Fusion Drive 16GB 2 internal...</td>\n",
              "      <td>1919</td>\n",
              "      <td>16.999.895</td>\n",
              "      <td>0</td>\n",
              "      <td>1282</td>\n",
              "    </tr>\n",
              "    <tr>\n",
              "      <th>113</th>\n",
              "      <td>PAC0508</td>\n",
              "      <td>Apple MacBook Pro 133 '' 25GHz | 16GB RAM | 1T...</td>\n",
              "      <td>Apple MacBook Pro Fusion Drive 16GB 2 internal...</td>\n",
              "      <td>1919</td>\n",
              "      <td>16.999.895</td>\n",
              "      <td>0</td>\n",
              "      <td>1282</td>\n",
              "    </tr>\n",
              "    <tr>\n",
              "      <th>114</th>\n",
              "      <td>PAC0508</td>\n",
              "      <td>Apple MacBook Pro 133 '' 25GHz | 16GB RAM | 1T...</td>\n",
              "      <td>Apple MacBook Pro Fusion Drive 16GB 2 internal...</td>\n",
              "      <td>1919</td>\n",
              "      <td>16.999.895</td>\n",
              "      <td>0</td>\n",
              "      <td>1282</td>\n",
              "    </tr>\n",
              "    <tr>\n",
              "      <th>115</th>\n",
              "      <td>PAC0508</td>\n",
              "      <td>Apple MacBook Pro 133 '' 25GHz | 16GB RAM | 1T...</td>\n",
              "      <td>Apple MacBook Pro Fusion Drive 16GB 2 internal...</td>\n",
              "      <td>1919</td>\n",
              "      <td>16.999.895</td>\n",
              "      <td>0</td>\n",
              "      <td>1282</td>\n",
              "    </tr>\n",
              "    <tr>\n",
              "      <th>116</th>\n",
              "      <td>PAC0508</td>\n",
              "      <td>Apple MacBook Pro 133 '' 25GHz | 16GB RAM | 1T...</td>\n",
              "      <td>Apple MacBook Pro Fusion Drive 16GB 2 internal...</td>\n",
              "      <td>1919</td>\n",
              "      <td>16.999.895</td>\n",
              "      <td>0</td>\n",
              "      <td>1282</td>\n",
              "    </tr>\n",
              "    <tr>\n",
              "      <th>...</th>\n",
              "      <td>...</td>\n",
              "      <td>...</td>\n",
              "      <td>...</td>\n",
              "      <td>...</td>\n",
              "      <td>...</td>\n",
              "      <td>...</td>\n",
              "      <td>...</td>\n",
              "    </tr>\n",
              "    <tr>\n",
              "      <th>16802</th>\n",
              "      <td>APP2256</td>\n",
              "      <td>Apple MacBook Air 13 \"Core i7 22GHz | 8GB RAM ...</td>\n",
              "      <td>laptop MacBook Air 13 inch i7 22GHz 8GB RAM an...</td>\n",
              "      <td>1279</td>\n",
              "      <td>12.150.046</td>\n",
              "      <td>0</td>\n",
              "      <td>2,17E+11</td>\n",
              "    </tr>\n",
              "    <tr>\n",
              "      <th>16813</th>\n",
              "      <td>APP2296</td>\n",
              "      <td>Apple MacBook Pro 13 \"Core i5 Touch Bar 33GHz ...</td>\n",
              "      <td>New MacBook Pro 13-inch Core i5 Touch Bar 33 G...</td>\n",
              "      <td>336.559.443</td>\n",
              "      <td>33.655.944</td>\n",
              "      <td>0</td>\n",
              "      <td>1,02E+12</td>\n",
              "    </tr>\n",
              "    <tr>\n",
              "      <th>16815</th>\n",
              "      <td>APP2304</td>\n",
              "      <td>Apple MacBook Pro 13 \"Core i7 Touch Bar 35GHz ...</td>\n",
              "      <td>New MacBook Pro 13 inch Touch Bar 35 GHz Core ...</td>\n",
              "      <td>2.855.594</td>\n",
              "      <td>2.855.594</td>\n",
              "      <td>0</td>\n",
              "      <td>1,02E+12</td>\n",
              "    </tr>\n",
              "    <tr>\n",
              "      <th>16817</th>\n",
              "      <td>APP2305</td>\n",
              "      <td>Apple MacBook Pro 13 \"Core i7 Touch Bar 35GHz ...</td>\n",
              "      <td>New MacBook Pro 13 inch Touch Bar 35 GHz Core ...</td>\n",
              "      <td>26.155.941</td>\n",
              "      <td>26.155.941</td>\n",
              "      <td>0</td>\n",
              "      <td>1,02E+12</td>\n",
              "    </tr>\n",
              "    <tr>\n",
              "      <th>16819</th>\n",
              "      <td>APP2306</td>\n",
              "      <td>Apple MacBook Pro 13 \"Core i5 Touch Bar 31GHz ...</td>\n",
              "      <td>New MacBook Pro 13-inch Core i5 Touch Bar 31 G...</td>\n",
              "      <td>24.955.948</td>\n",
              "      <td>24.955.948</td>\n",
              "      <td>0</td>\n",
              "      <td>1,02E+12</td>\n",
              "    </tr>\n",
              "    <tr>\n",
              "      <th>16821</th>\n",
              "      <td>APP2297</td>\n",
              "      <td>Apple MacBook Pro 13 \"Core i5 Touch Bar 33GHz ...</td>\n",
              "      <td>New MacBook Pro 13 inch Touch Bar 33 GHz Core ...</td>\n",
              "      <td>31.255.946</td>\n",
              "      <td>31.255.946</td>\n",
              "      <td>0</td>\n",
              "      <td>1,02E+12</td>\n",
              "    </tr>\n",
              "    <tr>\n",
              "      <th>16823</th>\n",
              "      <td>APP2298</td>\n",
              "      <td>Apple MacBook Pro 13 \"Core i7 Touch Bar 35GHz ...</td>\n",
              "      <td>New MacBook Pro 13 inch Touch Bar 35 GHz Core ...</td>\n",
              "      <td>36.055.943</td>\n",
              "      <td>36.055.943</td>\n",
              "      <td>0</td>\n",
              "      <td>1,02E+12</td>\n",
              "    </tr>\n",
              "    <tr>\n",
              "      <th>16825</th>\n",
              "      <td>APP2299</td>\n",
              "      <td>Apple MacBook Pro 13 \"Core i7 Touch Bar 35GHz ...</td>\n",
              "      <td>New MacBook Pro 13 inch Touch Bar 35 GHz Core ...</td>\n",
              "      <td>336.559.443</td>\n",
              "      <td>33.655.944</td>\n",
              "      <td>0</td>\n",
              "      <td>1,02E+12</td>\n",
              "    </tr>\n",
              "    <tr>\n",
              "      <th>16827</th>\n",
              "      <td>APP2300</td>\n",
              "      <td>Apple MacBook Pro 13 \"Core i5 Touch Bar 31GHz ...</td>\n",
              "      <td>New MacBook Pro 13-inch Core i5 Touch Bar 31 G...</td>\n",
              "      <td>32.455.951</td>\n",
              "      <td>32.455.951</td>\n",
              "      <td>0</td>\n",
              "      <td>1,02E+12</td>\n",
              "    </tr>\n",
              "    <tr>\n",
              "      <th>16829</th>\n",
              "      <td>APP2301</td>\n",
              "      <td>Apple MacBook Pro 13 \"Core i5 Touch Bar 31GHz ...</td>\n",
              "      <td>New MacBook Pro 13 inch Touch Bar 31 GHz Core ...</td>\n",
              "      <td>300.559.402</td>\n",
              "      <td>3.005.594</td>\n",
              "      <td>0</td>\n",
              "      <td>1,02E+12</td>\n",
              "    </tr>\n",
              "    <tr>\n",
              "      <th>16831</th>\n",
              "      <td>APP2302</td>\n",
              "      <td>Apple MacBook Pro 13 \"Core i5 Touch Bar 33GHz ...</td>\n",
              "      <td>New MacBook Pro 13-inch Core i5 Touch Bar 33 G...</td>\n",
              "      <td>26.155.941</td>\n",
              "      <td>26.155.941</td>\n",
              "      <td>0</td>\n",
              "      <td>1,02E+12</td>\n",
              "    </tr>\n",
              "    <tr>\n",
              "      <th>16833</th>\n",
              "      <td>APP2303</td>\n",
              "      <td>Apple MacBook Pro 13 \"Core i5 Touch Bar 33GHz ...</td>\n",
              "      <td>New MacBook Pro 13 inch Touch Bar 33 GHz Core ...</td>\n",
              "      <td>237.559.421</td>\n",
              "      <td>23.755.942</td>\n",
              "      <td>0</td>\n",
              "      <td>1,02E+12</td>\n",
              "    </tr>\n",
              "    <tr>\n",
              "      <th>18190</th>\n",
              "      <td>PAR0077</td>\n",
              "      <td>Parrot Bebop Drone 2 Power</td>\n",
              "      <td>Drone cuadricóptero quality camera integrated ...</td>\n",
              "      <td>699.9</td>\n",
              "      <td>6.733.892</td>\n",
              "      <td>0</td>\n",
              "      <td>11905404</td>\n",
              "    </tr>\n",
              "    <tr>\n",
              "      <th>18308</th>\n",
              "      <td>NKI0010</td>\n",
              "      <td>Nokia Wireless sphygmomanometer Plata</td>\n",
              "      <td>Sphygmomanometer for iPhone iPad and iPod App.</td>\n",
              "      <td>129.99</td>\n",
              "      <td>1.149.899</td>\n",
              "      <td>1</td>\n",
              "      <td>11905404</td>\n",
              "    </tr>\n",
              "    <tr>\n",
              "      <th>18514</th>\n",
              "      <td>PLA0035</td>\n",
              "      <td>Bluetooth Headset Plantronics Explorer 80</td>\n",
              "      <td>egonómico wireless headset design for iPhone i...</td>\n",
              "      <td>39.99</td>\n",
              "      <td>349.896</td>\n",
              "      <td>1</td>\n",
              "      <td>5384</td>\n",
              "    </tr>\n",
              "  </tbody>\n",
              "</table>\n",
              "<p>8746 rows × 7 columns</p>\n",
              "</div>"
            ],
            "text/plain": [
              "       PRO_SKU                                           pro_Name                                           pro_Desc       pro_Pr  pro_PromPr  \\\n",
              "101    APP0390  Apple MacBook Pro 133 \"Core i5 25GHz | 4GB RAM...        MacBook Pro laptop 133 inches (MD101Y / A).         1199  11.455.917   \n",
              "102    APP0390  Apple MacBook Pro 133 \"Core i5 25GHz | 4GB RAM...        MacBook Pro laptop 133 inches (MD101Y / A).         1199  11.455.917   \n",
              "103    APP0390  Apple MacBook Pro 133 \"Core i5 25GHz | 4GB RAM...        MacBook Pro laptop 133 inches (MD101Y / A).         1199  11.455.917   \n",
              "104    APP0390  Apple MacBook Pro 133 \"Core i5 25GHz | 4GB RAM...        MacBook Pro laptop 133 inches (MD101Y / A).         1199  11.455.917   \n",
              "105    APP0390  Apple MacBook Pro 133 \"Core i5 25GHz | 4GB RAM...        MacBook Pro laptop 133 inches (MD101Y / A).         1199  11.455.917   \n",
              "106    APP0390  Apple MacBook Pro 133 \"Core i5 25GHz | 4GB RAM...        MacBook Pro laptop 133 inches (MD101Y / A).         1199  11.455.917   \n",
              "107    APP0390  Apple MacBook Pro 133 \"Core i5 25GHz | 4GB RAM...        MacBook Pro laptop 133 inches (MD101Y / A).         1199  11.455.917   \n",
              "108    APP0390  Apple MacBook Pro 133 \"Core i5 25GHz | 4GB RAM...        MacBook Pro laptop 133 inches (MD101Y / A).         1199  11.455.917   \n",
              "110    PAC0508  Apple MacBook Pro 133 '' 25GHz | 16GB RAM | 1T...  Apple MacBook Pro Fusion Drive 16GB 2 internal...         1919  16.999.895   \n",
              "111    PAC0508  Apple MacBook Pro 133 '' 25GHz | 16GB RAM | 1T...  Apple MacBook Pro Fusion Drive 16GB 2 internal...         1919  16.999.895   \n",
              "112    PAC0508  Apple MacBook Pro 133 '' 25GHz | 16GB RAM | 1T...  Apple MacBook Pro Fusion Drive 16GB 2 internal...         1919  16.999.895   \n",
              "113    PAC0508  Apple MacBook Pro 133 '' 25GHz | 16GB RAM | 1T...  Apple MacBook Pro Fusion Drive 16GB 2 internal...         1919  16.999.895   \n",
              "114    PAC0508  Apple MacBook Pro 133 '' 25GHz | 16GB RAM | 1T...  Apple MacBook Pro Fusion Drive 16GB 2 internal...         1919  16.999.895   \n",
              "115    PAC0508  Apple MacBook Pro 133 '' 25GHz | 16GB RAM | 1T...  Apple MacBook Pro Fusion Drive 16GB 2 internal...         1919  16.999.895   \n",
              "116    PAC0508  Apple MacBook Pro 133 '' 25GHz | 16GB RAM | 1T...  Apple MacBook Pro Fusion Drive 16GB 2 internal...         1919  16.999.895   \n",
              "...        ...                                                ...                                                ...          ...         ...   \n",
              "16802  APP2256  Apple MacBook Air 13 \"Core i7 22GHz | 8GB RAM ...  laptop MacBook Air 13 inch i7 22GHz 8GB RAM an...         1279  12.150.046   \n",
              "16813  APP2296  Apple MacBook Pro 13 \"Core i5 Touch Bar 33GHz ...  New MacBook Pro 13-inch Core i5 Touch Bar 33 G...  336.559.443  33.655.944   \n",
              "16815  APP2304  Apple MacBook Pro 13 \"Core i7 Touch Bar 35GHz ...  New MacBook Pro 13 inch Touch Bar 35 GHz Core ...    2.855.594   2.855.594   \n",
              "16817  APP2305  Apple MacBook Pro 13 \"Core i7 Touch Bar 35GHz ...  New MacBook Pro 13 inch Touch Bar 35 GHz Core ...   26.155.941  26.155.941   \n",
              "16819  APP2306  Apple MacBook Pro 13 \"Core i5 Touch Bar 31GHz ...  New MacBook Pro 13-inch Core i5 Touch Bar 31 G...   24.955.948  24.955.948   \n",
              "16821  APP2297  Apple MacBook Pro 13 \"Core i5 Touch Bar 33GHz ...  New MacBook Pro 13 inch Touch Bar 33 GHz Core ...   31.255.946  31.255.946   \n",
              "16823  APP2298  Apple MacBook Pro 13 \"Core i7 Touch Bar 35GHz ...  New MacBook Pro 13 inch Touch Bar 35 GHz Core ...   36.055.943  36.055.943   \n",
              "16825  APP2299  Apple MacBook Pro 13 \"Core i7 Touch Bar 35GHz ...  New MacBook Pro 13 inch Touch Bar 35 GHz Core ...  336.559.443  33.655.944   \n",
              "16827  APP2300  Apple MacBook Pro 13 \"Core i5 Touch Bar 31GHz ...  New MacBook Pro 13-inch Core i5 Touch Bar 31 G...   32.455.951  32.455.951   \n",
              "16829  APP2301  Apple MacBook Pro 13 \"Core i5 Touch Bar 31GHz ...  New MacBook Pro 13 inch Touch Bar 31 GHz Core ...  300.559.402   3.005.594   \n",
              "16831  APP2302  Apple MacBook Pro 13 \"Core i5 Touch Bar 33GHz ...  New MacBook Pro 13-inch Core i5 Touch Bar 33 G...   26.155.941  26.155.941   \n",
              "16833  APP2303  Apple MacBook Pro 13 \"Core i5 Touch Bar 33GHz ...  New MacBook Pro 13 inch Touch Bar 33 GHz Core ...  237.559.421  23.755.942   \n",
              "18190  PAR0077                         Parrot Bebop Drone 2 Power  Drone cuadricóptero quality camera integrated ...        699.9   6.733.892   \n",
              "18308  NKI0010              Nokia Wireless sphygmomanometer Plata     Sphygmomanometer for iPhone iPad and iPod App.       129.99   1.149.899   \n",
              "18514  PLA0035          Bluetooth Headset Plantronics Explorer 80  egonómico wireless headset design for iPhone i...        39.99     349.896   \n",
              "\n",
              "       pro_InStock  pro_Type  \n",
              "101              0      1282  \n",
              "102              0      1282  \n",
              "103              0      1282  \n",
              "104              0      1282  \n",
              "105              0      1282  \n",
              "106              0      1282  \n",
              "107              0      1282  \n",
              "108              0      1282  \n",
              "110              0      1282  \n",
              "111              0      1282  \n",
              "112              0      1282  \n",
              "113              0      1282  \n",
              "114              0      1282  \n",
              "115              0      1282  \n",
              "116              0      1282  \n",
              "...            ...       ...  \n",
              "16802            0  2,17E+11  \n",
              "16813            0  1,02E+12  \n",
              "16815            0  1,02E+12  \n",
              "16817            0  1,02E+12  \n",
              "16819            0  1,02E+12  \n",
              "16821            0  1,02E+12  \n",
              "16823            0  1,02E+12  \n",
              "16825            0  1,02E+12  \n",
              "16827            0  1,02E+12  \n",
              "16829            0  1,02E+12  \n",
              "16831            0  1,02E+12  \n",
              "16833            0  1,02E+12  \n",
              "18190            0  11905404  \n",
              "18308            1  11905404  \n",
              "18514            1      5384  \n",
              "\n",
              "[8746 rows x 7 columns]"
            ]
          },
          "execution_count": 235,
          "metadata": {},
          "output_type": "execute_result"
        }
      ],
      "source": [
        "pro.loc[pro.duplicated()==True]"
      ]
    },
    {
      "cell_type": "code",
      "execution_count": 236,
      "metadata": {},
      "outputs": [],
      "source": [
        "pro=pro.drop_duplicates()"
      ]
    },
    {
      "cell_type": "code",
      "execution_count": 237,
      "metadata": {},
      "outputs": [
        {
          "data": {
            "text/plain": [
              "(10580, 7)"
            ]
          },
          "execution_count": 237,
          "metadata": {},
          "output_type": "execute_result"
        }
      ],
      "source": [
        "pro.shape"
      ]
    },
    {
      "cell_type": "code",
      "execution_count": 238,
      "metadata": {},
      "outputs": [
        {
          "name": "stdout",
          "output_type": "stream",
          "text": [
            "<class 'pandas.core.frame.DataFrame'>\n",
            "Int64Index: 10580 entries, 0 to 19325\n",
            "Data columns (total 7 columns):\n",
            " #   Column       Non-Null Count  Dtype \n",
            "---  ------       --------------  ----- \n",
            " 0   PRO_SKU      10580 non-null  object\n",
            " 1   pro_Name     10580 non-null  object\n",
            " 2   pro_Desc     10573 non-null  object\n",
            " 3   pro_Pr       10534 non-null  object\n",
            " 4   pro_PromPr   10580 non-null  object\n",
            " 5   pro_InStock  10580 non-null  int64 \n",
            " 6   pro_Type     10530 non-null  object\n",
            "dtypes: int64(1), object(6)\n",
            "memory usage: 661.2+ KB\n"
          ]
        }
      ],
      "source": [
        "pro.info()"
      ]
    },
    {
      "cell_type": "markdown",
      "metadata": {},
      "source": [
        "      =======================\n",
        "\n",
        "#### Remove duplicated rows related to Unique columns\n",
        "- find possible duplicates ``` len(df.ol_ID.unique()) == df.shape[0] ``` \n",
        "- get the excat value for duplicate columns ``` df.loc[df.duplicated(subset=\"col\")]``` \n",
        "- find all columns with same value ``` df[df.col==\"val\"]``` "
      ]
    },
    {
      "cell_type": "markdown",
      "metadata": {},
      "source": [
        "check if pro_SKU is unique"
      ]
    },
    {
      "cell_type": "code",
      "execution_count": 239,
      "metadata": {},
      "outputs": [
        {
          "data": {
            "text/plain": [
              "False"
            ]
          },
          "execution_count": 239,
          "metadata": {},
          "output_type": "execute_result"
        }
      ],
      "source": [
        "len(pro.PRO_SKU.unique()) == pro.shape[0]"
      ]
    },
    {
      "cell_type": "code",
      "execution_count": 240,
      "metadata": {},
      "outputs": [
        {
          "data": {
            "text/html": [
              "<div>\n",
              "<style scoped>\n",
              "    .dataframe tbody tr th:only-of-type {\n",
              "        vertical-align: middle;\n",
              "    }\n",
              "\n",
              "    .dataframe tbody tr th {\n",
              "        vertical-align: top;\n",
              "    }\n",
              "\n",
              "    .dataframe thead th {\n",
              "        text-align: right;\n",
              "    }\n",
              "</style>\n",
              "<table border=\"1\" class=\"dataframe\">\n",
              "  <thead>\n",
              "    <tr style=\"text-align: right;\">\n",
              "      <th></th>\n",
              "      <th>PRO_SKU</th>\n",
              "      <th>pro_Name</th>\n",
              "      <th>pro_Desc</th>\n",
              "      <th>pro_Pr</th>\n",
              "      <th>pro_PromPr</th>\n",
              "      <th>pro_InStock</th>\n",
              "      <th>pro_Type</th>\n",
              "    </tr>\n",
              "  </thead>\n",
              "  <tbody>\n",
              "    <tr>\n",
              "      <th>8000</th>\n",
              "      <td>APP1197</td>\n",
              "      <td>Apple iMac 21.5 \"Core i5 31 GHz Retina display...</td>\n",
              "      <td>Desktop Apple iMac 21.5 inch i5 31 GHz Retina ...</td>\n",
              "      <td>NaN</td>\n",
              "      <td>1305.59</td>\n",
              "      <td>0</td>\n",
              "      <td>1282</td>\n",
              "    </tr>\n",
              "  </tbody>\n",
              "</table>\n",
              "</div>"
            ],
            "text/plain": [
              "      PRO_SKU                                           pro_Name                                           pro_Desc pro_Pr pro_PromPr  pro_InStock  \\\n",
              "8000  APP1197  Apple iMac 21.5 \"Core i5 31 GHz Retina display...  Desktop Apple iMac 21.5 inch i5 31 GHz Retina ...    NaN    1305.59            0   \n",
              "\n",
              "     pro_Type  \n",
              "8000     1282  "
            ]
          },
          "execution_count": 240,
          "metadata": {},
          "output_type": "execute_result"
        }
      ],
      "source": [
        "pro.loc[pro.duplicated(subset=\"PRO_SKU\")]"
      ]
    },
    {
      "cell_type": "code",
      "execution_count": 241,
      "metadata": {},
      "outputs": [
        {
          "data": {
            "text/html": [
              "<div>\n",
              "<style scoped>\n",
              "    .dataframe tbody tr th:only-of-type {\n",
              "        vertical-align: middle;\n",
              "    }\n",
              "\n",
              "    .dataframe tbody tr th {\n",
              "        vertical-align: top;\n",
              "    }\n",
              "\n",
              "    .dataframe thead th {\n",
              "        text-align: right;\n",
              "    }\n",
              "</style>\n",
              "<table border=\"1\" class=\"dataframe\">\n",
              "  <thead>\n",
              "    <tr style=\"text-align: right;\">\n",
              "      <th></th>\n",
              "      <th>PRO_SKU</th>\n",
              "      <th>pro_Name</th>\n",
              "      <th>pro_Desc</th>\n",
              "      <th>pro_Pr</th>\n",
              "      <th>pro_PromPr</th>\n",
              "      <th>pro_InStock</th>\n",
              "      <th>pro_Type</th>\n",
              "    </tr>\n",
              "  </thead>\n",
              "  <tbody>\n",
              "    <tr>\n",
              "      <th>7992</th>\n",
              "      <td>APP1197</td>\n",
              "      <td>Apple iMac 21.5 \"Core i5 31 GHz Retina display...</td>\n",
              "      <td>Desktop Apple iMac 21.5 inch i5 31 GHz Retina ...</td>\n",
              "      <td>1729</td>\n",
              "      <td>1305.59</td>\n",
              "      <td>0</td>\n",
              "      <td>1282</td>\n",
              "    </tr>\n",
              "    <tr>\n",
              "      <th>8000</th>\n",
              "      <td>APP1197</td>\n",
              "      <td>Apple iMac 21.5 \"Core i5 31 GHz Retina display...</td>\n",
              "      <td>Desktop Apple iMac 21.5 inch i5 31 GHz Retina ...</td>\n",
              "      <td>NaN</td>\n",
              "      <td>1305.59</td>\n",
              "      <td>0</td>\n",
              "      <td>1282</td>\n",
              "    </tr>\n",
              "  </tbody>\n",
              "</table>\n",
              "</div>"
            ],
            "text/plain": [
              "      PRO_SKU                                           pro_Name                                           pro_Desc pro_Pr pro_PromPr  pro_InStock  \\\n",
              "7992  APP1197  Apple iMac 21.5 \"Core i5 31 GHz Retina display...  Desktop Apple iMac 21.5 inch i5 31 GHz Retina ...   1729    1305.59            0   \n",
              "8000  APP1197  Apple iMac 21.5 \"Core i5 31 GHz Retina display...  Desktop Apple iMac 21.5 inch i5 31 GHz Retina ...    NaN    1305.59            0   \n",
              "\n",
              "     pro_Type  \n",
              "7992     1282  \n",
              "8000     1282  "
            ]
          },
          "execution_count": 241,
          "metadata": {},
          "output_type": "execute_result"
        }
      ],
      "source": [
        "pro[pro.PRO_SKU==\"APP1197\"]\n",
        "#since it will drop the second one, its okie"
      ]
    },
    {
      "cell_type": "code",
      "execution_count": 242,
      "metadata": {},
      "outputs": [],
      "source": [
        "pro = pro.drop_duplicates(subset=\"PRO_SKU\")"
      ]
    },
    {
      "cell_type": "markdown",
      "metadata": {
        "id": "5l0U9Ew-nEFM"
      },
      "source": [
        "      ===============================================\n",
        "\n",
        "### Drop duplicate/un-necessary Columns\n",
        "- ``` df=df.drop(columns=[\"col1\",\"col2\"])``` "
      ]
    },
    {
      "cell_type": "code",
      "execution_count": 243,
      "metadata": {},
      "outputs": [
        {
          "name": "stdout",
          "output_type": "stream",
          "text": [
            "<class 'pandas.core.frame.DataFrame'>\n",
            "Int64Index: 10579 entries, 0 to 19325\n",
            "Data columns (total 7 columns):\n",
            " #   Column       Non-Null Count  Dtype \n",
            "---  ------       --------------  ----- \n",
            " 0   PRO_SKU      10579 non-null  object\n",
            " 1   pro_Name     10579 non-null  object\n",
            " 2   pro_Desc     10572 non-null  object\n",
            " 3   pro_Pr       10534 non-null  object\n",
            " 4   pro_PromPr   10579 non-null  object\n",
            " 5   pro_InStock  10579 non-null  int64 \n",
            " 6   pro_Type     10529 non-null  object\n",
            "dtypes: int64(1), object(6)\n",
            "memory usage: 661.2+ KB\n"
          ]
        }
      ],
      "source": [
        "pro.info()"
      ]
    },
    {
      "cell_type": "markdown",
      "metadata": {},
      "source": [
        "pro_PromPr Column\n",
        "    - Has no description\n",
        "    - Not clear how it is related to other columns\n",
        "    - Its name doesn't reflect any meaningfull data\n",
        "    _ And finally the discount value would be concluded from the Ordelines Product_unit_Price (@ selling) vs the original Product price\n",
        "Hence Its safe to drop it fully"
      ]
    },
    {
      "cell_type": "code",
      "execution_count": 244,
      "metadata": {},
      "outputs": [],
      "source": [
        "pro = pro.drop(columns=\"pro_PromPr\")"
      ]
    },
    {
      "cell_type": "markdown",
      "metadata": {},
      "source": [
        "    ==============================================================================================\n",
        "\n",
        "## Compare to original DataFrame\n",
        "``` df.compare(df2)``` "
      ]
    },
    {
      "cell_type": "code",
      "execution_count": 245,
      "metadata": {},
      "outputs": [],
      "source": [
        "#pro.compare(pro_original)"
      ]
    },
    {
      "cell_type": "markdown",
      "metadata": {},
      "source": [
        "    ==============================================================================================\n",
        "\n",
        "## Export the cleaned DataFrame\n",
        "\n",
        "``` df.to_pickle(\"file_name.pkl\")``` "
      ]
    },
    {
      "cell_type": "code",
      "execution_count": 246,
      "metadata": {},
      "outputs": [],
      "source": [
        "pro.to_pickle(\"clean_Tables\\Products_c.pkl\")"
      ]
    }
  ],
  "metadata": {
    "colab": {
      "authorship_tag": "ABX9TyMT7v9XshVXAURmbT7onweZ",
      "include_colab_link": true,
      "provenance": [],
      "toc_visible": true
    },
    "kernelspec": {
      "display_name": "Python 3.9.1 64-bit",
      "language": "python",
      "name": "python3"
    },
    "language_info": {
      "codemirror_mode": {
        "name": "ipython",
        "version": 3
      },
      "file_extension": ".py",
      "mimetype": "text/x-python",
      "name": "python",
      "nbconvert_exporter": "python",
      "pygments_lexer": "ipython3",
      "version": "3.9.1"
    },
    "vscode": {
      "interpreter": {
        "hash": "81794d4967e6c3204c66dcd87b604927b115b27c00565d3d43f05ba2f3a2cb0d"
      }
    }
  },
  "nbformat": 4,
  "nbformat_minor": 0
}
