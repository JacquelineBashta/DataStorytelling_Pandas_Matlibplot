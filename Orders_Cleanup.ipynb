{
  "cells": [
    {
      "cell_type": "markdown",
      "metadata": {
        "colab_type": "text",
        "id": "view-in-github"
      },
      "source": [
        "<a href=\"https://colab.research.google.com/github/JacquelineBashta/Pandas_Eniac/blob/main/Project_2_Eniac.ipynb\" target=\"_parent\"><img src=\"https://colab.research.google.com/assets/colab-badge.svg\" alt=\"Open In Colab\"/></a>"
      ]
    },
    {
      "cell_type": "markdown",
      "metadata": {
        "id": "RCIYjmVBHMnx"
      },
      "source": [
        "# orders.csv (ord_)\n",
        "Every row in this file represents an order.\n",
        "- order_id – a unique identifier for each order\n",
        "- created_date – a timestamp for when the order was created\n",
        "- total_paid – the total amount paid by the customer for this order, in euros\n",
        "- state \n",
        "  - “Shopping basket” – products have been placed in the shopping basket, but the order has not been processed yet.\n",
        "  - “Pending” – the shopping basket has been processed, but payment confirmation is pending.\n",
        "  - “Completed” – the order has been placed and paid, and the transaction is completed.\n",
        "  - “Cancelled” – the order has been cancelled and the payment returned to the customer."
      ]
    },
    {
      "cell_type": "markdown",
      "metadata": {
        "id": "pG4_-xlaHrtV"
      },
      "source": [
        "    ==============================================================================================\n",
        "\n",
        "## Importing the data\n",
        "- ``` glob-glob(\"file_pat\") ``` --> read multi files \n",
        "- ``` pd.concat(dfs_list, ignore_index=True)```  --> create 1 df from multi dfs\n",
        "- ``` pd.read_csv(path)```  --> create 1 df from a csv file"
      ]
    },
    {
      "cell_type": "code",
      "execution_count": 2,
      "metadata": {
        "id": "N5PcASxWHmmb"
      },
      "outputs": [
        {
          "data": {
            "text/plain": [
              "'1.4.4'"
            ]
          },
          "execution_count": 2,
          "metadata": {},
          "output_type": "execute_result"
        }
      ],
      "source": [
        "import pandas as pd\n",
        "import numpy as np\n",
        "\n",
        "pd.set_option(\"display.min_rows\", 0) \n",
        "pd.set_option(\"display.max_rows\", 30) \n",
        "pd.__version__"
      ]
    },
    {
      "cell_type": "code",
      "execution_count": 3,
      "metadata": {
        "colab": {
          "base_uri": "https://localhost:8080/"
        },
        "id": "wdtR5G1SleHd",
        "outputId": "10ba6b0f-ed99-4bd9-d4f2-dc797eeb2bfe"
      },
      "outputs": [],
      "source": [
        "url = \"https://drive.google.com/file/d/1Vu0q91qZw6lqhIqbjoXYvYAQTmVHh6uZ/view?usp=sharing\" \n",
        "path = \"https://drive.google.com/uc?export=download&id=\"+url.split(\"/\")[-2]\n",
        "ord = pd.read_csv(path)"
      ]
    },
    {
      "cell_type": "markdown",
      "metadata": {
        "id": "bWRDa2TgI36i"
      },
      "source": [
        "      ===============================================\n",
        "\n",
        "## Rename Columns , Set Index\n",
        "- Rules: \n",
        "    - add 2-3 chars prefix to all columns\n",
        "    - change column name to CamelCase\n",
        "    - shorten it as max as possible\n",
        "    - the Unique column shall have ALL_CAP name\n",
        " - ``` df.columns```   , ``` df.index``` \n",
        " - ``` df=df.rename(columns={\"A\": \"a\", \"B\": \"c\"})``` \n",
        " - ``` df.columns = [\"a\",\"b\":\"x\"]``` \n",
        "     - take care, renaming the columns like that will convert the NAN to some value!!\n",
        " - ``` df=df.set_index(\"col\")```  , ``` df=df.reset_index()``` "
      ]
    },
    {
      "cell_type": "code",
      "execution_count": 4,
      "metadata": {
        "colab": {
          "base_uri": "https://localhost:8080/"
        },
        "id": "Bb2s2UbkSDN5",
        "outputId": "4cfabe5b-9b4d-4adf-e129-4a3506516d6a"
      },
      "outputs": [
        {
          "data": {
            "text/plain": [
              "Index(['order_id', 'created_date', 'total_paid', 'state'], dtype='object')"
            ]
          },
          "execution_count": 4,
          "metadata": {},
          "output_type": "execute_result"
        }
      ],
      "source": [
        "ord.columns "
      ]
    },
    {
      "cell_type": "code",
      "execution_count": 5,
      "metadata": {
        "id": "72ZZgSWZqtpo"
      },
      "outputs": [],
      "source": [
        "ord=ord.rename(columns={\"order_id\": \"ORD_ID\"\n",
        "                            , \"created_date\": \"ord_CreatDate\"\n",
        "                            , \"total_paid\": \"ord_TotlPaid\"\n",
        "                            , \"state\": \"ord_State\"})"
      ]
    },
    {
      "cell_type": "code",
      "execution_count": 6,
      "metadata": {
        "colab": {
          "base_uri": "https://localhost:8080/"
        },
        "id": "qD7W0_cBSReE",
        "outputId": "bc26bd31-063d-4d78-a64a-79d53059ee85"
      },
      "outputs": [
        {
          "data": {
            "text/plain": [
              "RangeIndex(start=0, stop=226909, step=1)"
            ]
          },
          "execution_count": 6,
          "metadata": {},
          "output_type": "execute_result"
        }
      ],
      "source": [
        "ord.index "
      ]
    },
    {
      "cell_type": "markdown",
      "metadata": {
        "id": "9OsnA7TrIVZh"
      },
      "source": [
        "    ==============================================================================================\n",
        "\n",
        "## Explore the data\n",
        "- ``` df.shape``` , ``` df.size``` , ``` df.ndim``` \n",
        "- ``` df.sample(5)``` , ``` df.info()``` \n",
        "- Numerical : ``` df.describe()``` , ``` df.col.nlargest()``` , ``` df.col.nsmallest()``` \n",
        "- Category : ``` df.nunique()``` , ``` df.unique() ``` "
      ]
    },
    {
      "cell_type": "code",
      "execution_count": 7,
      "metadata": {
        "colab": {
          "base_uri": "https://localhost:8080/"
        },
        "id": "WYH-IAlTMPfb",
        "outputId": "c109bd1e-dfa3-454b-e399-476a54c5a51d"
      },
      "outputs": [
        {
          "data": {
            "text/plain": [
              "(226909, 4)"
            ]
          },
          "execution_count": 7,
          "metadata": {},
          "output_type": "execute_result"
        }
      ],
      "source": [
        "ord.shape"
      ]
    },
    {
      "cell_type": "code",
      "execution_count": 8,
      "metadata": {
        "colab": {
          "base_uri": "https://localhost:8080/",
          "height": 206
        },
        "id": "D-h_qX3xOFje",
        "outputId": "9eacbdc6-2228-481f-b15f-4c2bc474df80"
      },
      "outputs": [
        {
          "data": {
            "text/html": [
              "<div>\n",
              "<style scoped>\n",
              "    .dataframe tbody tr th:only-of-type {\n",
              "        vertical-align: middle;\n",
              "    }\n",
              "\n",
              "    .dataframe tbody tr th {\n",
              "        vertical-align: top;\n",
              "    }\n",
              "\n",
              "    .dataframe thead th {\n",
              "        text-align: right;\n",
              "    }\n",
              "</style>\n",
              "<table border=\"1\" class=\"dataframe\">\n",
              "  <thead>\n",
              "    <tr style=\"text-align: right;\">\n",
              "      <th></th>\n",
              "      <th>ORD_ID</th>\n",
              "      <th>ord_CreatDate</th>\n",
              "      <th>ord_TotlPaid</th>\n",
              "      <th>ord_State</th>\n",
              "    </tr>\n",
              "  </thead>\n",
              "  <tbody>\n",
              "    <tr>\n",
              "      <th>176102</th>\n",
              "      <td>476492</td>\n",
              "      <td>2017-12-29 16:50:17</td>\n",
              "      <td>23.74</td>\n",
              "      <td>Shopping Basket</td>\n",
              "    </tr>\n",
              "    <tr>\n",
              "      <th>92631</th>\n",
              "      <td>392210</td>\n",
              "      <td>2017-08-24 04:23:41</td>\n",
              "      <td>2713.59</td>\n",
              "      <td>Completed</td>\n",
              "    </tr>\n",
              "    <tr>\n",
              "      <th>194877</th>\n",
              "      <td>495360</td>\n",
              "      <td>2018-01-21 10:40:50</td>\n",
              "      <td>61.00</td>\n",
              "      <td>Shopping Basket</td>\n",
              "    </tr>\n",
              "    <tr>\n",
              "      <th>51316</th>\n",
              "      <td>350811</td>\n",
              "      <td>2017-04-28 17:15:43</td>\n",
              "      <td>42.99</td>\n",
              "      <td>Shopping Basket</td>\n",
              "    </tr>\n",
              "    <tr>\n",
              "      <th>216200</th>\n",
              "      <td>516691</td>\n",
              "      <td>2018-02-24 00:17:06</td>\n",
              "      <td>1099.00</td>\n",
              "      <td>Shopping Basket</td>\n",
              "    </tr>\n",
              "  </tbody>\n",
              "</table>\n",
              "</div>"
            ],
            "text/plain": [
              "        ORD_ID        ord_CreatDate  ord_TotlPaid        ord_State\n",
              "176102  476492  2017-12-29 16:50:17         23.74  Shopping Basket\n",
              "92631   392210  2017-08-24 04:23:41       2713.59        Completed\n",
              "194877  495360  2018-01-21 10:40:50         61.00  Shopping Basket\n",
              "51316   350811  2017-04-28 17:15:43         42.99  Shopping Basket\n",
              "216200  516691  2018-02-24 00:17:06       1099.00  Shopping Basket"
            ]
          },
          "execution_count": 8,
          "metadata": {},
          "output_type": "execute_result"
        }
      ],
      "source": [
        "ord.sample(5)"
      ]
    },
    {
      "cell_type": "code",
      "execution_count": 9,
      "metadata": {
        "colab": {
          "base_uri": "https://localhost:8080/"
        },
        "id": "JrY5nsdmMUeL",
        "outputId": "17cbb184-a6b1-45c5-8313-2e2878d96463"
      },
      "outputs": [
        {
          "name": "stdout",
          "output_type": "stream",
          "text": [
            "<class 'pandas.core.frame.DataFrame'>\n",
            "RangeIndex: 226909 entries, 0 to 226908\n",
            "Data columns (total 4 columns):\n",
            " #   Column         Non-Null Count   Dtype  \n",
            "---  ------         --------------   -----  \n",
            " 0   ORD_ID         226909 non-null  int64  \n",
            " 1   ord_CreatDate  226909 non-null  object \n",
            " 2   ord_TotlPaid   226904 non-null  float64\n",
            " 3   ord_State      226909 non-null  object \n",
            "dtypes: float64(1), int64(1), object(2)\n",
            "memory usage: 6.9+ MB\n"
          ]
        }
      ],
      "source": [
        "ord.info()  "
      ]
    },
    {
      "cell_type": "code",
      "execution_count": 10,
      "metadata": {
        "colab": {
          "base_uri": "https://localhost:8080/",
          "height": 300
        },
        "id": "xt3AjCMpOWWG",
        "outputId": "e9a8fb9d-0e53-4199-d6c7-450c867855c1"
      },
      "outputs": [
        {
          "data": {
            "text/html": [
              "<div>\n",
              "<style scoped>\n",
              "    .dataframe tbody tr th:only-of-type {\n",
              "        vertical-align: middle;\n",
              "    }\n",
              "\n",
              "    .dataframe tbody tr th {\n",
              "        vertical-align: top;\n",
              "    }\n",
              "\n",
              "    .dataframe thead th {\n",
              "        text-align: right;\n",
              "    }\n",
              "</style>\n",
              "<table border=\"1\" class=\"dataframe\">\n",
              "  <thead>\n",
              "    <tr style=\"text-align: right;\">\n",
              "      <th></th>\n",
              "      <th>ORD_ID</th>\n",
              "      <th>ord_TotlPaid</th>\n",
              "    </tr>\n",
              "  </thead>\n",
              "  <tbody>\n",
              "    <tr>\n",
              "      <th>count</th>\n",
              "      <td>226909.000000</td>\n",
              "      <td>226904.000000</td>\n",
              "    </tr>\n",
              "    <tr>\n",
              "      <th>mean</th>\n",
              "      <td>413296.482480</td>\n",
              "      <td>569.225818</td>\n",
              "    </tr>\n",
              "    <tr>\n",
              "      <th>std</th>\n",
              "      <td>65919.250331</td>\n",
              "      <td>1761.778002</td>\n",
              "    </tr>\n",
              "    <tr>\n",
              "      <th>min</th>\n",
              "      <td>241319.000000</td>\n",
              "      <td>0.000000</td>\n",
              "    </tr>\n",
              "    <tr>\n",
              "      <th>25%</th>\n",
              "      <td>356263.000000</td>\n",
              "      <td>34.190000</td>\n",
              "    </tr>\n",
              "    <tr>\n",
              "      <th>50%</th>\n",
              "      <td>413040.000000</td>\n",
              "      <td>112.990000</td>\n",
              "    </tr>\n",
              "    <tr>\n",
              "      <th>75%</th>\n",
              "      <td>470553.000000</td>\n",
              "      <td>525.980000</td>\n",
              "    </tr>\n",
              "    <tr>\n",
              "      <th>max</th>\n",
              "      <td>527401.000000</td>\n",
              "      <td>214747.530000</td>\n",
              "    </tr>\n",
              "  </tbody>\n",
              "</table>\n",
              "</div>"
            ],
            "text/plain": [
              "              ORD_ID   ord_TotlPaid\n",
              "count  226909.000000  226904.000000\n",
              "mean   413296.482480     569.225818\n",
              "std     65919.250331    1761.778002\n",
              "min    241319.000000       0.000000\n",
              "25%    356263.000000      34.190000\n",
              "50%    413040.000000     112.990000\n",
              "75%    470553.000000     525.980000\n",
              "max    527401.000000  214747.530000"
            ]
          },
          "execution_count": 10,
          "metadata": {},
          "output_type": "execute_result"
        }
      ],
      "source": [
        "ord.describe()"
      ]
    },
    {
      "cell_type": "code",
      "execution_count": 11,
      "metadata": {
        "colab": {
          "base_uri": "https://localhost:8080/"
        },
        "id": "JOUkYsQLO5NK",
        "outputId": "ce313205-e4ea-467e-ab4b-a9bb904b0862"
      },
      "outputs": [
        {
          "data": {
            "text/plain": [
              "ORD_ID           226909\n",
              "ord_CreatDate    224828\n",
              "ord_TotlPaid      31236\n",
              "ord_State             5\n",
              "dtype: int64"
            ]
          },
          "execution_count": 11,
          "metadata": {},
          "output_type": "execute_result"
        }
      ],
      "source": [
        "ord.nunique() # hint: order_id is unique per row \n",
        "# hint: state is category data"
      ]
    },
    {
      "cell_type": "code",
      "execution_count": 12,
      "metadata": {
        "colab": {
          "base_uri": "https://localhost:8080/"
        },
        "id": "uNxu8V_zPPV6",
        "outputId": "ecd3d2de-ec0a-4cdc-f1c7-7dd6fab3925b"
      },
      "outputs": [
        {
          "data": {
            "text/plain": [
              "array(['Cancelled', 'Completed', 'Pending', 'Shopping Basket',\n",
              "       'Place Order'], dtype=object)"
            ]
          },
          "execution_count": 12,
          "metadata": {},
          "output_type": "execute_result"
        }
      ],
      "source": [
        "ord.ord_State.unique()\n",
        "#hint: state has value \"Shopping Basket\"/\"Pending\" which ideally shall not be part of the analysis - TODO: fix required\n",
        "# (if we care about actuall sold products)\n"
      ]
    },
    {
      "cell_type": "markdown",
      "metadata": {
        "id": "D7qtLn9bIaWv"
      },
      "source": [
        "    ==============================================================================================\n",
        "\n",
        "## Initial Clean\n",
        "- Remember to create a copy of the df using ``` df.copy()``` ``` "
      ]
    },
    {
      "cell_type": "code",
      "execution_count": 13,
      "metadata": {},
      "outputs": [],
      "source": [
        "#keep original\n",
        "ord_original = ord.copy()"
      ]
    },
    {
      "cell_type": "markdown",
      "metadata": {},
      "source": [
        "      ===============================================\n",
        "\n",
        "### Strip whitespaces\n",
        "- ``` df.applymap(lambda x: x.strip() if isinstance(x, str) else x)```"
      ]
    },
    {
      "cell_type": "code",
      "execution_count": 14,
      "metadata": {},
      "outputs": [],
      "source": [
        "ord = ord.applymap(lambda x: x.strip() if isinstance(x, str) else x)"
      ]
    },
    {
      "cell_type": "markdown",
      "metadata": {
        "id": "fgvb_kkVIfSf"
      },
      "source": [
        "      ===============================================\n",
        "### Remove Duplicates Rows\n",
        "- ``` df.duplicated().sum()``` \n",
        "- ``` df.loc[df.duplicated()==True]``` \n",
        "- ``` df=df.drop_duplicates() ``` \n",
        "- ``` df=df.drop_duplicates(subset=[\"col\"])```  --> remove rows based on duplicated in specific column"
      ]
    },
    {
      "cell_type": "code",
      "execution_count": 15,
      "metadata": {
        "colab": {
          "base_uri": "https://localhost:8080/"
        },
        "id": "KmIlg8smTjcd",
        "outputId": "05d236b0-c047-4c57-a37a-10f3961fc508"
      },
      "outputs": [
        {
          "data": {
            "text/plain": [
              "0"
            ]
          },
          "execution_count": 15,
          "metadata": {},
          "output_type": "execute_result"
        }
      ],
      "source": [
        "ord.duplicated().sum() #hint : No duplicates"
      ]
    },
    {
      "cell_type": "markdown",
      "metadata": {},
      "source": [
        "      =======================\n",
        "\n",
        "#### Remove duplicated rows related to Unique columns\n",
        "- find possible duplicates ``` len(df.ol_ID.unique()) == df.shape[0] ``` \n",
        "- get the excat value for duplicate columns ``` df.loc[df.duplicated(subset=\"col\")]``` \n",
        "- find all columns with same value ``` df[df.col==\"val\"]``` "
      ]
    },
    {
      "cell_type": "code",
      "execution_count": 16,
      "metadata": {},
      "outputs": [
        {
          "data": {
            "text/plain": [
              "True"
            ]
          },
          "execution_count": 16,
          "metadata": {},
          "output_type": "execute_result"
        }
      ],
      "source": [
        "len(ord.ORD_ID.unique()) == ord.shape[0]"
      ]
    },
    {
      "cell_type": "markdown",
      "metadata": {
        "id": "txLIlKN0Jds0"
      },
      "source": [
        "      ===============================================\n",
        "\n",
        "### Drop duplicate/un-necessary Columns\n",
        "- ``` df=df.drop(columns=[\"col1\",\"col2\"])``` "
      ]
    },
    {
      "cell_type": "code",
      "execution_count": 17,
      "metadata": {
        "colab": {
          "base_uri": "https://localhost:8080/",
          "height": 300
        },
        "id": "zlSSs4wChCgj",
        "outputId": "09078e97-c8cb-485c-c43f-5097dd5b1f2e"
      },
      "outputs": [
        {
          "data": {
            "text/html": [
              "<div>\n",
              "<style scoped>\n",
              "    .dataframe tbody tr th:only-of-type {\n",
              "        vertical-align: middle;\n",
              "    }\n",
              "\n",
              "    .dataframe tbody tr th {\n",
              "        vertical-align: top;\n",
              "    }\n",
              "\n",
              "    .dataframe thead th {\n",
              "        text-align: right;\n",
              "    }\n",
              "</style>\n",
              "<table border=\"1\" class=\"dataframe\">\n",
              "  <thead>\n",
              "    <tr style=\"text-align: right;\">\n",
              "      <th></th>\n",
              "      <th>ORD_ID</th>\n",
              "      <th>ord_CreatDate</th>\n",
              "      <th>ord_TotlPaid</th>\n",
              "      <th>ord_State</th>\n",
              "    </tr>\n",
              "  </thead>\n",
              "  <tbody>\n",
              "    <tr>\n",
              "      <th>195838</th>\n",
              "      <td>496321</td>\n",
              "      <td>2018-01-22 19:53:39</td>\n",
              "      <td>10.99</td>\n",
              "      <td>Shopping Basket</td>\n",
              "    </tr>\n",
              "    <tr>\n",
              "      <th>177771</th>\n",
              "      <td>478163</td>\n",
              "      <td>2017-12-31 17:30:55</td>\n",
              "      <td>129.20</td>\n",
              "      <td>Pending</td>\n",
              "    </tr>\n",
              "    <tr>\n",
              "      <th>212956</th>\n",
              "      <td>513447</td>\n",
              "      <td>2018-02-17 19:26:59</td>\n",
              "      <td>486.89</td>\n",
              "      <td>Completed</td>\n",
              "    </tr>\n",
              "    <tr>\n",
              "      <th>32746</th>\n",
              "      <td>332230</td>\n",
              "      <td>2017-03-05 20:29:19</td>\n",
              "      <td>0.00</td>\n",
              "      <td>Place Order</td>\n",
              "    </tr>\n",
              "    <tr>\n",
              "      <th>33373</th>\n",
              "      <td>332857</td>\n",
              "      <td>2017-03-07 10:26:43</td>\n",
              "      <td>45.98</td>\n",
              "      <td>Pending</td>\n",
              "    </tr>\n",
              "  </tbody>\n",
              "</table>\n",
              "</div>"
            ],
            "text/plain": [
              "        ORD_ID        ord_CreatDate  ord_TotlPaid        ord_State\n",
              "195838  496321  2018-01-22 19:53:39         10.99  Shopping Basket\n",
              "177771  478163  2017-12-31 17:30:55        129.20          Pending\n",
              "212956  513447  2018-02-17 19:26:59        486.89        Completed\n",
              "32746   332230  2017-03-05 20:29:19          0.00      Place Order\n",
              "33373   332857  2017-03-07 10:26:43         45.98          Pending"
            ]
          },
          "execution_count": 17,
          "metadata": {},
          "output_type": "execute_result"
        }
      ],
      "source": [
        "ord.sample(5) ## hint: all columns contain needed data. nothing to drop"
      ]
    },
    {
      "cell_type": "code",
      "execution_count": 18,
      "metadata": {},
      "outputs": [
        {
          "data": {
            "text/html": [
              "<div>\n",
              "<style scoped>\n",
              "    .dataframe tbody tr th:only-of-type {\n",
              "        vertical-align: middle;\n",
              "    }\n",
              "\n",
              "    .dataframe tbody tr th {\n",
              "        vertical-align: top;\n",
              "    }\n",
              "\n",
              "    .dataframe thead tr th {\n",
              "        text-align: left;\n",
              "    }\n",
              "</style>\n",
              "<table border=\"1\" class=\"dataframe\">\n",
              "  <thead>\n",
              "  </thead>\n",
              "  <tbody>\n",
              "  </tbody>\n",
              "</table>\n",
              "</div>"
            ],
            "text/plain": [
              "Empty DataFrame\n",
              "Columns: []\n",
              "Index: []"
            ]
          },
          "execution_count": 18,
          "metadata": {},
          "output_type": "execute_result"
        }
      ],
      "source": [
        "ord.compare(ord_original)"
      ]
    },
    {
      "cell_type": "markdown",
      "metadata": {},
      "source": [
        "      ===============================================\n",
        "\n",
        "### Focus : Bussines case --> filter un-necessary Data\n",
        "- ``` df=df.drop(columns=[\"col1\",\"col2\"])``` "
      ]
    },
    {
      "cell_type": "markdown",
      "metadata": {},
      "source": [
        "For the discount effect, no need for any order that with state != Completed"
      ]
    },
    {
      "cell_type": "code",
      "execution_count": 21,
      "metadata": {},
      "outputs": [
        {
          "data": {
            "text/plain": [
              "(226909, 4)"
            ]
          },
          "execution_count": 21,
          "metadata": {},
          "output_type": "execute_result"
        }
      ],
      "source": [
        "ord.shape"
      ]
    },
    {
      "cell_type": "code",
      "execution_count": 23,
      "metadata": {},
      "outputs": [],
      "source": [
        "\n",
        "ord_comp=[]\n",
        "ord_comp = ord.loc[ord.ord_State == \"Completed\"]"
      ]
    },
    {
      "cell_type": "code",
      "execution_count": 26,
      "metadata": {},
      "outputs": [
        {
          "name": "stdout",
          "output_type": "stream",
          "text": [
            "percentage of completed roders is 20.54%\n"
          ]
        }
      ],
      "source": [
        "print(f\"percentage of completed roders is {round((ord_comp.shape[0]/ord.shape[0])*100,2)}%\")"
      ]
    },
    {
      "cell_type": "markdown",
      "metadata": {},
      "source": [
        "    ==============================================================================================\n",
        "\n",
        "## Export the cleaned DataFrame\n",
        "\n",
        "``` df.to_pickle(\"file_name.pkl\")``` "
      ]
    },
    {
      "cell_type": "code",
      "execution_count": 27,
      "metadata": {},
      "outputs": [],
      "source": [
        "ord_comp.to_pickle(\"clean_Tables\\Orders_c.pkl\")"
      ]
    }
  ],
  "metadata": {
    "colab": {
      "authorship_tag": "ABX9TyMT7v9XshVXAURmbT7onweZ",
      "include_colab_link": true,
      "provenance": [],
      "toc_visible": true
    },
    "kernelspec": {
      "display_name": "Python 3.9.1 64-bit",
      "language": "python",
      "name": "python3"
    },
    "language_info": {
      "codemirror_mode": {
        "name": "ipython",
        "version": 3
      },
      "file_extension": ".py",
      "mimetype": "text/x-python",
      "name": "python",
      "nbconvert_exporter": "python",
      "pygments_lexer": "ipython3",
      "version": "3.9.1"
    },
    "vscode": {
      "interpreter": {
        "hash": "81794d4967e6c3204c66dcd87b604927b115b27c00565d3d43f05ba2f3a2cb0d"
      }
    }
  },
  "nbformat": 4,
  "nbformat_minor": 0
}
