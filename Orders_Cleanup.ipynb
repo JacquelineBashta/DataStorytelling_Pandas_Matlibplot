{
  "cells": [
    {
      "cell_type": "markdown",
      "metadata": {
        "colab_type": "text",
        "id": "view-in-github"
      },
      "source": [
        "<a href=\"https://colab.research.google.com/github/JacquelineBashta/Pandas_Eniac/blob/main/Project_2_Eniac.ipynb\" target=\"_parent\"><img src=\"https://colab.research.google.com/assets/colab-badge.svg\" alt=\"Open In Colab\"/></a>"
      ]
    },
    {
      "cell_type": "markdown",
      "metadata": {
        "id": "RCIYjmVBHMnx"
      },
      "source": [
        "# CleaningUp orders.csv (ord_)\n",
        "orders.csv – Every row in this file represents an order.\n",
        "- order_id – a unique identifier for each order\n",
        "- created_date – a timestamp for when the order was created\n",
        "- total_paid – the total amount paid by the customer for this order, in euros\n",
        "- state \n",
        "  - “Shopping basket” – products have been placed in the shopping basket, but the order has not been processed yet.\n",
        "  - “Pending” – the shopping basket has been processed, but payment confirmation is pending.\n",
        "  - “Completed” – the order has been placed and paid, and the transaction is completed.\n",
        "  - “Cancelled” – the order has been cancelled and the payment returned to the customer."
      ]
    },
    {
      "cell_type": "markdown",
      "metadata": {
        "id": "pG4_-xlaHrtV"
      },
      "source": [
        "## Importing the data\n",
        "- ``` glob-glob(\"file_pat\") ``` --> read multi files \n",
        "- ``` pd.concat(dfs_list, ignore_index=True)```  --> create 1 df from multi dfs\n",
        "- ``` pd.read_csv(path)```  --> create 1 df from a csv file"
      ]
    },
    {
      "cell_type": "code",
      "execution_count": 445,
      "metadata": {
        "id": "N5PcASxWHmmb"
      },
      "outputs": [],
      "source": [
        "import pandas as pd\n",
        "\n",
        "url = \"https://drive.google.com/file/d/1Vu0q91qZw6lqhIqbjoXYvYAQTmVHh6uZ/view?usp=sharing\" \n",
        "path = \"https://drive.google.com/uc?export=download&id=\"+url.split(\"/\")[-2]\n",
        "orders = pd.read_csv(path)\n",
        "\n"
      ]
    },
    {
      "cell_type": "code",
      "execution_count": 446,
      "metadata": {
        "colab": {
          "base_uri": "https://localhost:8080/"
        },
        "id": "wdtR5G1SleHd",
        "outputId": "10ba6b0f-ed99-4bd9-d4f2-dc797eeb2bfe"
      },
      "outputs": [
        {
          "data": {
            "text/plain": [
              "50"
            ]
          },
          "execution_count": 446,
          "metadata": {},
          "output_type": "execute_result"
        }
      ],
      "source": [
        "#pd.options.display.max_rows = 999\n",
        "pd.set_option(\"display.max_rows\", 50) #Question : doesn't work!\n",
        "pd.get_option(\"display.max_rows\")\n"
      ]
    },
    {
      "cell_type": "markdown",
      "metadata": {
        "id": "9OsnA7TrIVZh"
      },
      "source": [
        "## Explore the data\n",
        "- ``` df.shape``` , ``` df.size``` , ``` df.ndim``` \n",
        "- ``` df.sample(5)``` , ``` df.info()``` \n",
        "- Numerical : ``` df.describe()``` , ``` df.nlargest()``` , ``` df.nsmallest()``` \n",
        "- Category : ``` df.nunique()``` , ``` df.unique() ``` "
      ]
    },
    {
      "cell_type": "code",
      "execution_count": 447,
      "metadata": {
        "colab": {
          "base_uri": "https://localhost:8080/"
        },
        "id": "WYH-IAlTMPfb",
        "outputId": "c109bd1e-dfa3-454b-e399-476a54c5a51d"
      },
      "outputs": [
        {
          "data": {
            "text/plain": [
              "(226909, 4)"
            ]
          },
          "execution_count": 447,
          "metadata": {},
          "output_type": "execute_result"
        }
      ],
      "source": [
        "orders.shape"
      ]
    },
    {
      "cell_type": "code",
      "execution_count": 448,
      "metadata": {
        "colab": {
          "base_uri": "https://localhost:8080/",
          "height": 206
        },
        "id": "D-h_qX3xOFje",
        "outputId": "9eacbdc6-2228-481f-b15f-4c2bc474df80"
      },
      "outputs": [
        {
          "data": {
            "text/html": [
              "<div>\n",
              "<style scoped>\n",
              "    .dataframe tbody tr th:only-of-type {\n",
              "        vertical-align: middle;\n",
              "    }\n",
              "\n",
              "    .dataframe tbody tr th {\n",
              "        vertical-align: top;\n",
              "    }\n",
              "\n",
              "    .dataframe thead th {\n",
              "        text-align: right;\n",
              "    }\n",
              "</style>\n",
              "<table border=\"1\" class=\"dataframe\">\n",
              "  <thead>\n",
              "    <tr style=\"text-align: right;\">\n",
              "      <th></th>\n",
              "      <th>order_id</th>\n",
              "      <th>created_date</th>\n",
              "      <th>total_paid</th>\n",
              "      <th>state</th>\n",
              "    </tr>\n",
              "  </thead>\n",
              "  <tbody>\n",
              "    <tr>\n",
              "      <th>14657</th>\n",
              "      <td>314136</td>\n",
              "      <td>2017-01-24 09:42:39</td>\n",
              "      <td>16.99</td>\n",
              "      <td>Shopping Basket</td>\n",
              "    </tr>\n",
              "    <tr>\n",
              "      <th>133261</th>\n",
              "      <td>432915</td>\n",
              "      <td>2017-11-23 00:34:46</td>\n",
              "      <td>68.22</td>\n",
              "      <td>Completed</td>\n",
              "    </tr>\n",
              "    <tr>\n",
              "      <th>187471</th>\n",
              "      <td>487883</td>\n",
              "      <td>2018-01-10 17:23:07</td>\n",
              "      <td>213.98</td>\n",
              "      <td>Shopping Basket</td>\n",
              "    </tr>\n",
              "    <tr>\n",
              "      <th>12003</th>\n",
              "      <td>311478</td>\n",
              "      <td>2017-01-18 10:49:20</td>\n",
              "      <td>18.98</td>\n",
              "      <td>Place Order</td>\n",
              "    </tr>\n",
              "    <tr>\n",
              "      <th>41967</th>\n",
              "      <td>341456</td>\n",
              "      <td>2017-04-01 00:19:26</td>\n",
              "      <td>0.00</td>\n",
              "      <td>Shopping Basket</td>\n",
              "    </tr>\n",
              "  </tbody>\n",
              "</table>\n",
              "</div>"
            ],
            "text/plain": [
              "        order_id         created_date  total_paid            state\n",
              "14657     314136  2017-01-24 09:42:39       16.99  Shopping Basket\n",
              "133261    432915  2017-11-23 00:34:46       68.22        Completed\n",
              "187471    487883  2018-01-10 17:23:07      213.98  Shopping Basket\n",
              "12003     311478  2017-01-18 10:49:20       18.98      Place Order\n",
              "41967     341456  2017-04-01 00:19:26        0.00  Shopping Basket"
            ]
          },
          "execution_count": 448,
          "metadata": {},
          "output_type": "execute_result"
        }
      ],
      "source": [
        "orders.sample(5)"
      ]
    },
    {
      "cell_type": "code",
      "execution_count": 449,
      "metadata": {
        "colab": {
          "base_uri": "https://localhost:8080/"
        },
        "id": "JrY5nsdmMUeL",
        "outputId": "17cbb184-a6b1-45c5-8313-2e2878d96463"
      },
      "outputs": [
        {
          "name": "stdout",
          "output_type": "stream",
          "text": [
            "<class 'pandas.core.frame.DataFrame'>\n",
            "RangeIndex: 226909 entries, 0 to 226908\n",
            "Data columns (total 4 columns):\n",
            " #   Column        Non-Null Count   Dtype  \n",
            "---  ------        --------------   -----  \n",
            " 0   order_id      226909 non-null  int64  \n",
            " 1   created_date  226909 non-null  object \n",
            " 2   total_paid    226904 non-null  float64\n",
            " 3   state         226909 non-null  object \n",
            "dtypes: float64(1), int64(1), object(2)\n",
            "memory usage: 6.9+ MB\n"
          ]
        }
      ],
      "source": [
        "orders.info()  \n",
        "## hint: there are 5 nulls in total_paid - TODO:fix required\n",
        "## hint: created_date is of type object, has to be datetime - TODO:fix required"
      ]
    },
    {
      "cell_type": "code",
      "execution_count": 450,
      "metadata": {
        "colab": {
          "base_uri": "https://localhost:8080/",
          "height": 300
        },
        "id": "xt3AjCMpOWWG",
        "outputId": "e9a8fb9d-0e53-4199-d6c7-450c867855c1"
      },
      "outputs": [
        {
          "data": {
            "text/html": [
              "<div>\n",
              "<style scoped>\n",
              "    .dataframe tbody tr th:only-of-type {\n",
              "        vertical-align: middle;\n",
              "    }\n",
              "\n",
              "    .dataframe tbody tr th {\n",
              "        vertical-align: top;\n",
              "    }\n",
              "\n",
              "    .dataframe thead th {\n",
              "        text-align: right;\n",
              "    }\n",
              "</style>\n",
              "<table border=\"1\" class=\"dataframe\">\n",
              "  <thead>\n",
              "    <tr style=\"text-align: right;\">\n",
              "      <th></th>\n",
              "      <th>order_id</th>\n",
              "      <th>total_paid</th>\n",
              "    </tr>\n",
              "  </thead>\n",
              "  <tbody>\n",
              "    <tr>\n",
              "      <th>count</th>\n",
              "      <td>226909.000000</td>\n",
              "      <td>226904.000000</td>\n",
              "    </tr>\n",
              "    <tr>\n",
              "      <th>mean</th>\n",
              "      <td>413296.482480</td>\n",
              "      <td>569.225818</td>\n",
              "    </tr>\n",
              "    <tr>\n",
              "      <th>std</th>\n",
              "      <td>65919.250331</td>\n",
              "      <td>1761.778002</td>\n",
              "    </tr>\n",
              "    <tr>\n",
              "      <th>min</th>\n",
              "      <td>241319.000000</td>\n",
              "      <td>0.000000</td>\n",
              "    </tr>\n",
              "    <tr>\n",
              "      <th>25%</th>\n",
              "      <td>356263.000000</td>\n",
              "      <td>34.190000</td>\n",
              "    </tr>\n",
              "    <tr>\n",
              "      <th>50%</th>\n",
              "      <td>413040.000000</td>\n",
              "      <td>112.990000</td>\n",
              "    </tr>\n",
              "    <tr>\n",
              "      <th>75%</th>\n",
              "      <td>470553.000000</td>\n",
              "      <td>525.980000</td>\n",
              "    </tr>\n",
              "    <tr>\n",
              "      <th>max</th>\n",
              "      <td>527401.000000</td>\n",
              "      <td>214747.530000</td>\n",
              "    </tr>\n",
              "  </tbody>\n",
              "</table>\n",
              "</div>"
            ],
            "text/plain": [
              "            order_id     total_paid\n",
              "count  226909.000000  226904.000000\n",
              "mean   413296.482480     569.225818\n",
              "std     65919.250331    1761.778002\n",
              "min    241319.000000       0.000000\n",
              "25%    356263.000000      34.190000\n",
              "50%    413040.000000     112.990000\n",
              "75%    470553.000000     525.980000\n",
              "max    527401.000000  214747.530000"
            ]
          },
          "execution_count": 450,
          "metadata": {},
          "output_type": "execute_result"
        }
      ],
      "source": [
        "orders.describe()\n",
        "## hint: total_paid has huge std , min = 0 as some points! probably we should exclude the total_paid = 0 - TODO: fix required"
      ]
    },
    {
      "cell_type": "code",
      "execution_count": 451,
      "metadata": {
        "colab": {
          "base_uri": "https://localhost:8080/"
        },
        "id": "JOUkYsQLO5NK",
        "outputId": "ce313205-e4ea-467e-ab4b-a9bb904b0862"
      },
      "outputs": [
        {
          "data": {
            "text/plain": [
              "order_id        226909\n",
              "created_date    224828\n",
              "total_paid       31236\n",
              "state                5\n",
              "dtype: int64"
            ]
          },
          "execution_count": 451,
          "metadata": {},
          "output_type": "execute_result"
        }
      ],
      "source": [
        "orders.nunique() # hint: order_id is unique per row \n",
        "# hint: state is category data"
      ]
    },
    {
      "cell_type": "code",
      "execution_count": 452,
      "metadata": {
        "colab": {
          "base_uri": "https://localhost:8080/"
        },
        "id": "uNxu8V_zPPV6",
        "outputId": "ecd3d2de-ec0a-4cdc-f1c7-7dd6fab3925b"
      },
      "outputs": [
        {
          "data": {
            "text/plain": [
              "array(['Cancelled', 'Completed', 'Pending', 'Shopping Basket',\n",
              "       'Place Order'], dtype=object)"
            ]
          },
          "execution_count": 452,
          "metadata": {},
          "output_type": "execute_result"
        }
      ],
      "source": [
        "orders.state.unique()\n",
        "#hint: state has value \"Shopping Basket\"/\"Pending\" which ideally shall not be part of the analysis - TODO: fix required\n",
        "# (if we care about actuall sold products)\n"
      ]
    },
    {
      "cell_type": "markdown",
      "metadata": {
        "id": "D7qtLn9bIaWv"
      },
      "source": [
        "## Clean the data per csv\n",
        "- Remember to create a copy of the df using ``` df.copy()``` "
      ]
    },
    {
      "cell_type": "code",
      "execution_count": 453,
      "metadata": {
        "id": "2iF8aX-tQce6"
      },
      "outputs": [],
      "source": [
        "orders_c = orders.copy()"
      ]
    },
    {
      "cell_type": "markdown",
      "metadata": {
        "id": "bWRDa2TgI36i"
      },
      "source": [
        "### Rename Columns , Set Index\n",
        " - ``` df.columns```   , ``` df.index``` \n",
        " - ``` df=df.rename(columns={\"A\": \"a\", \"B\": \"c\"})``` \n",
        " - ``` df.columns = [\"a\",\"b\":\"x\"]``` \n",
        "     - take care, renaming the columns like that will convert the NAN to some value!!\n",
        " - ``` df=df.set_index(\"col\")```  , ``` df=df.reset_index()``` "
      ]
    },
    {
      "cell_type": "code",
      "execution_count": 454,
      "metadata": {
        "colab": {
          "base_uri": "https://localhost:8080/"
        },
        "id": "Bb2s2UbkSDN5",
        "outputId": "4cfabe5b-9b4d-4adf-e129-4a3506516d6a"
      },
      "outputs": [
        {
          "data": {
            "text/plain": [
              "Index(['order_id', 'created_date', 'total_paid', 'state'], dtype='object')"
            ]
          },
          "execution_count": 454,
          "metadata": {},
          "output_type": "execute_result"
        }
      ],
      "source": [
        "orders_c.columns #hint: columns names shall has indec ord_"
      ]
    },
    {
      "cell_type": "code",
      "execution_count": 455,
      "metadata": {
        "id": "mHDdqIRypXox"
      },
      "outputs": [],
      "source": [
        "#orders_c.columns=['ord_id', 'ord_created_date', 'ord_total_paid', 'ord_state'] \n",
        "## take care, renaming the columns like that will convert the NAN to some value!!\n"
      ]
    },
    {
      "cell_type": "code",
      "execution_count": 456,
      "metadata": {
        "id": "72ZZgSWZqtpo"
      },
      "outputs": [],
      "source": [
        "orders_c=orders_c.rename(columns={\"order_id\": \"ord_id\", \"created_date\": \"ord_created_date\"\n",
        ", \"total_paid\": \"ord_total_paid\", \"state\": \"ord_state\"})"
      ]
    },
    {
      "cell_type": "code",
      "execution_count": 457,
      "metadata": {
        "colab": {
          "base_uri": "https://localhost:8080/"
        },
        "id": "qD7W0_cBSReE",
        "outputId": "bc26bd31-063d-4d78-a64a-79d53059ee85"
      },
      "outputs": [
        {
          "data": {
            "text/plain": [
              "RangeIndex(start=0, stop=226909, step=1)"
            ]
          },
          "execution_count": 457,
          "metadata": {},
          "output_type": "execute_result"
        }
      ],
      "source": [
        "orders_c.index #hint: no need to change index"
      ]
    },
    {
      "cell_type": "markdown",
      "metadata": {
        "id": "fgvb_kkVIfSf"
      },
      "source": [
        "### Remove Duplicates Rows\n",
        "- ``` df.duplicated().sum()``` \n",
        "- ``` df.loc[df.duplicated()==True]``` \n",
        "- ``` df=df.drop:duplicates() ``` \n",
        "- ``` df=df.drop:duplicates(subset=[\"col\"])```  --> remove rows based on duplicated in specific column"
      ]
    },
    {
      "cell_type": "code",
      "execution_count": 458,
      "metadata": {
        "colab": {
          "base_uri": "https://localhost:8080/"
        },
        "id": "KmIlg8smTjcd",
        "outputId": "05d236b0-c047-4c57-a37a-10f3961fc508"
      },
      "outputs": [
        {
          "data": {
            "text/plain": [
              "0"
            ]
          },
          "execution_count": 458,
          "metadata": {},
          "output_type": "execute_result"
        }
      ],
      "source": [
        "orders_c.duplicated().sum() #hint : No duplicates"
      ]
    },
    {
      "cell_type": "code",
      "execution_count": 459,
      "metadata": {
        "colab": {
          "base_uri": "https://localhost:8080/",
          "height": 49
        },
        "id": "IDHRyORYUdkB",
        "outputId": "2153327a-6a08-430e-8c07-af8d34a8fd4a"
      },
      "outputs": [
        {
          "data": {
            "text/html": [
              "<div>\n",
              "<style scoped>\n",
              "    .dataframe tbody tr th:only-of-type {\n",
              "        vertical-align: middle;\n",
              "    }\n",
              "\n",
              "    .dataframe tbody tr th {\n",
              "        vertical-align: top;\n",
              "    }\n",
              "\n",
              "    .dataframe thead th {\n",
              "        text-align: right;\n",
              "    }\n",
              "</style>\n",
              "<table border=\"1\" class=\"dataframe\">\n",
              "  <thead>\n",
              "    <tr style=\"text-align: right;\">\n",
              "      <th></th>\n",
              "      <th>ord_id</th>\n",
              "      <th>ord_created_date</th>\n",
              "      <th>ord_total_paid</th>\n",
              "      <th>ord_state</th>\n",
              "    </tr>\n",
              "  </thead>\n",
              "  <tbody>\n",
              "  </tbody>\n",
              "</table>\n",
              "</div>"
            ],
            "text/plain": [
              "Empty DataFrame\n",
              "Columns: [ord_id, ord_created_date, ord_total_paid, ord_state]\n",
              "Index: []"
            ]
          },
          "execution_count": 459,
          "metadata": {},
          "output_type": "execute_result"
        }
      ],
      "source": [
        "orders_c.loc[orders_c.duplicated()==True]"
      ]
    },
    {
      "cell_type": "markdown",
      "metadata": {
        "id": "B7UNm64jIq0J"
      },
      "source": [
        "### Clean NAN and empty cells\n",
        "- ``` df.isna().sum()``` \n",
        "- ``` df = df.replace('^\\s*$', np.nan)```  -->replace empty cells and cells with only whitspace with NAN\n",
        "- ``` df=df.col.fillna(value,method=\"bfill\"or\"ffill\",limit=value)``` \n",
        "\n",
        "- Extra: \n",
        "  - ``` (df.values == '').sum()```  --> check if any cell is empty\n",
        "  - ``` df.col.str.isspace().sum()```  --> check if all cell is filled with whitespaces"
      ]
    },
    {
      "cell_type": "code",
      "execution_count": 460,
      "metadata": {
        "colab": {
          "base_uri": "https://localhost:8080/",
          "height": 206
        },
        "id": "bGvRgxz3p_TV",
        "outputId": "132e4088-a562-4f8d-e0f7-d32eb775321e"
      },
      "outputs": [
        {
          "data": {
            "text/html": [
              "<div>\n",
              "<style scoped>\n",
              "    .dataframe tbody tr th:only-of-type {\n",
              "        vertical-align: middle;\n",
              "    }\n",
              "\n",
              "    .dataframe tbody tr th {\n",
              "        vertical-align: top;\n",
              "    }\n",
              "\n",
              "    .dataframe thead th {\n",
              "        text-align: right;\n",
              "    }\n",
              "</style>\n",
              "<table border=\"1\" class=\"dataframe\">\n",
              "  <thead>\n",
              "    <tr style=\"text-align: right;\">\n",
              "      <th></th>\n",
              "      <th>ord_id</th>\n",
              "      <th>ord_created_date</th>\n",
              "      <th>ord_total_paid</th>\n",
              "      <th>ord_state</th>\n",
              "    </tr>\n",
              "  </thead>\n",
              "  <tbody>\n",
              "    <tr>\n",
              "      <th>225234</th>\n",
              "      <td>525726</td>\n",
              "      <td>2018-03-12 02:37:50</td>\n",
              "      <td>0.00</td>\n",
              "      <td>Shopping Basket</td>\n",
              "    </tr>\n",
              "    <tr>\n",
              "      <th>88401</th>\n",
              "      <td>387980</td>\n",
              "      <td>2017-08-09 19:37:28</td>\n",
              "      <td>177.80</td>\n",
              "      <td>Pending</td>\n",
              "    </tr>\n",
              "    <tr>\n",
              "      <th>195199</th>\n",
              "      <td>495682</td>\n",
              "      <td>2018-01-21 22:28:24</td>\n",
              "      <td>167.97</td>\n",
              "      <td>Completed</td>\n",
              "    </tr>\n",
              "    <tr>\n",
              "      <th>24106</th>\n",
              "      <td>323586</td>\n",
              "      <td>2017-02-13 19:01:12</td>\n",
              "      <td>53.98</td>\n",
              "      <td>Pending</td>\n",
              "    </tr>\n",
              "    <tr>\n",
              "      <th>175008</th>\n",
              "      <td>475396</td>\n",
              "      <td>2017-12-28 20:03:01</td>\n",
              "      <td>12.34</td>\n",
              "      <td>Pending</td>\n",
              "    </tr>\n",
              "  </tbody>\n",
              "</table>\n",
              "</div>"
            ],
            "text/plain": [
              "        ord_id     ord_created_date  ord_total_paid        ord_state\n",
              "225234  525726  2018-03-12 02:37:50            0.00  Shopping Basket\n",
              "88401   387980  2017-08-09 19:37:28          177.80          Pending\n",
              "195199  495682  2018-01-21 22:28:24          167.97        Completed\n",
              "24106   323586  2017-02-13 19:01:12           53.98          Pending\n",
              "175008  475396  2017-12-28 20:03:01           12.34          Pending"
            ]
          },
          "execution_count": 460,
          "metadata": {},
          "output_type": "execute_result"
        }
      ],
      "source": [
        "orders_c.sample(5)"
      ]
    },
    {
      "cell_type": "code",
      "execution_count": 461,
      "metadata": {
        "colab": {
          "base_uri": "https://localhost:8080/"
        },
        "id": "8cQXrWrmU_lv",
        "outputId": "50f2daff-89b4-41b9-d2ff-799380e8a804"
      },
      "outputs": [
        {
          "data": {
            "text/plain": [
              "ord_id              0\n",
              "ord_created_date    0\n",
              "ord_total_paid      5\n",
              "ord_state           0\n",
              "dtype: int64"
            ]
          },
          "execution_count": 461,
          "metadata": {},
          "output_type": "execute_result"
        }
      ],
      "source": [
        "orders_c.isna().sum()"
      ]
    },
    {
      "cell_type": "code",
      "execution_count": 462,
      "metadata": {
        "colab": {
          "base_uri": "https://localhost:8080/"
        },
        "id": "Z6zNoY-vVx8N",
        "outputId": "a9fc4762-d731-41cf-b0f5-124621a50ca1"
      },
      "outputs": [
        {
          "name": "stdout",
          "output_type": "stream",
          "text": [
            "<class 'pandas.core.frame.DataFrame'>\n",
            "RangeIndex: 226909 entries, 0 to 226908\n",
            "Data columns (total 4 columns):\n",
            " #   Column            Non-Null Count   Dtype  \n",
            "---  ------            --------------   -----  \n",
            " 0   ord_id            226909 non-null  int64  \n",
            " 1   ord_created_date  226909 non-null  object \n",
            " 2   ord_total_paid    226904 non-null  float64\n",
            " 3   ord_state         226909 non-null  object \n",
            "dtypes: float64(1), int64(1), object(2)\n",
            "memory usage: 6.9+ MB\n"
          ]
        }
      ],
      "source": [
        "orders_c.info()"
      ]
    },
    {
      "cell_type": "code",
      "execution_count": 463,
      "metadata": {
        "id": "y_O3cG6YYOtI"
      },
      "outputs": [],
      "source": [
        "import numpy as np\n",
        "orders_c = orders_c.replace('^\\s*$', np.nan) #Question is it safe to do that?\n"
      ]
    },
    {
      "cell_type": "code",
      "execution_count": 464,
      "metadata": {
        "colab": {
          "base_uri": "https://localhost:8080/"
        },
        "id": "lXZRPynxaN49",
        "outputId": "7ddb1349-627f-4bb8-c178-d6b7e7e4d4a8"
      },
      "outputs": [
        {
          "data": {
            "text/plain": [
              "ord_id              0\n",
              "ord_created_date    0\n",
              "ord_total_paid      5\n",
              "ord_state           0\n",
              "dtype: int64"
            ]
          },
          "execution_count": 464,
          "metadata": {},
          "output_type": "execute_result"
        }
      ],
      "source": [
        "orders_c.isna().sum()"
      ]
    },
    {
      "cell_type": "code",
      "execution_count": 465,
      "metadata": {
        "colab": {
          "base_uri": "https://localhost:8080/"
        },
        "id": "PItz3zJjbXn7",
        "outputId": "3c6cf23a-0a2a-48e0-ecaf-4c647e765c57"
      },
      "outputs": [
        {
          "data": {
            "text/plain": [
              "dtype('float64')"
            ]
          },
          "execution_count": 465,
          "metadata": {},
          "output_type": "execute_result"
        }
      ],
      "source": [
        "orders_c.ord_total_paid.dtype"
      ]
    },
    {
      "cell_type": "code",
      "execution_count": 466,
      "metadata": {
        "id": "8wLfrPM3bg4A"
      },
      "outputs": [],
      "source": [
        "orders_c.ord_total_paid=orders_c.ord_total_paid.fillna(0.0)"
      ]
    },
    {
      "cell_type": "code",
      "execution_count": 467,
      "metadata": {
        "colab": {
          "base_uri": "https://localhost:8080/"
        },
        "id": "k-NpApZjbuSQ",
        "outputId": "f1276805-74d7-41f7-f003-6403658d7549"
      },
      "outputs": [
        {
          "data": {
            "text/plain": [
              "dtype('float64')"
            ]
          },
          "execution_count": 467,
          "metadata": {},
          "output_type": "execute_result"
        }
      ],
      "source": [
        "orders_c.ord_total_paid.dtype"
      ]
    },
    {
      "cell_type": "code",
      "execution_count": 468,
      "metadata": {
        "colab": {
          "base_uri": "https://localhost:8080/"
        },
        "id": "FzfCtPiubqm1",
        "outputId": "6c2f7600-a643-45e2-e75f-d2c52e8614ad"
      },
      "outputs": [
        {
          "data": {
            "text/plain": [
              "ord_id              0\n",
              "ord_created_date    0\n",
              "ord_total_paid      0\n",
              "ord_state           0\n",
              "dtype: int64"
            ]
          },
          "execution_count": 468,
          "metadata": {},
          "output_type": "execute_result"
        }
      ],
      "source": [
        "orders_c.isna().sum()"
      ]
    },
    {
      "cell_type": "markdown",
      "metadata": {
        "id": "-EJsq-6qIvA_"
      },
      "source": [
        "### Fix DataTypes\n",
        "- ``` df.col.astype(type,errors=\"raise\")``` \n",
        "  - type = \"int\",\"float\",\"bool\",\"category\",\"object\",\"datetime\",\"timedelta\"\n",
        "- for mixed data\n",
        "  - ``` pd.to_numeric(df.col, downcast=x,errors=\"raise\") ``` \n",
        "  x = \"integer\" or \"float\"\n",
        "  - ``` pd.to_datetime(df.col, downcast=None,errors=\"raise\") ``` \n",
        "  - ``` pd.to_timedelta(df.col, downcast=None,errors=\"raise\") ``` "
      ]
    },
    {
      "cell_type": "code",
      "execution_count": 469,
      "metadata": {
        "colab": {
          "base_uri": "https://localhost:8080/"
        },
        "id": "4HelvLkBfjrm",
        "outputId": "00ceccbc-9ac8-466a-e84b-aeb777198f40"
      },
      "outputs": [
        {
          "name": "stdout",
          "output_type": "stream",
          "text": [
            "<class 'pandas.core.frame.DataFrame'>\n",
            "RangeIndex: 226909 entries, 0 to 226908\n",
            "Data columns (total 4 columns):\n",
            " #   Column            Non-Null Count   Dtype  \n",
            "---  ------            --------------   -----  \n",
            " 0   ord_id            226909 non-null  int64  \n",
            " 1   ord_created_date  226909 non-null  object \n",
            " 2   ord_total_paid    226909 non-null  float64\n",
            " 3   ord_state         226909 non-null  object \n",
            "dtypes: float64(1), int64(1), object(2)\n",
            "memory usage: 6.9+ MB\n"
          ]
        }
      ],
      "source": [
        "orders_c.info()"
      ]
    },
    {
      "cell_type": "code",
      "execution_count": 470,
      "metadata": {
        "id": "qIRWcTgkfFmy"
      },
      "outputs": [],
      "source": [
        "orders_c.ord_created_date=pd.to_datetime(orders_c.ord_created_date,errors=\"raise\")"
      ]
    },
    {
      "cell_type": "code",
      "execution_count": 471,
      "metadata": {
        "colab": {
          "base_uri": "https://localhost:8080/"
        },
        "id": "05zcp9HQgJX5",
        "outputId": "f3e7e90b-09c6-467c-fdae-fcb2d7ca680c"
      },
      "outputs": [
        {
          "name": "stdout",
          "output_type": "stream",
          "text": [
            "<class 'pandas.core.frame.DataFrame'>\n",
            "RangeIndex: 226909 entries, 0 to 226908\n",
            "Data columns (total 4 columns):\n",
            " #   Column            Non-Null Count   Dtype         \n",
            "---  ------            --------------   -----         \n",
            " 0   ord_id            226909 non-null  int64         \n",
            " 1   ord_created_date  226909 non-null  datetime64[ns]\n",
            " 2   ord_total_paid    226909 non-null  float64       \n",
            " 3   ord_state         226909 non-null  object        \n",
            "dtypes: datetime64[ns](1), float64(1), int64(1), object(1)\n",
            "memory usage: 6.9+ MB\n"
          ]
        }
      ],
      "source": [
        "orders_c.info()"
      ]
    },
    {
      "cell_type": "code",
      "execution_count": 472,
      "metadata": {
        "id": "Hd9EZvnngWeI"
      },
      "outputs": [],
      "source": [
        "orders_c.ord_state=orders_c.ord_state.astype(\"category\",errors=\"raise\")"
      ]
    },
    {
      "cell_type": "code",
      "execution_count": 473,
      "metadata": {
        "colab": {
          "base_uri": "https://localhost:8080/"
        },
        "id": "sRWFgZP2gqMf",
        "outputId": "fd41cd8c-4509-4e58-f048-3f75b5a53d84"
      },
      "outputs": [
        {
          "name": "stdout",
          "output_type": "stream",
          "text": [
            "<class 'pandas.core.frame.DataFrame'>\n",
            "RangeIndex: 226909 entries, 0 to 226908\n",
            "Data columns (total 4 columns):\n",
            " #   Column            Non-Null Count   Dtype         \n",
            "---  ------            --------------   -----         \n",
            " 0   ord_id            226909 non-null  int64         \n",
            " 1   ord_created_date  226909 non-null  datetime64[ns]\n",
            " 2   ord_total_paid    226909 non-null  float64       \n",
            " 3   ord_state         226909 non-null  category      \n",
            "dtypes: category(1), datetime64[ns](1), float64(1), int64(1)\n",
            "memory usage: 5.4 MB\n"
          ]
        }
      ],
      "source": [
        "orders_c.info()"
      ]
    },
    {
      "cell_type": "markdown",
      "metadata": {
        "id": "txLIlKN0Jds0"
      },
      "source": [
        "### Drop duplicate/un-necessary Columns\n",
        "- ``` df=df.drop(columns=[\"col1\",\"col2\"])``` "
      ]
    },
    {
      "cell_type": "code",
      "execution_count": 474,
      "metadata": {
        "colab": {
          "base_uri": "https://localhost:8080/",
          "height": 300
        },
        "id": "zlSSs4wChCgj",
        "outputId": "09078e97-c8cb-485c-c43f-5097dd5b1f2e"
      },
      "outputs": [
        {
          "data": {
            "text/html": [
              "<div>\n",
              "<style scoped>\n",
              "    .dataframe tbody tr th:only-of-type {\n",
              "        vertical-align: middle;\n",
              "    }\n",
              "\n",
              "    .dataframe tbody tr th {\n",
              "        vertical-align: top;\n",
              "    }\n",
              "\n",
              "    .dataframe thead th {\n",
              "        text-align: right;\n",
              "    }\n",
              "</style>\n",
              "<table border=\"1\" class=\"dataframe\">\n",
              "  <thead>\n",
              "    <tr style=\"text-align: right;\">\n",
              "      <th></th>\n",
              "      <th>ord_id</th>\n",
              "      <th>ord_total_paid</th>\n",
              "    </tr>\n",
              "  </thead>\n",
              "  <tbody>\n",
              "    <tr>\n",
              "      <th>count</th>\n",
              "      <td>226909.000000</td>\n",
              "      <td>226909.000000</td>\n",
              "    </tr>\n",
              "    <tr>\n",
              "      <th>mean</th>\n",
              "      <td>413296.482480</td>\n",
              "      <td>569.213275</td>\n",
              "    </tr>\n",
              "    <tr>\n",
              "      <th>std</th>\n",
              "      <td>65919.250331</td>\n",
              "      <td>1761.760618</td>\n",
              "    </tr>\n",
              "    <tr>\n",
              "      <th>min</th>\n",
              "      <td>241319.000000</td>\n",
              "      <td>0.000000</td>\n",
              "    </tr>\n",
              "    <tr>\n",
              "      <th>25%</th>\n",
              "      <td>356263.000000</td>\n",
              "      <td>34.190000</td>\n",
              "    </tr>\n",
              "    <tr>\n",
              "      <th>50%</th>\n",
              "      <td>413040.000000</td>\n",
              "      <td>112.990000</td>\n",
              "    </tr>\n",
              "    <tr>\n",
              "      <th>75%</th>\n",
              "      <td>470553.000000</td>\n",
              "      <td>525.970000</td>\n",
              "    </tr>\n",
              "    <tr>\n",
              "      <th>max</th>\n",
              "      <td>527401.000000</td>\n",
              "      <td>214747.530000</td>\n",
              "    </tr>\n",
              "  </tbody>\n",
              "</table>\n",
              "</div>"
            ],
            "text/plain": [
              "              ord_id  ord_total_paid\n",
              "count  226909.000000   226909.000000\n",
              "mean   413296.482480      569.213275\n",
              "std     65919.250331     1761.760618\n",
              "min    241319.000000        0.000000\n",
              "25%    356263.000000       34.190000\n",
              "50%    413040.000000      112.990000\n",
              "75%    470553.000000      525.970000\n",
              "max    527401.000000   214747.530000"
            ]
          },
          "execution_count": 474,
          "metadata": {},
          "output_type": "execute_result"
        }
      ],
      "source": [
        "orders_c.describe() ## hint: all columns contain needed data. nothing to drop"
      ]
    },
    {
      "cell_type": "markdown",
      "metadata": {
        "id": "KW-1Z3wsJs7P"
      },
      "source": [
        "## Re-Explore the data\n",
        "draw some ``` df.col.hist()```  , ``` df.ser.boxplot()```  per column\n",
        "take notes"
      ]
    },
    {
      "cell_type": "code",
      "execution_count": 475,
      "metadata": {
        "colab": {
          "base_uri": "https://localhost:8080/",
          "height": 363
        },
        "id": "-X8xGWkoiIhW",
        "outputId": "140a3104-f62f-445a-e27c-5fbacb9dcceb"
      },
      "outputs": [
        {
          "data": {
            "text/html": [
              "<div>\n",
              "<style scoped>\n",
              "    .dataframe tbody tr th:only-of-type {\n",
              "        vertical-align: middle;\n",
              "    }\n",
              "\n",
              "    .dataframe tbody tr th {\n",
              "        vertical-align: top;\n",
              "    }\n",
              "\n",
              "    .dataframe thead th {\n",
              "        text-align: right;\n",
              "    }\n",
              "</style>\n",
              "<table border=\"1\" class=\"dataframe\">\n",
              "  <thead>\n",
              "    <tr style=\"text-align: right;\">\n",
              "      <th></th>\n",
              "      <th>ord_id</th>\n",
              "      <th>ord_created_date</th>\n",
              "      <th>ord_total_paid</th>\n",
              "      <th>ord_state</th>\n",
              "    </tr>\n",
              "  </thead>\n",
              "  <tbody>\n",
              "    <tr>\n",
              "      <th>8023</th>\n",
              "      <td>307493</td>\n",
              "      <td>2017-01-11 19:06:05</td>\n",
              "      <td>337.98</td>\n",
              "      <td>Place Order</td>\n",
              "    </tr>\n",
              "    <tr>\n",
              "      <th>119477</th>\n",
              "      <td>419065</td>\n",
              "      <td>2017-10-28 20:00:50</td>\n",
              "      <td>399.00</td>\n",
              "      <td>Place Order</td>\n",
              "    </tr>\n",
              "    <tr>\n",
              "      <th>97812</th>\n",
              "      <td>397396</td>\n",
              "      <td>2017-09-07 12:51:37</td>\n",
              "      <td>24.99</td>\n",
              "      <td>Shopping Basket</td>\n",
              "    </tr>\n",
              "    <tr>\n",
              "      <th>22095</th>\n",
              "      <td>321575</td>\n",
              "      <td>2017-02-09 00:10:53</td>\n",
              "      <td>52.99</td>\n",
              "      <td>Shopping Basket</td>\n",
              "    </tr>\n",
              "    <tr>\n",
              "      <th>125342</th>\n",
              "      <td>424955</td>\n",
              "      <td>2017-11-10 22:29:52</td>\n",
              "      <td>854.68</td>\n",
              "      <td>Shopping Basket</td>\n",
              "    </tr>\n",
              "    <tr>\n",
              "      <th>82102</th>\n",
              "      <td>381676</td>\n",
              "      <td>2017-07-25 09:16:38</td>\n",
              "      <td>48.97</td>\n",
              "      <td>Completed</td>\n",
              "    </tr>\n",
              "    <tr>\n",
              "      <th>67567</th>\n",
              "      <td>367113</td>\n",
              "      <td>2017-06-19 13:35:10</td>\n",
              "      <td>46.98</td>\n",
              "      <td>Place Order</td>\n",
              "    </tr>\n",
              "    <tr>\n",
              "      <th>73941</th>\n",
              "      <td>373487</td>\n",
              "      <td>2017-07-06 03:11:04</td>\n",
              "      <td>128.99</td>\n",
              "      <td>Shopping Basket</td>\n",
              "    </tr>\n",
              "    <tr>\n",
              "      <th>6942</th>\n",
              "      <td>306411</td>\n",
              "      <td>2017-01-10 12:01:44</td>\n",
              "      <td>9.00</td>\n",
              "      <td>Place Order</td>\n",
              "    </tr>\n",
              "    <tr>\n",
              "      <th>74159</th>\n",
              "      <td>373705</td>\n",
              "      <td>2017-07-06 15:00:43</td>\n",
              "      <td>0.00</td>\n",
              "      <td>Shopping Basket</td>\n",
              "    </tr>\n",
              "  </tbody>\n",
              "</table>\n",
              "</div>"
            ],
            "text/plain": [
              "        ord_id    ord_created_date  ord_total_paid        ord_state\n",
              "8023    307493 2017-01-11 19:06:05          337.98      Place Order\n",
              "119477  419065 2017-10-28 20:00:50          399.00      Place Order\n",
              "97812   397396 2017-09-07 12:51:37           24.99  Shopping Basket\n",
              "22095   321575 2017-02-09 00:10:53           52.99  Shopping Basket\n",
              "125342  424955 2017-11-10 22:29:52          854.68  Shopping Basket\n",
              "82102   381676 2017-07-25 09:16:38           48.97        Completed\n",
              "67567   367113 2017-06-19 13:35:10           46.98      Place Order\n",
              "73941   373487 2017-07-06 03:11:04          128.99  Shopping Basket\n",
              "6942    306411 2017-01-10 12:01:44            9.00      Place Order\n",
              "74159   373705 2017-07-06 15:00:43            0.00  Shopping Basket"
            ]
          },
          "execution_count": 475,
          "metadata": {},
          "output_type": "execute_result"
        }
      ],
      "source": [
        "orders_c.sample(10)  # Question: how state=\"Shopping Basket\" while \"Total_paid\" has a value!! "
      ]
    },
    {
      "cell_type": "code",
      "execution_count": 476,
      "metadata": {
        "colab": {
          "base_uri": "https://localhost:8080/"
        },
        "id": "Z3g7JNrriewg",
        "outputId": "99126be4-e361-450d-b6c9-34b0cc7b604e"
      },
      "outputs": [
        {
          "data": {
            "text/plain": [
              "['Completed', 'Shopping Basket', 'Place Order', 'Pending', 'Cancelled']\n",
              "Categories (5, object): ['Cancelled', 'Completed', 'Pending', 'Place Order', 'Shopping Basket']"
            ]
          },
          "execution_count": 476,
          "metadata": {},
          "output_type": "execute_result"
        }
      ],
      "source": [
        "orders_c.loc[orders_c.ord_total_paid == 0.0].ord_state.unique()"
      ]
    }
  ],
  "metadata": {
    "colab": {
      "authorship_tag": "ABX9TyMT7v9XshVXAURmbT7onweZ",
      "include_colab_link": true,
      "provenance": [],
      "toc_visible": true
    },
    "kernelspec": {
      "display_name": "Python 3.9.1 64-bit",
      "language": "python",
      "name": "python3"
    },
    "language_info": {
      "codemirror_mode": {
        "name": "ipython",
        "version": 3
      },
      "file_extension": ".py",
      "mimetype": "text/x-python",
      "name": "python",
      "nbconvert_exporter": "python",
      "pygments_lexer": "ipython3",
      "version": "3.9.1"
    },
    "vscode": {
      "interpreter": {
        "hash": "81794d4967e6c3204c66dcd87b604927b115b27c00565d3d43f05ba2f3a2cb0d"
      }
    }
  },
  "nbformat": 4,
  "nbformat_minor": 0
}
