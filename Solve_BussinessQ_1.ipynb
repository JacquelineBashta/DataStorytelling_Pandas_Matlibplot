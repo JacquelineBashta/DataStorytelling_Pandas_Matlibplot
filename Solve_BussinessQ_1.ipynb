{
 "cells": [
  {
   "cell_type": "markdown",
   "metadata": {
    "id": "mo3w8u4OnEFD"
   },
   "source": [
    "    ==============================================================================================\n",
    "\n",
    "## Importing the DataFrames\n",
    "- ``` df = pd.read_pickle(\"file_name.pkl\")```  --> create 1 df from a pkl file"
   ]
  },
  {
   "cell_type": "code",
   "execution_count": null,
   "metadata": {
    "id": "cI0W2L18nEFD",
    "tags": []
   },
   "outputs": [],
   "source": [
    "import pandas as pd\n",
    "import numpy as np\n",
    "import seaborn as sns\n",
    "import matplotlib.pyplot as plt\n",
    "pd.set_option(\"display.min_rows\", 0) \n",
    "pd.set_option(\"display.max_rows\", 30) \n",
    "pd.__version__"
   ]
  },
  {
   "cell_type": "code",
   "execution_count": null,
   "metadata": {
    "colab": {
     "base_uri": "https://localhost:8080/"
    },
    "id": "OH3Hy6AMnEFD",
    "outputId": "3002ac6e-013c-4334-db4c-382c2584f60e",
    "tags": []
   },
   "outputs": [],
   "source": [
    "db_qu = pd.read_pickle(\"clean_Tables\\Merged_c.pkl\")"
   ]
  },
  {
   "cell_type": "code",
   "execution_count": null,
   "metadata": {},
   "outputs": [],
   "source": [
    "\n",
    "db_qu_rows = db_qu.shape[0]\n",
    "db_qu_rows"
   ]
  },
  {
   "cell_type": "code",
   "execution_count": null,
   "metadata": {},
   "outputs": [],
   "source": [
    "db_qu.columns"
   ]
  },
  {
   "cell_type": "code",
   "execution_count": null,
   "metadata": {},
   "outputs": [],
   "source": [
    "#ord_qu = db_qu[['ORD_ID', 'ord_CreatDate', 'ord_TotlPaid']].copy()"
   ]
  },
  {
   "cell_type": "code",
   "execution_count": null,
   "metadata": {},
   "outputs": [],
   "source": [
    "#ol_qu = db_qu[['OL_ID', 'ol_ProdQnty', 'ol_ProdUntPr', 'ol_ProcessDate']].copy()"
   ]
  },
  {
   "cell_type": "code",
   "execution_count": null,
   "metadata": {},
   "outputs": [],
   "source": [
    "#pro_qu = db_qu[['PRO_SKU', 'pro_Name', 'pro_Desc', 'pro_Pr', 'pro_InStock', 'pro_Type']].copy()"
   ]
  },
  {
   "cell_type": "markdown",
   "metadata": {},
   "source": [
    "    ==============================================================================================\n",
    "\n",
    "## Answer Bussines questions\n"
   ]
  },
  {
   "cell_type": "markdown",
   "metadata": {},
   "source": [
    "- Concerns\n",
    "    A. The main investors pointed out the company’s recent quarterly results showed\n",
    "        1.  increase in orders placed but a decrease in the total revenue. They prefer that the company positions itself in the quality segment, rather than competing to offer the lowest prices in the market.\n",
    "    B. Questions\n",
    "        1. How products should be classified into different categories to simplify reports and analysis.\n",
    "        2. What is the distribution of product prices across different categories.\n",
    "        3. How many products are being discounted.\n",
    "        4. How big are the offered discounts as a percentage of the product prices. --> tmp_dis_per"
   ]
  },
  {
   "cell_type": "markdown",
   "metadata": {},
   "source": [
    "### A.1. Revenue per Order\n",
    "- Recap:\n",
    "    - ord_TotlPaid : total amount paid by the customer for this order (euros)\n",
    "    - ol_ProdUntPr : the unitary price (euros) of each product at the moment of placing that order\n",
    "    - ol_ProdQnty  : how many units of that product were purchased on that order\n",
    "- per row(OL) : ol_ProdUntPr * ol_ProdQnty = tmp_ol_price\n",
    "- group by ORD_ID .sum of the tmp_ol_price = tmp_ord_price\n",
    "- compare the tmp_ord_price with ord_TotlPaid"
   ]
  },
  {
   "cell_type": "code",
   "execution_count": null,
   "metadata": {},
   "outputs": [],
   "source": [
    "drop_lst = [\"ol_ProcessDate\",\"PRO_SKU\",\"pro_Name\",\"pro_Desc\",\"pro_InStock\",\"pro_Type\"]"
   ]
  },
  {
   "cell_type": "code",
   "execution_count": null,
   "metadata": {},
   "outputs": [],
   "source": [
    "db_qu[\"tmp_ol_price\"] = db_qu.ol_ProdUntPr * db_qu.ol_ProdQnty"
   ]
  },
  {
   "cell_type": "code",
   "execution_count": null,
   "metadata": {},
   "outputs": [],
   "source": [
    "db_qu.tmp_ol_price.means=\"db_qu.ol_ProdUntPr * db_qu.ol_ProdQnty\""
   ]
  },
  {
   "cell_type": "code",
   "execution_count": null,
   "metadata": {},
   "outputs": [],
   "source": [
    "\n",
    "db_ordRev=(\n",
    "    db_qu\n",
    "    .groupby(\"ORD_ID\")\n",
    "    .agg(tmp_ord_Rev=('tmp_ol_price', 'sum'))\n",
    "    .merge(db_qu,on=\"ORD_ID\")\n",
    ").drop_duplicates(subset=\"ORD_ID\")"
   ]
  },
  {
   "cell_type": "code",
   "execution_count": null,
   "metadata": {},
   "outputs": [],
   "source": [
    "#db_ordRev.tmp_ord_Rev.means=\"groupby ORD_ID, agg tmp_ol_price --> sum\""
   ]
  },
  {
   "cell_type": "code",
   "execution_count": null,
   "metadata": {},
   "outputs": [],
   "source": [
    "#db_ordRev.tmp_ord_Rev.means"
   ]
  },
  {
   "cell_type": "code",
   "execution_count": null,
   "metadata": {},
   "outputs": [],
   "source": [
    "\n",
    "db_ordRev=(\n",
    "    db_ordRev\n",
    "    .assign(tmp_ord_Pr_diff = db_ordRev.ord_TotlPaid-db_ordRev.tmp_ord_Rev)\n",
    "    .drop(columns=drop_lst)\n",
    "    .drop(columns = [\"tmp_ol_price\",\"OL_ID\",\"ol_ProdQnty\",\t\"ol_ProdUntPr\",\t\"pro_Pr\"])\n",
    "    .reindex(columns=['ORD_ID', 'ord_CreatDate', 'ord_TotlPaid', 'tmp_ord_Rev', 'tmp_ord_Pr_diff'])\n",
    ")"
   ]
  },
  {
   "cell_type": "code",
   "execution_count": null,
   "metadata": {},
   "outputs": [],
   "source": [
    "# db_ordRev.tmp_ord_Pr_diff.means='''db_ordRev.ord_TotlPaid - db_ordRev.tmp_ord_Rev \n",
    "# In ideal cases, this value should 0\n",
    "# +ve means customer paid extra costs (ie delivery)\n",
    "# -ve means customer paid less than he should!! '''"
   ]
  },
  {
   "cell_type": "code",
   "execution_count": null,
   "metadata": {},
   "outputs": [],
   "source": [
    "db_ordRev.sample(5)"
   ]
  },
  {
   "cell_type": "code",
   "execution_count": null,
   "metadata": {},
   "outputs": [],
   "source": [
    "db_ordRev.tmp_ord_Pr_diff.describe()"
   ]
  },
  {
   "cell_type": "code",
   "execution_count": null,
   "metadata": {},
   "outputs": [],
   "source": [
    "db_ordRev.tmp_ord_Pr_diff.hist();"
   ]
  },
  {
   "cell_type": "markdown",
   "metadata": {},
   "source": [
    "Calculate Outlier"
   ]
  },
  {
   "cell_type": "code",
   "execution_count": null,
   "metadata": {},
   "outputs": [],
   "source": [
    "Q1 = db_ordRev.tmp_ord_Pr_diff.quantile(0.25)\n",
    "Q3 = db_ordRev.tmp_ord_Pr_diff.quantile(0.75)\n",
    "IQR=Q3-Q1"
   ]
  },
  {
   "cell_type": "code",
   "execution_count": null,
   "metadata": {},
   "outputs": [],
   "source": [
    "num_inliers =((db_ordRev.tmp_ord_Pr_diff >= (Q1 - 1.5*IQR)) & (db_ordRev.tmp_ord_Pr_diff <= (Q3 + 1.5*IQR))).sum()\n",
    "num_outliers = db_ordRev.shape[0]-num_inliers \n",
    "per_outliers = round((num_outliers/db_ordRev.shape[0])*100,2)\n",
    "print(f'''{num_outliers} out of {db_ordRev.shape[0]} are outliers from tmp_ord_Pr_diff ,ie {per_outliers}%''') "
   ]
  },
  {
   "cell_type": "code",
   "execution_count": null,
   "metadata": {},
   "outputs": [],
   "source": [
    "db_ordRev=db_ordRev.loc[(db_ordRev.tmp_ord_Pr_diff >= (Q1 - 1.5*IQR)) & (db_ordRev.tmp_ord_Pr_diff <= (Q3 + 1.5*IQR))]"
   ]
  },
  {
   "cell_type": "code",
   "execution_count": null,
   "metadata": {},
   "outputs": [],
   "source": [
    "db_ordRev.tmp_ord_Pr_diff.hist();"
   ]
  },
  {
   "cell_type": "code",
   "execution_count": null,
   "metadata": {},
   "outputs": [],
   "source": [
    "round(db_ordRev.tmp_ord_Pr_diff.describe(),2)"
   ]
  },
  {
   "cell_type": "markdown",
   "metadata": {},
   "source": [
    "Find orders with Delivery Discounts"
   ]
  },
  {
   "cell_type": "code",
   "execution_count": null,
   "metadata": {},
   "outputs": [],
   "source": []
  },
  {
   "cell_type": "markdown",
   "metadata": {},
   "source": [
    "Check Revenue/num of Orders OverTime"
   ]
  },
  {
   "cell_type": "code",
   "execution_count": null,
   "metadata": {},
   "outputs": [],
   "source": []
  },
  {
   "cell_type": "code",
   "execution_count": null,
   "metadata": {},
   "outputs": [],
   "source": [
    "db_ordRev.sample()"
   ]
  },
  {
   "cell_type": "code",
   "execution_count": null,
   "metadata": {},
   "outputs": [],
   "source": [
    "(\n",
    "    db_ordRev\n",
    "    .groupby([db_ordRev.ord_CreatDate.dt.year,db_ordRev.ord_CreatDate.dt.month])\n",
    "    .agg(total_paid =(\"ord_TotlPaid\",\"sum\"))\n",
    "    .plot(kind=\"bar\")\n",
    ")"
   ]
  },
  {
   "cell_type": "code",
   "execution_count": null,
   "metadata": {},
   "outputs": [],
   "source": [
    "(\n",
    "    db_ordRev\n",
    "    .groupby([db_ordRev.ord_CreatDate.dt.year,db_ordRev.ord_CreatDate.dt.month])\n",
    "    .agg(total_orders =(\"ORD_ID\",\"count\"))\n",
    "    .plot(kind=\"bar\")\n",
    ");"
   ]
  },
  {
   "cell_type": "code",
   "execution_count": null,
   "metadata": {},
   "outputs": [],
   "source": [
    "\n",
    "dbv_Rev_Ord=(\n",
    "    db_ordRev\n",
    "    .groupby(db_ordRev.ord_CreatDate.dt.strftime(\"%Y-%m\"))\n",
    "    #.agg({'ord_TotlPaid': [('total_rev', 'sum')], 'ORD_ID': [('total_orders', 'count')]})\n",
    "    .agg({'ord_TotlPaid': 'sum', 'ORD_ID':'count'})\n",
    "    #.agg(total_rev =(\"tmp_ord_Rev\",\"sum\"))\n",
    "    #.plot(kind=\"bar\")\n",
    "    .reset_index()\n",
    ")\n",
    "#Note: shall compare first 3 months of each yaer with eachother\n",
    "dbv_Rev_Ord"
   ]
  },
  {
   "cell_type": "code",
   "execution_count": null,
   "metadata": {},
   "outputs": [],
   "source": [
    "dbv_Rev_Ord=(\n",
    "    dbv_Rev_Ord\n",
    "    .assign(Q1=[1,1,1,0,0,0,0,0,0,0,0,0,1,1,1])\n",
    ")"
   ]
  },
  {
   "cell_type": "code",
   "execution_count": null,
   "metadata": {},
   "outputs": [],
   "source": [
    "f,axs=plt.subplots(figsize=(13,6))\n",
    "sns.barplot(data=dbv_Rev_Ord\n",
    "            ,x=\"ord_CreatDate\"\n",
    "            ,y=\"ORD_ID\"\n",
    "            ,hue=\"Q1\"\n",
    "            #,legend=False\n",
    "            #,aspect=3\n",
    "            ,palette=\"plasma\"\n",
    "            ,ax=axs\n",
    "            )\n",
    "hlines=[dbv_Rev_Ord.ORD_ID[0],dbv_Rev_Ord.ORD_ID[1],dbv_Rev_Ord.ORD_ID[2]]\n",
    "axs.hlines(hlines, xmin=[0,1,2],xmax=[12.5,13.5,14.5], color='grey',linestyles=\"dotted\")\n",
    "f,axs=plt.subplots(figsize=(13,6))\n",
    "sns.barplot(data=dbv_Rev_Ord\n",
    "            ,x=\"ord_CreatDate\"\n",
    "            ,y=\"ord_TotlPaid\"\n",
    "            ,hue=\"Q1\"\n",
    "            #,legend=False\n",
    "            #,aspect=3\n",
    "            ,palette=\"plasma\"\n",
    "            ,ax=axs\n",
    "            )\n",
    "hlines=[dbv_Rev_Ord.ord_TotlPaid[0],dbv_Rev_Ord.ord_TotlPaid[1],dbv_Rev_Ord.ord_TotlPaid[2]]\n",
    "axs.hlines(hlines, xmin=[0,1,2],xmax=[12.5,13.5,14.5], color='grey',linestyles=\"dotted\")\n"
   ]
  },
  {
   "cell_type": "markdown",
   "metadata": {},
   "source": [
    "- Conclusion"
   ]
  },
  {
   "cell_type": "code",
   "execution_count": null,
   "metadata": {},
   "outputs": [],
   "source": [
    "print(f''' Looking to the diagram, The Revenue has been decreased for Q1 2018 WRT to q4 2017\n",
    "      BUT Its normally not recommanded to compare 2 different quarters/months within year with each others.\n",
    "      Best Practice recomand to compare same Quarter of different years to consider seasonal events\n",
    "      Hence looking to Q1 2017, The Revenue as well as number of Orders has been already Increased!!\n",
    "      Means the Main Investor concerns are not quite real''')"
   ]
  },
  {
   "cell_type": "markdown",
   "metadata": {},
   "source": [
    "### B.3/4 Discounts per product (db_proDis)\n",
    "- Recap:\n",
    "    - ol_ProdUntPr : the unitary price (euros) of each product at the moment of placing that order\n",
    "    - pro_Pr       : product price without discounts\n",
    "- check if rows are unique for sku\n",
    "- discounts per product --> pro_Pr - ol_ProdUntPr"
   ]
  },
  {
   "cell_type": "code",
   "execution_count": null,
   "metadata": {},
   "outputs": [],
   "source": [
    "drop_lst_proDis =[\"ORD_ID\",\"ord_CreatDate\",\"ol_ProcessDate\",\"ord_TotlPaid\",\"OL_ID\",\"ol_ProdQnty\",\"pro_Desc\",\"pro_InStock\",\"tmp_ol_price\"]\n"
   ]
  },
  {
   "cell_type": "code",
   "execution_count": null,
   "metadata": {},
   "outputs": [],
   "source": [
    "db_proDis=(\n",
    "    db_qu\n",
    "    #.drop(columns=drop_lst_proDis)\n",
    "    #.reindex(columns=[\"PRO_SKU\",\"pro_Name\",\"pro_Type\",\"ol_ProdUntPr\",\"pro_Pr\"])\n",
    "    .assign(tmp_pro_dis = db_qu.pro_Pr - db_qu.ol_ProdUntPr)\n",
    ")"
   ]
  },
  {
   "cell_type": "code",
   "execution_count": null,
   "metadata": {},
   "outputs": [],
   "source": [
    "db_proDis= (\n",
    "    db_proDis\n",
    "    .assign(AvgDiscoutPercent = np.where((db_proDis.pro_Pr== 0.0)\n",
    "                                   ,100\n",
    "                                   ,round(((db_proDis.tmp_pro_dis)/db_proDis.pro_Pr)*100,2)\n",
    "                                   ))\n",
    "    )"
   ]
  },
  {
   "cell_type": "code",
   "execution_count": null,
   "metadata": {},
   "outputs": [],
   "source": [
    "# db_proDis.tmp_pro_dis.means = '''db_qu.pro_Pr - db_qu.ol_ProdUntPr, \n",
    "# -ve means item sold higher than original price\n",
    "# 0 means no discount'''"
   ]
  },
  {
   "cell_type": "code",
   "execution_count": null,
   "metadata": {},
   "outputs": [],
   "source": [
    "(db_proDis.tmp_pro_dis == 0).sum()"
   ]
  },
  {
   "cell_type": "code",
   "execution_count": 88,
   "metadata": {},
   "outputs": [
    {
     "data": {
      "text/html": [
       "<div>\n",
       "<style scoped>\n",
       "    .dataframe tbody tr th:only-of-type {\n",
       "        vertical-align: middle;\n",
       "    }\n",
       "\n",
       "    .dataframe tbody tr th {\n",
       "        vertical-align: top;\n",
       "    }\n",
       "\n",
       "    .dataframe thead th {\n",
       "        text-align: right;\n",
       "    }\n",
       "</style>\n",
       "<table border=\"1\" class=\"dataframe\">\n",
       "  <thead>\n",
       "    <tr style=\"text-align: right;\">\n",
       "      <th></th>\n",
       "      <th>ord_CreatDate</th>\n",
       "      <th>ord_TotlPaid</th>\n",
       "      <th>ORD_ID</th>\n",
       "      <th>AvgDiscoutPercent</th>\n",
       "    </tr>\n",
       "  </thead>\n",
       "  <tbody>\n",
       "    <tr>\n",
       "      <th>0</th>\n",
       "      <td>2017-01</td>\n",
       "      <td>1777889.13</td>\n",
       "      <td>6618</td>\n",
       "      <td>24.948516</td>\n",
       "    </tr>\n",
       "    <tr>\n",
       "      <th>1</th>\n",
       "      <td>2017-02</td>\n",
       "      <td>905435.61</td>\n",
       "      <td>2887</td>\n",
       "      <td>19.434285</td>\n",
       "    </tr>\n",
       "    <tr>\n",
       "      <th>2</th>\n",
       "      <td>2017-03</td>\n",
       "      <td>210875.29</td>\n",
       "      <td>267</td>\n",
       "      <td>18.338764</td>\n",
       "    </tr>\n",
       "    <tr>\n",
       "      <th>3</th>\n",
       "      <td>2017-04</td>\n",
       "      <td>843396.60</td>\n",
       "      <td>2152</td>\n",
       "      <td>18.282951</td>\n",
       "    </tr>\n",
       "    <tr>\n",
       "      <th>4</th>\n",
       "      <td>2017-05</td>\n",
       "      <td>1012677.11</td>\n",
       "      <td>2490</td>\n",
       "      <td>15.892032</td>\n",
       "    </tr>\n",
       "    <tr>\n",
       "      <th>5</th>\n",
       "      <td>2017-06</td>\n",
       "      <td>1074748.50</td>\n",
       "      <td>2111</td>\n",
       "      <td>16.892658</td>\n",
       "    </tr>\n",
       "    <tr>\n",
       "      <th>6</th>\n",
       "      <td>2017-07</td>\n",
       "      <td>1732924.23</td>\n",
       "      <td>4665</td>\n",
       "      <td>24.550452</td>\n",
       "    </tr>\n",
       "    <tr>\n",
       "      <th>7</th>\n",
       "      <td>2017-08</td>\n",
       "      <td>1103649.81</td>\n",
       "      <td>3046</td>\n",
       "      <td>20.491687</td>\n",
       "    </tr>\n",
       "    <tr>\n",
       "      <th>8</th>\n",
       "      <td>2017-09</td>\n",
       "      <td>1325261.64</td>\n",
       "      <td>2885</td>\n",
       "      <td>19.990666</td>\n",
       "    </tr>\n",
       "    <tr>\n",
       "      <th>9</th>\n",
       "      <td>2017-10</td>\n",
       "      <td>1673072.68</td>\n",
       "      <td>4107</td>\n",
       "      <td>21.841741</td>\n",
       "    </tr>\n",
       "    <tr>\n",
       "      <th>10</th>\n",
       "      <td>2017-11</td>\n",
       "      <td>4781320.31</td>\n",
       "      <td>9836</td>\n",
       "      <td>21.873832</td>\n",
       "    </tr>\n",
       "    <tr>\n",
       "      <th>11</th>\n",
       "      <td>2017-12</td>\n",
       "      <td>2701327.29</td>\n",
       "      <td>6890</td>\n",
       "      <td>19.299563</td>\n",
       "    </tr>\n",
       "    <tr>\n",
       "      <th>12</th>\n",
       "      <td>2018-01</td>\n",
       "      <td>2869740.74</td>\n",
       "      <td>6793</td>\n",
       "      <td>21.646106</td>\n",
       "    </tr>\n",
       "    <tr>\n",
       "      <th>13</th>\n",
       "      <td>2018-02</td>\n",
       "      <td>1614092.47</td>\n",
       "      <td>4316</td>\n",
       "      <td>22.163501</td>\n",
       "    </tr>\n",
       "    <tr>\n",
       "      <th>14</th>\n",
       "      <td>2018-03</td>\n",
       "      <td>772825.98</td>\n",
       "      <td>1880</td>\n",
       "      <td>21.418495</td>\n",
       "    </tr>\n",
       "  </tbody>\n",
       "</table>\n",
       "</div>"
      ],
      "text/plain": [
       "   ord_CreatDate  ord_TotlPaid  ORD_ID  AvgDiscoutPercent\n",
       "0        2017-01    1777889.13    6618          24.948516\n",
       "1        2017-02     905435.61    2887          19.434285\n",
       "2        2017-03     210875.29     267          18.338764\n",
       "3        2017-04     843396.60    2152          18.282951\n",
       "4        2017-05    1012677.11    2490          15.892032\n",
       "5        2017-06    1074748.50    2111          16.892658\n",
       "6        2017-07    1732924.23    4665          24.550452\n",
       "7        2017-08    1103649.81    3046          20.491687\n",
       "8        2017-09    1325261.64    2885          19.990666\n",
       "9        2017-10    1673072.68    4107          21.841741\n",
       "10       2017-11    4781320.31    9836          21.873832\n",
       "11       2017-12    2701327.29    6890          19.299563\n",
       "12       2018-01    2869740.74    6793          21.646106\n",
       "13       2018-02    1614092.47    4316          22.163501\n",
       "14       2018-03     772825.98    1880          21.418495"
      ]
     },
     "execution_count": 88,
     "metadata": {},
     "output_type": "execute_result"
    }
   ],
   "source": [
    "\n",
    "dbv_Dis_Time=(\n",
    "    db_proDis\n",
    "    .groupby(db_proDis.ord_CreatDate.dt.strftime(\"%Y-%m\"))\n",
    "    #.agg({'ord_TotlPaid': [('total_rev', 'sum')], 'ORD_ID': [('total_orders', 'count')]})\n",
    "    .agg({'ord_TotlPaid': 'sum', 'ORD_ID':'count',\"AvgDiscoutPercent\":\"mean\"})\n",
    "    #.agg(total_rev =(\"tmp_ord_Rev\",\"sum\"))\n",
    "    #.plot(kind=\"bar\")\n",
    "    .reset_index()\n",
    ")\n",
    "dbv_Dis_Time"
   ]
  },
  {
   "cell_type": "code",
   "execution_count": null,
   "metadata": {},
   "outputs": [],
   "source": [
    "dbv_Dis_Time=(\n",
    "    dbv_Dis_Time\n",
    "    .assign(Q1=[1,1,1,0,0,0,0,0,0,0,0,0,1,1,1])\n",
    ")"
   ]
  },
  {
   "cell_type": "code",
   "execution_count": 116,
   "metadata": {},
   "outputs": [
    {
     "data": {
      "text/plain": [
       "<seaborn.axisgrid.FacetGrid at 0x266751b6130>"
      ]
     },
     "execution_count": 116,
     "metadata": {},
     "output_type": "execute_result"
    },
    {
     "data": {
      "image/png": "[encoded data removed]",
      "text/plain": [
       "<Figure size 1000x500 with 1 Axes>"
      ]
     },
     "metadata": {},
     "output_type": "display_data"
    }
   ],
   "source": [
    "g=sns.relplot(data=dbv_Dis_Time\n",
    "            ,kind=\"line\"\n",
    "            ,x=\"AvgDiscoutPercent\"\n",
    "            ,y=\"ord_TotlPaid\"\n",
    "            #,color=\"b\"\n",
    "            ,aspect=2\n",
    "            )\n",
    "g.set_ylabels(\"Monthly based AvgRevenue\")\n",
    "g.set_xlabels(\"Monthly based AvgDiscount %\")"
   ]
  },
  {
   "cell_type": "code",
   "execution_count": 105,
   "metadata": {},
   "outputs": [
    {
     "ename": "AttributeError",
     "evalue": "'AxesSubplot' object has no attribute 'set_xlabels'",
     "output_type": "error",
     "traceback": [
      "\u001b[1;31m---------------------------------------------------------------------------\u001b[0m",
      "\u001b[1;31mAttributeError\u001b[0m                            Traceback (most recent call last)",
      "\u001b[1;32md:\\_1_Technicals\\DataScience_Bootcamp\\W_03\\Pandas_Eniac\\Solve_BussinessQ_1.ipynb Cell 49\u001b[0m in \u001b[0;36m<cell line: 17>\u001b[1;34m()\u001b[0m\n\u001b[0;32m     <a href='vscode-notebook-cell:/d%3A/_1_Technicals/DataScience_Bootcamp/W_03/Pandas_Eniac/Solve_BussinessQ_1.ipynb#X64sZmlsZQ%3D%3D?line=9'>10</a>\u001b[0m ax2 \u001b[39m=\u001b[39m ax\u001b[39m.\u001b[39mtwinx()\n\u001b[0;32m     <a href='vscode-notebook-cell:/d%3A/_1_Technicals/DataScience_Bootcamp/W_03/Pandas_Eniac/Solve_BussinessQ_1.ipynb#X64sZmlsZQ%3D%3D?line=10'>11</a>\u001b[0m g\u001b[39m=\u001b[39msns\u001b[39m.\u001b[39mlineplot(data\u001b[39m=\u001b[39mdbv_Dis_Time\n\u001b[0;32m     <a href='vscode-notebook-cell:/d%3A/_1_Technicals/DataScience_Bootcamp/W_03/Pandas_Eniac/Solve_BussinessQ_1.ipynb#X64sZmlsZQ%3D%3D?line=11'>12</a>\u001b[0m             \u001b[39m#,kind=\"line\"\u001b[39;00m\n\u001b[0;32m     <a href='vscode-notebook-cell:/d%3A/_1_Technicals/DataScience_Bootcamp/W_03/Pandas_Eniac/Solve_BussinessQ_1.ipynb#X64sZmlsZQ%3D%3D?line=12'>13</a>\u001b[0m             ,x\u001b[39m=\u001b[39m\u001b[39m\"\u001b[39m\u001b[39mord_CreatDate\u001b[39m\u001b[39m\"\u001b[39m\n\u001b[0;32m     <a href='vscode-notebook-cell:/d%3A/_1_Technicals/DataScience_Bootcamp/W_03/Pandas_Eniac/Solve_BussinessQ_1.ipynb#X64sZmlsZQ%3D%3D?line=13'>14</a>\u001b[0m             ,y\u001b[39m=\u001b[39m\u001b[39m\"\u001b[39m\u001b[39mAvgDiscoutPercent\u001b[39m\u001b[39m\"\u001b[39m\n\u001b[0;32m     <a href='vscode-notebook-cell:/d%3A/_1_Technicals/DataScience_Bootcamp/W_03/Pandas_Eniac/Solve_BussinessQ_1.ipynb#X64sZmlsZQ%3D%3D?line=14'>15</a>\u001b[0m             \u001b[39m#,aspect=3\u001b[39;00m\n\u001b[0;32m     <a href='vscode-notebook-cell:/d%3A/_1_Technicals/DataScience_Bootcamp/W_03/Pandas_Eniac/Solve_BussinessQ_1.ipynb#X64sZmlsZQ%3D%3D?line=15'>16</a>\u001b[0m             ,ax\u001b[39m=\u001b[39max2)\n\u001b[1;32m---> <a href='vscode-notebook-cell:/d%3A/_1_Technicals/DataScience_Bootcamp/W_03/Pandas_Eniac/Solve_BussinessQ_1.ipynb#X64sZmlsZQ%3D%3D?line=16'>17</a>\u001b[0m g\u001b[39m.\u001b[39;49mset_xlabels(\u001b[39m\"\u001b[39m\u001b[39mDiscount\u001b[39m\u001b[39m%\u001b[39m\u001b[39m_MonthyBased\u001b[39m\u001b[39m\"\u001b[39m)\n\u001b[0;32m     <a href='vscode-notebook-cell:/d%3A/_1_Technicals/DataScience_Bootcamp/W_03/Pandas_Eniac/Solve_BussinessQ_1.ipynb#X64sZmlsZQ%3D%3D?line=17'>18</a>\u001b[0m g\u001b[39m.\u001b[39mset_ylabels(\u001b[39m\"\u001b[39m\u001b[39mRevenue_MonthyBased\u001b[39m\u001b[39m\"\u001b[39m)\n",
      "\u001b[1;31mAttributeError\u001b[0m: 'AxesSubplot' object has no attribute 'set_xlabels'"
     ]
    },
    {
     "data": {
      "image/png": "[encoded data removed]",
      "text/plain": [
       "<Figure size 1200x400 with 2 Axes>"
      ]
     },
     "metadata": {},
     "output_type": "display_data"
    }
   ],
   "source": [
    "fig, ax = plt.subplots(figsize=(12,4))\n",
    "\n",
    "sns.lineplot(data=dbv_Dis_Time\n",
    "            #,kind=\"line\"\n",
    "            ,x=\"ord_CreatDate\"\n",
    "            ,y=\"ord_TotlPaid\"\n",
    "            ,color=\"r\"\n",
    "            #,aspect=3\n",
    "            , ax=ax)\n",
    "ax2 = ax.twinx()\n",
    "g=sns.lineplot(data=dbv_Dis_Time\n",
    "            #,kind=\"line\"\n",
    "            ,x=\"ord_CreatDate\"\n",
    "            ,y=\"AvgDiscoutPercent\"\n",
    "            #,aspect=3\n",
    "            ,ax=ax2)\n",
    "g.set_xlabels(\"Discount%_MonthyBased\")\n",
    "g.set_ylabels(\"Revenue_MonthyBased\")"
   ]
  },
  {
   "cell_type": "code",
   "execution_count": null,
   "metadata": {},
   "outputs": [],
   "source": [
    "f,axs=plt.subplots(figsize=(13,6))\n",
    "sns.barplot(data=dbv_Dis_Time\n",
    "            ,x=\"ord_CreatDate\"\n",
    "            ,y=\"ORD_ID\"\n",
    "            ,hue=\"Q1\"\n",
    "            #,legend=False\n",
    "            #,aspect=3\n",
    "            ,palette=\"plasma\"\n",
    "            ,ax=axs\n",
    "            )\n",
    "hlines=[dbv_Dis_Time.ORD_ID[0],dbv_Dis_Time.ORD_ID[1],dbv_Dis_Time.ORD_ID[2]]\n",
    "axs.hlines(hlines, xmin=[0,1,2],xmax=[12.5,13.5,14.5], color='grey',linestyles=\"dotted\")\n",
    "\n",
    "\n",
    "f,axs=plt.subplots(figsize=(13,6))\n",
    "sns.barplot(data=dbv_Dis_Time\n",
    "            ,x=\"ord_CreatDate\"\n",
    "            ,y=\"ord_TotlPaid\"\n",
    "            ,hue=\"Q1\"\n",
    "            #,legend=False\n",
    "            #,aspect=3\n",
    "            ,palette=\"plasma\"\n",
    "            ,ax=axs\n",
    "            )\n",
    "hlines=[dbv_Dis_Time.ord_TotlPaid[0],dbv_Dis_Time.ord_TotlPaid[1],dbv_Dis_Time.ord_TotlPaid[2]]\n",
    "axs.hlines(hlines, xmin=[0,1,2],xmax=[12.5,13.5,14.5], color='grey',linestyles=\"dotted\")\n",
    "#axs.tick_params(direction='in')\n",
    "\n",
    "sns.lineplot(data=dbv_Dis_Time\n",
    "            ,x=\"ord_CreatDate\"\n",
    "            ,y=\"tmp_pro_dis\"\n",
    "            #,hue=\"Q1\"\n",
    "            #,legend=False\n",
    "            #,aspect=3\n",
    "            ,palette=\"plasma\"\n",
    "            ,ax=axs\n",
    "            )"
   ]
  },
  {
   "cell_type": "code",
   "execution_count": null,
   "metadata": {},
   "outputs": [],
   "source": [
    "db_proDis.sample()"
   ]
  },
  {
   "cell_type": "markdown",
   "metadata": {},
   "source": [
    "#### 3. How many products are being discounted.\n",
    "    - means for tmp_pro_dis > 0\n",
    "        - count unique PRO_SKU\n",
    "        - count product ol_ProdQnty"
   ]
  },
  {
   "cell_type": "code",
   "execution_count": null,
   "metadata": {},
   "outputs": [],
   "source": [
    "# db_proDis.tmp_pro_dis.means"
   ]
  },
  {
   "cell_type": "code",
   "execution_count": null,
   "metadata": {},
   "outputs": [],
   "source": [
    "\n",
    "x=(\n",
    "    db_proDis\n",
    "    .query(\"tmp_pro_dis> 0\")\n",
    "    .agg(Prod_num=(\"PRO_SKU\",pd.Series.nunique),Prod_Qnty_sum=(\"ol_ProdQnty\",\"sum\"))\n",
    ")\n",
    "x"
   ]
  },
  {
   "cell_type": "code",
   "execution_count": null,
   "metadata": {},
   "outputs": [],
   "source": [
    "db_proDis.head(1)"
   ]
  },
  {
   "cell_type": "code",
   "execution_count": null,
   "metadata": {},
   "outputs": [],
   "source": [
    "sns.scatterplot(data=db_proDis\n",
    "                ,x=\"pro_Pr\"\n",
    "                ,y=\"ol_ProdUntPr\"\n",
    "                #,hue=\"PRO_SKU\"\n",
    "                )"
   ]
  },
  {
   "cell_type": "markdown",
   "metadata": {},
   "source": [
    "- Conclusion"
   ]
  },
  {
   "cell_type": "code",
   "execution_count": null,
   "metadata": {},
   "outputs": [],
   "source": [
    "print(f\" Considering Unique SKU : {round(x.PRO_SKU[0]/db_proDis.PRO_SKU.nunique()*100,2)}% of all sold product are discounted\")\n",
    "print(f\" Considering Sum of Quantities : {round(x.ol_ProdQnty[1]/db_proDis.ol_ProdQnty.sum()*100,2)}% of all sold products Quantities are discounted\")"
   ]
  },
  {
   "cell_type": "code",
   "execution_count": null,
   "metadata": {},
   "outputs": [],
   "source": [
    "print(f\"That means specific types of products are mor in discount\")"
   ]
  }
 ],
 "metadata": {
  "kernelspec": {
   "display_name": "Python 3.9.1 64-bit",
   "language": "python",
   "name": "python3"
  },
  "language_info": {
   "codemirror_mode": {
    "name": "ipython",
    "version": 3
   },
   "file_extension": ".py",
   "mimetype": "text/x-python",
   "name": "python",
   "nbconvert_exporter": "python",
   "pygments_lexer": "ipython3",
   "version": "3.9.1"
  },
  "orig_nbformat": 4,
  "vscode": {
   "interpreter": {
    "hash": "81794d4967e6c3204c66dcd87b604927b115b27c00565d3d43f05ba2f3a2cb0d"
   }
  }
 },
 "nbformat": 4,
 "nbformat_minor": 2
}
