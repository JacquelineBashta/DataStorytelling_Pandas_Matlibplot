{
  "cells": [
    {
      "cell_type": "markdown",
      "metadata": {
        "id": "mo3w8u4OnEFD"
      },
      "source": [
        "    ==============================================================================================\n",
        "\n",
        "## Importing the DataFrames\n",
        "- ``` df = pd.read_pickle(\"file_name.pkl\")```  --> create 1 df from a pkl file"
      ]
    },
    {
      "cell_type": "code",
      "execution_count": 3,
      "metadata": {
        "id": "cI0W2L18nEFD"
      },
      "outputs": [
        {
          "data": {
            "text/plain": [
              "'1.4.4'"
            ]
          },
          "execution_count": 3,
          "metadata": {},
          "output_type": "execute_result"
        }
      ],
      "source": [
        "import pandas as pd\n",
        "import numpy as np\n",
        "pd.set_option(\"display.min_rows\", 0) \n",
        "pd.set_option(\"display.max_rows\", 30) \n",
        "pd.__version__"
      ]
    },
    {
      "cell_type": "code",
      "execution_count": 4,
      "metadata": {
        "colab": {
          "base_uri": "https://localhost:8080/"
        },
        "id": "OH3Hy6AMnEFD",
        "outputId": "3002ac6e-013c-4334-db4c-382c2584f60e"
      },
      "outputs": [],
      "source": [
        "ord = pd.read_pickle(\"clean_Tables\\Orders_c.pkl\")\n",
        "ord_s = pd.read_pickle(\"clean_Tables\\Orders_s.pkl\")\n",
        "ol = pd.read_pickle(\"clean_Tables\\OrderLines_c.pkl\")\n",
        "pro = pd.read_pickle(\"clean_Tables\\Products_c.pkl\")"
      ]
    },
    {
      "cell_type": "code",
      "execution_count": 197,
      "metadata": {},
      "outputs": [
        {
          "name": "stdout",
          "output_type": "stream",
          "text": [
            "<class 'pandas.core.frame.DataFrame'>\n",
            "Int64Index: 46605 entries, 1 to 226619\n",
            "Data columns (total 4 columns):\n",
            " #   Column         Non-Null Count  Dtype  \n",
            "---  ------         --------------  -----  \n",
            " 0   ORD_ID         46605 non-null  int64  \n",
            " 1   ord_CreatDate  46605 non-null  object \n",
            " 2   ord_TotlPaid   46605 non-null  float64\n",
            " 3   ord_State      46605 non-null  object \n",
            "dtypes: float64(1), int64(1), object(2)\n",
            "memory usage: 1.8+ MB\n"
          ]
        }
      ],
      "source": [
        "ord.info()"
      ]
    },
    {
      "cell_type": "code",
      "execution_count": 198,
      "metadata": {},
      "outputs": [
        {
          "name": "stdout",
          "output_type": "stream",
          "text": [
            "<class 'pandas.core.frame.DataFrame'>\n",
            "RangeIndex: 293983 entries, 0 to 293982\n",
            "Data columns (total 6 columns):\n",
            " #   Column          Non-Null Count   Dtype \n",
            "---  ------          --------------   ----- \n",
            " 0   OL_ID           293983 non-null  int64 \n",
            " 1   ol_ORD_ID       293983 non-null  int64 \n",
            " 2   ol_ProdQnty     293983 non-null  int64 \n",
            " 3   ol_Sku          293983 non-null  object\n",
            " 4   ol_ProdUntPr    293983 non-null  object\n",
            " 5   ol_ProcessDate  293983 non-null  object\n",
            "dtypes: int64(3), object(3)\n",
            "memory usage: 13.5+ MB\n"
          ]
        }
      ],
      "source": [
        "ol.info()"
      ]
    },
    {
      "cell_type": "code",
      "execution_count": 199,
      "metadata": {},
      "outputs": [
        {
          "name": "stdout",
          "output_type": "stream",
          "text": [
            "<class 'pandas.core.frame.DataFrame'>\n",
            "Int64Index: 10579 entries, 0 to 19325\n",
            "Data columns (total 6 columns):\n",
            " #   Column       Non-Null Count  Dtype \n",
            "---  ------       --------------  ----- \n",
            " 0   PRO_SKU      10579 non-null  object\n",
            " 1   pro_Name     10579 non-null  object\n",
            " 2   pro_Desc     10572 non-null  object\n",
            " 3   pro_Pr       10534 non-null  object\n",
            " 4   pro_InStock  10579 non-null  int64 \n",
            " 5   pro_Type     10529 non-null  object\n",
            "dtypes: int64(1), object(5)\n",
            "memory usage: 578.5+ KB\n"
          ]
        }
      ],
      "source": [
        "pro.info()"
      ]
    },
    {
      "cell_type": "markdown",
      "metadata": {
        "id": "H_6VgqtSnEFD"
      },
      "source": [
        "    ==============================================================================================\n",
        "\n",
        "## Merge DataFrames\n",
        "- ``` df.shape``` , ``` df.size``` , ``` df.ndim``` \n",
        "- ``` df.sample(5)``` , ``` df.info()``` \n",
        "- Numerical : ``` df.describe()``` , ``` df.col.nlargest()``` , ``` df.col.nsmallest()``` \n",
        "- Category : ``` df.nunique()``` , ``` df.unique() ``` "
      ]
    },
    {
      "cell_type": "code",
      "execution_count": 200,
      "metadata": {},
      "outputs": [],
      "source": [
        "db = ord.copy()"
      ]
    },
    {
      "cell_type": "code",
      "execution_count": 1,
      "metadata": {},
      "outputs": [
        {
          "ename": "NameError",
          "evalue": "name 'db' is not defined",
          "output_type": "error",
          "traceback": [
            "\u001b[1;31m---------------------------------------------------------------------------\u001b[0m",
            "\u001b[1;31mNameError\u001b[0m                                 Traceback (most recent call last)",
            "\u001b[1;32md:\\_1_Technicals\\DataScience_Bootcamp\\W_03\\Pandas_Eniac\\3_Merge_analyze_Template.ipynb Cell 9\u001b[0m in \u001b[0;36m<cell line: 1>\u001b[1;34m()\u001b[0m\n\u001b[1;32m----> <a href='vscode-notebook-cell:/d%3A/_1_Technicals/DataScience_Bootcamp/W_03/Pandas_Eniac/3_Merge_analyze_Template.ipynb#X11sZmlsZQ%3D%3D?line=0'>1</a>\u001b[0m db \u001b[39m=\u001b[39m db\u001b[39m.\u001b[39mmerge(ol,how\u001b[39m=\u001b[39m\u001b[39m\"\u001b[39m\u001b[39minner\u001b[39m\u001b[39m\"\u001b[39m,left_on\u001b[39m=\u001b[39m\u001b[39m\"\u001b[39m\u001b[39mORD_ID\u001b[39m\u001b[39m\"\u001b[39m,right_on\u001b[39m=\u001b[39m\u001b[39m\"\u001b[39m\u001b[39mol_ORD_ID\u001b[39m\u001b[39m\"\u001b[39m,validate\u001b[39m=\u001b[39m\u001b[39m\"\u001b[39m\u001b[39mone_to_many\u001b[39m\u001b[39m\"\u001b[39m)\n",
            "\u001b[1;31mNameError\u001b[0m: name 'db' is not defined"
          ]
        }
      ],
      "source": [
        "db = db.merge(ol,how=\"inner\",left_on=\"ORD_ID\",right_on=\"ol_ORD_ID\",validate=\"one_to_many\")"
      ]
    },
    {
      "cell_type": "code",
      "execution_count": 202,
      "metadata": {},
      "outputs": [],
      "source": [
        "db = db.merge(pro,how=\"inner\",left_on=\"ol_Sku\",right_on=\"PRO_SKU\",validate=\"many_to_one\")"
      ]
    },
    {
      "cell_type": "code",
      "execution_count": 203,
      "metadata": {},
      "outputs": [
        {
          "data": {
            "text/plain": [
              "40"
            ]
          },
          "execution_count": 203,
          "metadata": {},
          "output_type": "execute_result"
        }
      ],
      "source": [
        "pd.set_option('max_colwidth', 40)\n",
        "pd.get_option('max_colwidth')"
      ]
    },
    {
      "cell_type": "code",
      "execution_count": 204,
      "metadata": {},
      "outputs": [
        {
          "data": {
            "text/html": [
              "<div>\n",
              "<style scoped>\n",
              "    .dataframe tbody tr th:only-of-type {\n",
              "        vertical-align: middle;\n",
              "    }\n",
              "\n",
              "    .dataframe tbody tr th {\n",
              "        vertical-align: top;\n",
              "    }\n",
              "\n",
              "    .dataframe thead th {\n",
              "        text-align: right;\n",
              "    }\n",
              "</style>\n",
              "<table border=\"1\" class=\"dataframe\">\n",
              "  <thead>\n",
              "    <tr style=\"text-align: right;\">\n",
              "      <th></th>\n",
              "      <th>ORD_ID</th>\n",
              "      <th>ord_CreatDate</th>\n",
              "      <th>ord_TotlPaid</th>\n",
              "      <th>ord_State</th>\n",
              "      <th>OL_ID</th>\n",
              "      <th>ol_ORD_ID</th>\n",
              "      <th>ol_ProdQnty</th>\n",
              "      <th>ol_Sku</th>\n",
              "      <th>ol_ProdUntPr</th>\n",
              "      <th>ol_ProcessDate</th>\n",
              "      <th>PRO_SKU</th>\n",
              "      <th>pro_Name</th>\n",
              "      <th>pro_Desc</th>\n",
              "      <th>pro_Pr</th>\n",
              "      <th>pro_InStock</th>\n",
              "      <th>pro_Type</th>\n",
              "    </tr>\n",
              "  </thead>\n",
              "  <tbody>\n",
              "    <tr>\n",
              "      <th>20164</th>\n",
              "      <td>420343</td>\n",
              "      <td>2017-10-31 13:19:23</td>\n",
              "      <td>91.58</td>\n",
              "      <td>Completed</td>\n",
              "      <td>1394199</td>\n",
              "      <td>420343</td>\n",
              "      <td>1</td>\n",
              "      <td>CRU0050</td>\n",
              "      <td>91.58</td>\n",
              "      <td>2017-10-31 13:15:51</td>\n",
              "      <td>CRU0050</td>\n",
              "      <td>Crucial MX300 275GB SSD Disk</td>\n",
              "      <td>SSD 275GB SATA Hard Disk 3.0 (6Gb / ...</td>\n",
              "      <td>98.39</td>\n",
              "      <td>0</td>\n",
              "      <td>12215397</td>\n",
              "    </tr>\n",
              "    <tr>\n",
              "      <th>41965</th>\n",
              "      <td>486291</td>\n",
              "      <td>2018-01-09 11:00:58</td>\n",
              "      <td>887.97</td>\n",
              "      <td>Completed</td>\n",
              "      <td>1548782</td>\n",
              "      <td>486291</td>\n",
              "      <td>1</td>\n",
              "      <td>SYN0187</td>\n",
              "      <td>240.99</td>\n",
              "      <td>2018-01-09 09:54:45</td>\n",
              "      <td>SYN0187</td>\n",
              "      <td>Synology NAS Server DS218play Mac an...</td>\n",
              "      <td>2-bay NAS server can accommodate 4K ...</td>\n",
              "      <td>240.99</td>\n",
              "      <td>0</td>\n",
              "      <td>12175397</td>\n",
              "    </tr>\n",
              "    <tr>\n",
              "      <th>26501</th>\n",
              "      <td>311718</td>\n",
              "      <td>2017-01-18 17:44:42</td>\n",
              "      <td>63.97</td>\n",
              "      <td>Completed</td>\n",
              "      <td>1151571</td>\n",
              "      <td>311718</td>\n",
              "      <td>1</td>\n",
              "      <td>LEX0026</td>\n",
              "      <td>21.99</td>\n",
              "      <td>2017-01-18 17:32:03</td>\n",
              "      <td>LEX0026</td>\n",
              "      <td>Lexar JumpDrive Lightning USB 3.0 M2...</td>\n",
              "      <td>Pendrive (MFI) with double connectio...</td>\n",
              "      <td>43.9</td>\n",
              "      <td>0</td>\n",
              "      <td>42945397</td>\n",
              "    </tr>\n",
              "    <tr>\n",
              "      <th>910</th>\n",
              "      <td>398424</td>\n",
              "      <td>2017-09-11 18:35:58</td>\n",
              "      <td>422.56</td>\n",
              "      <td>Completed</td>\n",
              "      <td>1349182</td>\n",
              "      <td>398424</td>\n",
              "      <td>1</td>\n",
              "      <td>CRU0026-2</td>\n",
              "      <td>138.99</td>\n",
              "      <td>2017-09-10 17:08:36</td>\n",
              "      <td>CRU0026-2</td>\n",
              "      <td>Crucial memory Mac 16GB (2x8GB) SO-D...</td>\n",
              "      <td>RAM 16GB (2x8GB) Mac mini (2011) iMa...</td>\n",
              "      <td>163.98</td>\n",
              "      <td>1</td>\n",
              "      <td>1364</td>\n",
              "    </tr>\n",
              "    <tr>\n",
              "      <th>23860</th>\n",
              "      <td>512224</td>\n",
              "      <td>2018-02-15 20:09:12</td>\n",
              "      <td>123.98</td>\n",
              "      <td>Completed</td>\n",
              "      <td>1615396</td>\n",
              "      <td>512224</td>\n",
              "      <td>1</td>\n",
              "      <td>LAC0186</td>\n",
              "      <td>119.99</td>\n",
              "      <td>2018-02-15 19:51:27</td>\n",
              "      <td>LAC0186</td>\n",
              "      <td>1TB LaCie Rugged USB 3.0 Thunderbolt</td>\n",
              "      <td>Portable Hard Disk Thunderbolt and U...</td>\n",
              "      <td>159.99</td>\n",
              "      <td>1</td>\n",
              "      <td>11935397</td>\n",
              "    </tr>\n",
              "  </tbody>\n",
              "</table>\n",
              "</div>"
            ],
            "text/plain": [
              "       ORD_ID        ord_CreatDate  ord_TotlPaid  ord_State    OL_ID  \\\n",
              "20164  420343  2017-10-31 13:19:23         91.58  Completed  1394199   \n",
              "41965  486291  2018-01-09 11:00:58        887.97  Completed  1548782   \n",
              "26501  311718  2017-01-18 17:44:42         63.97  Completed  1151571   \n",
              "910    398424  2017-09-11 18:35:58        422.56  Completed  1349182   \n",
              "23860  512224  2018-02-15 20:09:12        123.98  Completed  1615396   \n",
              "\n",
              "       ol_ORD_ID  ol_ProdQnty     ol_Sku ol_ProdUntPr       ol_ProcessDate  \\\n",
              "20164     420343            1    CRU0050        91.58  2017-10-31 13:15:51   \n",
              "41965     486291            1    SYN0187       240.99  2018-01-09 09:54:45   \n",
              "26501     311718            1    LEX0026        21.99  2017-01-18 17:32:03   \n",
              "910       398424            1  CRU0026-2       138.99  2017-09-10 17:08:36   \n",
              "23860     512224            1    LAC0186       119.99  2018-02-15 19:51:27   \n",
              "\n",
              "         PRO_SKU                                 pro_Name  \\\n",
              "20164    CRU0050             Crucial MX300 275GB SSD Disk   \n",
              "41965    SYN0187  Synology NAS Server DS218play Mac an...   \n",
              "26501    LEX0026  Lexar JumpDrive Lightning USB 3.0 M2...   \n",
              "910    CRU0026-2  Crucial memory Mac 16GB (2x8GB) SO-D...   \n",
              "23860    LAC0186     1TB LaCie Rugged USB 3.0 Thunderbolt   \n",
              "\n",
              "                                      pro_Desc  pro_Pr  pro_InStock  pro_Type  \n",
              "20164  SSD 275GB SATA Hard Disk 3.0 (6Gb / ...   98.39            0  12215397  \n",
              "41965  2-bay NAS server can accommodate 4K ...  240.99            0  12175397  \n",
              "26501  Pendrive (MFI) with double connectio...    43.9            0  42945397  \n",
              "910    RAM 16GB (2x8GB) Mac mini (2011) iMa...  163.98            1      1364  \n",
              "23860  Portable Hard Disk Thunderbolt and U...  159.99            1  11935397  "
            ]
          },
          "execution_count": 204,
          "metadata": {},
          "output_type": "execute_result"
        }
      ],
      "source": [
        "db.sample(5)"
      ]
    },
    {
      "cell_type": "code",
      "execution_count": 5,
      "metadata": {},
      "outputs": [],
      "source": [
        "db_s = ord_s.copy()"
      ]
    },
    {
      "cell_type": "code",
      "execution_count": 6,
      "metadata": {},
      "outputs": [],
      "source": [
        "db_s = db_s.merge(ol,how=\"inner\",left_on=\"ORD_ID\",right_on=\"ol_ORD_ID\",validate=\"one_to_many\")"
      ]
    },
    {
      "cell_type": "code",
      "execution_count": 7,
      "metadata": {},
      "outputs": [],
      "source": [
        "db_s = db_s.merge(pro,how=\"inner\",left_on=\"ol_Sku\",right_on=\"PRO_SKU\",validate=\"many_to_one\")"
      ]
    },
    {
      "cell_type": "code",
      "execution_count": 8,
      "metadata": {},
      "outputs": [
        {
          "data": {
            "text/plain": [
              "40"
            ]
          },
          "execution_count": 8,
          "metadata": {},
          "output_type": "execute_result"
        }
      ],
      "source": [
        "pd.set_option('max_colwidth', 40)\n",
        "pd.get_option('max_colwidth')"
      ]
    },
    {
      "cell_type": "markdown",
      "metadata": {
        "id": "iBFBMEEWnEFG"
      },
      "source": [
        "    ==============================================================================================\n",
        "\n",
        "## Clean Merged Data\n",
        "- Remember to create a copy of the df using ``` df.copy()``` "
      ]
    },
    {
      "cell_type": "code",
      "execution_count": 205,
      "metadata": {
        "id": "Ojy5J29rnEFG"
      },
      "outputs": [],
      "source": [
        "db_original = db.copy()"
      ]
    },
    {
      "cell_type": "markdown",
      "metadata": {
        "id": "emAynTSAnEFG"
      },
      "source": [
        "      ===============================================\n",
        "\n",
        "### Drop duplicated Columns, Reorder and Set Index\n",
        " - ``` df.columns```   , ``` df.index``` \n",
        " - ``` df=df.rename(columns={\"A\": \"a\", \"B\": \"c\"})``` \n",
        " - ``` df.columns = [\"a\",\"b\":\"x\"]``` \n",
        "     - take care, renaming the columns like that will convert the NAN to some value!!\n",
        " - ``` df=df.set_index(\"col\")```  , ``` df=df.reset_index()``` "
      ]
    },
    {
      "cell_type": "code",
      "execution_count": 206,
      "metadata": {
        "colab": {
          "base_uri": "https://localhost:8080/"
        },
        "id": "SrA_W_qWnEFG",
        "outputId": "78b0fa7e-b4e6-46b6-8754-0795641bf050"
      },
      "outputs": [],
      "source": [
        "db = db.drop(columns=[\"ol_ORD_ID\",\"ol_Sku\",\"ord_State\"])"
      ]
    },
    {
      "cell_type": "code",
      "execution_count": 207,
      "metadata": {},
      "outputs": [
        {
          "name": "stdout",
          "output_type": "stream",
          "text": [
            "<class 'pandas.core.frame.DataFrame'>\n",
            "Int64Index: 61742 entries, 0 to 61741\n",
            "Data columns (total 13 columns):\n",
            " #   Column          Non-Null Count  Dtype  \n",
            "---  ------          --------------  -----  \n",
            " 0   ORD_ID          61742 non-null  int64  \n",
            " 1   ord_CreatDate   61742 non-null  object \n",
            " 2   ord_TotlPaid    61742 non-null  float64\n",
            " 3   OL_ID           61742 non-null  int64  \n",
            " 4   ol_ProdQnty     61742 non-null  int64  \n",
            " 5   ol_ProdUntPr    61742 non-null  object \n",
            " 6   ol_ProcessDate  61742 non-null  object \n",
            " 7   PRO_SKU         61742 non-null  object \n",
            " 8   pro_Name        61742 non-null  object \n",
            " 9   pro_Desc        61738 non-null  object \n",
            " 10  pro_Pr          61710 non-null  object \n",
            " 11  pro_InStock     61742 non-null  int64  \n",
            " 12  pro_Type        61729 non-null  object \n",
            "dtypes: float64(1), int64(4), object(8)\n",
            "memory usage: 6.6+ MB\n"
          ]
        }
      ],
      "source": [
        "db.info()"
      ]
    },
    {
      "cell_type": "code",
      "execution_count": 208,
      "metadata": {},
      "outputs": [
        {
          "data": {
            "text/plain": [
              "(61742, 13)"
            ]
          },
          "execution_count": 208,
          "metadata": {},
          "output_type": "execute_result"
        }
      ],
      "source": [
        "db.shape"
      ]
    },
    {
      "cell_type": "code",
      "execution_count": 209,
      "metadata": {
        "colab": {
          "base_uri": "https://localhost:8080/"
        },
        "id": "A7T1mMH1nEFH",
        "outputId": "2ebba2d5-5423-46df-f331-baa8e559fd53"
      },
      "outputs": [
        {
          "data": {
            "text/plain": [
              "Int64Index([    0,     1,     2,     3,     4,     5,     6,     7,     8,\n",
              "                9,\n",
              "            ...\n",
              "            61732, 61733, 61734, 61735, 61736, 61737, 61738, 61739, 61740,\n",
              "            61741],\n",
              "           dtype='int64', length=61742)"
            ]
          },
          "execution_count": 209,
          "metadata": {},
          "output_type": "execute_result"
        }
      ],
      "source": [
        "db.index #hint: no need to change index"
      ]
    },
    {
      "cell_type": "markdown",
      "metadata": {
        "id": "HbC0NAl9nEFI"
      },
      "source": [
        "      ===============================================\n",
        "      \n",
        "### Clean NAN and empty cells\n",
        "- ``` df.isna().sum()``` \n",
        "- check if it make sense to replace empty cells with NAN or with another value!\n",
        "- ``` df = df.replace('^\\s*$', np.nan)```  -->replace empty cells and cells with only whitspace with NAN\n",
        "- check if other cells has the value you want to use to fill nan  ``` df.col.str.contains(\"pat\", na=False).sum() ```\n",
        "- ``` df=df.col.fillna(value,method=\"bfill\"or\"ffill\",limit=value)``` \n",
        "\n",
        "- Extra: \n",
        "  - ``` (df.values == '').sum()```  --> check if any cell is empty\n",
        "  - ``` df.col.str.isspace().sum()```  --> check if all cell is filled with whitespaces"
      ]
    },
    {
      "cell_type": "code",
      "execution_count": 210,
      "metadata": {
        "colab": {
          "base_uri": "https://localhost:8080/",
          "height": 206
        },
        "id": "bGvRgxz3p_TV",
        "outputId": "132e4088-a562-4f8d-e0f7-d32eb775321e"
      },
      "outputs": [
        {
          "name": "stdout",
          "output_type": "stream",
          "text": [
            "<class 'pandas.core.frame.DataFrame'>\n",
            "Int64Index: 61742 entries, 0 to 61741\n",
            "Data columns (total 13 columns):\n",
            " #   Column          Non-Null Count  Dtype  \n",
            "---  ------          --------------  -----  \n",
            " 0   ORD_ID          61742 non-null  int64  \n",
            " 1   ord_CreatDate   61742 non-null  object \n",
            " 2   ord_TotlPaid    61742 non-null  float64\n",
            " 3   OL_ID           61742 non-null  int64  \n",
            " 4   ol_ProdQnty     61742 non-null  int64  \n",
            " 5   ol_ProdUntPr    61742 non-null  object \n",
            " 6   ol_ProcessDate  61742 non-null  object \n",
            " 7   PRO_SKU         61742 non-null  object \n",
            " 8   pro_Name        61742 non-null  object \n",
            " 9   pro_Desc        61738 non-null  object \n",
            " 10  pro_Pr          61710 non-null  object \n",
            " 11  pro_InStock     61742 non-null  int64  \n",
            " 12  pro_Type        61729 non-null  object \n",
            "dtypes: float64(1), int64(4), object(8)\n",
            "memory usage: 6.6+ MB\n"
          ]
        }
      ],
      "source": [
        "db.info()"
      ]
    },
    {
      "cell_type": "code",
      "execution_count": 211,
      "metadata": {
        "colab": {
          "base_uri": "https://localhost:8080/"
        },
        "id": "8cQXrWrmU_lv",
        "outputId": "50f2daff-89b4-41b9-d2ff-799380e8a804"
      },
      "outputs": [
        {
          "data": {
            "text/plain": [
              "ORD_ID             0\n",
              "ord_CreatDate      0\n",
              "ord_TotlPaid       0\n",
              "OL_ID              0\n",
              "ol_ProdQnty        0\n",
              "ol_ProdUntPr       0\n",
              "ol_ProcessDate     0\n",
              "PRO_SKU            0\n",
              "pro_Name           0\n",
              "pro_Desc           4\n",
              "pro_Pr            32\n",
              "pro_InStock        0\n",
              "pro_Type          13\n",
              "dtype: int64"
            ]
          },
          "execution_count": 211,
          "metadata": {},
          "output_type": "execute_result"
        }
      ],
      "source": [
        "db.isna().sum()"
      ]
    },
    {
      "cell_type": "code",
      "execution_count": 212,
      "metadata": {
        "id": "y_O3cG6YYOtI"
      },
      "outputs": [],
      "source": [
        "\n",
        "db = db.replace('^\\s*$', np.nan)\n",
        "# TODO:HANA Question is it safe to do that?\n"
      ]
    },
    {
      "cell_type": "code",
      "execution_count": 213,
      "metadata": {
        "colab": {
          "base_uri": "https://localhost:8080/"
        },
        "id": "lXZRPynxaN49",
        "outputId": "7ddb1349-627f-4bb8-c178-d6b7e7e4d4a8"
      },
      "outputs": [
        {
          "data": {
            "text/plain": [
              "ORD_ID             0\n",
              "ord_CreatDate      0\n",
              "ord_TotlPaid       0\n",
              "OL_ID              0\n",
              "ol_ProdQnty        0\n",
              "ol_ProdUntPr       0\n",
              "ol_ProcessDate     0\n",
              "PRO_SKU            0\n",
              "pro_Name           0\n",
              "pro_Desc           4\n",
              "pro_Pr            32\n",
              "pro_InStock        0\n",
              "pro_Type          13\n",
              "dtype: int64"
            ]
          },
          "execution_count": 213,
          "metadata": {},
          "output_type": "execute_result"
        }
      ],
      "source": [
        "db.isna().sum()"
      ]
    },
    {
      "cell_type": "markdown",
      "metadata": {},
      "source": [
        "___ For pro_Desc   ___"
      ]
    },
    {
      "cell_type": "code",
      "execution_count": 214,
      "metadata": {},
      "outputs": [
        {
          "data": {
            "text/plain": [
              "dtype('O')"
            ]
          },
          "execution_count": 214,
          "metadata": {},
          "output_type": "execute_result"
        }
      ],
      "source": [
        "db.pro_Desc.dtype"
      ]
    },
    {
      "cell_type": "code",
      "execution_count": 215,
      "metadata": {},
      "outputs": [],
      "source": [
        "db.pro_Desc = db.pro_Desc.fillna(\"No Description\")"
      ]
    },
    {
      "cell_type": "code",
      "execution_count": 216,
      "metadata": {},
      "outputs": [
        {
          "data": {
            "text/plain": [
              "ORD_ID             0\n",
              "ord_CreatDate      0\n",
              "ord_TotlPaid       0\n",
              "OL_ID              0\n",
              "ol_ProdQnty        0\n",
              "ol_ProdUntPr       0\n",
              "ol_ProcessDate     0\n",
              "PRO_SKU            0\n",
              "pro_Name           0\n",
              "pro_Desc           0\n",
              "pro_Pr            32\n",
              "pro_InStock        0\n",
              "pro_Type          13\n",
              "dtype: int64"
            ]
          },
          "execution_count": 216,
          "metadata": {},
          "output_type": "execute_result"
        }
      ],
      "source": [
        "db.isna().sum()"
      ]
    },
    {
      "cell_type": "markdown",
      "metadata": {},
      "source": [
        "___ For pro_Type   ___"
      ]
    },
    {
      "cell_type": "code",
      "execution_count": 217,
      "metadata": {},
      "outputs": [
        {
          "data": {
            "text/plain": [
              "0"
            ]
          },
          "execution_count": 217,
          "metadata": {},
          "output_type": "execute_result"
        }
      ],
      "source": [
        "db.pro_Type.str.contains(\"^0+\\.0+$\", na=False).sum()\n",
        "# No value is Zero , safely set NAN to 0"
      ]
    },
    {
      "cell_type": "code",
      "execution_count": 218,
      "metadata": {},
      "outputs": [],
      "source": [
        "db.pro_Type = db.pro_Type.fillna(\"0\")"
      ]
    },
    {
      "cell_type": "code",
      "execution_count": 219,
      "metadata": {},
      "outputs": [
        {
          "data": {
            "text/plain": [
              "ORD_ID             0\n",
              "ord_CreatDate      0\n",
              "ord_TotlPaid       0\n",
              "OL_ID              0\n",
              "ol_ProdQnty        0\n",
              "ol_ProdUntPr       0\n",
              "ol_ProcessDate     0\n",
              "PRO_SKU            0\n",
              "pro_Name           0\n",
              "pro_Desc           0\n",
              "pro_Pr            32\n",
              "pro_InStock        0\n",
              "pro_Type           0\n",
              "dtype: int64"
            ]
          },
          "execution_count": 219,
          "metadata": {},
          "output_type": "execute_result"
        }
      ],
      "source": [
        "db.isna().sum()"
      ]
    },
    {
      "cell_type": "markdown",
      "metadata": {},
      "source": [
        "___ For pro_Pr   ___"
      ]
    },
    {
      "cell_type": "code",
      "execution_count": 220,
      "metadata": {},
      "outputs": [
        {
          "data": {
            "text/plain": [
              "0"
            ]
          },
          "execution_count": 220,
          "metadata": {},
          "output_type": "execute_result"
        }
      ],
      "source": [
        "db.pro_Pr.str.contains(\"^0+\\.0+$\", na=False).sum()\n",
        "# No value is Zero , safely set NAN to 0"
      ]
    },
    {
      "cell_type": "code",
      "execution_count": 221,
      "metadata": {},
      "outputs": [],
      "source": [
        "db.pro_Pr = db.pro_Pr.fillna(\"0\")"
      ]
    },
    {
      "cell_type": "code",
      "execution_count": 222,
      "metadata": {},
      "outputs": [
        {
          "data": {
            "text/plain": [
              "ORD_ID            0\n",
              "ord_CreatDate     0\n",
              "ord_TotlPaid      0\n",
              "OL_ID             0\n",
              "ol_ProdQnty       0\n",
              "ol_ProdUntPr      0\n",
              "ol_ProcessDate    0\n",
              "PRO_SKU           0\n",
              "pro_Name          0\n",
              "pro_Desc          0\n",
              "pro_Pr            0\n",
              "pro_InStock       0\n",
              "pro_Type          0\n",
              "dtype: int64"
            ]
          },
          "execution_count": 222,
          "metadata": {},
          "output_type": "execute_result"
        }
      ],
      "source": [
        "db.isna().sum()"
      ]
    },
    {
      "cell_type": "markdown",
      "metadata": {
        "id": "04bz8cjKnEFK"
      },
      "source": [
        "      ===============================================\n",
        "### Fix DataTypes\n",
        "- use ```df.nunique()``` to find if column is bool or Category\n",
        "- before change, make sure all values will be converted correct\n",
        "  - to convert to numeric : check no letters, \n",
        "      - if float(2dec) ```(~df.col.str.contains(\"^\\d+.\\d{2}$\")).sum()```\n",
        "      - if integer ```(~df.col.str.contains(\"^\\d+$\")).sum()```\n",
        "  - to convert to category : check there are reasonable number of unique items\n",
        "  - to convert to Datetime : ```(~df.col.str.contains(\"^\\d{4}-\\d{2}-\\d{2} \\d{2}:\\d{2}:\\d{2}$\")).sum()```\n",
        "- ``` df.col.astype(type,errors=\"raise\")``` \n",
        "  - type = \"int\",\"float\",\"bool\",\"category\",\"object\",\"datetime\",\"timedelta\"\n",
        "- for mixed data\n",
        "  - ``` pd.to_numeric(df.col, downcast=x,errors=\"raise\") ``` \n",
        "  x = \"integer\" or \"float\"\n",
        "  - ``` pd.to_datetime(df.col, downcast=None,errors=\"raise\") ``` \n",
        "  - ``` pd.to_timedelta(df.col, downcast=None,errors=\"raise\") ``` "
      ]
    },
    {
      "cell_type": "markdown",
      "metadata": {},
      "source": [
        "___ For ord_CreatDate ___"
      ]
    },
    {
      "cell_type": "code",
      "execution_count": 223,
      "metadata": {
        "colab": {
          "base_uri": "https://localhost:8080/"
        },
        "id": "4HelvLkBfjrm",
        "outputId": "00ceccbc-9ac8-466a-e84b-aeb777198f40"
      },
      "outputs": [
        {
          "name": "stdout",
          "output_type": "stream",
          "text": [
            "<class 'pandas.core.frame.DataFrame'>\n",
            "Int64Index: 61742 entries, 0 to 61741\n",
            "Data columns (total 13 columns):\n",
            " #   Column          Non-Null Count  Dtype  \n",
            "---  ------          --------------  -----  \n",
            " 0   ORD_ID          61742 non-null  int64  \n",
            " 1   ord_CreatDate   61742 non-null  object \n",
            " 2   ord_TotlPaid    61742 non-null  float64\n",
            " 3   OL_ID           61742 non-null  int64  \n",
            " 4   ol_ProdQnty     61742 non-null  int64  \n",
            " 5   ol_ProdUntPr    61742 non-null  object \n",
            " 6   ol_ProcessDate  61742 non-null  object \n",
            " 7   PRO_SKU         61742 non-null  object \n",
            " 8   pro_Name        61742 non-null  object \n",
            " 9   pro_Desc        61742 non-null  object \n",
            " 10  pro_Pr          61742 non-null  object \n",
            " 11  pro_InStock     61742 non-null  int64  \n",
            " 12  pro_Type        61742 non-null  object \n",
            "dtypes: float64(1), int64(4), object(8)\n",
            "memory usage: 6.6+ MB\n"
          ]
        }
      ],
      "source": [
        "db.info()"
      ]
    },
    {
      "cell_type": "code",
      "execution_count": 224,
      "metadata": {
        "id": "DYtBeUmZnEFL"
      },
      "outputs": [
        {
          "data": {
            "text/plain": [
              "0"
            ]
          },
          "execution_count": 224,
          "metadata": {},
          "output_type": "execute_result"
        }
      ],
      "source": [
        "(~db.ord_CreatDate.str.contains(\"^\\d{4}-\\d{2}-\\d{2} \\d{2}:\\d{2}:\\d{2}$\")).sum() \n",
        "# all rows has the datetime pattern, save to convert"
      ]
    },
    {
      "cell_type": "code",
      "execution_count": 225,
      "metadata": {
        "id": "qIRWcTgkfFmy"
      },
      "outputs": [],
      "source": [
        "db.ord_CreatDate=pd.to_datetime(db.ord_CreatDate,errors=\"raise\")"
      ]
    },
    {
      "cell_type": "code",
      "execution_count": 226,
      "metadata": {
        "colab": {
          "base_uri": "https://localhost:8080/"
        },
        "id": "05zcp9HQgJX5",
        "outputId": "f3e7e90b-09c6-467c-fdae-fcb2d7ca680c"
      },
      "outputs": [
        {
          "name": "stdout",
          "output_type": "stream",
          "text": [
            "<class 'pandas.core.frame.DataFrame'>\n",
            "Int64Index: 61742 entries, 0 to 61741\n",
            "Data columns (total 13 columns):\n",
            " #   Column          Non-Null Count  Dtype         \n",
            "---  ------          --------------  -----         \n",
            " 0   ORD_ID          61742 non-null  int64         \n",
            " 1   ord_CreatDate   61742 non-null  datetime64[ns]\n",
            " 2   ord_TotlPaid    61742 non-null  float64       \n",
            " 3   OL_ID           61742 non-null  int64         \n",
            " 4   ol_ProdQnty     61742 non-null  int64         \n",
            " 5   ol_ProdUntPr    61742 non-null  object        \n",
            " 6   ol_ProcessDate  61742 non-null  object        \n",
            " 7   PRO_SKU         61742 non-null  object        \n",
            " 8   pro_Name        61742 non-null  object        \n",
            " 9   pro_Desc        61742 non-null  object        \n",
            " 10  pro_Pr          61742 non-null  object        \n",
            " 11  pro_InStock     61742 non-null  int64         \n",
            " 12  pro_Type        61742 non-null  object        \n",
            "dtypes: datetime64[ns](1), float64(1), int64(4), object(7)\n",
            "memory usage: 6.6+ MB\n"
          ]
        }
      ],
      "source": [
        "db.info()"
      ]
    },
    {
      "cell_type": "markdown",
      "metadata": {},
      "source": [
        "___ For ol_ProcessDate ___"
      ]
    },
    {
      "cell_type": "code",
      "execution_count": 227,
      "metadata": {
        "id": "DYtBeUmZnEFL"
      },
      "outputs": [
        {
          "data": {
            "text/plain": [
              "0"
            ]
          },
          "execution_count": 227,
          "metadata": {},
          "output_type": "execute_result"
        }
      ],
      "source": [
        "(~db.ol_ProcessDate.str.contains(\"^\\d{4}-\\d{2}-\\d{2} \\d{2}:\\d{2}:\\d{2}$\")).sum() \n",
        "# all rows has the datetime pattern, save to convert"
      ]
    },
    {
      "cell_type": "code",
      "execution_count": 228,
      "metadata": {
        "id": "qIRWcTgkfFmy"
      },
      "outputs": [],
      "source": [
        "db.ol_ProcessDate=pd.to_datetime(db.ol_ProcessDate,errors=\"raise\")"
      ]
    },
    {
      "cell_type": "markdown",
      "metadata": {},
      "source": [
        "___ For pro_InStock ___"
      ]
    },
    {
      "cell_type": "code",
      "execution_count": 229,
      "metadata": {},
      "outputs": [
        {
          "data": {
            "text/plain": [
              "array([1, 0], dtype=int64)"
            ]
          },
          "execution_count": 229,
          "metadata": {},
          "output_type": "execute_result"
        }
      ],
      "source": [
        "db.pro_InStock.unique()"
      ]
    },
    {
      "cell_type": "code",
      "execution_count": 230,
      "metadata": {},
      "outputs": [],
      "source": [
        "db.pro_InStock = db.pro_InStock.astype(\"bool\",errors=\"raise\")"
      ]
    },
    {
      "cell_type": "code",
      "execution_count": 231,
      "metadata": {
        "colab": {
          "base_uri": "https://localhost:8080/"
        },
        "id": "LnKqIQTMnEFK",
        "outputId": "6eb167b8-5828-439f-bce6-279ec0301c82"
      },
      "outputs": [
        {
          "name": "stdout",
          "output_type": "stream",
          "text": [
            "<class 'pandas.core.frame.DataFrame'>\n",
            "Int64Index: 61742 entries, 0 to 61741\n",
            "Data columns (total 13 columns):\n",
            " #   Column          Non-Null Count  Dtype         \n",
            "---  ------          --------------  -----         \n",
            " 0   ORD_ID          61742 non-null  int64         \n",
            " 1   ord_CreatDate   61742 non-null  datetime64[ns]\n",
            " 2   ord_TotlPaid    61742 non-null  float64       \n",
            " 3   OL_ID           61742 non-null  int64         \n",
            " 4   ol_ProdQnty     61742 non-null  int64         \n",
            " 5   ol_ProdUntPr    61742 non-null  object        \n",
            " 6   ol_ProcessDate  61742 non-null  datetime64[ns]\n",
            " 7   PRO_SKU         61742 non-null  object        \n",
            " 8   pro_Name        61742 non-null  object        \n",
            " 9   pro_Desc        61742 non-null  object        \n",
            " 10  pro_Pr          61742 non-null  object        \n",
            " 11  pro_InStock     61742 non-null  bool          \n",
            " 12  pro_Type        61742 non-null  object        \n",
            "dtypes: bool(1), datetime64[ns](2), float64(1), int64(3), object(6)\n",
            "memory usage: 6.2+ MB\n"
          ]
        }
      ],
      "source": [
        "db.info()\n"
      ]
    },
    {
      "cell_type": "markdown",
      "metadata": {},
      "source": [
        "___ For ol_ProdUntPr ___"
      ]
    },
    {
      "cell_type": "code",
      "execution_count": 232,
      "metadata": {},
      "outputs": [],
      "source": [
        "#db_Pr = db[[\"ORD_ID\",\"ord_TotlPaid\",\"ol_ProdQnty\",\"ol_ProdUntPr\",\"pro_Pr\",\"PRO_SKU\",\"pro_Name\"]].copy()\n"
      ]
    },
    {
      "cell_type": "code",
      "execution_count": 233,
      "metadata": {},
      "outputs": [
        {
          "data": {
            "text/html": [
              "<div>\n",
              "<style scoped>\n",
              "    .dataframe tbody tr th:only-of-type {\n",
              "        vertical-align: middle;\n",
              "    }\n",
              "\n",
              "    .dataframe tbody tr th {\n",
              "        vertical-align: top;\n",
              "    }\n",
              "\n",
              "    .dataframe thead th {\n",
              "        text-align: right;\n",
              "    }\n",
              "</style>\n",
              "<table border=\"1\" class=\"dataframe\">\n",
              "  <thead>\n",
              "    <tr style=\"text-align: right;\">\n",
              "      <th></th>\n",
              "      <th>ORD_ID</th>\n",
              "      <th>ord_CreatDate</th>\n",
              "      <th>ord_TotlPaid</th>\n",
              "      <th>OL_ID</th>\n",
              "      <th>ol_ProdQnty</th>\n",
              "      <th>ol_ProdUntPr</th>\n",
              "      <th>ol_ProcessDate</th>\n",
              "      <th>PRO_SKU</th>\n",
              "      <th>pro_Name</th>\n",
              "      <th>pro_Desc</th>\n",
              "      <th>pro_Pr</th>\n",
              "      <th>pro_InStock</th>\n",
              "      <th>pro_Type</th>\n",
              "    </tr>\n",
              "  </thead>\n",
              "  <tbody>\n",
              "    <tr>\n",
              "      <th>40069</th>\n",
              "      <td>479408</td>\n",
              "      <td>2018-01-02 11:46:15</td>\n",
              "      <td>1075.98</td>\n",
              "      <td>1531988</td>\n",
              "      <td>1</td>\n",
              "      <td>942.99</td>\n",
              "      <td>2018-01-02 11:42:47</td>\n",
              "      <td>SYN0111</td>\n",
              "      <td>Synology RackStation RS815 +</td>\n",
              "      <td>4-bay NAS server optimized for inten...</td>\n",
              "      <td>943.99</td>\n",
              "      <td>False</td>\n",
              "      <td>12175397</td>\n",
              "    </tr>\n",
              "    <tr>\n",
              "      <th>60619</th>\n",
              "      <td>501346</td>\n",
              "      <td>2018-01-31 13:32:39</td>\n",
              "      <td>3486.58</td>\n",
              "      <td>1592149</td>\n",
              "      <td>1</td>\n",
              "      <td>79.99</td>\n",
              "      <td>2018-01-31 13:27:55</td>\n",
              "      <td>SAT0072</td>\n",
              "      <td>Satechi Multiport Adapter HDMI Type-...</td>\n",
              "      <td>Satechi Multiport Adapter Type C HDM...</td>\n",
              "      <td>89.99</td>\n",
              "      <td>True</td>\n",
              "      <td>12585395</td>\n",
              "    </tr>\n",
              "    <tr>\n",
              "      <th>6761</th>\n",
              "      <td>520405</td>\n",
              "      <td>2018-03-03 14:02:31</td>\n",
              "      <td>119.96</td>\n",
              "      <td>1633959</td>\n",
              "      <td>1</td>\n",
              "      <td>10.99</td>\n",
              "      <td>2018-03-03 13:58:23</td>\n",
              "      <td>APP0698</td>\n",
              "      <td>Apple Lightning Cable Connector to U...</td>\n",
              "      <td>Apple Lightning USB Cable 1 meter to...</td>\n",
              "      <td>25</td>\n",
              "      <td>True</td>\n",
              "      <td>1230</td>\n",
              "    </tr>\n",
              "    <tr>\n",
              "      <th>25331</th>\n",
              "      <td>303546</td>\n",
              "      <td>2017-01-06 11:31:38</td>\n",
              "      <td>44.98</td>\n",
              "      <td>1132104</td>\n",
              "      <td>1</td>\n",
              "      <td>39.99</td>\n",
              "      <td>2017-01-06 11:26:20</td>\n",
              "      <td>MOS0219</td>\n",
              "      <td>SenseCover Moshi Case Rosa iPhone 7/...</td>\n",
              "      <td>Cover with lid front opening and fol...</td>\n",
              "      <td>50</td>\n",
              "      <td>False</td>\n",
              "      <td>11865403</td>\n",
              "    </tr>\n",
              "    <tr>\n",
              "      <th>38166</th>\n",
              "      <td>501673</td>\n",
              "      <td>2018-01-30 01:26:10</td>\n",
              "      <td>61.98</td>\n",
              "      <td>1589073</td>\n",
              "      <td>1</td>\n",
              "      <td>56.99</td>\n",
              "      <td>2018-01-30 01:23:18</td>\n",
              "      <td>FIB0011</td>\n",
              "      <td>Fibaro Single Switch embedded module</td>\n",
              "      <td>embedded module to control your cons...</td>\n",
              "      <td>599.918</td>\n",
              "      <td>False</td>\n",
              "      <td>11905404</td>\n",
              "    </tr>\n",
              "  </tbody>\n",
              "</table>\n",
              "</div>"
            ],
            "text/plain": [
              "       ORD_ID       ord_CreatDate  ord_TotlPaid    OL_ID  ol_ProdQnty  \\\n",
              "40069  479408 2018-01-02 11:46:15       1075.98  1531988            1   \n",
              "60619  501346 2018-01-31 13:32:39       3486.58  1592149            1   \n",
              "6761   520405 2018-03-03 14:02:31        119.96  1633959            1   \n",
              "25331  303546 2017-01-06 11:31:38         44.98  1132104            1   \n",
              "38166  501673 2018-01-30 01:26:10         61.98  1589073            1   \n",
              "\n",
              "      ol_ProdUntPr      ol_ProcessDate  PRO_SKU  \\\n",
              "40069       942.99 2018-01-02 11:42:47  SYN0111   \n",
              "60619        79.99 2018-01-31 13:27:55  SAT0072   \n",
              "6761         10.99 2018-03-03 13:58:23  APP0698   \n",
              "25331        39.99 2017-01-06 11:26:20  MOS0219   \n",
              "38166        56.99 2018-01-30 01:23:18  FIB0011   \n",
              "\n",
              "                                      pro_Name  \\\n",
              "40069             Synology RackStation RS815 +   \n",
              "60619  Satechi Multiport Adapter HDMI Type-...   \n",
              "6761   Apple Lightning Cable Connector to U...   \n",
              "25331  SenseCover Moshi Case Rosa iPhone 7/...   \n",
              "38166     Fibaro Single Switch embedded module   \n",
              "\n",
              "                                      pro_Desc   pro_Pr  pro_InStock  pro_Type  \n",
              "40069  4-bay NAS server optimized for inten...   943.99        False  12175397  \n",
              "60619  Satechi Multiport Adapter Type C HDM...    89.99         True  12585395  \n",
              "6761   Apple Lightning USB Cable 1 meter to...       25         True      1230  \n",
              "25331  Cover with lid front opening and fol...       50        False  11865403  \n",
              "38166  embedded module to control your cons...  599.918        False  11905404  "
            ]
          },
          "execution_count": 233,
          "metadata": {},
          "output_type": "execute_result"
        }
      ],
      "source": [
        "db.sample(5)"
      ]
    },
    {
      "cell_type": "code",
      "execution_count": 234,
      "metadata": {},
      "outputs": [
        {
          "data": {
            "text/plain": [
              "dtype('O')"
            ]
          },
          "execution_count": 234,
          "metadata": {},
          "output_type": "execute_result"
        }
      ],
      "source": [
        "db.ol_ProdUntPr.dtype"
      ]
    },
    {
      "cell_type": "code",
      "execution_count": 235,
      "metadata": {},
      "outputs": [
        {
          "data": {
            "text/plain": [
              "3552"
            ]
          },
          "execution_count": 235,
          "metadata": {},
          "output_type": "execute_result"
        }
      ],
      "source": [
        "(db.ol_ProdUntPr.str.count('\\.') > 1).sum()"
      ]
    },
    {
      "cell_type": "code",
      "execution_count": 236,
      "metadata": {},
      "outputs": [],
      "source": [
        "str_decide=\"Drop it\"\n",
        "x= round((((db.ol_ProdUntPr.str.count('\\.') > 1).sum())/db.shape[0])*100,2)\n",
        "if x > 5:\n",
        "    str_decide = \"Clean it\""
      ]
    },
    {
      "cell_type": "code",
      "execution_count": 237,
      "metadata": {},
      "outputs": [
        {
          "name": "stdout",
          "output_type": "stream",
          "text": [
            "the percentage of 2dec ol_ProdUntPr rows is 5.75%, hence Clean it\n"
          ]
        }
      ],
      "source": [
        "print(f\"the percentage of 2dec ol_ProdUntPr rows is {x}%, hence {str_decide}\")"
      ]
    },
    {
      "cell_type": "code",
      "execution_count": 238,
      "metadata": {},
      "outputs": [
        {
          "data": {
            "text/html": [
              "<div>\n",
              "<style scoped>\n",
              "    .dataframe tbody tr th:only-of-type {\n",
              "        vertical-align: middle;\n",
              "    }\n",
              "\n",
              "    .dataframe tbody tr th {\n",
              "        vertical-align: top;\n",
              "    }\n",
              "\n",
              "    .dataframe thead th {\n",
              "        text-align: right;\n",
              "    }\n",
              "</style>\n",
              "<table border=\"1\" class=\"dataframe\">\n",
              "  <thead>\n",
              "    <tr style=\"text-align: right;\">\n",
              "      <th></th>\n",
              "      <th>ORD_ID</th>\n",
              "      <th>ord_CreatDate</th>\n",
              "      <th>ord_TotlPaid</th>\n",
              "      <th>OL_ID</th>\n",
              "      <th>ol_ProdQnty</th>\n",
              "      <th>ol_ProdUntPr</th>\n",
              "      <th>ol_ProcessDate</th>\n",
              "      <th>PRO_SKU</th>\n",
              "      <th>pro_Name</th>\n",
              "      <th>pro_Desc</th>\n",
              "      <th>pro_Pr</th>\n",
              "      <th>pro_InStock</th>\n",
              "      <th>pro_Type</th>\n",
              "    </tr>\n",
              "  </thead>\n",
              "  <tbody>\n",
              "    <tr>\n",
              "      <th>9250</th>\n",
              "      <td>424417</td>\n",
              "      <td>2017-11-10 11:29:30</td>\n",
              "      <td>1408.59</td>\n",
              "      <td>1402599</td>\n",
              "      <td>1</td>\n",
              "      <td>1.408.59</td>\n",
              "      <td>2017-11-10 11:21:44</td>\n",
              "      <td>APP2064</td>\n",
              "      <td>Apple MacBook Retina 12 \"Core m3 12G...</td>\n",
              "      <td>New MacBook Retina Display 12-inch C...</td>\n",
              "      <td>1505.59</td>\n",
              "      <td>False</td>\n",
              "      <td>5,39E+11</td>\n",
              "    </tr>\n",
              "    <tr>\n",
              "      <th>47395</th>\n",
              "      <td>502432</td>\n",
              "      <td>2018-01-31 15:27:32</td>\n",
              "      <td>1378.59</td>\n",
              "      <td>1592374</td>\n",
              "      <td>1</td>\n",
              "      <td>1.378.59</td>\n",
              "      <td>2018-01-31 15:18:26</td>\n",
              "      <td>APP2078</td>\n",
              "      <td>Apple MacBook Pro 13 \"Core i5 23GHz ...</td>\n",
              "      <td>New MacBook Pro 13-inch Core i5 23GH...</td>\n",
              "      <td>1505.59</td>\n",
              "      <td>True</td>\n",
              "      <td>1,02E+12</td>\n",
              "    </tr>\n",
              "    <tr>\n",
              "      <th>58590</th>\n",
              "      <td>447792</td>\n",
              "      <td>2017-11-27 12:49:52</td>\n",
              "      <td>1305.00</td>\n",
              "      <td>1456948</td>\n",
              "      <td>1</td>\n",
              "      <td>1.305.00</td>\n",
              "      <td>2017-11-27 12:00:36</td>\n",
              "      <td>DJI0022</td>\n",
              "      <td>Mavic Pro DJI Drone Fly More Combo</td>\n",
              "      <td>Drone cuadricóptero quality camera i...</td>\n",
              "      <td>1499</td>\n",
              "      <td>True</td>\n",
              "      <td>11905404</td>\n",
              "    </tr>\n",
              "    <tr>\n",
              "      <th>42498</th>\n",
              "      <td>350330</td>\n",
              "      <td>2017-04-27 17:58:41</td>\n",
              "      <td>1970.97</td>\n",
              "      <td>1236929</td>\n",
              "      <td>1</td>\n",
              "      <td>1.840.99</td>\n",
              "      <td>2017-04-27 16:40:43</td>\n",
              "      <td>APP1830</td>\n",
              "      <td>Apple MacBook Pro 13 \"Core i5 2GHz |...</td>\n",
              "      <td>MacBook Pro 13 inch i5 2GHz RAM 16GB...</td>\n",
              "      <td>1939</td>\n",
              "      <td>False</td>\n",
              "      <td>2158</td>\n",
              "    </tr>\n",
              "    <tr>\n",
              "      <th>48002</th>\n",
              "      <td>407272</td>\n",
              "      <td>2017-10-02 13:15:54</td>\n",
              "      <td>1635.59</td>\n",
              "      <td>1367296</td>\n",
              "      <td>1</td>\n",
              "      <td>1.635.59</td>\n",
              "      <td>2017-10-02 11:52:48</td>\n",
              "      <td>APP2080</td>\n",
              "      <td>Apple MacBook Pro 13 \"Core i5 23GHz ...</td>\n",
              "      <td>New MacBook Pro 13-inch Core i5 23GH...</td>\n",
              "      <td>1755.59</td>\n",
              "      <td>False</td>\n",
              "      <td>1,02E+12</td>\n",
              "    </tr>\n",
              "  </tbody>\n",
              "</table>\n",
              "</div>"
            ],
            "text/plain": [
              "       ORD_ID       ord_CreatDate  ord_TotlPaid    OL_ID  ol_ProdQnty  \\\n",
              "9250   424417 2017-11-10 11:29:30       1408.59  1402599            1   \n",
              "47395  502432 2018-01-31 15:27:32       1378.59  1592374            1   \n",
              "58590  447792 2017-11-27 12:49:52       1305.00  1456948            1   \n",
              "42498  350330 2017-04-27 17:58:41       1970.97  1236929            1   \n",
              "48002  407272 2017-10-02 13:15:54       1635.59  1367296            1   \n",
              "\n",
              "      ol_ProdUntPr      ol_ProcessDate  PRO_SKU  \\\n",
              "9250      1.408.59 2017-11-10 11:21:44  APP2064   \n",
              "47395     1.378.59 2018-01-31 15:18:26  APP2078   \n",
              "58590     1.305.00 2017-11-27 12:00:36  DJI0022   \n",
              "42498     1.840.99 2017-04-27 16:40:43  APP1830   \n",
              "48002     1.635.59 2017-10-02 11:52:48  APP2080   \n",
              "\n",
              "                                      pro_Name  \\\n",
              "9250   Apple MacBook Retina 12 \"Core m3 12G...   \n",
              "47395  Apple MacBook Pro 13 \"Core i5 23GHz ...   \n",
              "58590       Mavic Pro DJI Drone Fly More Combo   \n",
              "42498  Apple MacBook Pro 13 \"Core i5 2GHz |...   \n",
              "48002  Apple MacBook Pro 13 \"Core i5 23GHz ...   \n",
              "\n",
              "                                      pro_Desc   pro_Pr  pro_InStock  pro_Type  \n",
              "9250   New MacBook Retina Display 12-inch C...  1505.59        False  5,39E+11  \n",
              "47395  New MacBook Pro 13-inch Core i5 23GH...  1505.59         True  1,02E+12  \n",
              "58590  Drone cuadricóptero quality camera i...     1499         True  11905404  \n",
              "42498  MacBook Pro 13 inch i5 2GHz RAM 16GB...     1939        False      2158  \n",
              "48002  New MacBook Pro 13-inch Core i5 23GH...  1755.59        False  1,02E+12  "
            ]
          },
          "execution_count": 238,
          "metadata": {},
          "output_type": "execute_result"
        }
      ],
      "source": [
        "db[(db.ol_ProdUntPr.str.count('\\.') > 1)].sample(5)"
      ]
    },
    {
      "cell_type": "code",
      "execution_count": 239,
      "metadata": {},
      "outputs": [],
      "source": [
        "db=(\n",
        "    db\n",
        "    .assign(ol_ProdUntPr = lambda x:np.where(\n",
        "      (x.ol_ProdUntPr.str.count('\\.') == 2)\n",
        "      ,x.ol_ProdUntPr.str.replace(\"\\.\",\"\",1,regex=True)\n",
        "      ,x.ol_ProdUntPr\n",
        "      ))\n",
        ")"
      ]
    },
    {
      "cell_type": "code",
      "execution_count": 240,
      "metadata": {},
      "outputs": [
        {
          "name": "stdout",
          "output_type": "stream",
          "text": [
            "<class 'pandas.core.frame.DataFrame'>\n",
            "Int64Index: 61742 entries, 0 to 61741\n",
            "Data columns (total 13 columns):\n",
            " #   Column          Non-Null Count  Dtype         \n",
            "---  ------          --------------  -----         \n",
            " 0   ORD_ID          61742 non-null  int64         \n",
            " 1   ord_CreatDate   61742 non-null  datetime64[ns]\n",
            " 2   ord_TotlPaid    61742 non-null  float64       \n",
            " 3   OL_ID           61742 non-null  int64         \n",
            " 4   ol_ProdQnty     61742 non-null  int64         \n",
            " 5   ol_ProdUntPr    61742 non-null  object        \n",
            " 6   ol_ProcessDate  61742 non-null  datetime64[ns]\n",
            " 7   PRO_SKU         61742 non-null  object        \n",
            " 8   pro_Name        61742 non-null  object        \n",
            " 9   pro_Desc        61742 non-null  object        \n",
            " 10  pro_Pr          61742 non-null  object        \n",
            " 11  pro_InStock     61742 non-null  bool          \n",
            " 12  pro_Type        61742 non-null  object        \n",
            "dtypes: bool(1), datetime64[ns](2), float64(1), int64(3), object(6)\n",
            "memory usage: 6.2+ MB\n"
          ]
        }
      ],
      "source": [
        "db.info()"
      ]
    },
    {
      "cell_type": "code",
      "execution_count": 241,
      "metadata": {},
      "outputs": [],
      "source": [
        "db.ol_ProdUntPr = db.ol_ProdUntPr.astype(float)"
      ]
    },
    {
      "cell_type": "markdown",
      "metadata": {},
      "source": [
        "___ For pro_Pr  ___"
      ]
    },
    {
      "cell_type": "code",
      "execution_count": 242,
      "metadata": {},
      "outputs": [
        {
          "data": {
            "text/html": [
              "<div>\n",
              "<style scoped>\n",
              "    .dataframe tbody tr th:only-of-type {\n",
              "        vertical-align: middle;\n",
              "    }\n",
              "\n",
              "    .dataframe tbody tr th {\n",
              "        vertical-align: top;\n",
              "    }\n",
              "\n",
              "    .dataframe thead th {\n",
              "        text-align: right;\n",
              "    }\n",
              "</style>\n",
              "<table border=\"1\" class=\"dataframe\">\n",
              "  <thead>\n",
              "    <tr style=\"text-align: right;\">\n",
              "      <th></th>\n",
              "      <th>ORD_ID</th>\n",
              "      <th>ord_CreatDate</th>\n",
              "      <th>ord_TotlPaid</th>\n",
              "      <th>OL_ID</th>\n",
              "      <th>ol_ProdQnty</th>\n",
              "      <th>ol_ProdUntPr</th>\n",
              "      <th>ol_ProcessDate</th>\n",
              "      <th>PRO_SKU</th>\n",
              "      <th>pro_Name</th>\n",
              "      <th>pro_Desc</th>\n",
              "      <th>pro_Pr</th>\n",
              "      <th>pro_InStock</th>\n",
              "      <th>pro_Type</th>\n",
              "    </tr>\n",
              "  </thead>\n",
              "  <tbody>\n",
              "    <tr>\n",
              "      <th>51451</th>\n",
              "      <td>492520</td>\n",
              "      <td>2018-01-16 22:30:57</td>\n",
              "      <td>28.98</td>\n",
              "      <td>1565000</td>\n",
              "      <td>1</td>\n",
              "      <td>24.99</td>\n",
              "      <td>2018-01-16 22:27:01</td>\n",
              "      <td>SAN0144</td>\n",
              "      <td>Sandisk Ultra 64GB USB Pen-Drive-C</td>\n",
              "      <td>64GB USB flash drive for Type C devices</td>\n",
              "      <td>26.99</td>\n",
              "      <td>True</td>\n",
              "      <td>57445397</td>\n",
              "    </tr>\n",
              "    <tr>\n",
              "      <th>29685</th>\n",
              "      <td>479192</td>\n",
              "      <td>2018-01-02 10:12:44</td>\n",
              "      <td>144.60</td>\n",
              "      <td>1531611</td>\n",
              "      <td>1</td>\n",
              "      <td>19.99</td>\n",
              "      <td>2018-01-02 10:04:50</td>\n",
              "      <td>LOG0107</td>\n",
              "      <td>Logitech M187 Wireless Mouse White</td>\n",
              "      <td>Mini Wireless Pocket Mouse.</td>\n",
              "      <td>20.99</td>\n",
              "      <td>False</td>\n",
              "      <td>1387</td>\n",
              "    </tr>\n",
              "    <tr>\n",
              "      <th>61449</th>\n",
              "      <td>511623</td>\n",
              "      <td>2018-02-14 17:50:16</td>\n",
              "      <td>130.97</td>\n",
              "      <td>1614078</td>\n",
              "      <td>1</td>\n",
              "      <td>78.99</td>\n",
              "      <td>2018-02-14 17:40:42</td>\n",
              "      <td>ICA0089</td>\n",
              "      <td>Incase Lite Icon Pack Backpack for M...</td>\n",
              "      <td>Incase backpack with 12 liters of lo...</td>\n",
              "      <td>99.95</td>\n",
              "      <td>True</td>\n",
              "      <td>1392</td>\n",
              "    </tr>\n",
              "    <tr>\n",
              "      <th>24026</th>\n",
              "      <td>358635</td>\n",
              "      <td>2017-05-24 09:52:45</td>\n",
              "      <td>282.99</td>\n",
              "      <td>1253786</td>\n",
              "      <td>1</td>\n",
              "      <td>282.99</td>\n",
              "      <td>2017-05-24 09:50:45</td>\n",
              "      <td>LAC0206</td>\n",
              "      <td>LaCie d2 Hard Drive 4TB Thunderbolt ...</td>\n",
              "      <td>4TB external hard drive designed to ...</td>\n",
              "      <td>309</td>\n",
              "      <td>True</td>\n",
              "      <td>11935397</td>\n",
              "    </tr>\n",
              "    <tr>\n",
              "      <th>38852</th>\n",
              "      <td>319582</td>\n",
              "      <td>2017-02-03 14:11:12</td>\n",
              "      <td>609.99</td>\n",
              "      <td>1170612</td>\n",
              "      <td>1</td>\n",
              "      <td>609.99</td>\n",
              "      <td>2017-02-03 14:08:02</td>\n",
              "      <td>DLL0031</td>\n",
              "      <td>Dell UltraSharp Monitor UP2716D 27 \"...</td>\n",
              "      <td>Monitor with slim frame premier tech...</td>\n",
              "      <td>683.99</td>\n",
              "      <td>True</td>\n",
              "      <td>1296</td>\n",
              "    </tr>\n",
              "  </tbody>\n",
              "</table>\n",
              "</div>"
            ],
            "text/plain": [
              "       ORD_ID       ord_CreatDate  ord_TotlPaid    OL_ID  ol_ProdQnty  \\\n",
              "51451  492520 2018-01-16 22:30:57         28.98  1565000            1   \n",
              "29685  479192 2018-01-02 10:12:44        144.60  1531611            1   \n",
              "61449  511623 2018-02-14 17:50:16        130.97  1614078            1   \n",
              "24026  358635 2017-05-24 09:52:45        282.99  1253786            1   \n",
              "38852  319582 2017-02-03 14:11:12        609.99  1170612            1   \n",
              "\n",
              "       ol_ProdUntPr      ol_ProcessDate  PRO_SKU  \\\n",
              "51451         24.99 2018-01-16 22:27:01  SAN0144   \n",
              "29685         19.99 2018-01-02 10:04:50  LOG0107   \n",
              "61449         78.99 2018-02-14 17:40:42  ICA0089   \n",
              "24026        282.99 2017-05-24 09:50:45  LAC0206   \n",
              "38852        609.99 2017-02-03 14:08:02  DLL0031   \n",
              "\n",
              "                                      pro_Name  \\\n",
              "51451       Sandisk Ultra 64GB USB Pen-Drive-C   \n",
              "29685       Logitech M187 Wireless Mouse White   \n",
              "61449  Incase Lite Icon Pack Backpack for M...   \n",
              "24026  LaCie d2 Hard Drive 4TB Thunderbolt ...   \n",
              "38852  Dell UltraSharp Monitor UP2716D 27 \"...   \n",
              "\n",
              "                                      pro_Desc  pro_Pr  pro_InStock  pro_Type  \n",
              "51451  64GB USB flash drive for Type C devices   26.99         True  57445397  \n",
              "29685              Mini Wireless Pocket Mouse.   20.99        False      1387  \n",
              "61449  Incase backpack with 12 liters of lo...   99.95         True      1392  \n",
              "24026  4TB external hard drive designed to ...     309         True  11935397  \n",
              "38852  Monitor with slim frame premier tech...  683.99         True      1296  "
            ]
          },
          "execution_count": 242,
          "metadata": {},
          "output_type": "execute_result"
        }
      ],
      "source": [
        "db.sample(5)"
      ]
    },
    {
      "cell_type": "code",
      "execution_count": 243,
      "metadata": {},
      "outputs": [
        {
          "name": "stdout",
          "output_type": "stream",
          "text": [
            "the percentage of 2dec pro_Pr rows is 1.29% , Hence Drop it\n"
          ]
        }
      ],
      "source": [
        "str_decide=\"Drop it\"\n",
        "x= round((((db.pro_Pr.str.count('\\.') > 1).sum())/db.shape[0])*100,2)\n",
        "if x > 5:\n",
        "    str_decide = \"Clean it\"\n",
        "print(f\"the percentage of 2dec pro_Pr rows is {round(x,2)}% , Hence {str_decide}\")"
      ]
    },
    {
      "cell_type": "code",
      "execution_count": 244,
      "metadata": {},
      "outputs": [
        {
          "data": {
            "text/plain": [
              "(61742, 13)"
            ]
          },
          "execution_count": 244,
          "metadata": {},
          "output_type": "execute_result"
        }
      ],
      "source": [
        "db.shape"
      ]
    },
    {
      "cell_type": "code",
      "execution_count": 245,
      "metadata": {},
      "outputs": [],
      "source": [
        "db = db.loc[db.pro_Pr.str.count('\\.') < 2]"
      ]
    },
    {
      "cell_type": "code",
      "execution_count": 246,
      "metadata": {},
      "outputs": [
        {
          "data": {
            "text/plain": [
              "(60943, 13)"
            ]
          },
          "execution_count": 246,
          "metadata": {},
          "output_type": "execute_result"
        }
      ],
      "source": [
        "db.shape"
      ]
    },
    {
      "cell_type": "code",
      "execution_count": 247,
      "metadata": {},
      "outputs": [],
      "source": [
        "db.pro_Pr = db.pro_Pr.astype(float)"
      ]
    },
    {
      "cell_type": "code",
      "execution_count": 248,
      "metadata": {},
      "outputs": [
        {
          "name": "stdout",
          "output_type": "stream",
          "text": [
            "<class 'pandas.core.frame.DataFrame'>\n",
            "Int64Index: 60943 entries, 0 to 61741\n",
            "Data columns (total 13 columns):\n",
            " #   Column          Non-Null Count  Dtype         \n",
            "---  ------          --------------  -----         \n",
            " 0   ORD_ID          60943 non-null  int64         \n",
            " 1   ord_CreatDate   60943 non-null  datetime64[ns]\n",
            " 2   ord_TotlPaid    60943 non-null  float64       \n",
            " 3   OL_ID           60943 non-null  int64         \n",
            " 4   ol_ProdQnty     60943 non-null  int64         \n",
            " 5   ol_ProdUntPr    60943 non-null  float64       \n",
            " 6   ol_ProcessDate  60943 non-null  datetime64[ns]\n",
            " 7   PRO_SKU         60943 non-null  object        \n",
            " 8   pro_Name        60943 non-null  object        \n",
            " 9   pro_Desc        60943 non-null  object        \n",
            " 10  pro_Pr          60943 non-null  float64       \n",
            " 11  pro_InStock     60943 non-null  bool          \n",
            " 12  pro_Type        60943 non-null  object        \n",
            "dtypes: bool(1), datetime64[ns](2), float64(3), int64(3), object(4)\n",
            "memory usage: 6.1+ MB\n"
          ]
        }
      ],
      "source": [
        "db.info()"
      ]
    },
    {
      "cell_type": "markdown",
      "metadata": {},
      "source": [
        "      ===============================================\n",
        "### Analyze Outliers\n",
        "\n",
        "remove un-necessary values(respectively related rows) of specific columns\n",
        "- ``` Q1   = df.col.quantile(0.25) ``` \n",
        "- ``` Q3   = df.col.quantile(0.75) ``` \n",
        "- ``` IQR = Q3 - Q1 ``` \n",
        "- ``` num_inliers =((df.col >= (Q1 - 1.5*IQR)) & (df.col <= (Q3 + 1.5*IQR))).sum() ```\n",
        "- ``` num_outliers = df.shape[0]-num_inliers ```\n",
        "- ``` per_outliers = round((num_outliers/df.shape[0])*100,2) ```\n",
        "- ``` print(f'''{num_outliers} out of {df.shape[0]} are outliers from col,ie {per_outliers}%''') ``` \n",
        "- ```if per_outliers < 3:```\n",
        "    ```    print(\"Drop it\")```\n",
        "    ```else:```\n",
        "    ```    print(\"Clean it\") ```\n"
      ]
    },
    {
      "cell_type": "code",
      "execution_count": 276,
      "metadata": {},
      "outputs": [
        {
          "data": {
            "text/html": [
              "<div>\n",
              "<style scoped>\n",
              "    .dataframe tbody tr th:only-of-type {\n",
              "        vertical-align: middle;\n",
              "    }\n",
              "\n",
              "    .dataframe tbody tr th {\n",
              "        vertical-align: top;\n",
              "    }\n",
              "\n",
              "    .dataframe thead th {\n",
              "        text-align: right;\n",
              "    }\n",
              "</style>\n",
              "<table border=\"1\" class=\"dataframe\">\n",
              "  <thead>\n",
              "    <tr style=\"text-align: right;\">\n",
              "      <th></th>\n",
              "      <th>ORD_ID</th>\n",
              "      <th>ord_TotlPaid</th>\n",
              "      <th>OL_ID</th>\n",
              "      <th>ol_ProdQnty</th>\n",
              "      <th>ol_ProdUntPr</th>\n",
              "      <th>pro_Pr</th>\n",
              "    </tr>\n",
              "  </thead>\n",
              "  <tbody>\n",
              "    <tr>\n",
              "      <th>count</th>\n",
              "      <td>60943.000000</td>\n",
              "      <td>60943.000000</td>\n",
              "      <td>6.094300e+04</td>\n",
              "      <td>60943.000000</td>\n",
              "      <td>60943.000000</td>\n",
              "      <td>60943.000000</td>\n",
              "    </tr>\n",
              "    <tr>\n",
              "      <th>mean</th>\n",
              "      <td>414636.666803</td>\n",
              "      <td>400.361607</td>\n",
              "      <td>1.386243e+06</td>\n",
              "      <td>1.121523</td>\n",
              "      <td>236.792624</td>\n",
              "      <td>278.021254</td>\n",
              "    </tr>\n",
              "    <tr>\n",
              "      <th>std</th>\n",
              "      <td>65368.236302</td>\n",
              "      <td>729.050642</td>\n",
              "      <td>1.504055e+05</td>\n",
              "      <td>0.780114</td>\n",
              "      <td>501.349164</td>\n",
              "      <td>565.214622</td>\n",
              "    </tr>\n",
              "    <tr>\n",
              "      <th>min</th>\n",
              "      <td>241423.000000</td>\n",
              "      <td>0.000000</td>\n",
              "      <td>1.119116e+06</td>\n",
              "      <td>1.000000</td>\n",
              "      <td>0.010000</td>\n",
              "      <td>0.000000</td>\n",
              "    </tr>\n",
              "    <tr>\n",
              "      <th>25%</th>\n",
              "      <td>363134.000000</td>\n",
              "      <td>56.980000</td>\n",
              "      <td>1.266572e+06</td>\n",
              "      <td>1.000000</td>\n",
              "      <td>28.990000</td>\n",
              "      <td>39.950000</td>\n",
              "    </tr>\n",
              "    <tr>\n",
              "      <th>50%</th>\n",
              "      <td>417410.000000</td>\n",
              "      <td>136.790000</td>\n",
              "      <td>1.390130e+06</td>\n",
              "      <td>1.000000</td>\n",
              "      <td>69.990000</td>\n",
              "      <td>89.990000</td>\n",
              "    </tr>\n",
              "    <tr>\n",
              "      <th>75%</th>\n",
              "      <td>469963.000000</td>\n",
              "      <td>386.090000</td>\n",
              "      <td>1.513546e+06</td>\n",
              "      <td>1.000000</td>\n",
              "      <td>181.155000</td>\n",
              "      <td>224.990000</td>\n",
              "    </tr>\n",
              "    <tr>\n",
              "      <th>max</th>\n",
              "      <td>527112.000000</td>\n",
              "      <td>13387.780000</td>\n",
              "      <td>1.649593e+06</td>\n",
              "      <td>72.000000</td>\n",
              "      <td>8287.800000</td>\n",
              "      <td>9799.000000</td>\n",
              "    </tr>\n",
              "  </tbody>\n",
              "</table>\n",
              "</div>"
            ],
            "text/plain": [
              "              ORD_ID  ord_TotlPaid         OL_ID   ol_ProdQnty  ol_ProdUntPr  \\\n",
              "count   60943.000000  60943.000000  6.094300e+04  60943.000000  60943.000000   \n",
              "mean   414636.666803    400.361607  1.386243e+06      1.121523    236.792624   \n",
              "std     65368.236302    729.050642  1.504055e+05      0.780114    501.349164   \n",
              "min    241423.000000      0.000000  1.119116e+06      1.000000      0.010000   \n",
              "25%    363134.000000     56.980000  1.266572e+06      1.000000     28.990000   \n",
              "50%    417410.000000    136.790000  1.390130e+06      1.000000     69.990000   \n",
              "75%    469963.000000    386.090000  1.513546e+06      1.000000    181.155000   \n",
              "max    527112.000000  13387.780000  1.649593e+06     72.000000   8287.800000   \n",
              "\n",
              "             pro_Pr  \n",
              "count  60943.000000  \n",
              "mean     278.021254  \n",
              "std      565.214622  \n",
              "min        0.000000  \n",
              "25%       39.950000  \n",
              "50%       89.990000  \n",
              "75%      224.990000  \n",
              "max     9799.000000  "
            ]
          },
          "execution_count": 276,
          "metadata": {},
          "output_type": "execute_result"
        }
      ],
      "source": [
        "db.describe()"
      ]
    },
    {
      "cell_type": "markdown",
      "metadata": {},
      "source": [
        "__ ord_TotlPaid __"
      ]
    },
    {
      "cell_type": "code",
      "execution_count": 277,
      "metadata": {},
      "outputs": [
        {
          "name": "stdout",
          "output_type": "stream",
          "text": [
            "7055 out of 60943 are outliers from ord_TotlPaid, ie 11.58%\n",
            "Clean it\n"
          ]
        }
      ],
      "source": [
        "Q1   = db.ord_TotlPaid.quantile(0.25)\n",
        "Q3   = db.ord_TotlPaid.quantile(0.75)\n",
        "IQR = Q3 - Q1\n",
        "num_inliers =((db.ord_TotlPaid >= (Q1 - 1.5*IQR)) & (db.ord_TotlPaid <= (Q3 + 1.5*IQR))).sum()\n",
        "num_outliers = db.shape[0]-num_inliers\n",
        "per_outliers = round((num_outliers/db.shape[0])*100,2)\n",
        "print(f'''{num_outliers} out of {db.shape[0]} are outliers from ord_TotlPaid, ie {per_outliers}%''')\n",
        "#df   = db.loc[]\n",
        "if per_outliers < 3:\n",
        "    print(\"Drop it\")\n",
        "else:\n",
        "    print(\"Clean it\")\n"
      ]
    },
    {
      "cell_type": "code",
      "execution_count": 262,
      "metadata": {},
      "outputs": [
        {
          "data": {
            "text/html": [
              "<div>\n",
              "<style scoped>\n",
              "    .dataframe tbody tr th:only-of-type {\n",
              "        vertical-align: middle;\n",
              "    }\n",
              "\n",
              "    .dataframe tbody tr th {\n",
              "        vertical-align: top;\n",
              "    }\n",
              "\n",
              "    .dataframe thead th {\n",
              "        text-align: right;\n",
              "    }\n",
              "</style>\n",
              "<table border=\"1\" class=\"dataframe\">\n",
              "  <thead>\n",
              "    <tr style=\"text-align: right;\">\n",
              "      <th></th>\n",
              "      <th>ORD_ID</th>\n",
              "      <th>ord_TotlPaid</th>\n",
              "      <th>OL_ID</th>\n",
              "      <th>ol_ProdQnty</th>\n",
              "      <th>ol_ProdUntPr</th>\n",
              "      <th>pro_Pr</th>\n",
              "    </tr>\n",
              "  </thead>\n",
              "  <tbody>\n",
              "    <tr>\n",
              "      <th>count</th>\n",
              "      <td>60943.000000</td>\n",
              "      <td>60943.000000</td>\n",
              "      <td>6.094300e+04</td>\n",
              "      <td>60943.000000</td>\n",
              "      <td>60943.000000</td>\n",
              "      <td>60943.000000</td>\n",
              "    </tr>\n",
              "    <tr>\n",
              "      <th>mean</th>\n",
              "      <td>414636.666803</td>\n",
              "      <td>400.361607</td>\n",
              "      <td>1.386243e+06</td>\n",
              "      <td>1.121523</td>\n",
              "      <td>236.792624</td>\n",
              "      <td>278.021254</td>\n",
              "    </tr>\n",
              "    <tr>\n",
              "      <th>std</th>\n",
              "      <td>65368.236302</td>\n",
              "      <td>729.050642</td>\n",
              "      <td>1.504055e+05</td>\n",
              "      <td>0.780114</td>\n",
              "      <td>501.349164</td>\n",
              "      <td>565.214622</td>\n",
              "    </tr>\n",
              "    <tr>\n",
              "      <th>min</th>\n",
              "      <td>241423.000000</td>\n",
              "      <td>0.000000</td>\n",
              "      <td>1.119116e+06</td>\n",
              "      <td>1.000000</td>\n",
              "      <td>0.010000</td>\n",
              "      <td>0.000000</td>\n",
              "    </tr>\n",
              "    <tr>\n",
              "      <th>25%</th>\n",
              "      <td>363134.000000</td>\n",
              "      <td>56.980000</td>\n",
              "      <td>1.266572e+06</td>\n",
              "      <td>1.000000</td>\n",
              "      <td>28.990000</td>\n",
              "      <td>39.950000</td>\n",
              "    </tr>\n",
              "    <tr>\n",
              "      <th>50%</th>\n",
              "      <td>417410.000000</td>\n",
              "      <td>136.790000</td>\n",
              "      <td>1.390130e+06</td>\n",
              "      <td>1.000000</td>\n",
              "      <td>69.990000</td>\n",
              "      <td>89.990000</td>\n",
              "    </tr>\n",
              "    <tr>\n",
              "      <th>75%</th>\n",
              "      <td>469963.000000</td>\n",
              "      <td>386.090000</td>\n",
              "      <td>1.513546e+06</td>\n",
              "      <td>1.000000</td>\n",
              "      <td>181.155000</td>\n",
              "      <td>224.990000</td>\n",
              "    </tr>\n",
              "    <tr>\n",
              "      <th>max</th>\n",
              "      <td>527112.000000</td>\n",
              "      <td>13387.780000</td>\n",
              "      <td>1.649593e+06</td>\n",
              "      <td>72.000000</td>\n",
              "      <td>8287.800000</td>\n",
              "      <td>9799.000000</td>\n",
              "    </tr>\n",
              "  </tbody>\n",
              "</table>\n",
              "</div>"
            ],
            "text/plain": [
              "              ORD_ID  ord_TotlPaid         OL_ID   ol_ProdQnty  ol_ProdUntPr  \\\n",
              "count   60943.000000  60943.000000  6.094300e+04  60943.000000  60943.000000   \n",
              "mean   414636.666803    400.361607  1.386243e+06      1.121523    236.792624   \n",
              "std     65368.236302    729.050642  1.504055e+05      0.780114    501.349164   \n",
              "min    241423.000000      0.000000  1.119116e+06      1.000000      0.010000   \n",
              "25%    363134.000000     56.980000  1.266572e+06      1.000000     28.990000   \n",
              "50%    417410.000000    136.790000  1.390130e+06      1.000000     69.990000   \n",
              "75%    469963.000000    386.090000  1.513546e+06      1.000000    181.155000   \n",
              "max    527112.000000  13387.780000  1.649593e+06     72.000000   8287.800000   \n",
              "\n",
              "             pro_Pr  \n",
              "count  60943.000000  \n",
              "mean     278.021254  \n",
              "std      565.214622  \n",
              "min        0.000000  \n",
              "25%       39.950000  \n",
              "50%       89.990000  \n",
              "75%      224.990000  \n",
              "max     9799.000000  "
            ]
          },
          "execution_count": 262,
          "metadata": {},
          "output_type": "execute_result"
        }
      ],
      "source": [
        "db.describe()"
      ]
    },
    {
      "cell_type": "markdown",
      "metadata": {
        "id": "uaSmyQ4bnEFN"
      },
      "source": [
        "    ==============================================================================================\n",
        "\n",
        "## Re-Explore the data\n",
        "draw some ``` df.col.hist()```  , ``` df.ser.boxplot()```  per column\n",
        "take notes"
      ]
    },
    {
      "cell_type": "code",
      "execution_count": null,
      "metadata": {},
      "outputs": [],
      "source": [
        "db.columns"
      ]
    },
    {
      "cell_type": "code",
      "execution_count": null,
      "metadata": {},
      "outputs": [],
      "source": [
        "db.groupby(db.ord_CreatDate.dt.year).ord_CreatDate.hist()"
      ]
    },
    {
      "cell_type": "code",
      "execution_count": null,
      "metadata": {},
      "outputs": [],
      "source": [
        "db.ord_CreatDate.hist();"
      ]
    },
    {
      "cell_type": "code",
      "execution_count": null,
      "metadata": {},
      "outputs": [],
      "source": [
        "db.ord_TotlPaid.hist();"
      ]
    },
    {
      "cell_type": "code",
      "execution_count": null,
      "metadata": {},
      "outputs": [],
      "source": [
        "db.ol_ProdQnty.hist(bins=20);"
      ]
    },
    {
      "cell_type": "code",
      "execution_count": null,
      "metadata": {},
      "outputs": [],
      "source": [
        "db.ol_ProdUntPr.hist();"
      ]
    },
    {
      "cell_type": "code",
      "execution_count": null,
      "metadata": {},
      "outputs": [],
      "source": [
        "db.pro_Pr.hist();"
      ]
    },
    {
      "cell_type": "code",
      "execution_count": null,
      "metadata": {},
      "outputs": [],
      "source": [
        "db.pro_Type.hist();"
      ]
    },
    {
      "cell_type": "code",
      "execution_count": null,
      "metadata": {},
      "outputs": [],
      "source": [
        "db.columns"
      ]
    },
    {
      "cell_type": "code",
      "execution_count": null,
      "metadata": {},
      "outputs": [],
      "source": [
        "#db.groupby(\"ord_TotlPaid\").boxplot()"
      ]
    },
    {
      "cell_type": "markdown",
      "metadata": {},
      "source": [
        "    ==============================================================================================\n",
        "\n",
        "## Export the cleaned DataFrame\n",
        "\n",
        "``` df.to_pickle(\"file_name.pkl\")``` "
      ]
    },
    {
      "cell_type": "code",
      "execution_count": null,
      "metadata": {},
      "outputs": [],
      "source": [
        "db.to_pickle(\"clean_Tables\\Merged_c.pkl\")"
      ]
    }
  ],
  "metadata": {
    "colab": {
      "authorship_tag": "ABX9TyMT7v9XshVXAURmbT7onweZ",
      "include_colab_link": true,
      "provenance": [],
      "toc_visible": true
    },
    "kernelspec": {
      "display_name": "Python 3.9.1 64-bit",
      "language": "python",
      "name": "python3"
    },
    "language_info": {
      "codemirror_mode": {
        "name": "ipython",
        "version": 3
      },
      "file_extension": ".py",
      "mimetype": "text/x-python",
      "name": "python",
      "nbconvert_exporter": "python",
      "pygments_lexer": "ipython3",
      "version": "3.9.1"
    },
    "vscode": {
      "interpreter": {
        "hash": "81794d4967e6c3204c66dcd87b604927b115b27c00565d3d43f05ba2f3a2cb0d"
      }
    }
  },
  "nbformat": 4,
  "nbformat_minor": 0
}
