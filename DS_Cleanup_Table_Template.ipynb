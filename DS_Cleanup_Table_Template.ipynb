{
 "cells": [
  {
   "cell_type": "markdown",
   "metadata": {
    "id": "RCIYjmVBHMnx",
    "tags": []
   },
   "source": [
    "# CleaningUp orders.csv (ord_)\n",
    "orders.csv – Every row in this file represents an order.\n",
    "- order_id – a unique identifier for each order\n",
    "- created_date – a timestamp for when the order was created\n",
    "- total_paid – the total amount paid by the customer for this order, in euros\n",
    "- state \n",
    "  - “Shopping basket” – products have been placed in the shopping basket, but the order has not been processed yet.\n",
    "  - “Pending” – the shopping basket has been processed, but payment confirmation is pending.\n",
    "  - “Completed” – the order has been placed and paid, and the transaction is completed.\n",
    "  - “Cancelled” – the order has been cancelled and the payment returned to the customer."
   ]
  },
  {
   "cell_type": "markdown",
   "metadata": {
    "id": "pG4_-xlaHrtV"
   },
   "source": [
    "    ==============================================================================================\n",
    "    \n",
    "## Importing the data\n",
    "- ``` glob-glob(\"file_pat\") ``` --> read multi files \n",
    "- ``` pd.concat(dfs_list, ignore_index=True)```  --> create 1 df from multi dfs\n",
    "- ``` pd.read_csv(path)```  --> create 1 df from a csv file"
   ]
  },
  {
   "cell_type": "code",
   "execution_count": null,
   "metadata": {
    "id": "N5PcASxWHmmb"
   },
   "outputs": [],
   "source": [
    "import pandas as pd\n",
    "import numpy as np\n",
    "\n",
    "url = \"https://drive.google.com/file/d/1Vu0q91qZw6lqhIqbjoXYvYAQTmVHh6uZ/view?usp=sharing\" \n",
    "path = \"https://drive.google.com/uc?export=download&id=\"+url.split(\"/\")[-2]\n",
    "df = pd.read_csv(path)\n",
    "\n"
   ]
  },
  {
   "cell_type": "code",
   "execution_count": null,
   "metadata": {
    "colab": {
     "base_uri": "https://localhost:8080/"
    },
    "id": "wdtR5G1SleHd",
    "outputId": "ca93ec7e-90de-4c57-f8dd-0711bea44479"
   },
   "outputs": [],
   "source": [
    "pd.set_option(\"display.min_rows\", 0) \n",
    "pd.set_option(\"display.max_rows\", 30) "
   ]
  },
  {
   "cell_type": "markdown",
   "metadata": {
    "id": "9OsnA7TrIVZh"
   },
   "source": [
    "    ==============================================================================================\n",
    "    \n",
    "## Explore the data\n",
    "- ``` df.shape``` , ``` df.size``` , ``` df.ndim``` \n",
    "- ``` df.sample(5)``` , ``` df.info()``` \n",
    "- Numerical : ``` df.describe()``` , ``` df.nlargest()``` , ``` df.nsmallest()``` \n",
    "- Category : ``` df.nunique()``` , ``` df.unique() ``` "
   ]
  },
  {
   "cell_type": "code",
   "execution_count": null,
   "metadata": {
    "colab": {
     "base_uri": "https://localhost:8080/"
    },
    "id": "WYH-IAlTMPfb",
    "outputId": "2b890dc0-5e28-4ad0-f284-e5adeed080bb"
   },
   "outputs": [],
   "source": [
    "df.shape"
   ]
  },
  {
   "cell_type": "code",
   "execution_count": null,
   "metadata": {
    "colab": {
     "base_uri": "https://localhost:8080/",
     "height": 206
    },
    "id": "D-h_qX3xOFje",
    "outputId": "6c50129c-9d43-4d52-ce05-7de640d192bb"
   },
   "outputs": [],
   "source": [
    "df.sample(20)"
   ]
  },
  {
   "cell_type": "code",
   "execution_count": null,
   "metadata": {
    "colab": {
     "base_uri": "https://localhost:8080/"
    },
    "id": "JrY5nsdmMUeL",
    "outputId": "593ed425-2625-4b10-ba63-4fef445f87c8"
   },
   "outputs": [],
   "source": [
    "df.info()  \n",
    "## hint: there are 5 nulls in total_paid - fix required\n",
    "## hint: created_date is of type object, has to be datetime - fix required"
   ]
  },
  {
   "cell_type": "code",
   "execution_count": null,
   "metadata": {
    "colab": {
     "base_uri": "https://localhost:8080/",
     "height": 300
    },
    "id": "xt3AjCMpOWWG",
    "outputId": "23dd0382-bbc5-485f-fb46-bcd2a9953ceb"
   },
   "outputs": [],
   "source": [
    "df.describe()\n",
    "## hint: total_paid has huge std , min = 0 as some points! probably we should exclude the total_paid = 0 - fix required"
   ]
  },
  {
   "cell_type": "code",
   "execution_count": null,
   "metadata": {
    "colab": {
     "base_uri": "https://localhost:8080/"
    },
    "id": "JOUkYsQLO5NK",
    "outputId": "59d1a127-6635-43b4-d485-49bd1d6f381c"
   },
   "outputs": [],
   "source": [
    "df.nunique() # hint: order_id is unique per row \n",
    "# hint: state is category data"
   ]
  },
  {
   "cell_type": "code",
   "execution_count": null,
   "metadata": {
    "colab": {
     "base_uri": "https://localhost:8080/"
    },
    "id": "uNxu8V_zPPV6",
    "outputId": "9c6a92cd-ed76-427e-bc03-a5326683e87b"
   },
   "outputs": [],
   "source": [
    "(df\n",
    " .state\n",
    " .unique())\n",
    "\n",
    "\n",
    "#hint: state has value \"Shopping Basket\"/\"Pending\" which ideally shall not be part of the analysis - fix required\n",
    "# (if we care about actuall sold products)\n"
   ]
  },
  {
   "cell_type": "markdown",
   "metadata": {
    "id": "D7qtLn9bIaWv"
   },
   "source": [
    "    ==============================================================================================\n",
    "    \n",
    "## Clean the data per csv\n",
    "- Remember to create a copy of the df using ``` df.copy()``` "
   ]
  },
  {
   "cell_type": "code",
   "execution_count": null,
   "metadata": {
    "id": "2iF8aX-tQce6"
   },
   "outputs": [],
   "source": [
    "df_c = df.copy()"
   ]
  },
  {
   "cell_type": "markdown",
   "metadata": {
    "id": "bWRDa2TgI36i"
   },
   "source": [
    "### Rename Columns , Set Index\n",
    " - ``` df.columns```   , ``` df.index``` \n",
    " - ``` df=df.rename(columns={\"A\": \"a\", \"B\": \"c\"})``` \n",
    " - ``` df.columns = [\"a\",\"b\":\"x\"]``` \n",
    "     - take care, renaming the columns like that will convert the NAN to some value!!\n",
    " - ``` df=df.set_index(\"col\")```  , ``` df=df.reset_index()``` "
   ]
  },
  {
   "cell_type": "code",
   "execution_count": null,
   "metadata": {
    "colab": {
     "base_uri": "https://localhost:8080/"
    },
    "id": "Bb2s2UbkSDN5",
    "outputId": "85c68e06-128d-40af-efdf-734df950169d"
   },
   "outputs": [],
   "source": [
    "df_c.columns #hint: columns names shall has indec ord_"
   ]
  },
  {
   "cell_type": "code",
   "execution_count": null,
   "metadata": {
    "id": "mHDdqIRypXox"
   },
   "outputs": [],
   "source": [
    "#orders_c.columns=['ord_id', 'ord_created_date', 'ord_total_paid', 'ord_state'] \n",
    "## take care, renaming the columns like that will convert the NAN to some value!!\n"
   ]
  },
  {
   "cell_type": "code",
   "execution_count": null,
   "metadata": {
    "id": "72ZZgSWZqtpo"
   },
   "outputs": [],
   "source": [
    "df_c=(\n",
    "    df_c\n",
    "    .rename(\n",
    "        columns={\"order_id\": \"ord_ID\"\n",
    "                , \"created_date\": \"ord_CreatDate\"\n",
    "                , \"total_paid\": \"ord_TotalPaid\"\n",
    "                , \"state\": \"ord_State\"})\n",
    ")"
   ]
  },
  {
   "cell_type": "code",
   "execution_count": null,
   "metadata": {
    "colab": {
     "base_uri": "https://localhost:8080/"
    },
    "id": "qD7W0_cBSReE",
    "outputId": "dfc0f8e4-6c19-425f-ef63-d6c3c6e7c759"
   },
   "outputs": [],
   "source": [
    "df_c.index #hint: no need to change index"
   ]
  },
  {
   "cell_type": "markdown",
   "metadata": {
    "id": "fgvb_kkVIfSf"
   },
   "source": [
    "### Remove Duplicates Rows\n",
    "- ``` df.duplicated().sum()``` \n",
    "- ``` df.loc[df.duplicated()==True]``` \n",
    "- ``` df=df.drop:duplicates() ``` \n",
    "- ``` df=df.drop:duplicates(subset=[\"col\"])```  --> remove rows based on duplicated in specific column"
   ]
  },
  {
   "cell_type": "code",
   "execution_count": null,
   "metadata": {
    "colab": {
     "base_uri": "https://localhost:8080/"
    },
    "id": "KmIlg8smTjcd",
    "outputId": "2995d0ec-fb92-4f2f-d551-dee0bcd331ee"
   },
   "outputs": [],
   "source": [
    "df_c.duplicated().sum() #hint : No duplicates"
   ]
  },
  {
   "cell_type": "code",
   "execution_count": null,
   "metadata": {
    "colab": {
     "base_uri": "https://localhost:8080/",
     "height": 49
    },
    "id": "IDHRyORYUdkB",
    "outputId": "467d14fd-f026-44ff-e187-c848de963ddd"
   },
   "outputs": [],
   "source": [
    "df_c.loc[df_c.duplicated()==True]"
   ]
  },
  {
   "cell_type": "markdown",
   "metadata": {
    "id": "B7UNm64jIq0J"
   },
   "source": [
    "### Clean NAN and empty cells\n",
    "- ``` df.isna().sum()``` \n",
    "- ``` df = df.replace('^\\s*$', np.nan)```  -->replace empty cells and cells with only whitspace with NAN\n",
    "- ``` df=df.col.fillna(value,method=\"bfill\"or\"ffill\",limit=value)``` \n",
    "\n",
    "- Extra: \n",
    "  - ``` (df.values == '').sum()```  --> check if any cell is empty\n",
    "  - ``` df.col.str.isspace().sum()```  --> check if all cell is filled with whitespaces"
   ]
  },
  {
   "cell_type": "code",
   "execution_count": null,
   "metadata": {
    "colab": {
     "base_uri": "https://localhost:8080/",
     "height": 206
    },
    "id": "bGvRgxz3p_TV",
    "outputId": "19b935cc-c20d-4bd2-fd3f-97ded2cc6988"
   },
   "outputs": [],
   "source": [
    "df_c.sample(5)"
   ]
  },
  {
   "cell_type": "code",
   "execution_count": null,
   "metadata": {
    "colab": {
     "base_uri": "https://localhost:8080/"
    },
    "id": "8cQXrWrmU_lv",
    "outputId": "13ec0a12-f2e5-43b9-bcc3-7b51b2466408"
   },
   "outputs": [],
   "source": [
    "df_c.isna().sum()"
   ]
  },
  {
   "cell_type": "code",
   "execution_count": null,
   "metadata": {
    "colab": {
     "base_uri": "https://localhost:8080/"
    },
    "id": "Z6zNoY-vVx8N",
    "outputId": "c3fc8943-2692-4d8b-f8c8-b5eeeebb0db3"
   },
   "outputs": [],
   "source": [
    "df_c.info()"
   ]
  },
  {
   "cell_type": "code",
   "execution_count": null,
   "metadata": {
    "id": "y_O3cG6YYOtI"
   },
   "outputs": [],
   "source": [
    "import numpy as np\n",
    "df_c = df_c.replace('^\\s*$', np.nan) #Question is it safe to do that?\n"
   ]
  },
  {
   "cell_type": "code",
   "execution_count": null,
   "metadata": {
    "colab": {
     "base_uri": "https://localhost:8080/"
    },
    "id": "lXZRPynxaN49",
    "outputId": "72c0afea-08a3-4c21-ec91-adb2314d48cf"
   },
   "outputs": [],
   "source": [
    "df_c.isna().sum()"
   ]
  },
  {
   "cell_type": "code",
   "execution_count": null,
   "metadata": {
    "colab": {
     "base_uri": "https://localhost:8080/"
    },
    "id": "PItz3zJjbXn7",
    "outputId": "2a27c57f-d0a8-4a4e-fb70-f09a242b82b0"
   },
   "outputs": [],
   "source": [
    "df_c.ord_TotalPaid.dtype"
   ]
  },
  {
   "cell_type": "code",
   "execution_count": null,
   "metadata": {
    "id": "8wLfrPM3bg4A"
   },
   "outputs": [],
   "source": [
    "df_c.ord_TotalPaid=df_c.ord_TotalPaid.fillna(0.0)"
   ]
  },
  {
   "cell_type": "code",
   "execution_count": null,
   "metadata": {
    "colab": {
     "base_uri": "https://localhost:8080/"
    },
    "id": "k-NpApZjbuSQ",
    "outputId": "2884b2ac-bb84-4c61-b68e-fc61a34973ad"
   },
   "outputs": [],
   "source": [
    "df_c.ord_TotalPaid.dtype"
   ]
  },
  {
   "cell_type": "code",
   "execution_count": null,
   "metadata": {
    "colab": {
     "base_uri": "https://localhost:8080/"
    },
    "id": "FzfCtPiubqm1",
    "outputId": "11db28bc-9139-4924-88de-255c1452418e"
   },
   "outputs": [],
   "source": [
    "df_c.isna().sum()"
   ]
  },
  {
   "cell_type": "markdown",
   "metadata": {
    "id": "-EJsq-6qIvA_"
   },
   "source": [
    "### Fix DataTypes\n",
    "TODO: update to use assign\n",
    "- ``` df.col.astype(type,errors=\"raise\")``` \n",
    "  - type = \"int\",\"float\",\"bool\",\"category\",\"object\",\"datetime\",\"timedelta\"\n",
    "- for mixed data\n",
    "  - ``` pd.to_numeric(df.col, downcast=x,errors=\"raise\") ``` \n",
    "  x = \"integer\" or \"float\"\n",
    "  - ``` pd.to_datetime(df.col, downcast=None,errors=\"raise\") ``` \n",
    "  - ``` pd.to_timedelta(df.col, downcast=None,errors=\"raise\") ``` "
   ]
  },
  {
   "cell_type": "code",
   "execution_count": null,
   "metadata": {
    "colab": {
     "base_uri": "https://localhost:8080/"
    },
    "id": "4HelvLkBfjrm",
    "outputId": "0363fda5-9cfa-4d08-bb55-4ef4cb2d1bf3"
   },
   "outputs": [],
   "source": [
    "df_c.info()"
   ]
  },
  {
   "cell_type": "code",
   "execution_count": null,
   "metadata": {
    "id": "qIRWcTgkfFmy"
   },
   "outputs": [],
   "source": [
    "df_c.ord_CreatDate=pd.to_datetime(df_c.ord_CreatDate,errors=\"raise\")"
   ]
  },
  {
   "cell_type": "code",
   "execution_count": null,
   "metadata": {
    "colab": {
     "base_uri": "https://localhost:8080/"
    },
    "id": "05zcp9HQgJX5",
    "outputId": "aa0c84f9-fc4b-492e-c69b-a7c83c3384fd"
   },
   "outputs": [],
   "source": [
    "df_c.info()"
   ]
  },
  {
   "cell_type": "code",
   "execution_count": null,
   "metadata": {
    "id": "Hd9EZvnngWeI"
   },
   "outputs": [],
   "source": [
    "df_c.ord_State = df_c.ord_State.astype(\"category\",errors=\"raise\")"
   ]
  },
  {
   "cell_type": "code",
   "execution_count": null,
   "metadata": {
    "colab": {
     "base_uri": "https://localhost:8080/"
    },
    "id": "sRWFgZP2gqMf",
    "outputId": "e8855bf2-1ba4-438e-d087-7bc04bda3b04"
   },
   "outputs": [],
   "source": [
    "df_c.info()"
   ]
  },
  {
   "cell_type": "markdown",
   "metadata": {},
   "source": [
    "### Analyze Outliers\n",
    "\n",
    "remove un-necessary values(respectively related rows) of specific columns\n",
    "- ``` Q1   = df.col.quantile(0.25) ``` \n",
    "- ``` Q3   = df.col.quantile(0.75) ``` \n",
    "- ``` IQR = Q3 - Q1 ``` \n",
    "- ``` df   = df.loc[(df.col >= (Q1 - 1.5*IQR)) & (df.col <= (Q3 + 1.5*IQR))] ``` "
   ]
  },
  {
   "cell_type": "code",
   "execution_count": null,
   "metadata": {},
   "outputs": [],
   "source": [
    "df_c.describe()"
   ]
  },
  {
   "cell_type": "markdown",
   "metadata": {
    "id": "txLIlKN0Jds0"
   },
   "source": [
    "### Drop duplicate/un-necessary Columns\n",
    "- ``` df=df.drop(columns=[\"col1\",\"col2\"])``` "
   ]
  },
  {
   "cell_type": "code",
   "execution_count": null,
   "metadata": {
    "colab": {
     "base_uri": "https://localhost:8080/",
     "height": 300
    },
    "id": "zlSSs4wChCgj",
    "outputId": "b75b0cb0-ce4b-46a9-bb85-7c7d4034bc11"
   },
   "outputs": [],
   "source": [
    "df_c.describe() ## hint: all columns contain needed data. nothing to drop"
   ]
  },
  {
   "cell_type": "markdown",
   "metadata": {
    "id": "KW-1Z3wsJs7P"
   },
   "source": [
    "    ==============================================================================================\n",
    "    \n",
    "## Re-Explore the data\n",
    "draw some ``` df.col.hist()```  , ``` df.ser.boxplot()```  per column\n",
    "take notes"
   ]
  },
  {
   "cell_type": "code",
   "execution_count": null,
   "metadata": {
    "colab": {
     "base_uri": "https://localhost:8080/",
     "height": 363
    },
    "id": "-X8xGWkoiIhW",
    "outputId": "798403c0-fe63-4e3f-e082-ba37e406ab72"
   },
   "outputs": [],
   "source": [
    "df_c.sample(10)  # Question: how state=\"Shopping Basket\" while \"Total_paid\" has a value!! "
   ]
  },
  {
   "cell_type": "code",
   "execution_count": null,
   "metadata": {
    "colab": {
     "base_uri": "https://localhost:8080/"
    },
    "id": "Z3g7JNrriewg",
    "outputId": "6cd1c3f1-885a-468f-a3b1-fc4b70a6a852"
   },
   "outputs": [],
   "source": [
    "df_c.loc[df_c.ord_TotalPaid == 0.0].ord_State.unique()"
   ]
  }
 ],
 "metadata": {
  "colab": {
   "provenance": [],
   "toc_visible": true
  },
  "kernelspec": {
   "display_name": "Python 3.9.1 64-bit",
   "language": "python",
   "name": "python3"
  },
  "language_info": {
   "codemirror_mode": {
    "name": "ipython",
    "version": 3
   },
   "file_extension": ".py",
   "mimetype": "text/x-python",
   "name": "python",
   "nbconvert_exporter": "python",
   "pygments_lexer": "ipython3",
   "version": "3.9.1"
  },
  "vscode": {
   "interpreter": {
    "hash": "81794d4967e6c3204c66dcd87b604927b115b27c00565d3d43f05ba2f3a2cb0d"
   }
  }
 },
 "nbformat": 4,
 "nbformat_minor": 4
}
