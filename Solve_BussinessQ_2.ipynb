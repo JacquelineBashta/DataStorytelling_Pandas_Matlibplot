{
 "cells": [
  {
   "cell_type": "markdown",
   "metadata": {
    "id": "mo3w8u4OnEFD"
   },
   "source": [
    "    ==============================================================================================\n",
    "\n",
    "## Importing the DataFrames\n",
    "- ``` df = pd.read_pickle(\"file_name.pkl\")```  --> create 1 df from a pkl file"
   ]
  },
  {
   "cell_type": "code",
   "execution_count": 126,
   "metadata": {
    "id": "cI0W2L18nEFD",
    "tags": []
   },
   "outputs": [
    {
     "data": {
      "text/plain": [
       "'1.4.4'"
      ]
     },
     "execution_count": 126,
     "metadata": {},
     "output_type": "execute_result"
    }
   ],
   "source": [
    "import pandas as pd\n",
    "import numpy as np\n",
    "import seaborn as sns\n",
    "import matplotlib.pyplot as plt\n",
    "pd.set_option(\"display.min_rows\", 0) \n",
    "pd.set_option(\"display.max_rows\", 30) \n",
    "pd.__version__"
   ]
  },
  {
   "cell_type": "code",
   "execution_count": 127,
   "metadata": {
    "colab": {
     "base_uri": "https://localhost:8080/"
    },
    "id": "OH3Hy6AMnEFD",
    "outputId": "3002ac6e-013c-4334-db4c-382c2584f60e",
    "tags": []
   },
   "outputs": [],
   "source": [
    "db_qu = pd.read_pickle(\"clean_Tables\\Merged_c.pkl\")"
   ]
  },
  {
   "cell_type": "code",
   "execution_count": 128,
   "metadata": {},
   "outputs": [
    {
     "data": {
      "text/plain": [
       "Index(['ORD_ID', 'ord_CreatDate', 'ord_TotlPaid', 'OL_ID', 'ol_ProdQnty',\n",
       "       'ol_ProdUntPr', 'ol_ProcessDate', 'PRO_SKU', 'pro_Name', 'pro_Desc',\n",
       "       'pro_Pr', 'pro_InStock', 'pro_Type'],\n",
       "      dtype='object')"
      ]
     },
     "execution_count": 128,
     "metadata": {},
     "output_type": "execute_result"
    }
   ],
   "source": [
    "db_qu.columns"
   ]
  },
  {
   "cell_type": "markdown",
   "metadata": {},
   "source": [
    "    ==============================================================================================\n",
    "\n",
    "## Answer Bussines questions\n"
   ]
  },
  {
   "cell_type": "markdown",
   "metadata": {},
   "source": [
    "- Concerns\n",
    "    A. The main investors pointed out the company’s recent quarterly results showed\n",
    "        1.  increase in orders placed but a decrease in the total revenue. They prefer that the company positions itself in the quality segment, rather than competing to offer the lowest prices in the market.\n",
    "    B. Questions\n",
    "        1. How products should be classified into different categories to simplify reports and analysis.\n",
    "        2. What is the distribution of product prices across different categories.\n",
    "        3. How many products are being discounted.\n",
    "        4. How big are the offered discounts as a percentage of the product prices. --> tmp_dis_per"
   ]
  },
  {
   "cell_type": "markdown",
   "metadata": {},
   "source": [
    "### Discount Variation with Product Types\n"
   ]
  },
  {
   "cell_type": "markdown",
   "metadata": {},
   "source": [
    "#### 4. How big are the offered discounts as a percentage of the product prices."
   ]
  },
  {
   "cell_type": "code",
   "execution_count": 129,
   "metadata": {},
   "outputs": [],
   "source": [
    "db_proDis=(\n",
    "    db_qu\n",
    "    #.drop(columns=drop_lst_proDis)\n",
    "    #.reindex(columns=[\"PRO_SKU\",\"pro_Name\",\"pro_Type\",\"ol_ProdUntPr\",\"pro_Pr\"])\n",
    "    .assign(tmp_pro_dis = db_qu.pro_Pr - db_qu.ol_ProdUntPr)\n",
    ")"
   ]
  },
  {
   "cell_type": "code",
   "execution_count": 130,
   "metadata": {},
   "outputs": [],
   "source": [
    "db_proDis= (\n",
    "    db_proDis\n",
    "    .assign(tmp_dis_per = np.where((db_proDis.pro_Pr== 0.0)\n",
    "                                   ,100\n",
    "                                   ,round((db_proDis.tmp_pro_dis/db_proDis.pro_Pr)*100,2)\n",
    "                                   ))\n",
    "    )"
   ]
  },
  {
   "cell_type": "code",
   "execution_count": 131,
   "metadata": {},
   "outputs": [],
   "source": [
    "# db_proDis.tmp_dis_per.means=''' amount of discount per product, \n",
    "# -ve means item sold higher than original price\n",
    "# 0 means no discount\n",
    "# 100 means item was sold for free '''"
   ]
  },
  {
   "cell_type": "code",
   "execution_count": 132,
   "metadata": {},
   "outputs": [
    {
     "data": {
      "text/plain": [
       "count    60943.000000\n",
       "mean        21.267464\n",
       "std         18.752120\n",
       "min       -212.270000\n",
       "25%          8.330000\n",
       "50%         17.270000\n",
       "75%         28.290000\n",
       "max        100.000000\n",
       "Name: tmp_dis_per, dtype: float64"
      ]
     },
     "execution_count": 132,
     "metadata": {},
     "output_type": "execute_result"
    }
   ],
   "source": [
    "db_proDis.tmp_dis_per.describe()"
   ]
  },
  {
   "cell_type": "code",
   "execution_count": 133,
   "metadata": {},
   "outputs": [
    {
     "data": {
      "text/plain": [
       "<AxesSubplot:>"
      ]
     },
     "execution_count": 133,
     "metadata": {},
     "output_type": "execute_result"
    },
    {
     "data": {
      "image/png": "[encoded data removed]",
      "text/plain": [
       "<Figure size 640x480 with 1 Axes>"
      ]
     },
     "metadata": {},
     "output_type": "display_data"
    }
   ],
   "source": [
    "db_proDis.tmp_dis_per.hist(bins=30)"
   ]
  },
  {
   "cell_type": "markdown",
   "metadata": {},
   "source": [
    "- Remove Outliers"
   ]
  },
  {
   "cell_type": "code",
   "execution_count": 134,
   "metadata": {},
   "outputs": [
    {
     "name": "stdout",
     "output_type": "stream",
     "text": [
      "3857 out of 60943 are outliers from tmp_dis_per ,ie 6.33%\n"
     ]
    }
   ],
   "source": [
    "Q1 = db_proDis.tmp_dis_per.quantile(0.25)\n",
    "Q3 = db_proDis.tmp_dis_per.quantile(0.75)\n",
    "IQR=Q3-Q1\n",
    "inliers = (db_proDis.tmp_dis_per >= (Q1 - 1.5*IQR)) & (db_proDis.tmp_dis_per <= (Q3 + 1.5*IQR))\n",
    "num_inliers = inliers.sum()\n",
    "num_outliers = db_proDis.shape[0]-num_inliers \n",
    "per_outliers = round((num_outliers/db_proDis.shape[0])*100,2)\n",
    "print(f'''{num_outliers} out of {db_proDis.shape[0]} are outliers from tmp_dis_per ,ie {per_outliers}%''') "
   ]
  },
  {
   "cell_type": "code",
   "execution_count": 135,
   "metadata": {},
   "outputs": [],
   "source": [
    "db_proDis = db_proDis.loc[inliers]"
   ]
  },
  {
   "cell_type": "code",
   "execution_count": 136,
   "metadata": {},
   "outputs": [
    {
     "data": {
      "image/png": "[encoded data removed]",
      "text/plain": [
       "<Figure size 640x480 with 1 Axes>"
      ]
     },
     "metadata": {},
     "output_type": "display_data"
    }
   ],
   "source": [
    "db_proDis.tmp_dis_per.hist(bins=30);"
   ]
  },
  {
   "cell_type": "code",
   "execution_count": 137,
   "metadata": {},
   "outputs": [
    {
     "data": {
      "text/plain": [
       "count    57086.000000\n",
       "mean        18.101614\n",
       "std         13.647078\n",
       "min        -21.410000\n",
       "25%          7.720000\n",
       "50%         16.420000\n",
       "75%         25.590000\n",
       "max         58.210000\n",
       "Name: tmp_dis_per, dtype: float64"
      ]
     },
     "execution_count": 137,
     "metadata": {},
     "output_type": "execute_result"
    }
   ],
   "source": [
    "db_proDis.tmp_dis_per.describe()"
   ]
  },
  {
   "cell_type": "markdown",
   "metadata": {},
   "source": [
    "- Conclusion"
   ]
  },
  {
   "cell_type": "code",
   "execution_count": 138,
   "metadata": {},
   "outputs": [
    {
     "name": "stdout",
     "output_type": "stream",
     "text": [
      "The discounts grows up to 58.21% of the product original price\n"
     ]
    }
   ],
   "source": [
    "print(f\"The discounts grows up to {db_proDis.tmp_dis_per.max()}% of the product original price\")"
   ]
  },
  {
   "cell_type": "markdown",
   "metadata": {},
   "source": [
    "Discounts over time"
   ]
  },
  {
   "cell_type": "code",
   "execution_count": 139,
   "metadata": {},
   "outputs": [
    {
     "data": {
      "text/plain": [
       "<AxesSubplot:xlabel='ord_CreatDate,ord_CreatDate'>"
      ]
     },
     "execution_count": 139,
     "metadata": {},
     "output_type": "execute_result"
    },
    {
     "data": {
      "image/png": "[encoded data removed]",
      "text/plain": [
       "<Figure size 640x480 with 1 Axes>"
      ]
     },
     "metadata": {},
     "output_type": "display_data"
    }
   ],
   "source": [
    "(\n",
    "    db_proDis\n",
    "    .groupby([db_proDis.ord_CreatDate.dt.year,db_proDis.ord_CreatDate.dt.month])\n",
    "    .agg(mean_dis =(\"tmp_pro_dis\",\"mean\"))\n",
    "    .plot(kind=\"bar\")\n",
    "    #.sort_values(by=\"mean_dis\"\n",
    "                 #,ascending=False\n",
    "                # )\n",
    ")"
   ]
  },
  {
   "cell_type": "markdown",
   "metadata": {},
   "source": [
    "### B.1/2 product Categorization (db_proDis)\n",
    "- Recap:\n",
    "    - ol_ProdUntPr : the unitary price (euros) of each product at the moment of placing that order\n",
    "    - pro_Pr       : product price without discounts\n",
    "- check if rows are unique for sku\n",
    "- discounts per product --> pro_Pr - ol_ProdUntPr"
   ]
  },
  {
   "cell_type": "code",
   "execution_count": 140,
   "metadata": {},
   "outputs": [],
   "source": [
    "drop_list=[\"ORD_ID\",\"ord_TotlPaid\",\"ol_ProdQnty\",\"ord_CreatDate\",\"OL_ID\",\"ol_ProcessDate\",\"pro_InStock\"]"
   ]
  },
  {
   "cell_type": "code",
   "execution_count": 141,
   "metadata": {},
   "outputs": [],
   "source": [
    "#db_proCat = db_qu.drop(columns=drop_list)"
   ]
  },
  {
   "cell_type": "markdown",
   "metadata": {},
   "source": [
    "##### Category via pro_Type"
   ]
  },
  {
   "cell_type": "code",
   "execution_count": 142,
   "metadata": {},
   "outputs": [
    {
     "data": {
      "text/plain": [
       "123"
      ]
     },
     "execution_count": 142,
     "metadata": {},
     "output_type": "execute_result"
    }
   ],
   "source": [
    "db_qu.pro_Type.nunique()"
   ]
  },
  {
   "cell_type": "code",
   "execution_count": 143,
   "metadata": {},
   "outputs": [
    {
     "data": {
      "text/plain": [
       "(60943, 13)"
      ]
     },
     "execution_count": 143,
     "metadata": {},
     "output_type": "execute_result"
    }
   ],
   "source": [
    "db_qu.shape"
   ]
  },
  {
   "cell_type": "code",
   "execution_count": 144,
   "metadata": {},
   "outputs": [],
   "source": [
    "import re\n",
    "def fix_type(row):\n",
    "    val= row.pro_Type\n",
    "    if \"E\" not in val:\n",
    "        num_len= len(val)\n",
    "        if num_len < 6:\n",
    "            return [val,0]\n",
    "        elif num_len == 8:\n",
    "            return[val[4:8],val[0:4]]\n",
    "        elif num_len == 9:\n",
    "            return[val[5:9],val[0:5]]\n",
    "    else:\n",
    "        m = re.search('^(\\d+),(\\d+)E\\+(\\d{2})$', val)\n",
    "        if m:\n",
    "            return[m.group(1)+m.group(2),0]\n",
    "        else:\n",
    "            return[0,0]"
   ]
  },
  {
   "cell_type": "code",
   "execution_count": 145,
   "metadata": {},
   "outputs": [],
   "source": [
    "db_qu[[\"tmp_type_1\",\"tmp_type_2\"]] = db_qu.apply(fix_type,axis=1,result_type=\"expand\")"
   ]
  },
  {
   "cell_type": "code",
   "execution_count": 146,
   "metadata": {},
   "outputs": [
    {
     "data": {
      "text/html": [
       "<div>\n",
       "<style scoped>\n",
       "    .dataframe tbody tr th:only-of-type {\n",
       "        vertical-align: middle;\n",
       "    }\n",
       "\n",
       "    .dataframe tbody tr th {\n",
       "        vertical-align: top;\n",
       "    }\n",
       "\n",
       "    .dataframe thead th {\n",
       "        text-align: right;\n",
       "    }\n",
       "</style>\n",
       "<table border=\"1\" class=\"dataframe\">\n",
       "  <thead>\n",
       "    <tr style=\"text-align: right;\">\n",
       "      <th></th>\n",
       "      <th>ORD_ID</th>\n",
       "      <th>ord_CreatDate</th>\n",
       "      <th>ord_TotlPaid</th>\n",
       "      <th>OL_ID</th>\n",
       "      <th>ol_ProdQnty</th>\n",
       "      <th>ol_ProdUntPr</th>\n",
       "      <th>ol_ProcessDate</th>\n",
       "      <th>PRO_SKU</th>\n",
       "      <th>pro_Name</th>\n",
       "      <th>pro_Desc</th>\n",
       "      <th>pro_Pr</th>\n",
       "      <th>pro_InStock</th>\n",
       "      <th>pro_Type</th>\n",
       "      <th>tmp_type_1</th>\n",
       "      <th>tmp_type_2</th>\n",
       "    </tr>\n",
       "  </thead>\n",
       "  <tbody>\n",
       "    <tr>\n",
       "      <th>3481</th>\n",
       "      <td>399217</td>\n",
       "      <td>2017-09-12 15:57:20</td>\n",
       "      <td>35.97</td>\n",
       "      <td>1350794</td>\n",
       "      <td>2</td>\n",
       "      <td>15.99</td>\n",
       "      <td>2017-09-12 15:10:41</td>\n",
       "      <td>ALL0010</td>\n",
       "      <td>PowerCube Original USB Regleta Allocacoc wall White / Blue</td>\n",
       "      <td>Wall socket cube-shaped with 4 to 250V electrical outlets and 2 USB ports</td>\n",
       "      <td>18.95</td>\n",
       "      <td>True</td>\n",
       "      <td>5395</td>\n",
       "      <td>5395</td>\n",
       "      <td>0</td>\n",
       "    </tr>\n",
       "    <tr>\n",
       "      <th>36837</th>\n",
       "      <td>433546</td>\n",
       "      <td>2017-11-23 08:39:08</td>\n",
       "      <td>44.78</td>\n",
       "      <td>1425412</td>\n",
       "      <td>1</td>\n",
       "      <td>37.79</td>\n",
       "      <td>2017-11-23 08:29:34</td>\n",
       "      <td>APP1570</td>\n",
       "      <td>Apple Lightning to USB 3.0 Adapter</td>\n",
       "      <td>Lightning connector adapter to USB camera</td>\n",
       "      <td>45.00</td>\n",
       "      <td>True</td>\n",
       "      <td>5395</td>\n",
       "      <td>5395</td>\n",
       "      <td>0</td>\n",
       "    </tr>\n",
       "    <tr>\n",
       "      <th>49550</th>\n",
       "      <td>374082</td>\n",
       "      <td>2017-07-07 11:29:26</td>\n",
       "      <td>120.97</td>\n",
       "      <td>1285518</td>\n",
       "      <td>1</td>\n",
       "      <td>35.99</td>\n",
       "      <td>2017-07-07 10:40:10</td>\n",
       "      <td>PLA0014</td>\n",
       "      <td>Plantronics BackBeat GO 2 Bluetooth Headset Black</td>\n",
       "      <td>Wireless headphones with lightweight design Bluetooth connection and multifunction control for iPhone iPad and iPod</td>\n",
       "      <td>89.99</td>\n",
       "      <td>False</td>\n",
       "      <td>5384</td>\n",
       "      <td>5384</td>\n",
       "      <td>0</td>\n",
       "    </tr>\n",
       "  </tbody>\n",
       "</table>\n",
       "</div>"
      ],
      "text/plain": [
       "       ORD_ID       ord_CreatDate  ord_TotlPaid    OL_ID  ol_ProdQnty  \\\n",
       "3481   399217 2017-09-12 15:57:20         35.97  1350794            2   \n",
       "36837  433546 2017-11-23 08:39:08         44.78  1425412            1   \n",
       "49550  374082 2017-07-07 11:29:26        120.97  1285518            1   \n",
       "\n",
       "       ol_ProdUntPr      ol_ProcessDate  PRO_SKU  \\\n",
       "3481          15.99 2017-09-12 15:10:41  ALL0010   \n",
       "36837         37.79 2017-11-23 08:29:34  APP1570   \n",
       "49550         35.99 2017-07-07 10:40:10  PLA0014   \n",
       "\n",
       "                                                         pro_Name  \\\n",
       "3481   PowerCube Original USB Regleta Allocacoc wall White / Blue   \n",
       "36837                          Apple Lightning to USB 3.0 Adapter   \n",
       "49550           Plantronics BackBeat GO 2 Bluetooth Headset Black   \n",
       "\n",
       "                                                                                                                  pro_Desc  \\\n",
       "3481                                             Wall socket cube-shaped with 4 to 250V electrical outlets and 2 USB ports   \n",
       "36837                                                                            Lightning connector adapter to USB camera   \n",
       "49550  Wireless headphones with lightweight design Bluetooth connection and multifunction control for iPhone iPad and iPod   \n",
       "\n",
       "       pro_Pr  pro_InStock pro_Type tmp_type_1 tmp_type_2  \n",
       "3481    18.95         True     5395       5395          0  \n",
       "36837   45.00         True     5395       5395          0  \n",
       "49550   89.99        False     5384       5384          0  "
      ]
     },
     "execution_count": 146,
     "metadata": {},
     "output_type": "execute_result"
    }
   ],
   "source": [
    "db_qu.sample(3)"
   ]
  },
  {
   "cell_type": "code",
   "execution_count": 161,
   "metadata": {},
   "outputs": [],
   "source": [
    "\n",
    "db_types=round(\n",
    "    db_qu\n",
    "    .groupby(db_qu.pro_Type)\n",
    "    .agg( AvgUnitPrice      =(\"pro_Pr\",\"mean\")\n",
    "         ,AvgDisUnitPrice   =(\"ol_ProdUntPr\",\"mean\")\n",
    "         ,NumUniqProducts   =(\"PRO_SKU\",pd.Series.nunique)\n",
    "         ,NumUniqOrders     =(\"ORD_ID\",pd.Series.nunique)\n",
    "         ,TotalRevenue      =(\"ord_TotlPaid\",\"sum\")\n",
    "         ,TotalSoldProdQnty =(\"ol_ProdQnty\",\"sum\")\n",
    "         ,ProNameSample     =(\"pro_Name\",\"max\")\n",
    "         ,ProDescSample     =(\"pro_Desc\",\"max\")\n",
    "         )\n",
    "    #.nlargest(10,\"ol_ProdQnty\")\n",
    "    .reset_index()\n",
    ")\n",
    "db_types= (\n",
    "    db_types\n",
    "    .assign(AvgDiscoutPercent = np.where((db_types.AvgUnitPrice== 0.0)\n",
    "                                   ,100\n",
    "                                   ,round(((db_types.AvgUnitPrice-db_types.AvgDisUnitPrice)/db_types.AvgUnitPrice)*100,2)\n",
    "                                   ))\n",
    "    )\n"
   ]
  },
  {
   "cell_type": "code",
   "execution_count": 162,
   "metadata": {},
   "outputs": [
    {
     "data": {
      "text/html": [
       "<div>\n",
       "<style scoped>\n",
       "    .dataframe tbody tr th:only-of-type {\n",
       "        vertical-align: middle;\n",
       "    }\n",
       "\n",
       "    .dataframe tbody tr th {\n",
       "        vertical-align: top;\n",
       "    }\n",
       "\n",
       "    .dataframe thead th {\n",
       "        text-align: right;\n",
       "    }\n",
       "</style>\n",
       "<table border=\"1\" class=\"dataframe\">\n",
       "  <thead>\n",
       "    <tr style=\"text-align: right;\">\n",
       "      <th></th>\n",
       "      <th>pro_Type</th>\n",
       "      <th>AvgUnitPrice</th>\n",
       "      <th>AvgDisUnitPrice</th>\n",
       "      <th>NumUniqProducts</th>\n",
       "      <th>NumUniqOrders</th>\n",
       "      <th>TotalRevenue</th>\n",
       "      <th>TotalSoldProdQnty</th>\n",
       "      <th>ProNameSample</th>\n",
       "      <th>ProDescSample</th>\n",
       "      <th>AvgDiscoutPercent</th>\n",
       "    </tr>\n",
       "  </thead>\n",
       "  <tbody>\n",
       "    <tr>\n",
       "      <th>2</th>\n",
       "      <td>1,44E+11</td>\n",
       "      <td>111.0</td>\n",
       "      <td>79.0</td>\n",
       "      <td>27</td>\n",
       "      <td>101</td>\n",
       "      <td>11019.0</td>\n",
       "      <td>109</td>\n",
       "      <td>iPhone 5s battery repair</td>\n",
       "      <td>Repair service including parts and labor for iPhone 7 Plus</td>\n",
       "      <td>28.83</td>\n",
       "    </tr>\n",
       "    <tr>\n",
       "      <th>62</th>\n",
       "      <td>14305406</td>\n",
       "      <td>22.0</td>\n",
       "      <td>18.0</td>\n",
       "      <td>37</td>\n",
       "      <td>719</td>\n",
       "      <td>95964.0</td>\n",
       "      <td>832</td>\n",
       "      <td>iFixit rubber Kit for MacBook and MacBook Pro Unibody</td>\n",
       "      <td>small and thin spatula 15 for Mac mini and iPod Classic</td>\n",
       "      <td>18.18</td>\n",
       "    </tr>\n",
       "    <tr>\n",
       "      <th>106</th>\n",
       "      <td>5399</td>\n",
       "      <td>63.0</td>\n",
       "      <td>59.0</td>\n",
       "      <td>12</td>\n",
       "      <td>237</td>\n",
       "      <td>57558.0</td>\n",
       "      <td>269</td>\n",
       "      <td>iOttie One Touch Easy Qi Wireless Charger iPhone Support X / 8 Plus / 8</td>\n",
       "      <td>Wireless charging base Ryval magnetic and Qi technology ideal for iPhone X / 8Plus / 8 at home and in the office</td>\n",
       "      <td>6.35</td>\n",
       "    </tr>\n",
       "  </tbody>\n",
       "</table>\n",
       "</div>"
      ],
      "text/plain": [
       "     pro_Type  AvgUnitPrice  AvgDisUnitPrice  NumUniqProducts  NumUniqOrders  \\\n",
       "2    1,44E+11         111.0             79.0               27            101   \n",
       "62   14305406          22.0             18.0               37            719   \n",
       "106      5399          63.0             59.0               12            237   \n",
       "\n",
       "     TotalRevenue  TotalSoldProdQnty  \\\n",
       "2         11019.0                109   \n",
       "62        95964.0                832   \n",
       "106       57558.0                269   \n",
       "\n",
       "                                                               ProNameSample  \\\n",
       "2                                                   iPhone 5s battery repair   \n",
       "62                     iFixit rubber Kit for MacBook and MacBook Pro Unibody   \n",
       "106  iOttie One Touch Easy Qi Wireless Charger iPhone Support X / 8 Plus / 8   \n",
       "\n",
       "                                                                                                        ProDescSample  \\\n",
       "2                                                          Repair service including parts and labor for iPhone 7 Plus   \n",
       "62                                                            small and thin spatula 15 for Mac mini and iPod Classic   \n",
       "106  Wireless charging base Ryval magnetic and Qi technology ideal for iPhone X / 8Plus / 8 at home and in the office   \n",
       "\n",
       "     AvgDiscoutPercent  \n",
       "2                28.83  \n",
       "62               18.18  \n",
       "106               6.35  "
      ]
     },
     "execution_count": 162,
     "metadata": {},
     "output_type": "execute_result"
    }
   ],
   "source": [
    "db_types.sample(3)"
   ]
  },
  {
   "cell_type": "code",
   "execution_count": null,
   "metadata": {},
   "outputs": [],
   "source": [
    "#db_types.to_csv(\"test.csv\")"
   ]
  },
  {
   "cell_type": "code",
   "execution_count": 148,
   "metadata": {},
   "outputs": [
    {
     "data": {
      "text/html": [
       "<div>\n",
       "<style scoped>\n",
       "    .dataframe tbody tr th:only-of-type {\n",
       "        vertical-align: middle;\n",
       "    }\n",
       "\n",
       "    .dataframe tbody tr th {\n",
       "        vertical-align: top;\n",
       "    }\n",
       "\n",
       "    .dataframe thead th {\n",
       "        text-align: right;\n",
       "    }\n",
       "</style>\n",
       "<table border=\"1\" class=\"dataframe\">\n",
       "  <thead>\n",
       "    <tr style=\"text-align: right;\">\n",
       "      <th></th>\n",
       "      <th>AvgUnitPrice</th>\n",
       "      <th>AvgDisUnitPrice</th>\n",
       "      <th>NumUniqProducts</th>\n",
       "      <th>NumUniqOrders</th>\n",
       "      <th>TotalRevenue</th>\n",
       "      <th>TotalSoldProdQnty</th>\n",
       "      <th>AvgDiscoutPercent</th>\n",
       "    </tr>\n",
       "  </thead>\n",
       "  <tbody>\n",
       "    <tr>\n",
       "      <th>count</th>\n",
       "      <td>123.0</td>\n",
       "      <td>123.0</td>\n",
       "      <td>123.0</td>\n",
       "      <td>123.0</td>\n",
       "      <td>123.0</td>\n",
       "      <td>123.0</td>\n",
       "      <td>123.0</td>\n",
       "    </tr>\n",
       "    <tr>\n",
       "      <th>mean</th>\n",
       "      <td>494.0</td>\n",
       "      <td>413.0</td>\n",
       "      <td>48.0</td>\n",
       "      <td>469.0</td>\n",
       "      <td>198368.0</td>\n",
       "      <td>556.0</td>\n",
       "      <td>22.0</td>\n",
       "    </tr>\n",
       "    <tr>\n",
       "      <th>std</th>\n",
       "      <td>852.0</td>\n",
       "      <td>769.0</td>\n",
       "      <td>91.0</td>\n",
       "      <td>745.0</td>\n",
       "      <td>343346.0</td>\n",
       "      <td>923.0</td>\n",
       "      <td>17.0</td>\n",
       "    </tr>\n",
       "    <tr>\n",
       "      <th>min</th>\n",
       "      <td>6.0</td>\n",
       "      <td>5.0</td>\n",
       "      <td>1.0</td>\n",
       "      <td>1.0</td>\n",
       "      <td>97.0</td>\n",
       "      <td>1.0</td>\n",
       "      <td>-4.0</td>\n",
       "    </tr>\n",
       "    <tr>\n",
       "      <th>25%</th>\n",
       "      <td>59.0</td>\n",
       "      <td>41.0</td>\n",
       "      <td>5.0</td>\n",
       "      <td>32.0</td>\n",
       "      <td>9466.0</td>\n",
       "      <td>36.0</td>\n",
       "      <td>10.0</td>\n",
       "    </tr>\n",
       "    <tr>\n",
       "      <th>50%</th>\n",
       "      <td>151.0</td>\n",
       "      <td>112.0</td>\n",
       "      <td>20.0</td>\n",
       "      <td>169.0</td>\n",
       "      <td>47478.0</td>\n",
       "      <td>171.0</td>\n",
       "      <td>19.0</td>\n",
       "    </tr>\n",
       "    <tr>\n",
       "      <th>75%</th>\n",
       "      <td>542.0</td>\n",
       "      <td>444.0</td>\n",
       "      <td>42.0</td>\n",
       "      <td>657.0</td>\n",
       "      <td>225197.0</td>\n",
       "      <td>706.0</td>\n",
       "      <td>28.0</td>\n",
       "    </tr>\n",
       "    <tr>\n",
       "      <th>max</th>\n",
       "      <td>5554.0</td>\n",
       "      <td>5221.0</td>\n",
       "      <td>714.0</td>\n",
       "      <td>4092.0</td>\n",
       "      <td>2050209.0</td>\n",
       "      <td>4848.0</td>\n",
       "      <td>90.0</td>\n",
       "    </tr>\n",
       "  </tbody>\n",
       "</table>\n",
       "</div>"
      ],
      "text/plain": [
       "       AvgUnitPrice  AvgDisUnitPrice  NumUniqProducts  NumUniqOrders  \\\n",
       "count         123.0            123.0            123.0          123.0   \n",
       "mean          494.0            413.0             48.0          469.0   \n",
       "std           852.0            769.0             91.0          745.0   \n",
       "min             6.0              5.0              1.0            1.0   \n",
       "25%            59.0             41.0              5.0           32.0   \n",
       "50%           151.0            112.0             20.0          169.0   \n",
       "75%           542.0            444.0             42.0          657.0   \n",
       "max          5554.0           5221.0            714.0         4092.0   \n",
       "\n",
       "       TotalRevenue  TotalSoldProdQnty  AvgDiscoutPercent  \n",
       "count         123.0              123.0              123.0  \n",
       "mean       198368.0              556.0               22.0  \n",
       "std        343346.0              923.0               17.0  \n",
       "min            97.0                1.0               -4.0  \n",
       "25%          9466.0               36.0               10.0  \n",
       "50%         47478.0              171.0               19.0  \n",
       "75%        225197.0              706.0               28.0  \n",
       "max       2050209.0             4848.0               90.0  "
      ]
     },
     "execution_count": 148,
     "metadata": {},
     "output_type": "execute_result"
    }
   ],
   "source": [
    "round(db_types.describe())"
   ]
  },
  {
   "cell_type": "code",
   "execution_count": 149,
   "metadata": {},
   "outputs": [
    {
     "data": {
      "image/png": "[encoded data removed]",
      "text/plain": [
       "<Figure size 640x480 with 9 Axes>"
      ]
     },
     "metadata": {},
     "output_type": "display_data"
    }
   ],
   "source": [
    "db_types.hist();"
   ]
  },
  {
   "cell_type": "markdown",
   "metadata": {},
   "source": [
    "- Get Top 10s"
   ]
  },
  {
   "cell_type": "code",
   "execution_count": 150,
   "metadata": {},
   "outputs": [
    {
     "data": {
      "text/html": [
       "<div>\n",
       "<style scoped>\n",
       "    .dataframe tbody tr th:only-of-type {\n",
       "        vertical-align: middle;\n",
       "    }\n",
       "\n",
       "    .dataframe tbody tr th {\n",
       "        vertical-align: top;\n",
       "    }\n",
       "\n",
       "    .dataframe thead th {\n",
       "        text-align: right;\n",
       "    }\n",
       "</style>\n",
       "<table border=\"1\" class=\"dataframe\">\n",
       "  <thead>\n",
       "    <tr style=\"text-align: right;\">\n",
       "      <th></th>\n",
       "      <th>tmp_type_1</th>\n",
       "      <th>tmp_type_2</th>\n",
       "      <th>AvgUnitPrice</th>\n",
       "      <th>AvgDisUnitPrice</th>\n",
       "      <th>NumUniqProducts</th>\n",
       "      <th>NumUniqOrders</th>\n",
       "      <th>TotalRevenue</th>\n",
       "      <th>TotalSoldProdQnty</th>\n",
       "      <th>ProNameSample</th>\n",
       "      <th>ProDescSample</th>\n",
       "      <th>AvgDiscoutPercent</th>\n",
       "    </tr>\n",
       "  </thead>\n",
       "  <tbody>\n",
       "    <tr>\n",
       "      <th>17</th>\n",
       "      <td>1364</td>\n",
       "      <td>0</td>\n",
       "      <td>145.0</td>\n",
       "      <td>110.0</td>\n",
       "      <td>180</td>\n",
       "      <td>3243</td>\n",
       "      <td>753618.0</td>\n",
       "      <td>4088</td>\n",
       "      <td>Open - SO-DIMM memory Kingston 4GB 1600Mhz DDR3åÊ</td>\n",
       "      <td>modules RAM 64GB (4x16GB) Mac Pro (2009-2010).</td>\n",
       "      <td>24.14</td>\n",
       "    </tr>\n",
       "    <tr>\n",
       "      <th>21</th>\n",
       "      <td>1404</td>\n",
       "      <td>0</td>\n",
       "      <td>134.0</td>\n",
       "      <td>124.0</td>\n",
       "      <td>17</td>\n",
       "      <td>63</td>\n",
       "      <td>26584.0</td>\n",
       "      <td>72</td>\n",
       "      <td>Synology Rail Kit sliding RKS1314</td>\n",
       "      <td>expansion module for Nas eSATA and 5 bays</td>\n",
       "      <td>7.46</td>\n",
       "    </tr>\n",
       "    <tr>\n",
       "      <th>30</th>\n",
       "      <td>1714</td>\n",
       "      <td>0</td>\n",
       "      <td>469.0</td>\n",
       "      <td>446.0</td>\n",
       "      <td>20</td>\n",
       "      <td>274</td>\n",
       "      <td>186859.0</td>\n",
       "      <td>306</td>\n",
       "      <td>Open - Apple iPad Wi-Fi 32GB Space Gray</td>\n",
       "      <td>iPad Wi-Fi 32GB with box but unused is perfect</td>\n",
       "      <td>4.90</td>\n",
       "    </tr>\n",
       "  </tbody>\n",
       "</table>\n",
       "</div>"
      ],
      "text/plain": [
       "   tmp_type_1 tmp_type_2  AvgUnitPrice  AvgDisUnitPrice  NumUniqProducts  \\\n",
       "17       1364          0         145.0            110.0              180   \n",
       "21       1404          0         134.0            124.0               17   \n",
       "30       1714          0         469.0            446.0               20   \n",
       "\n",
       "    NumUniqOrders  TotalRevenue  TotalSoldProdQnty  \\\n",
       "17           3243      753618.0               4088   \n",
       "21             63       26584.0                 72   \n",
       "30            274      186859.0                306   \n",
       "\n",
       "                                        ProNameSample  \\\n",
       "17  Open - SO-DIMM memory Kingston 4GB 1600Mhz DDR3åÊ   \n",
       "21                  Synology Rail Kit sliding RKS1314   \n",
       "30            Open - Apple iPad Wi-Fi 32GB Space Gray   \n",
       "\n",
       "                                     ProDescSample  AvgDiscoutPercent  \n",
       "17  modules RAM 64GB (4x16GB) Mac Pro (2009-2010).              24.14  \n",
       "21       expansion module for Nas eSATA and 5 bays               7.46  \n",
       "30  iPad Wi-Fi 32GB with box but unused is perfect               4.90  "
      ]
     },
     "execution_count": 150,
     "metadata": {},
     "output_type": "execute_result"
    }
   ],
   "source": [
    "db_types.sample(3)"
   ]
  },
  {
   "cell_type": "code",
   "execution_count": 154,
   "metadata": {},
   "outputs": [
    {
     "ename": "KeyError",
     "evalue": "\"None of [Float64Index([5554.0, 4771.0, 3215.0, 2806.0, 2558.0, 2479.0, 2022.0, 1759.0,\\n              1752.0, 1671.0],\\n             dtype='float64')] are in the [index]\"",
     "output_type": "error",
     "traceback": [
      "\u001b[1;31m---------------------------------------------------------------------------\u001b[0m",
      "\u001b[1;31mKeyError\u001b[0m                                  Traceback (most recent call last)",
      "\u001b[1;32md:\\_1_Technicals\\DataScience_Bootcamp\\W_03\\Pandas_Eniac\\Solve_Bussiness_Q2.ipynb Cell 37\u001b[0m in \u001b[0;36m<cell line: 2>\u001b[1;34m()\u001b[0m\n\u001b[0;32m      <a href='vscode-notebook-cell:/d%3A/_1_Technicals/DataScience_Bootcamp/W_03/Pandas_Eniac/Solve_Bussiness_Q2.ipynb#Y446sZmlsZQ%3D%3D?line=0'>1</a>\u001b[0m (\n\u001b[1;32m----> <a href='vscode-notebook-cell:/d%3A/_1_Technicals/DataScience_Bootcamp/W_03/Pandas_Eniac/Solve_Bussiness_Q2.ipynb#Y446sZmlsZQ%3D%3D?line=1'>2</a>\u001b[0m     db_types\n\u001b[0;32m      <a href='vscode-notebook-cell:/d%3A/_1_Technicals/DataScience_Bootcamp/W_03/Pandas_Eniac/Solve_Bussiness_Q2.ipynb#Y446sZmlsZQ%3D%3D?line=2'>3</a>\u001b[0m     \u001b[39m.\u001b[39;49mquery(\u001b[39m\"\u001b[39;49m\u001b[39mAvgUnitPrice.nlargest(10)\u001b[39;49m\u001b[39m\"\u001b[39;49m)\n\u001b[0;32m      <a href='vscode-notebook-cell:/d%3A/_1_Technicals/DataScience_Bootcamp/W_03/Pandas_Eniac/Solve_Bussiness_Q2.ipynb#Y446sZmlsZQ%3D%3D?line=3'>4</a>\u001b[0m )\n",
      "File \u001b[1;32mc:\\Python39\\lib\\site-packages\\pandas\\core\\frame.py:4114\u001b[0m, in \u001b[0;36mDataFrame.query\u001b[1;34m(self, expr, inplace, **kwargs)\u001b[0m\n\u001b[0;32m   4111\u001b[0m res \u001b[39m=\u001b[39m \u001b[39mself\u001b[39m\u001b[39m.\u001b[39meval(expr, \u001b[39m*\u001b[39m\u001b[39m*\u001b[39mkwargs)\n\u001b[0;32m   4113\u001b[0m \u001b[39mtry\u001b[39;00m:\n\u001b[1;32m-> 4114\u001b[0m     result \u001b[39m=\u001b[39m \u001b[39mself\u001b[39;49m\u001b[39m.\u001b[39;49mloc[res]\n\u001b[0;32m   4115\u001b[0m \u001b[39mexcept\u001b[39;00m \u001b[39mValueError\u001b[39;00m:\n\u001b[0;32m   4116\u001b[0m     \u001b[39m# when res is multi-dimensional loc raises, but this is sometimes a\u001b[39;00m\n\u001b[0;32m   4117\u001b[0m     \u001b[39m# valid query\u001b[39;00m\n\u001b[0;32m   4118\u001b[0m     result \u001b[39m=\u001b[39m \u001b[39mself\u001b[39m[res]\n",
      "File \u001b[1;32mc:\\Python39\\lib\\site-packages\\pandas\\core\\indexing.py:967\u001b[0m, in \u001b[0;36m_LocationIndexer.__getitem__\u001b[1;34m(self, key)\u001b[0m\n\u001b[0;32m    964\u001b[0m axis \u001b[39m=\u001b[39m \u001b[39mself\u001b[39m\u001b[39m.\u001b[39maxis \u001b[39mor\u001b[39;00m \u001b[39m0\u001b[39m\n\u001b[0;32m    966\u001b[0m maybe_callable \u001b[39m=\u001b[39m com\u001b[39m.\u001b[39mapply_if_callable(key, \u001b[39mself\u001b[39m\u001b[39m.\u001b[39mobj)\n\u001b[1;32m--> 967\u001b[0m \u001b[39mreturn\u001b[39;00m \u001b[39mself\u001b[39;49m\u001b[39m.\u001b[39;49m_getitem_axis(maybe_callable, axis\u001b[39m=\u001b[39;49maxis)\n",
      "File \u001b[1;32mc:\\Python39\\lib\\site-packages\\pandas\\core\\indexing.py:1194\u001b[0m, in \u001b[0;36m_LocIndexer._getitem_axis\u001b[1;34m(self, key, axis)\u001b[0m\n\u001b[0;32m   1191\u001b[0m     \u001b[39mif\u001b[39;00m \u001b[39mhasattr\u001b[39m(key, \u001b[39m\"\u001b[39m\u001b[39mndim\u001b[39m\u001b[39m\"\u001b[39m) \u001b[39mand\u001b[39;00m key\u001b[39m.\u001b[39mndim \u001b[39m>\u001b[39m \u001b[39m1\u001b[39m:\n\u001b[0;32m   1192\u001b[0m         \u001b[39mraise\u001b[39;00m \u001b[39mValueError\u001b[39;00m(\u001b[39m\"\u001b[39m\u001b[39mCannot index with multidimensional key\u001b[39m\u001b[39m\"\u001b[39m)\n\u001b[1;32m-> 1194\u001b[0m     \u001b[39mreturn\u001b[39;00m \u001b[39mself\u001b[39;49m\u001b[39m.\u001b[39;49m_getitem_iterable(key, axis\u001b[39m=\u001b[39;49maxis)\n\u001b[0;32m   1196\u001b[0m \u001b[39m# nested tuple slicing\u001b[39;00m\n\u001b[0;32m   1197\u001b[0m \u001b[39mif\u001b[39;00m is_nested_tuple(key, labels):\n",
      "File \u001b[1;32mc:\\Python39\\lib\\site-packages\\pandas\\core\\indexing.py:1132\u001b[0m, in \u001b[0;36m_LocIndexer._getitem_iterable\u001b[1;34m(self, key, axis)\u001b[0m\n\u001b[0;32m   1129\u001b[0m \u001b[39mself\u001b[39m\u001b[39m.\u001b[39m_validate_key(key, axis)\n\u001b[0;32m   1131\u001b[0m \u001b[39m# A collection of keys\u001b[39;00m\n\u001b[1;32m-> 1132\u001b[0m keyarr, indexer \u001b[39m=\u001b[39m \u001b[39mself\u001b[39;49m\u001b[39m.\u001b[39;49m_get_listlike_indexer(key, axis)\n\u001b[0;32m   1133\u001b[0m \u001b[39mreturn\u001b[39;00m \u001b[39mself\u001b[39m\u001b[39m.\u001b[39mobj\u001b[39m.\u001b[39m_reindex_with_indexers(\n\u001b[0;32m   1134\u001b[0m     {axis: [keyarr, indexer]}, copy\u001b[39m=\u001b[39m\u001b[39mTrue\u001b[39;00m, allow_dups\u001b[39m=\u001b[39m\u001b[39mTrue\u001b[39;00m\n\u001b[0;32m   1135\u001b[0m )\n",
      "File \u001b[1;32mc:\\Python39\\lib\\site-packages\\pandas\\core\\indexing.py:1330\u001b[0m, in \u001b[0;36m_LocIndexer._get_listlike_indexer\u001b[1;34m(self, key, axis)\u001b[0m\n\u001b[0;32m   1327\u001b[0m ax \u001b[39m=\u001b[39m \u001b[39mself\u001b[39m\u001b[39m.\u001b[39mobj\u001b[39m.\u001b[39m_get_axis(axis)\n\u001b[0;32m   1328\u001b[0m axis_name \u001b[39m=\u001b[39m \u001b[39mself\u001b[39m\u001b[39m.\u001b[39mobj\u001b[39m.\u001b[39m_get_axis_name(axis)\n\u001b[1;32m-> 1330\u001b[0m keyarr, indexer \u001b[39m=\u001b[39m ax\u001b[39m.\u001b[39;49m_get_indexer_strict(key, axis_name)\n\u001b[0;32m   1332\u001b[0m \u001b[39mreturn\u001b[39;00m keyarr, indexer\n",
      "File \u001b[1;32mc:\\Python39\\lib\\site-packages\\pandas\\core\\indexes\\base.py:5796\u001b[0m, in \u001b[0;36mIndex._get_indexer_strict\u001b[1;34m(self, key, axis_name)\u001b[0m\n\u001b[0;32m   5793\u001b[0m \u001b[39melse\u001b[39;00m:\n\u001b[0;32m   5794\u001b[0m     keyarr, indexer, new_indexer \u001b[39m=\u001b[39m \u001b[39mself\u001b[39m\u001b[39m.\u001b[39m_reindex_non_unique(keyarr)\n\u001b[1;32m-> 5796\u001b[0m \u001b[39mself\u001b[39;49m\u001b[39m.\u001b[39;49m_raise_if_missing(keyarr, indexer, axis_name)\n\u001b[0;32m   5798\u001b[0m keyarr \u001b[39m=\u001b[39m \u001b[39mself\u001b[39m\u001b[39m.\u001b[39mtake(indexer)\n\u001b[0;32m   5799\u001b[0m \u001b[39mif\u001b[39;00m \u001b[39misinstance\u001b[39m(key, Index):\n\u001b[0;32m   5800\u001b[0m     \u001b[39m# GH 42790 - Preserve name from an Index\u001b[39;00m\n",
      "File \u001b[1;32mc:\\Python39\\lib\\site-packages\\pandas\\core\\indexes\\base.py:5856\u001b[0m, in \u001b[0;36mIndex._raise_if_missing\u001b[1;34m(self, key, indexer, axis_name)\u001b[0m\n\u001b[0;32m   5854\u001b[0m     \u001b[39mif\u001b[39;00m use_interval_msg:\n\u001b[0;32m   5855\u001b[0m         key \u001b[39m=\u001b[39m \u001b[39mlist\u001b[39m(key)\n\u001b[1;32m-> 5856\u001b[0m     \u001b[39mraise\u001b[39;00m \u001b[39mKeyError\u001b[39;00m(\u001b[39mf\u001b[39m\u001b[39m\"\u001b[39m\u001b[39mNone of [\u001b[39m\u001b[39m{\u001b[39;00mkey\u001b[39m}\u001b[39;00m\u001b[39m] are in the [\u001b[39m\u001b[39m{\u001b[39;00maxis_name\u001b[39m}\u001b[39;00m\u001b[39m]\u001b[39m\u001b[39m\"\u001b[39m)\n\u001b[0;32m   5858\u001b[0m not_found \u001b[39m=\u001b[39m \u001b[39mlist\u001b[39m(ensure_index(key)[missing_mask\u001b[39m.\u001b[39mnonzero()[\u001b[39m0\u001b[39m]]\u001b[39m.\u001b[39munique())\n\u001b[0;32m   5859\u001b[0m \u001b[39mraise\u001b[39;00m \u001b[39mKeyError\u001b[39;00m(\u001b[39mf\u001b[39m\u001b[39m\"\u001b[39m\u001b[39m{\u001b[39;00mnot_found\u001b[39m}\u001b[39;00m\u001b[39m not in index\u001b[39m\u001b[39m\"\u001b[39m)\n",
      "\u001b[1;31mKeyError\u001b[0m: \"None of [Float64Index([5554.0, 4771.0, 3215.0, 2806.0, 2558.0, 2479.0, 2022.0, 1759.0,\\n              1752.0, 1671.0],\\n             dtype='float64')] are in the [index]\""
     ]
    }
   ],
   "source": [
    "(\n",
    "    db_types\n",
    "    .query(\"AvgUnitPrice.nlargest(10)\")\n",
    ")"
   ]
  },
  {
   "cell_type": "code",
   "execution_count": null,
   "metadata": {},
   "outputs": [],
   "source": [
    "# g=sns.relplot(data=db_types\n",
    "#             ,x=\"AvgUnitPrice\"\n",
    "#             ,y= \"AvgDiscoutPercent\"\n",
    "#             )\n",
    "sns.relplot(data=db_types\n",
    "            ,kind=\"line\"\n",
    "            ,x=\"AvgDiscoutPercent\"\n",
    "            ,y=\"TotalRevenue\"\n",
    "            #,hue=\"TotalSoldProdQnty\"\n",
    "            #,style=\"event\",\n",
    ")\n"
   ]
  },
  {
   "cell_type": "code",
   "execution_count": null,
   "metadata": {},
   "outputs": [],
   "source": [
    "pd.set_option(\"display.max_colwidth\", 5000) \n",
    "db_types.sample(3)"
   ]
  },
  {
   "cell_type": "markdown",
   "metadata": {},
   "source": [
    "##### Category via pro_Name"
   ]
  },
  {
   "cell_type": "code",
   "execution_count": null,
   "metadata": {},
   "outputs": [],
   "source": [
    "db_proDis.pro_Name.sample(10)"
   ]
  },
  {
   "cell_type": "code",
   "execution_count": 157,
   "metadata": {},
   "outputs": [
    {
     "name": "stderr",
     "output_type": "stream",
     "text": [
      "[nltk_data] Downloading package stopwords to\n",
      "[nltk_data]     C:\\Users\\Jacqueline\\AppData\\Roaming\\nltk_data...\n",
      "[nltk_data]   Package stopwords is already up-to-date!\n"
     ]
    }
   ],
   "source": [
    "from collections import Counter\n",
    "from stop_words import get_stop_words\n",
    "import nltk\n",
    "from nltk import corpus\n",
    "\n",
    "nltk.download('stopwords')\n",
    "stop_words = list(get_stop_words('en'))         #About 900 stopwords\n",
    "nltk_words = list(corpus.stopwords.words('english')) #About 150 stopwords\n",
    "other_words = [\" \",\",\",\"?\",\"|\",\"/\",\"-\"]\n",
    "stop_words.extend(nltk_words)\n",
    "stop_words.extend(other_words)\n",
    "#print(stop_words)"
   ]
  },
  {
   "cell_type": "code",
   "execution_count": 158,
   "metadata": {},
   "outputs": [],
   "source": [
    "\n",
    "def common_words(row):\n",
    "    text=row.pro_Name\n",
    "    split_it = text.split()\n",
    "    filtered_words = [w for w in split_it if not w in stop_words]\n",
    "    #print(filtered_words)\n",
    "    counter = Counter(filtered_words)\n",
    "    most_occur = counter.most_common(5)\n",
    "    return(most_occur)\n",
    "\n",
    "#common_words(\"Hi baby iam here , where are you ?\")"
   ]
  },
  {
   "cell_type": "code",
   "execution_count": null,
   "metadata": {},
   "outputs": [],
   "source": [
    "db_types.loc[2]"
   ]
  },
  {
   "cell_type": "code",
   "execution_count": 160,
   "metadata": {},
   "outputs": [
    {
     "data": {
      "text/plain": [
       "0                 [(Drive, 2), (LaCie, 1), (Porsche, 1), (Design, 1), (Desktop, 1)]\n",
       "1                 [(Drive, 2), (LaCie, 1), (Porsche, 1), (Design, 1), (Desktop, 1)]\n",
       "2                 [(Drive, 2), (LaCie, 1), (Porsche, 1), (Design, 1), (Desktop, 1)]\n",
       "3                 [(Drive, 2), (LaCie, 1), (Porsche, 1), (Design, 1), (Desktop, 1)]\n",
       "4                 [(Drive, 2), (LaCie, 1), (Porsche, 1), (Design, 1), (Desktop, 1)]\n",
       "5                 [(Drive, 2), (LaCie, 1), (Porsche, 1), (Design, 1), (Desktop, 1)]\n",
       "6                 [(Drive, 2), (LaCie, 1), (Porsche, 1), (Design, 1), (Desktop, 1)]\n",
       "7                 [(Drive, 2), (LaCie, 1), (Porsche, 1), (Design, 1), (Desktop, 1)]\n",
       "8                 [(Drive, 2), (LaCie, 1), (Porsche, 1), (Design, 1), (Desktop, 1)]\n",
       "9                 [(Drive, 2), (LaCie, 1), (Porsche, 1), (Design, 1), (Desktop, 1)]\n",
       "10                [(Drive, 2), (LaCie, 1), (Porsche, 1), (Design, 1), (Desktop, 1)]\n",
       "11                [(Drive, 2), (LaCie, 1), (Porsche, 1), (Design, 1), (Desktop, 1)]\n",
       "12                [(Drive, 2), (LaCie, 1), (Porsche, 1), (Design, 1), (Desktop, 1)]\n",
       "13                [(Drive, 2), (LaCie, 1), (Porsche, 1), (Design, 1), (Desktop, 1)]\n",
       "14                [(Drive, 2), (LaCie, 1), (Porsche, 1), (Design, 1), (Desktop, 1)]\n",
       "                                            ...                                    \n",
       "61727                      [(Glyph, 1), (Atom, 1), (SSD, 1), (Hard, 1), (Drive, 1)]\n",
       "61728                  [(Open, 1), (Fitbit, 1), (Charge, 1), (2, 1), (Bracelet, 1)]\n",
       "61729               [(Open, 1), (D-Link, 1), (DCS-932L, 1), (Wireless, 1), (IP, 1)]\n",
       "61730                  [(Dell, 1), (Monitor, 1), (S2419HM, 1), (238, 1), (\"FHD, 1)]\n",
       "61731                         [(Pack, 1), (QNAP, 1), (TS-251, 1), (+, 1), (8GB, 1)]\n",
       "61732                          [(Qnap, 1), (NAS, 1), (server, 1), (TS-431X2-2G, 1)]\n",
       "61733        [(Satechi, 1), (MacBook, 1), (Support, 1), (Vertical, 1), (Silver, 1)]\n",
       "61734        [(Satechi, 1), (MacBook, 1), (Support, 1), (Vertical, 1), (Silver, 1)]\n",
       "61735         [(Open, 1), (Griffin, 1), (Survivor, 1), (All-Terrain, 1), (iPad, 1)]\n",
       "61736                   [(Netgear, 1), (Wifi, 1), (Orbi, 1), (System, 1), (kit, 1)]\n",
       "61737         [(Education, 1), (Wacom, 1), (Intuos, 1), (Graphics, 1), (Tablet, 1)]\n",
       "61738         [(Education, 1), (Wacom, 1), (Intuos, 1), (Graphics, 1), (Tablet, 1)]\n",
       "61739                      [(Open, 1), (Apple, 1), (MacBook, 1), (Air, 1), (13, 1)]\n",
       "61740                    [(Synology, 1), (DS218, 1), (+, 1), (NAS, 1), (Server, 1)]\n",
       "61741    [(Open, 1), (D-Link, 1), (DCS-5020L, 1), (wireless, 1), (surveillance, 1)]\n",
       "Length: 60943, dtype: object"
      ]
     },
     "execution_count": 160,
     "metadata": {},
     "output_type": "execute_result"
    }
   ],
   "source": [
    "db_qu.\n",
    "apply(common_words,axis=1)"
   ]
  },
  {
   "cell_type": "code",
   "execution_count": null,
   "metadata": {},
   "outputs": [],
   "source": [
    "db_types.cat_1.to_csv(\"test.csv\")"
   ]
  },
  {
   "cell_type": "code",
   "execution_count": null,
   "metadata": {},
   "outputs": [],
   "source": [
    "db_types.groupby(db_types.tmp_type_1).describe().pro_Pr.sort_values(by=\"mean\")"
   ]
  },
  {
   "cell_type": "markdown",
   "metadata": {},
   "source": [
    "__ Category via pro_Pr"
   ]
  },
  {
   "cell_type": "code",
   "execution_count": null,
   "metadata": {},
   "outputs": [],
   "source": [
    "db_qu.pro_Pr.describe()"
   ]
  },
  {
   "cell_type": "code",
   "execution_count": null,
   "metadata": {},
   "outputs": [],
   "source": [
    "def Price_cat (price):\n",
    "    if price < 50:\n",
    "        return \"A\"\n",
    "    elif price < 200:\n",
    "        return \"B\"\n",
    "    elif price < 1000:\n",
    "        return \"C\"\n",
    "    elif price < 5000:\n",
    "        return \"D\"\n",
    "    elif price >= 5000:\n",
    "        return \"E\"\n"
   ]
  },
  {
   "cell_type": "code",
   "execution_count": null,
   "metadata": {},
   "outputs": [],
   "source": [
    "db_proDis[\"tmp_pr_cat\"] = db_proDis.pro_Pr.map(Price_cat)"
   ]
  },
  {
   "cell_type": "code",
   "execution_count": null,
   "metadata": {},
   "outputs": [],
   "source": [
    "(\n",
    "    db_proDis\n",
    "    .groupby(\"tmp_pr_cat\")\n",
    "    .agg(price_cat_num=(\"tmp_pr_cat\",\"count\"))\n",
    ")"
   ]
  },
  {
   "cell_type": "code",
   "execution_count": null,
   "metadata": {},
   "outputs": [],
   "source": [
    "pd.set_option('max_colwidth', 100)"
   ]
  },
  {
   "cell_type": "code",
   "execution_count": null,
   "metadata": {},
   "outputs": [],
   "source": [
    "db_proDis.loc[db_proDis.tmp_pr_cat == \"A\"].drop(columns=drop_list).sample(5)"
   ]
  },
  {
   "cell_type": "code",
   "execution_count": null,
   "metadata": {},
   "outputs": [],
   "source": [
    "db_proDis.loc[db_proDis.pro_Name.str.contains(\"(imac)\", case=False, regex=True)].drop(columns=drop_list)"
   ]
  },
  {
   "cell_type": "code",
   "execution_count": null,
   "metadata": {},
   "outputs": [],
   "source": [
    "pattern = '|'.join([\"watch\"])"
   ]
  },
  {
   "cell_type": "code",
   "execution_count": null,
   "metadata": {},
   "outputs": [],
   "source": [
    "pattern = '|'.join([\"watch\"])\n",
    "db_proDis.loc[db_proDis.pro_Name.str.contains(pattern, case=False, regex=True)].drop(columns=drop_list).sample(10)"
   ]
  },
  {
   "cell_type": "code",
   "execution_count": null,
   "metadata": {},
   "outputs": [],
   "source": [
    "db_proDis.sample(5)"
   ]
  }
 ],
 "metadata": {
  "kernelspec": {
   "display_name": "Python 3.9.1 64-bit",
   "language": "python",
   "name": "python3"
  },
  "language_info": {
   "codemirror_mode": {
    "name": "ipython",
    "version": 3
   },
   "file_extension": ".py",
   "mimetype": "text/x-python",
   "name": "python",
   "nbconvert_exporter": "python",
   "pygments_lexer": "ipython3",
   "version": "3.9.1"
  },
  "orig_nbformat": 4,
  "vscode": {
   "interpreter": {
    "hash": "81794d4967e6c3204c66dcd87b604927b115b27c00565d3d43f05ba2f3a2cb0d"
   }
  }
 },
 "nbformat": 4,
 "nbformat_minor": 2
}
