{
 "cells": [
  {
   "cell_type": "markdown",
   "metadata": {},
   "source": [
    "    ==============================================================================================\n",
    "\n",
    "## Answer Bussines questions\n"
   ]
  },
  {
   "cell_type": "markdown",
   "metadata": {},
   "source": [
    "### Revenue\n",
    "- Recap:\n",
    "    - ord_TotlPaid : total amount paid by the customer for this order (euros)\n",
    "    - ol_ProdUntPr : the unitary price (euros) of each product at the moment of placing that order\n",
    "    - ol_ProdQnty :how many units of that product were purchased on that order\n",
    "- per row(OL) : ol_ProdUntPr * ol_ProdQnty = tmp_ol_price\n",
    "- group by ORD_ID .sum of the tmp_ol_price = tmp_ord_price\n",
    "- compare the tmp_ord_price with ord_TotlPaid"
   ]
  },
  {
   "cell_type": "code",
   "execution_count": null,
   "metadata": {},
   "outputs": [],
   "source": [
    "drop_lst =[\"ord_CreatDate\",\"ol_ProcessDate\",\"PRO_SKU\",\"pro_Name\",\"pro_Desc\",\"pro_InStock\",\"pro_Type\"]"
   ]
  },
  {
   "cell_type": "code",
   "execution_count": null,
   "metadata": {},
   "outputs": [],
   "source": [
    "db[\"tmp_ol_price\"] = db.ol_ProdUntPr * db.ol_ProdQnty"
   ]
  },
  {
   "cell_type": "code",
   "execution_count": null,
   "metadata": {},
   "outputs": [],
   "source": [
    "db.drop(columns=drop_lst)"
   ]
  },
  {
   "cell_type": "code",
   "execution_count": null,
   "metadata": {},
   "outputs": [],
   "source": [
    "\n",
    "db_pr=(\n",
    "    db\n",
    "    .groupby(\"ORD_ID\")\n",
    "    .agg(tmp_ord_price=('tmp_ol_price', 'sum'))\n",
    "    .merge(db,on=\"ORD_ID\")\n",
    "    .drop(columns=drop_lst)\n",
    ")"
   ]
  },
  {
   "cell_type": "code",
   "execution_count": null,
   "metadata": {},
   "outputs": [],
   "source": [
    "\n",
    "db_pr= (\n",
    "    db_pr\n",
    "    .assign(tmp_ord_Rev = db_pr.ord_TotlPaid-db_pr.tmp_ord_price)\n",
    "    )"
   ]
  },
  {
   "cell_type": "code",
   "execution_count": null,
   "metadata": {},
   "outputs": [],
   "source": [
    "db_pr.sample()"
   ]
  },
  {
   "cell_type": "code",
   "execution_count": null,
   "metadata": {},
   "outputs": [],
   "source": [
    "db_pr.tmp_diff_ord_Pr.describe()"
   ]
  },
  {
   "cell_type": "markdown",
   "metadata": {},
   "source": [
    "Calculate outlier"
   ]
  },
  {
   "cell_type": "code",
   "execution_count": null,
   "metadata": {},
   "outputs": [],
   "source": [
    "Q1 = db_pr.tmp_diff_ord_Pr.quantile(0.25)\n",
    "Q3 = db_pr.tmp_diff_ord_Pr.quantile(0.75)\n",
    "IQR=Q3-Q1"
   ]
  },
  {
   "cell_type": "code",
   "execution_count": null,
   "metadata": {},
   "outputs": [],
   "source": [
    "db_pr=db_pr.loc[(db_pr.tmp_diff_ord_Pr >= (Q1 - 1.5*IQR)) & (db_pr.tmp_diff_ord_Pr <= (Q3 + 1.5*IQR))]"
   ]
  },
  {
   "cell_type": "code",
   "execution_count": null,
   "metadata": {},
   "outputs": [],
   "source": [
    "db.assign(tmp_discount = db.pro_Pr - db.ol_ProdUntPr)"
   ]
  },
  {
   "cell_type": "code",
   "execution_count": null,
   "metadata": {},
   "outputs": [],
   "source": [
    "db_pr.tmp_discount.describe()"
   ]
  },
  {
   "cell_type": "code",
   "execution_count": null,
   "metadata": {},
   "outputs": [],
   "source": []
  },
  {
   "cell_type": "markdown",
   "metadata": {},
   "source": [
    "check for orders of 1 orderlines if totalpaid == unit price * quantity"
   ]
  },
  {
   "cell_type": "code",
   "execution_count": null,
   "metadata": {},
   "outputs": [],
   "source": [
    "(db\n",
    " .loc[\n",
    "     (\n",
    "           (~db.duplicated(subset=\"ORD_ID\")) \n",
    "         & (((db.ol_ProdUntPr*db.ol_ProdQnty)>db.ord_TotlPaid*0.9)\n",
    "         & ((db.ol_ProdUntPr*db.ol_ProdQnty)<db.ord_TotlPaid*1.1))\n",
    "     )\n",
    " ]\n",
    ")"
   ]
  }
 ],
 "metadata": {
  "kernelspec": {
   "display_name": "Python 3.9.1 64-bit",
   "language": "python",
   "name": "python3"
  },
  "language_info": {
   "name": "python",
   "version": "3.9.1"
  },
  "orig_nbformat": 4,
  "vscode": {
   "interpreter": {
    "hash": "81794d4967e6c3204c66dcd87b604927b115b27c00565d3d43f05ba2f3a2cb0d"
   }
  }
 },
 "nbformat": 4,
 "nbformat_minor": 2
}
