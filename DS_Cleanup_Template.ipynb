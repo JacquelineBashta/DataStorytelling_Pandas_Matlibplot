{
 "cells": [
  {
   "cell_type": "markdown",
   "metadata": {
    "id": "RCIYjmVBHMnx",
    "tags": []
   },
   "source": [
    "# CleaningUp orders.csv (ord_)\n",
    "orders.csv – Every row in this file represents an order.\n",
    "- order_id – a unique identifier for each order\n",
    "- created_date – a timestamp for when the order was created\n",
    "- total_paid – the total amount paid by the customer for this order, in euros\n",
    "- state \n",
    "  - “Shopping basket” – products have been placed in the shopping basket, but the order has not been processed yet.\n",
    "  - “Pending” – the shopping basket has been processed, but payment confirmation is pending.\n",
    "  - “Completed” – the order has been placed and paid, and the transaction is completed.\n",
    "  - “Cancelled” – the order has been cancelled and the payment returned to the customer."
   ]
  },
  {
   "cell_type": "markdown",
   "metadata": {
    "id": "pG4_-xlaHrtV"
   },
   "source": [
    "## Importing the data\n",
    "- ``` glob-glob(\"file_pat\") ``` --> read multi files \n",
    "- ``` pd.concat(dfs_list, ignore_index=True)```  --> create 1 df from multi dfs\n",
    "- ``` pd.read_csv(path)```  --> create 1 df from a csv file"
   ]
  },
  {
   "cell_type": "code",
   "execution_count": 54,
   "metadata": {
    "id": "N5PcASxWHmmb"
   },
   "outputs": [],
   "source": [
    "import pandas as pd\n",
    "\n",
    "url = \"https://drive.google.com/file/d/1Vu0q91qZw6lqhIqbjoXYvYAQTmVHh6uZ/view?usp=sharing\" \n",
    "path = \"https://drive.google.com/uc?export=download&id=\"+url.split(\"/\")[-2]\n",
    "df = pd.read_csv(path)\n",
    "\n"
   ]
  },
  {
   "cell_type": "code",
   "execution_count": 55,
   "metadata": {
    "colab": {
     "base_uri": "https://localhost:8080/"
    },
    "id": "wdtR5G1SleHd",
    "outputId": "ca93ec7e-90de-4c57-f8dd-0711bea44479"
   },
   "outputs": [
    {
     "data": {
      "text/plain": [
       "0"
      ]
     },
     "execution_count": 55,
     "metadata": {},
     "output_type": "execute_result"
    }
   ],
   "source": [
    "#pd.options.display.max_rows = 999\n",
    "pd.set_option(\"display.min_rows\", 0) \n",
    "pd.get_option(\"display.min_rows\")\n"
   ]
  },
  {
   "cell_type": "code",
   "execution_count": 56,
   "metadata": {},
   "outputs": [
    {
     "data": {
      "text/plain": [
       "200"
      ]
     },
     "execution_count": 56,
     "metadata": {},
     "output_type": "execute_result"
    }
   ],
   "source": [
    "pd.set_option(\"display.max_rows\", 200) \n",
    "pd.get_option(\"display.max_rows\")"
   ]
  },
  {
   "cell_type": "markdown",
   "metadata": {
    "id": "9OsnA7TrIVZh"
   },
   "source": [
    "## Explore the data\n",
    "- ``` df.shape``` , ``` df.size``` , ``` df.ndim``` \n",
    "- ``` df.sample(5)``` , ``` df.info()``` \n",
    "- Numerical : ``` df.describe()``` , ``` df.nlargest()``` , ``` df.nsmallest()``` \n",
    "- Category : ``` df.nunique()``` , ``` df.unique() ``` "
   ]
  },
  {
   "cell_type": "code",
   "execution_count": 3,
   "metadata": {
    "colab": {
     "base_uri": "https://localhost:8080/"
    },
    "id": "WYH-IAlTMPfb",
    "outputId": "2b890dc0-5e28-4ad0-f284-e5adeed080bb"
   },
   "outputs": [
    {
     "data": {
      "text/plain": [
       "(226909, 4)"
      ]
     },
     "execution_count": 3,
     "metadata": {},
     "output_type": "execute_result"
    }
   ],
   "source": [
    "df.shape"
   ]
  },
  {
   "cell_type": "code",
   "execution_count": 52,
   "metadata": {
    "colab": {
     "base_uri": "https://localhost:8080/",
     "height": 206
    },
    "id": "D-h_qX3xOFje",
    "outputId": "6c50129c-9d43-4d52-ce05-7de640d192bb"
   },
   "outputs": [
    {
     "data": {
      "text/html": [
       "<div>\n",
       "<style scoped>\n",
       "    .dataframe tbody tr th:only-of-type {\n",
       "        vertical-align: middle;\n",
       "    }\n",
       "\n",
       "    .dataframe tbody tr th {\n",
       "        vertical-align: top;\n",
       "    }\n",
       "\n",
       "    .dataframe thead th {\n",
       "        text-align: right;\n",
       "    }\n",
       "</style>\n",
       "<table border=\"1\" class=\"dataframe\">\n",
       "  <thead>\n",
       "    <tr style=\"text-align: right;\">\n",
       "      <th></th>\n",
       "      <th>order_id</th>\n",
       "      <th>created_date</th>\n",
       "      <th>total_paid</th>\n",
       "      <th>state</th>\n",
       "    </tr>\n",
       "  </thead>\n",
       "  <tbody>\n",
       "    <tr>\n",
       "      <th>215882</th>\n",
       "      <td>516373</td>\n",
       "      <td>2018-02-23 10:03:16</td>\n",
       "      <td>1190.78</td>\n",
       "      <td>Shopping Basket</td>\n",
       "    </tr>\n",
       "    <tr>\n",
       "      <th>178475</th>\n",
       "      <td>478867</td>\n",
       "      <td>2018-01-01 22:23:34</td>\n",
       "      <td>24.98</td>\n",
       "      <td>Completed</td>\n",
       "    </tr>\n",
       "    <tr>\n",
       "      <th>197516</th>\n",
       "      <td>498000</td>\n",
       "      <td>2018-01-24 22:38:52</td>\n",
       "      <td>2403.58</td>\n",
       "      <td>Shopping Basket</td>\n",
       "    </tr>\n",
       "    <tr>\n",
       "      <th>75564</th>\n",
       "      <td>375110</td>\n",
       "      <td>2017-07-10 07:03:16</td>\n",
       "      <td>229.00</td>\n",
       "      <td>Shopping Basket</td>\n",
       "    </tr>\n",
       "    <tr>\n",
       "      <th>133719</th>\n",
       "      <td>433380</td>\n",
       "      <td>2017-11-23 07:07:21</td>\n",
       "      <td>2531.59</td>\n",
       "      <td>Shopping Basket</td>\n",
       "    </tr>\n",
       "    <tr>\n",
       "      <th>104748</th>\n",
       "      <td>404333</td>\n",
       "      <td>2017-09-25 12:36:54</td>\n",
       "      <td>154.98</td>\n",
       "      <td>Place Order</td>\n",
       "    </tr>\n",
       "    <tr>\n",
       "      <th>65022</th>\n",
       "      <td>364567</td>\n",
       "      <td>2017-06-11 22:58:03</td>\n",
       "      <td>144.97</td>\n",
       "      <td>Shopping Basket</td>\n",
       "    </tr>\n",
       "    <tr>\n",
       "      <th>47318</th>\n",
       "      <td>346811</td>\n",
       "      <td>2017-04-17 21:32:28</td>\n",
       "      <td>22.49</td>\n",
       "      <td>Shopping Basket</td>\n",
       "    </tr>\n",
       "    <tr>\n",
       "      <th>205941</th>\n",
       "      <td>506429</td>\n",
       "      <td>2018-02-05 19:04:05</td>\n",
       "      <td>1008.98</td>\n",
       "      <td>Place Order</td>\n",
       "    </tr>\n",
       "    <tr>\n",
       "      <th>6623</th>\n",
       "      <td>306092</td>\n",
       "      <td>2017-01-09 22:00:10</td>\n",
       "      <td>22.98</td>\n",
       "      <td>Completed</td>\n",
       "    </tr>\n",
       "    <tr>\n",
       "      <th>8403</th>\n",
       "      <td>307873</td>\n",
       "      <td>2017-01-12 11:36:24</td>\n",
       "      <td>1351.99</td>\n",
       "      <td>Shopping Basket</td>\n",
       "    </tr>\n",
       "    <tr>\n",
       "      <th>93210</th>\n",
       "      <td>392789</td>\n",
       "      <td>2017-08-26 00:02:01</td>\n",
       "      <td>99.99</td>\n",
       "      <td>Shopping Basket</td>\n",
       "    </tr>\n",
       "    <tr>\n",
       "      <th>87919</th>\n",
       "      <td>387496</td>\n",
       "      <td>2017-08-08 14:15:42</td>\n",
       "      <td>0.00</td>\n",
       "      <td>Shopping Basket</td>\n",
       "    </tr>\n",
       "    <tr>\n",
       "      <th>199221</th>\n",
       "      <td>499706</td>\n",
       "      <td>2018-01-27 17:29:32</td>\n",
       "      <td>409.98</td>\n",
       "      <td>Shopping Basket</td>\n",
       "    </tr>\n",
       "    <tr>\n",
       "      <th>38280</th>\n",
       "      <td>337766</td>\n",
       "      <td>2017-03-22 12:53:40</td>\n",
       "      <td>1558.99</td>\n",
       "      <td>Shopping Basket</td>\n",
       "    </tr>\n",
       "    <tr>\n",
       "      <th>138812</th>\n",
       "      <td>438605</td>\n",
       "      <td>2017-11-24 11:52:46</td>\n",
       "      <td>0.00</td>\n",
       "      <td>Place Order</td>\n",
       "    </tr>\n",
       "    <tr>\n",
       "      <th>21247</th>\n",
       "      <td>320727</td>\n",
       "      <td>2017-02-07 00:40:44</td>\n",
       "      <td>47.99</td>\n",
       "      <td>Shopping Basket</td>\n",
       "    </tr>\n",
       "    <tr>\n",
       "      <th>201102</th>\n",
       "      <td>501587</td>\n",
       "      <td>2018-01-29 23:29:06</td>\n",
       "      <td>48.99</td>\n",
       "      <td>Shopping Basket</td>\n",
       "    </tr>\n",
       "    <tr>\n",
       "      <th>93755</th>\n",
       "      <td>393334</td>\n",
       "      <td>2017-08-28 10:33:07</td>\n",
       "      <td>49.99</td>\n",
       "      <td>Place Order</td>\n",
       "    </tr>\n",
       "    <tr>\n",
       "      <th>199795</th>\n",
       "      <td>500280</td>\n",
       "      <td>2018-01-28 18:39:28</td>\n",
       "      <td>1393.99</td>\n",
       "      <td>Shopping Basket</td>\n",
       "    </tr>\n",
       "    <tr>\n",
       "      <th>141583</th>\n",
       "      <td>441674</td>\n",
       "      <td>2017-11-24 21:44:57</td>\n",
       "      <td>1888.59</td>\n",
       "      <td>Place Order</td>\n",
       "    </tr>\n",
       "    <tr>\n",
       "      <th>129672</th>\n",
       "      <td>429287</td>\n",
       "      <td>2017-11-20 14:16:28</td>\n",
       "      <td>140.79</td>\n",
       "      <td>Completed</td>\n",
       "    </tr>\n",
       "    <tr>\n",
       "      <th>131534</th>\n",
       "      <td>431176</td>\n",
       "      <td>2017-11-22 07:33:40</td>\n",
       "      <td>160.59</td>\n",
       "      <td>Shopping Basket</td>\n",
       "    </tr>\n",
       "    <tr>\n",
       "      <th>113588</th>\n",
       "      <td>413174</td>\n",
       "      <td>2017-10-16 16:48:22</td>\n",
       "      <td>29.99</td>\n",
       "      <td>Shopping Basket</td>\n",
       "    </tr>\n",
       "    <tr>\n",
       "      <th>78342</th>\n",
       "      <td>377890</td>\n",
       "      <td>2017-07-15 16:28:13</td>\n",
       "      <td>2561.16</td>\n",
       "      <td>Place Order</td>\n",
       "    </tr>\n",
       "    <tr>\n",
       "      <th>149472</th>\n",
       "      <td>449642</td>\n",
       "      <td>2017-11-27 22:10:42</td>\n",
       "      <td>489.11</td>\n",
       "      <td>Completed</td>\n",
       "    </tr>\n",
       "    <tr>\n",
       "      <th>187157</th>\n",
       "      <td>487569</td>\n",
       "      <td>2018-01-13 18:26:34</td>\n",
       "      <td>395.98</td>\n",
       "      <td>Completed</td>\n",
       "    </tr>\n",
       "    <tr>\n",
       "      <th>88008</th>\n",
       "      <td>387586</td>\n",
       "      <td>2017-08-08 20:28:51</td>\n",
       "      <td>203.57</td>\n",
       "      <td>Pending</td>\n",
       "    </tr>\n",
       "    <tr>\n",
       "      <th>104491</th>\n",
       "      <td>404076</td>\n",
       "      <td>2017-09-24 22:32:14</td>\n",
       "      <td>2371.59</td>\n",
       "      <td>Shopping Basket</td>\n",
       "    </tr>\n",
       "    <tr>\n",
       "      <th>80829</th>\n",
       "      <td>380379</td>\n",
       "      <td>2017-07-21 13:15:41</td>\n",
       "      <td>94.99</td>\n",
       "      <td>Place Order</td>\n",
       "    </tr>\n",
       "    <tr>\n",
       "      <th>67749</th>\n",
       "      <td>367295</td>\n",
       "      <td>2017-06-19 21:42:31</td>\n",
       "      <td>0.00</td>\n",
       "      <td>Place Order</td>\n",
       "    </tr>\n",
       "    <tr>\n",
       "      <th>223886</th>\n",
       "      <td>524378</td>\n",
       "      <td>2018-03-10 03:41:15</td>\n",
       "      <td>675.00</td>\n",
       "      <td>Shopping Basket</td>\n",
       "    </tr>\n",
       "    <tr>\n",
       "      <th>156433</th>\n",
       "      <td>456657</td>\n",
       "      <td>2017-12-07 03:44:32</td>\n",
       "      <td>3104.57</td>\n",
       "      <td>Shopping Basket</td>\n",
       "    </tr>\n",
       "    <tr>\n",
       "      <th>117586</th>\n",
       "      <td>417172</td>\n",
       "      <td>2017-10-25 00:12:38</td>\n",
       "      <td>24.98</td>\n",
       "      <td>Completed</td>\n",
       "    </tr>\n",
       "    <tr>\n",
       "      <th>193528</th>\n",
       "      <td>494010</td>\n",
       "      <td>2018-01-18 16:30:00</td>\n",
       "      <td>46.99</td>\n",
       "      <td>Shopping Basket</td>\n",
       "    </tr>\n",
       "    <tr>\n",
       "      <th>55643</th>\n",
       "      <td>355179</td>\n",
       "      <td>2017-05-12 10:29:15</td>\n",
       "      <td>109.99</td>\n",
       "      <td>Completed</td>\n",
       "    </tr>\n",
       "    <tr>\n",
       "      <th>36386</th>\n",
       "      <td>335870</td>\n",
       "      <td>2017-03-16 16:57:17</td>\n",
       "      <td>79.99</td>\n",
       "      <td>Shopping Basket</td>\n",
       "    </tr>\n",
       "    <tr>\n",
       "      <th>45852</th>\n",
       "      <td>345345</td>\n",
       "      <td>2017-04-11 11:48:27</td>\n",
       "      <td>428.97</td>\n",
       "      <td>Completed</td>\n",
       "    </tr>\n",
       "    <tr>\n",
       "      <th>177507</th>\n",
       "      <td>477899</td>\n",
       "      <td>2018-01-05 20:49:03</td>\n",
       "      <td>64.99</td>\n",
       "      <td>Completed</td>\n",
       "    </tr>\n",
       "    <tr>\n",
       "      <th>106202</th>\n",
       "      <td>405787</td>\n",
       "      <td>2017-09-28 12:25:59</td>\n",
       "      <td>165.57</td>\n",
       "      <td>Completed</td>\n",
       "    </tr>\n",
       "    <tr>\n",
       "      <th>217347</th>\n",
       "      <td>517838</td>\n",
       "      <td>2018-02-26 17:59:51</td>\n",
       "      <td>3494.01</td>\n",
       "      <td>Shopping Basket</td>\n",
       "    </tr>\n",
       "    <tr>\n",
       "      <th>150829</th>\n",
       "      <td>451030</td>\n",
       "      <td>2017-11-28 23:30:17</td>\n",
       "      <td>3188.57</td>\n",
       "      <td>Shopping Basket</td>\n",
       "    </tr>\n",
       "    <tr>\n",
       "      <th>71782</th>\n",
       "      <td>371328</td>\n",
       "      <td>2017-07-01 20:38:35</td>\n",
       "      <td>2629.00</td>\n",
       "      <td>Shopping Basket</td>\n",
       "    </tr>\n",
       "    <tr>\n",
       "      <th>71170</th>\n",
       "      <td>370716</td>\n",
       "      <td>2017-06-30 12:15:57</td>\n",
       "      <td>14.99</td>\n",
       "      <td>Shopping Basket</td>\n",
       "    </tr>\n",
       "    <tr>\n",
       "      <th>191848</th>\n",
       "      <td>492330</td>\n",
       "      <td>2018-01-16 18:56:01</td>\n",
       "      <td>309.99</td>\n",
       "      <td>Shopping Basket</td>\n",
       "    </tr>\n",
       "    <tr>\n",
       "      <th>220877</th>\n",
       "      <td>521368</td>\n",
       "      <td>2018-03-05 10:36:05</td>\n",
       "      <td>4933.97</td>\n",
       "      <td>Shopping Basket</td>\n",
       "    </tr>\n",
       "    <tr>\n",
       "      <th>59683</th>\n",
       "      <td>359222</td>\n",
       "      <td>2017-05-25 20:37:29</td>\n",
       "      <td>40.99</td>\n",
       "      <td>Shopping Basket</td>\n",
       "    </tr>\n",
       "    <tr>\n",
       "      <th>39277</th>\n",
       "      <td>338763</td>\n",
       "      <td>2017-03-24 16:21:58</td>\n",
       "      <td>1544.98</td>\n",
       "      <td>Completed</td>\n",
       "    </tr>\n",
       "    <tr>\n",
       "      <th>78118</th>\n",
       "      <td>377666</td>\n",
       "      <td>2017-07-14 20:30:25</td>\n",
       "      <td>0.00</td>\n",
       "      <td>Place Order</td>\n",
       "    </tr>\n",
       "    <tr>\n",
       "      <th>115423</th>\n",
       "      <td>415009</td>\n",
       "      <td>2017-10-20 11:32:22</td>\n",
       "      <td>0.00</td>\n",
       "      <td>Place Order</td>\n",
       "    </tr>\n",
       "    <tr>\n",
       "      <th>...</th>\n",
       "      <td>...</td>\n",
       "      <td>...</td>\n",
       "      <td>...</td>\n",
       "      <td>...</td>\n",
       "    </tr>\n",
       "    <tr>\n",
       "      <th>4951</th>\n",
       "      <td>304420</td>\n",
       "      <td>2017-01-07 19:37:27</td>\n",
       "      <td>366.99</td>\n",
       "      <td>Shopping Basket</td>\n",
       "    </tr>\n",
       "    <tr>\n",
       "      <th>67629</th>\n",
       "      <td>367175</td>\n",
       "      <td>2017-06-19 16:00:57</td>\n",
       "      <td>0.00</td>\n",
       "      <td>Shopping Basket</td>\n",
       "    </tr>\n",
       "    <tr>\n",
       "      <th>125858</th>\n",
       "      <td>425471</td>\n",
       "      <td>2017-11-11 19:59:11</td>\n",
       "      <td>0.00</td>\n",
       "      <td>Shopping Basket</td>\n",
       "    </tr>\n",
       "    <tr>\n",
       "      <th>69812</th>\n",
       "      <td>369358</td>\n",
       "      <td>2017-06-26 22:41:40</td>\n",
       "      <td>140.99</td>\n",
       "      <td>Shopping Basket</td>\n",
       "    </tr>\n",
       "    <tr>\n",
       "      <th>224634</th>\n",
       "      <td>525126</td>\n",
       "      <td>2018-03-10 21:16:35</td>\n",
       "      <td>251.99</td>\n",
       "      <td>Shopping Basket</td>\n",
       "    </tr>\n",
       "    <tr>\n",
       "      <th>197209</th>\n",
       "      <td>497693</td>\n",
       "      <td>2018-01-24 14:13:29</td>\n",
       "      <td>1627.96</td>\n",
       "      <td>Shopping Basket</td>\n",
       "    </tr>\n",
       "    <tr>\n",
       "      <th>219688</th>\n",
       "      <td>520179</td>\n",
       "      <td>2018-03-02 16:22:27</td>\n",
       "      <td>2.99</td>\n",
       "      <td>Shopping Basket</td>\n",
       "    </tr>\n",
       "    <tr>\n",
       "      <th>115191</th>\n",
       "      <td>414777</td>\n",
       "      <td>2017-10-20 08:41:47</td>\n",
       "      <td>10.58</td>\n",
       "      <td>Shopping Basket</td>\n",
       "    </tr>\n",
       "    <tr>\n",
       "      <th>128188</th>\n",
       "      <td>427802</td>\n",
       "      <td>2017-11-17 00:13:03</td>\n",
       "      <td>4099.74</td>\n",
       "      <td>Shopping Basket</td>\n",
       "    </tr>\n",
       "    <tr>\n",
       "      <th>34389</th>\n",
       "      <td>333873</td>\n",
       "      <td>2017-03-10 11:25:21</td>\n",
       "      <td>59.99</td>\n",
       "      <td>Shopping Basket</td>\n",
       "    </tr>\n",
       "    <tr>\n",
       "      <th>152408</th>\n",
       "      <td>452611</td>\n",
       "      <td>2017-11-30 13:49:16</td>\n",
       "      <td>689.00</td>\n",
       "      <td>Shopping Basket</td>\n",
       "    </tr>\n",
       "    <tr>\n",
       "      <th>23105</th>\n",
       "      <td>322585</td>\n",
       "      <td>2017-02-11 13:09:06</td>\n",
       "      <td>29.99</td>\n",
       "      <td>Shopping Basket</td>\n",
       "    </tr>\n",
       "    <tr>\n",
       "      <th>95731</th>\n",
       "      <td>395314</td>\n",
       "      <td>2017-09-01 09:03:05</td>\n",
       "      <td>469.00</td>\n",
       "      <td>Shopping Basket</td>\n",
       "    </tr>\n",
       "    <tr>\n",
       "      <th>77701</th>\n",
       "      <td>377249</td>\n",
       "      <td>2017-07-14 01:50:20</td>\n",
       "      <td>3.99</td>\n",
       "      <td>Place Order</td>\n",
       "    </tr>\n",
       "    <tr>\n",
       "      <th>87193</th>\n",
       "      <td>386768</td>\n",
       "      <td>2017-08-06 22:14:41</td>\n",
       "      <td>63.00</td>\n",
       "      <td>Shopping Basket</td>\n",
       "    </tr>\n",
       "    <tr>\n",
       "      <th>216809</th>\n",
       "      <td>517300</td>\n",
       "      <td>2018-02-25 20:56:12</td>\n",
       "      <td>1466.00</td>\n",
       "      <td>Shopping Basket</td>\n",
       "    </tr>\n",
       "    <tr>\n",
       "      <th>212536</th>\n",
       "      <td>513027</td>\n",
       "      <td>2018-02-17 09:18:24</td>\n",
       "      <td>1130.99</td>\n",
       "      <td>Completed</td>\n",
       "    </tr>\n",
       "    <tr>\n",
       "      <th>67154</th>\n",
       "      <td>366700</td>\n",
       "      <td>2017-06-18 12:08:56</td>\n",
       "      <td>39.98</td>\n",
       "      <td>Pending</td>\n",
       "    </tr>\n",
       "    <tr>\n",
       "      <th>13906</th>\n",
       "      <td>313384</td>\n",
       "      <td>2017-01-22 22:09:33</td>\n",
       "      <td>23.97</td>\n",
       "      <td>Shopping Basket</td>\n",
       "    </tr>\n",
       "    <tr>\n",
       "      <th>210433</th>\n",
       "      <td>510924</td>\n",
       "      <td>2018-02-13 20:32:17</td>\n",
       "      <td>99.17</td>\n",
       "      <td>Shopping Basket</td>\n",
       "    </tr>\n",
       "    <tr>\n",
       "      <th>212045</th>\n",
       "      <td>512536</td>\n",
       "      <td>2018-02-16 09:13:45</td>\n",
       "      <td>20.97</td>\n",
       "      <td>Completed</td>\n",
       "    </tr>\n",
       "    <tr>\n",
       "      <th>166860</th>\n",
       "      <td>467171</td>\n",
       "      <td>2017-12-19 20:31:17</td>\n",
       "      <td>0.00</td>\n",
       "      <td>Shopping Basket</td>\n",
       "    </tr>\n",
       "    <tr>\n",
       "      <th>99010</th>\n",
       "      <td>398594</td>\n",
       "      <td>2017-09-11 00:24:41</td>\n",
       "      <td>122.78</td>\n",
       "      <td>Completed</td>\n",
       "    </tr>\n",
       "    <tr>\n",
       "      <th>107207</th>\n",
       "      <td>406792</td>\n",
       "      <td>2017-09-30 22:22:53</td>\n",
       "      <td>0.00</td>\n",
       "      <td>Place Order</td>\n",
       "    </tr>\n",
       "    <tr>\n",
       "      <th>163178</th>\n",
       "      <td>463465</td>\n",
       "      <td>2017-12-15 01:00:52</td>\n",
       "      <td>37.98</td>\n",
       "      <td>Completed</td>\n",
       "    </tr>\n",
       "    <tr>\n",
       "      <th>169767</th>\n",
       "      <td>470139</td>\n",
       "      <td>2017-12-23 09:51:16</td>\n",
       "      <td>77.98</td>\n",
       "      <td>Completed</td>\n",
       "    </tr>\n",
       "    <tr>\n",
       "      <th>47577</th>\n",
       "      <td>347070</td>\n",
       "      <td>2017-04-18 14:47:31</td>\n",
       "      <td>99.00</td>\n",
       "      <td>Completed</td>\n",
       "    </tr>\n",
       "    <tr>\n",
       "      <th>82389</th>\n",
       "      <td>381963</td>\n",
       "      <td>2017-07-25 20:19:11</td>\n",
       "      <td>213.98</td>\n",
       "      <td>Cancelled</td>\n",
       "    </tr>\n",
       "    <tr>\n",
       "      <th>221440</th>\n",
       "      <td>521932</td>\n",
       "      <td>2018-03-05 22:01:36</td>\n",
       "      <td>69.99</td>\n",
       "      <td>Shopping Basket</td>\n",
       "    </tr>\n",
       "    <tr>\n",
       "      <th>131793</th>\n",
       "      <td>431435</td>\n",
       "      <td>2017-11-22 10:29:17</td>\n",
       "      <td>648.59</td>\n",
       "      <td>Shopping Basket</td>\n",
       "    </tr>\n",
       "    <tr>\n",
       "      <th>38659</th>\n",
       "      <td>338145</td>\n",
       "      <td>2017-03-23 11:03:50</td>\n",
       "      <td>0.00</td>\n",
       "      <td>Shopping Basket</td>\n",
       "    </tr>\n",
       "    <tr>\n",
       "      <th>102330</th>\n",
       "      <td>401915</td>\n",
       "      <td>2017-09-19 17:53:10</td>\n",
       "      <td>113.98</td>\n",
       "      <td>Completed</td>\n",
       "    </tr>\n",
       "    <tr>\n",
       "      <th>87398</th>\n",
       "      <td>386973</td>\n",
       "      <td>2017-08-07 11:40:52</td>\n",
       "      <td>885.32</td>\n",
       "      <td>Cancelled</td>\n",
       "    </tr>\n",
       "    <tr>\n",
       "      <th>74218</th>\n",
       "      <td>373764</td>\n",
       "      <td>2017-07-06 17:05:27</td>\n",
       "      <td>1948.99</td>\n",
       "      <td>Shopping Basket</td>\n",
       "    </tr>\n",
       "    <tr>\n",
       "      <th>148855</th>\n",
       "      <td>448988</td>\n",
       "      <td>2017-11-27 18:13:37</td>\n",
       "      <td>61.30</td>\n",
       "      <td>Completed</td>\n",
       "    </tr>\n",
       "    <tr>\n",
       "      <th>210994</th>\n",
       "      <td>511485</td>\n",
       "      <td>2018-02-14 14:03:34</td>\n",
       "      <td>1689.99</td>\n",
       "      <td>Shopping Basket</td>\n",
       "    </tr>\n",
       "    <tr>\n",
       "      <th>120177</th>\n",
       "      <td>419765</td>\n",
       "      <td>2017-10-30 12:47:11</td>\n",
       "      <td>1233.60</td>\n",
       "      <td>Place Order</td>\n",
       "    </tr>\n",
       "    <tr>\n",
       "      <th>4348</th>\n",
       "      <td>303817</td>\n",
       "      <td>2017-01-06 21:01:14</td>\n",
       "      <td>149.99</td>\n",
       "      <td>Shopping Basket</td>\n",
       "    </tr>\n",
       "    <tr>\n",
       "      <th>83169</th>\n",
       "      <td>382744</td>\n",
       "      <td>2017-07-27 10:58:09</td>\n",
       "      <td>29.99</td>\n",
       "      <td>Place Order</td>\n",
       "    </tr>\n",
       "    <tr>\n",
       "      <th>19504</th>\n",
       "      <td>318984</td>\n",
       "      <td>2017-02-01 21:05:57</td>\n",
       "      <td>17.44</td>\n",
       "      <td>Completed</td>\n",
       "    </tr>\n",
       "    <tr>\n",
       "      <th>6024</th>\n",
       "      <td>305493</td>\n",
       "      <td>2017-01-09 10:07:28</td>\n",
       "      <td>89.99</td>\n",
       "      <td>Shopping Basket</td>\n",
       "    </tr>\n",
       "    <tr>\n",
       "      <th>57549</th>\n",
       "      <td>357086</td>\n",
       "      <td>2017-05-18 21:47:08</td>\n",
       "      <td>174.99</td>\n",
       "      <td>Shopping Basket</td>\n",
       "    </tr>\n",
       "    <tr>\n",
       "      <th>225946</th>\n",
       "      <td>526439</td>\n",
       "      <td>2018-03-13 13:41:47</td>\n",
       "      <td>19.99</td>\n",
       "      <td>Shopping Basket</td>\n",
       "    </tr>\n",
       "    <tr>\n",
       "      <th>16337</th>\n",
       "      <td>315816</td>\n",
       "      <td>2017-01-27 12:46:41</td>\n",
       "      <td>0.00</td>\n",
       "      <td>Shopping Basket</td>\n",
       "    </tr>\n",
       "    <tr>\n",
       "      <th>70261</th>\n",
       "      <td>369807</td>\n",
       "      <td>2017-06-28 09:19:10</td>\n",
       "      <td>10.99</td>\n",
       "      <td>Shopping Basket</td>\n",
       "    </tr>\n",
       "    <tr>\n",
       "      <th>168844</th>\n",
       "      <td>469201</td>\n",
       "      <td>2017-12-22 08:46:58</td>\n",
       "      <td>4.99</td>\n",
       "      <td>Place Order</td>\n",
       "    </tr>\n",
       "    <tr>\n",
       "      <th>12035</th>\n",
       "      <td>311510</td>\n",
       "      <td>2017-01-18 11:43:34</td>\n",
       "      <td>74.98</td>\n",
       "      <td>Cancelled</td>\n",
       "    </tr>\n",
       "    <tr>\n",
       "      <th>200182</th>\n",
       "      <td>500667</td>\n",
       "      <td>2018-01-29 06:04:07</td>\n",
       "      <td>5080.58</td>\n",
       "      <td>Shopping Basket</td>\n",
       "    </tr>\n",
       "    <tr>\n",
       "      <th>23276</th>\n",
       "      <td>322756</td>\n",
       "      <td>2017-02-12 00:10:55</td>\n",
       "      <td>411.99</td>\n",
       "      <td>Shopping Basket</td>\n",
       "    </tr>\n",
       "    <tr>\n",
       "      <th>193646</th>\n",
       "      <td>494129</td>\n",
       "      <td>2018-01-18 20:04:23</td>\n",
       "      <td>329.99</td>\n",
       "      <td>Pending</td>\n",
       "    </tr>\n",
       "  </tbody>\n",
       "</table>\n",
       "<p>200 rows × 4 columns</p>\n",
       "</div>"
      ],
      "text/plain": [
       "        order_id         created_date  total_paid            state\n",
       "215882    516373  2018-02-23 10:03:16     1190.78  Shopping Basket\n",
       "178475    478867  2018-01-01 22:23:34       24.98        Completed\n",
       "197516    498000  2018-01-24 22:38:52     2403.58  Shopping Basket\n",
       "75564     375110  2017-07-10 07:03:16      229.00  Shopping Basket\n",
       "133719    433380  2017-11-23 07:07:21     2531.59  Shopping Basket\n",
       "104748    404333  2017-09-25 12:36:54      154.98      Place Order\n",
       "65022     364567  2017-06-11 22:58:03      144.97  Shopping Basket\n",
       "47318     346811  2017-04-17 21:32:28       22.49  Shopping Basket\n",
       "205941    506429  2018-02-05 19:04:05     1008.98      Place Order\n",
       "6623      306092  2017-01-09 22:00:10       22.98        Completed\n",
       "8403      307873  2017-01-12 11:36:24     1351.99  Shopping Basket\n",
       "93210     392789  2017-08-26 00:02:01       99.99  Shopping Basket\n",
       "87919     387496  2017-08-08 14:15:42        0.00  Shopping Basket\n",
       "199221    499706  2018-01-27 17:29:32      409.98  Shopping Basket\n",
       "38280     337766  2017-03-22 12:53:40     1558.99  Shopping Basket\n",
       "138812    438605  2017-11-24 11:52:46        0.00      Place Order\n",
       "21247     320727  2017-02-07 00:40:44       47.99  Shopping Basket\n",
       "201102    501587  2018-01-29 23:29:06       48.99  Shopping Basket\n",
       "93755     393334  2017-08-28 10:33:07       49.99      Place Order\n",
       "199795    500280  2018-01-28 18:39:28     1393.99  Shopping Basket\n",
       "141583    441674  2017-11-24 21:44:57     1888.59      Place Order\n",
       "129672    429287  2017-11-20 14:16:28      140.79        Completed\n",
       "131534    431176  2017-11-22 07:33:40      160.59  Shopping Basket\n",
       "113588    413174  2017-10-16 16:48:22       29.99  Shopping Basket\n",
       "78342     377890  2017-07-15 16:28:13     2561.16      Place Order\n",
       "149472    449642  2017-11-27 22:10:42      489.11        Completed\n",
       "187157    487569  2018-01-13 18:26:34      395.98        Completed\n",
       "88008     387586  2017-08-08 20:28:51      203.57          Pending\n",
       "104491    404076  2017-09-24 22:32:14     2371.59  Shopping Basket\n",
       "80829     380379  2017-07-21 13:15:41       94.99      Place Order\n",
       "67749     367295  2017-06-19 21:42:31        0.00      Place Order\n",
       "223886    524378  2018-03-10 03:41:15      675.00  Shopping Basket\n",
       "156433    456657  2017-12-07 03:44:32     3104.57  Shopping Basket\n",
       "117586    417172  2017-10-25 00:12:38       24.98        Completed\n",
       "193528    494010  2018-01-18 16:30:00       46.99  Shopping Basket\n",
       "55643     355179  2017-05-12 10:29:15      109.99        Completed\n",
       "36386     335870  2017-03-16 16:57:17       79.99  Shopping Basket\n",
       "45852     345345  2017-04-11 11:48:27      428.97        Completed\n",
       "177507    477899  2018-01-05 20:49:03       64.99        Completed\n",
       "106202    405787  2017-09-28 12:25:59      165.57        Completed\n",
       "217347    517838  2018-02-26 17:59:51     3494.01  Shopping Basket\n",
       "150829    451030  2017-11-28 23:30:17     3188.57  Shopping Basket\n",
       "71782     371328  2017-07-01 20:38:35     2629.00  Shopping Basket\n",
       "71170     370716  2017-06-30 12:15:57       14.99  Shopping Basket\n",
       "191848    492330  2018-01-16 18:56:01      309.99  Shopping Basket\n",
       "220877    521368  2018-03-05 10:36:05     4933.97  Shopping Basket\n",
       "59683     359222  2017-05-25 20:37:29       40.99  Shopping Basket\n",
       "39277     338763  2017-03-24 16:21:58     1544.98        Completed\n",
       "78118     377666  2017-07-14 20:30:25        0.00      Place Order\n",
       "115423    415009  2017-10-20 11:32:22        0.00      Place Order\n",
       "...          ...                  ...         ...              ...\n",
       "4951      304420  2017-01-07 19:37:27      366.99  Shopping Basket\n",
       "67629     367175  2017-06-19 16:00:57        0.00  Shopping Basket\n",
       "125858    425471  2017-11-11 19:59:11        0.00  Shopping Basket\n",
       "69812     369358  2017-06-26 22:41:40      140.99  Shopping Basket\n",
       "224634    525126  2018-03-10 21:16:35      251.99  Shopping Basket\n",
       "197209    497693  2018-01-24 14:13:29     1627.96  Shopping Basket\n",
       "219688    520179  2018-03-02 16:22:27        2.99  Shopping Basket\n",
       "115191    414777  2017-10-20 08:41:47       10.58  Shopping Basket\n",
       "128188    427802  2017-11-17 00:13:03     4099.74  Shopping Basket\n",
       "34389     333873  2017-03-10 11:25:21       59.99  Shopping Basket\n",
       "152408    452611  2017-11-30 13:49:16      689.00  Shopping Basket\n",
       "23105     322585  2017-02-11 13:09:06       29.99  Shopping Basket\n",
       "95731     395314  2017-09-01 09:03:05      469.00  Shopping Basket\n",
       "77701     377249  2017-07-14 01:50:20        3.99      Place Order\n",
       "87193     386768  2017-08-06 22:14:41       63.00  Shopping Basket\n",
       "216809    517300  2018-02-25 20:56:12     1466.00  Shopping Basket\n",
       "212536    513027  2018-02-17 09:18:24     1130.99        Completed\n",
       "67154     366700  2017-06-18 12:08:56       39.98          Pending\n",
       "13906     313384  2017-01-22 22:09:33       23.97  Shopping Basket\n",
       "210433    510924  2018-02-13 20:32:17       99.17  Shopping Basket\n",
       "212045    512536  2018-02-16 09:13:45       20.97        Completed\n",
       "166860    467171  2017-12-19 20:31:17        0.00  Shopping Basket\n",
       "99010     398594  2017-09-11 00:24:41      122.78        Completed\n",
       "107207    406792  2017-09-30 22:22:53        0.00      Place Order\n",
       "163178    463465  2017-12-15 01:00:52       37.98        Completed\n",
       "169767    470139  2017-12-23 09:51:16       77.98        Completed\n",
       "47577     347070  2017-04-18 14:47:31       99.00        Completed\n",
       "82389     381963  2017-07-25 20:19:11      213.98        Cancelled\n",
       "221440    521932  2018-03-05 22:01:36       69.99  Shopping Basket\n",
       "131793    431435  2017-11-22 10:29:17      648.59  Shopping Basket\n",
       "38659     338145  2017-03-23 11:03:50        0.00  Shopping Basket\n",
       "102330    401915  2017-09-19 17:53:10      113.98        Completed\n",
       "87398     386973  2017-08-07 11:40:52      885.32        Cancelled\n",
       "74218     373764  2017-07-06 17:05:27     1948.99  Shopping Basket\n",
       "148855    448988  2017-11-27 18:13:37       61.30        Completed\n",
       "210994    511485  2018-02-14 14:03:34     1689.99  Shopping Basket\n",
       "120177    419765  2017-10-30 12:47:11     1233.60      Place Order\n",
       "4348      303817  2017-01-06 21:01:14      149.99  Shopping Basket\n",
       "83169     382744  2017-07-27 10:58:09       29.99      Place Order\n",
       "19504     318984  2017-02-01 21:05:57       17.44        Completed\n",
       "6024      305493  2017-01-09 10:07:28       89.99  Shopping Basket\n",
       "57549     357086  2017-05-18 21:47:08      174.99  Shopping Basket\n",
       "225946    526439  2018-03-13 13:41:47       19.99  Shopping Basket\n",
       "16337     315816  2017-01-27 12:46:41        0.00  Shopping Basket\n",
       "70261     369807  2017-06-28 09:19:10       10.99  Shopping Basket\n",
       "168844    469201  2017-12-22 08:46:58        4.99      Place Order\n",
       "12035     311510  2017-01-18 11:43:34       74.98        Cancelled\n",
       "200182    500667  2018-01-29 06:04:07     5080.58  Shopping Basket\n",
       "23276     322756  2017-02-12 00:10:55      411.99  Shopping Basket\n",
       "193646    494129  2018-01-18 20:04:23      329.99          Pending\n",
       "\n",
       "[200 rows x 4 columns]"
      ]
     },
     "execution_count": 52,
     "metadata": {},
     "output_type": "execute_result"
    }
   ],
   "source": [
    "df.sample(200)"
   ]
  },
  {
   "cell_type": "code",
   "execution_count": 5,
   "metadata": {
    "colab": {
     "base_uri": "https://localhost:8080/"
    },
    "id": "JrY5nsdmMUeL",
    "outputId": "593ed425-2625-4b10-ba63-4fef445f87c8"
   },
   "outputs": [
    {
     "name": "stdout",
     "output_type": "stream",
     "text": [
      "<class 'pandas.core.frame.DataFrame'>\n",
      "RangeIndex: 226909 entries, 0 to 226908\n",
      "Data columns (total 4 columns):\n",
      " #   Column        Non-Null Count   Dtype  \n",
      "---  ------        --------------   -----  \n",
      " 0   order_id      226909 non-null  int64  \n",
      " 1   created_date  226909 non-null  object \n",
      " 2   total_paid    226904 non-null  float64\n",
      " 3   state         226909 non-null  object \n",
      "dtypes: float64(1), int64(1), object(2)\n",
      "memory usage: 6.9+ MB\n"
     ]
    }
   ],
   "source": [
    "df.info()  \n",
    "## hint: there are 5 nulls in total_paid - fix required\n",
    "## hint: created_date is of type object, has to be datetime - fix required"
   ]
  },
  {
   "cell_type": "code",
   "execution_count": 6,
   "metadata": {
    "colab": {
     "base_uri": "https://localhost:8080/",
     "height": 300
    },
    "id": "xt3AjCMpOWWG",
    "outputId": "23dd0382-bbc5-485f-fb46-bcd2a9953ceb"
   },
   "outputs": [
    {
     "data": {
      "text/html": [
       "<div>\n",
       "<style scoped>\n",
       "    .dataframe tbody tr th:only-of-type {\n",
       "        vertical-align: middle;\n",
       "    }\n",
       "\n",
       "    .dataframe tbody tr th {\n",
       "        vertical-align: top;\n",
       "    }\n",
       "\n",
       "    .dataframe thead th {\n",
       "        text-align: right;\n",
       "    }\n",
       "</style>\n",
       "<table border=\"1\" class=\"dataframe\">\n",
       "  <thead>\n",
       "    <tr style=\"text-align: right;\">\n",
       "      <th></th>\n",
       "      <th>order_id</th>\n",
       "      <th>total_paid</th>\n",
       "    </tr>\n",
       "  </thead>\n",
       "  <tbody>\n",
       "    <tr>\n",
       "      <th>count</th>\n",
       "      <td>226909.000000</td>\n",
       "      <td>226904.000000</td>\n",
       "    </tr>\n",
       "    <tr>\n",
       "      <th>mean</th>\n",
       "      <td>413296.482480</td>\n",
       "      <td>569.225818</td>\n",
       "    </tr>\n",
       "    <tr>\n",
       "      <th>std</th>\n",
       "      <td>65919.250331</td>\n",
       "      <td>1761.778002</td>\n",
       "    </tr>\n",
       "    <tr>\n",
       "      <th>min</th>\n",
       "      <td>241319.000000</td>\n",
       "      <td>0.000000</td>\n",
       "    </tr>\n",
       "    <tr>\n",
       "      <th>25%</th>\n",
       "      <td>356263.000000</td>\n",
       "      <td>34.190000</td>\n",
       "    </tr>\n",
       "    <tr>\n",
       "      <th>50%</th>\n",
       "      <td>413040.000000</td>\n",
       "      <td>112.990000</td>\n",
       "    </tr>\n",
       "    <tr>\n",
       "      <th>75%</th>\n",
       "      <td>470553.000000</td>\n",
       "      <td>525.980000</td>\n",
       "    </tr>\n",
       "    <tr>\n",
       "      <th>max</th>\n",
       "      <td>527401.000000</td>\n",
       "      <td>214747.530000</td>\n",
       "    </tr>\n",
       "  </tbody>\n",
       "</table>\n",
       "</div>"
      ],
      "text/plain": [
       "            order_id     total_paid\n",
       "count  226909.000000  226904.000000\n",
       "mean   413296.482480     569.225818\n",
       "std     65919.250331    1761.778002\n",
       "min    241319.000000       0.000000\n",
       "25%    356263.000000      34.190000\n",
       "50%    413040.000000     112.990000\n",
       "75%    470553.000000     525.980000\n",
       "max    527401.000000  214747.530000"
      ]
     },
     "execution_count": 6,
     "metadata": {},
     "output_type": "execute_result"
    }
   ],
   "source": [
    "df.describe()\n",
    "## hint: total_paid has huge std , min = 0 as some points! probably we should exclude the total_paid = 0 - fix required"
   ]
  },
  {
   "cell_type": "code",
   "execution_count": 7,
   "metadata": {
    "colab": {
     "base_uri": "https://localhost:8080/"
    },
    "id": "JOUkYsQLO5NK",
    "outputId": "59d1a127-6635-43b4-d485-49bd1d6f381c"
   },
   "outputs": [
    {
     "data": {
      "text/plain": [
       "order_id        226909\n",
       "created_date    224828\n",
       "total_paid       31236\n",
       "state                5\n",
       "dtype: int64"
      ]
     },
     "execution_count": 7,
     "metadata": {},
     "output_type": "execute_result"
    }
   ],
   "source": [
    "df.nunique() # hint: order_id is unique per row \n",
    "# hint: state is category data"
   ]
  },
  {
   "cell_type": "code",
   "execution_count": 8,
   "metadata": {
    "colab": {
     "base_uri": "https://localhost:8080/"
    },
    "id": "uNxu8V_zPPV6",
    "outputId": "9c6a92cd-ed76-427e-bc03-a5326683e87b"
   },
   "outputs": [
    {
     "data": {
      "text/plain": [
       "array(['Cancelled', 'Completed', 'Pending', 'Shopping Basket',\n",
       "       'Place Order'], dtype=object)"
      ]
     },
     "execution_count": 8,
     "metadata": {},
     "output_type": "execute_result"
    }
   ],
   "source": [
    "df.state.unique()\n",
    "#hint: state has value \"Shopping Basket\"/\"Pending\" which ideally shall not be part of the analysis - fix required\n",
    "# (if we care about actuall sold products)\n"
   ]
  },
  {
   "cell_type": "markdown",
   "metadata": {
    "id": "D7qtLn9bIaWv"
   },
   "source": [
    "## Clean the data per csv\n",
    "- Remember to create a copy of the df using ``` df.copy()``` "
   ]
  },
  {
   "cell_type": "code",
   "execution_count": 9,
   "metadata": {
    "id": "2iF8aX-tQce6"
   },
   "outputs": [],
   "source": [
    "df_c = df.copy()"
   ]
  },
  {
   "cell_type": "markdown",
   "metadata": {
    "id": "bWRDa2TgI36i"
   },
   "source": [
    "### Rename Columns , Set Index\n",
    " - ``` df.columns```   , ``` df.index``` \n",
    " - ``` df=df.rename(columns={\"A\": \"a\", \"B\": \"c\"})``` \n",
    " - ``` df.columns = [\"a\",\"b\":\"x\"]``` \n",
    "     - take care, renaming the columns like that will convert the NAN to some value!!\n",
    " - ``` df=df.set_index(\"col\")```  , ``` df=df.reset_index()``` "
   ]
  },
  {
   "cell_type": "code",
   "execution_count": 10,
   "metadata": {
    "colab": {
     "base_uri": "https://localhost:8080/"
    },
    "id": "Bb2s2UbkSDN5",
    "outputId": "85c68e06-128d-40af-efdf-734df950169d"
   },
   "outputs": [
    {
     "data": {
      "text/plain": [
       "Index(['order_id', 'created_date', 'total_paid', 'state'], dtype='object')"
      ]
     },
     "execution_count": 10,
     "metadata": {},
     "output_type": "execute_result"
    }
   ],
   "source": [
    "df_c.columns #hint: columns names shall has indec ord_"
   ]
  },
  {
   "cell_type": "code",
   "execution_count": 11,
   "metadata": {
    "id": "mHDdqIRypXox"
   },
   "outputs": [],
   "source": [
    "#orders_c.columns=['ord_id', 'ord_created_date', 'ord_total_paid', 'ord_state'] \n",
    "## take care, renaming the columns like that will convert the NAN to some value!!\n"
   ]
  },
  {
   "cell_type": "code",
   "execution_count": 12,
   "metadata": {
    "id": "72ZZgSWZqtpo"
   },
   "outputs": [],
   "source": [
    "df_c=df_c.rename(columns={\"order_id\": \"ord_ID\"\n",
    "                        , \"created_date\": \"ord_CreatDate\"\n",
    "                        , \"total_paid\": \"ord_TotalPaid\"\n",
    "                        , \"state\": \"ord_State\"})"
   ]
  },
  {
   "cell_type": "code",
   "execution_count": 13,
   "metadata": {
    "colab": {
     "base_uri": "https://localhost:8080/"
    },
    "id": "qD7W0_cBSReE",
    "outputId": "dfc0f8e4-6c19-425f-ef63-d6c3c6e7c759"
   },
   "outputs": [
    {
     "data": {
      "text/plain": [
       "RangeIndex(start=0, stop=226909, step=1)"
      ]
     },
     "execution_count": 13,
     "metadata": {},
     "output_type": "execute_result"
    }
   ],
   "source": [
    "df_c.index #hint: no need to change index"
   ]
  },
  {
   "cell_type": "markdown",
   "metadata": {
    "id": "fgvb_kkVIfSf"
   },
   "source": [
    "### Remove Duplicates Rows\n",
    "- ``` df.duplicated().sum()``` \n",
    "- ``` df.loc[df.duplicated()==True]``` \n",
    "- ``` df=df.drop:duplicates() ``` \n",
    "- ``` df=df.drop:duplicates(subset=[\"col\"])```  --> remove rows based on duplicated in specific column"
   ]
  },
  {
   "cell_type": "code",
   "execution_count": 14,
   "metadata": {
    "colab": {
     "base_uri": "https://localhost:8080/"
    },
    "id": "KmIlg8smTjcd",
    "outputId": "2995d0ec-fb92-4f2f-d551-dee0bcd331ee"
   },
   "outputs": [
    {
     "data": {
      "text/plain": [
       "0"
      ]
     },
     "execution_count": 14,
     "metadata": {},
     "output_type": "execute_result"
    }
   ],
   "source": [
    "df_c.duplicated().sum() #hint : No duplicates"
   ]
  },
  {
   "cell_type": "code",
   "execution_count": 15,
   "metadata": {
    "colab": {
     "base_uri": "https://localhost:8080/",
     "height": 49
    },
    "id": "IDHRyORYUdkB",
    "outputId": "467d14fd-f026-44ff-e187-c848de963ddd"
   },
   "outputs": [
    {
     "data": {
      "text/html": [
       "<div>\n",
       "<style scoped>\n",
       "    .dataframe tbody tr th:only-of-type {\n",
       "        vertical-align: middle;\n",
       "    }\n",
       "\n",
       "    .dataframe tbody tr th {\n",
       "        vertical-align: top;\n",
       "    }\n",
       "\n",
       "    .dataframe thead th {\n",
       "        text-align: right;\n",
       "    }\n",
       "</style>\n",
       "<table border=\"1\" class=\"dataframe\">\n",
       "  <thead>\n",
       "    <tr style=\"text-align: right;\">\n",
       "      <th></th>\n",
       "      <th>ord_ID</th>\n",
       "      <th>ord_CreatDate</th>\n",
       "      <th>ord_TotalPaid</th>\n",
       "      <th>ord_State</th>\n",
       "    </tr>\n",
       "  </thead>\n",
       "  <tbody>\n",
       "  </tbody>\n",
       "</table>\n",
       "</div>"
      ],
      "text/plain": [
       "Empty DataFrame\n",
       "Columns: [ord_ID, ord_CreatDate, ord_TotalPaid, ord_State]\n",
       "Index: []"
      ]
     },
     "execution_count": 15,
     "metadata": {},
     "output_type": "execute_result"
    }
   ],
   "source": [
    "df_c.loc[df_c.duplicated()==True]"
   ]
  },
  {
   "cell_type": "markdown",
   "metadata": {
    "id": "B7UNm64jIq0J"
   },
   "source": [
    "### Clean NAN and empty cells\n",
    "- ``` df.isna().sum()``` \n",
    "- ``` df = df.replace('^\\s*$', np.nan)```  -->replace empty cells and cells with only whitspace with NAN\n",
    "- ``` df=df.col.fillna(value,method=\"bfill\"or\"ffill\",limit=value)``` \n",
    "\n",
    "- Extra: \n",
    "  - ``` (df.values == '').sum()```  --> check if any cell is empty\n",
    "  - ``` df.col.str.isspace().sum()```  --> check if all cell is filled with whitespaces"
   ]
  },
  {
   "cell_type": "code",
   "execution_count": 16,
   "metadata": {
    "colab": {
     "base_uri": "https://localhost:8080/",
     "height": 206
    },
    "id": "bGvRgxz3p_TV",
    "outputId": "19b935cc-c20d-4bd2-fd3f-97ded2cc6988"
   },
   "outputs": [
    {
     "data": {
      "text/html": [
       "<div>\n",
       "<style scoped>\n",
       "    .dataframe tbody tr th:only-of-type {\n",
       "        vertical-align: middle;\n",
       "    }\n",
       "\n",
       "    .dataframe tbody tr th {\n",
       "        vertical-align: top;\n",
       "    }\n",
       "\n",
       "    .dataframe thead th {\n",
       "        text-align: right;\n",
       "    }\n",
       "</style>\n",
       "<table border=\"1\" class=\"dataframe\">\n",
       "  <thead>\n",
       "    <tr style=\"text-align: right;\">\n",
       "      <th></th>\n",
       "      <th>ord_ID</th>\n",
       "      <th>ord_CreatDate</th>\n",
       "      <th>ord_TotalPaid</th>\n",
       "      <th>ord_State</th>\n",
       "    </tr>\n",
       "  </thead>\n",
       "  <tbody>\n",
       "    <tr>\n",
       "      <th>79135</th>\n",
       "      <td>378683</td>\n",
       "      <td>2017-07-17 19:02:53</td>\n",
       "      <td>44.97</td>\n",
       "      <td>Completed</td>\n",
       "    </tr>\n",
       "    <tr>\n",
       "      <th>112764</th>\n",
       "      <td>412350</td>\n",
       "      <td>2017-10-14 08:14:01</td>\n",
       "      <td>277.79</td>\n",
       "      <td>Pending</td>\n",
       "    </tr>\n",
       "    <tr>\n",
       "      <th>179547</th>\n",
       "      <td>479940</td>\n",
       "      <td>2018-01-02 17:00:43</td>\n",
       "      <td>139.99</td>\n",
       "      <td>Shopping Basket</td>\n",
       "    </tr>\n",
       "    <tr>\n",
       "      <th>216888</th>\n",
       "      <td>517379</td>\n",
       "      <td>2018-02-25 23:12:31</td>\n",
       "      <td>68.07</td>\n",
       "      <td>Completed</td>\n",
       "    </tr>\n",
       "    <tr>\n",
       "      <th>70623</th>\n",
       "      <td>370169</td>\n",
       "      <td>2017-06-29 00:52:29</td>\n",
       "      <td>0.00</td>\n",
       "      <td>Shopping Basket</td>\n",
       "    </tr>\n",
       "  </tbody>\n",
       "</table>\n",
       "</div>"
      ],
      "text/plain": [
       "        ord_ID        ord_CreatDate  ord_TotalPaid        ord_State\n",
       "79135   378683  2017-07-17 19:02:53          44.97        Completed\n",
       "112764  412350  2017-10-14 08:14:01         277.79          Pending\n",
       "179547  479940  2018-01-02 17:00:43         139.99  Shopping Basket\n",
       "216888  517379  2018-02-25 23:12:31          68.07        Completed\n",
       "70623   370169  2017-06-29 00:52:29           0.00  Shopping Basket"
      ]
     },
     "execution_count": 16,
     "metadata": {},
     "output_type": "execute_result"
    }
   ],
   "source": [
    "df_c.sample(5)"
   ]
  },
  {
   "cell_type": "code",
   "execution_count": 17,
   "metadata": {
    "colab": {
     "base_uri": "https://localhost:8080/"
    },
    "id": "8cQXrWrmU_lv",
    "outputId": "13ec0a12-f2e5-43b9-bcc3-7b51b2466408"
   },
   "outputs": [
    {
     "data": {
      "text/plain": [
       "ord_ID           0\n",
       "ord_CreatDate    0\n",
       "ord_TotalPaid    5\n",
       "ord_State        0\n",
       "dtype: int64"
      ]
     },
     "execution_count": 17,
     "metadata": {},
     "output_type": "execute_result"
    }
   ],
   "source": [
    "df_c.isna().sum()"
   ]
  },
  {
   "cell_type": "code",
   "execution_count": 18,
   "metadata": {
    "colab": {
     "base_uri": "https://localhost:8080/"
    },
    "id": "Z6zNoY-vVx8N",
    "outputId": "c3fc8943-2692-4d8b-f8c8-b5eeeebb0db3"
   },
   "outputs": [
    {
     "name": "stdout",
     "output_type": "stream",
     "text": [
      "<class 'pandas.core.frame.DataFrame'>\n",
      "RangeIndex: 226909 entries, 0 to 226908\n",
      "Data columns (total 4 columns):\n",
      " #   Column         Non-Null Count   Dtype  \n",
      "---  ------         --------------   -----  \n",
      " 0   ord_ID         226909 non-null  int64  \n",
      " 1   ord_CreatDate  226909 non-null  object \n",
      " 2   ord_TotalPaid  226904 non-null  float64\n",
      " 3   ord_State      226909 non-null  object \n",
      "dtypes: float64(1), int64(1), object(2)\n",
      "memory usage: 6.9+ MB\n"
     ]
    }
   ],
   "source": [
    "df_c.info()"
   ]
  },
  {
   "cell_type": "code",
   "execution_count": 19,
   "metadata": {
    "id": "y_O3cG6YYOtI"
   },
   "outputs": [],
   "source": [
    "import numpy as np\n",
    "df_c = df_c.replace('^\\s*$', np.nan) #Question is it safe to do that?\n"
   ]
  },
  {
   "cell_type": "code",
   "execution_count": 20,
   "metadata": {
    "colab": {
     "base_uri": "https://localhost:8080/"
    },
    "id": "lXZRPynxaN49",
    "outputId": "72c0afea-08a3-4c21-ec91-adb2314d48cf"
   },
   "outputs": [
    {
     "data": {
      "text/plain": [
       "ord_ID           0\n",
       "ord_CreatDate    0\n",
       "ord_TotalPaid    5\n",
       "ord_State        0\n",
       "dtype: int64"
      ]
     },
     "execution_count": 20,
     "metadata": {},
     "output_type": "execute_result"
    }
   ],
   "source": [
    "df_c.isna().sum()"
   ]
  },
  {
   "cell_type": "code",
   "execution_count": 21,
   "metadata": {
    "colab": {
     "base_uri": "https://localhost:8080/"
    },
    "id": "PItz3zJjbXn7",
    "outputId": "2a27c57f-d0a8-4a4e-fb70-f09a242b82b0"
   },
   "outputs": [
    {
     "data": {
      "text/plain": [
       "dtype('float64')"
      ]
     },
     "execution_count": 21,
     "metadata": {},
     "output_type": "execute_result"
    }
   ],
   "source": [
    "df_c.ord_TotalPaid.dtype"
   ]
  },
  {
   "cell_type": "code",
   "execution_count": 22,
   "metadata": {
    "id": "8wLfrPM3bg4A"
   },
   "outputs": [],
   "source": [
    "df_c.ord_TotalPaid=df_c.ord_TotalPaid.fillna(0.0)"
   ]
  },
  {
   "cell_type": "code",
   "execution_count": 23,
   "metadata": {
    "colab": {
     "base_uri": "https://localhost:8080/"
    },
    "id": "k-NpApZjbuSQ",
    "outputId": "2884b2ac-bb84-4c61-b68e-fc61a34973ad"
   },
   "outputs": [
    {
     "data": {
      "text/plain": [
       "dtype('float64')"
      ]
     },
     "execution_count": 23,
     "metadata": {},
     "output_type": "execute_result"
    }
   ],
   "source": [
    "df_c.ord_TotalPaid.dtype"
   ]
  },
  {
   "cell_type": "code",
   "execution_count": 24,
   "metadata": {
    "colab": {
     "base_uri": "https://localhost:8080/"
    },
    "id": "FzfCtPiubqm1",
    "outputId": "11db28bc-9139-4924-88de-255c1452418e"
   },
   "outputs": [
    {
     "data": {
      "text/plain": [
       "ord_ID           0\n",
       "ord_CreatDate    0\n",
       "ord_TotalPaid    0\n",
       "ord_State        0\n",
       "dtype: int64"
      ]
     },
     "execution_count": 24,
     "metadata": {},
     "output_type": "execute_result"
    }
   ],
   "source": [
    "df_c.isna().sum()"
   ]
  },
  {
   "cell_type": "markdown",
   "metadata": {
    "id": "-EJsq-6qIvA_"
   },
   "source": [
    "### Fix DataTypes\n",
    "- ``` df.col.astype(type,errors=\"raise\")``` \n",
    "  - type = \"int\",\"float\",\"bool\",\"category\",\"object\",\"datetime\",\"timedelta\"\n",
    "- for mixed data\n",
    "  - ``` pd.to_numeric(df.col, downcast=x,errors=\"raise\") ``` \n",
    "  x = \"integer\" or \"float\"\n",
    "  - ``` pd.to_datetime(df.col, downcast=None,errors=\"raise\") ``` \n",
    "  - ``` pd.to_timedelta(df.col, downcast=None,errors=\"raise\") ``` "
   ]
  },
  {
   "cell_type": "code",
   "execution_count": 25,
   "metadata": {
    "colab": {
     "base_uri": "https://localhost:8080/"
    },
    "id": "4HelvLkBfjrm",
    "outputId": "0363fda5-9cfa-4d08-bb55-4ef4cb2d1bf3"
   },
   "outputs": [
    {
     "name": "stdout",
     "output_type": "stream",
     "text": [
      "<class 'pandas.core.frame.DataFrame'>\n",
      "RangeIndex: 226909 entries, 0 to 226908\n",
      "Data columns (total 4 columns):\n",
      " #   Column         Non-Null Count   Dtype  \n",
      "---  ------         --------------   -----  \n",
      " 0   ord_ID         226909 non-null  int64  \n",
      " 1   ord_CreatDate  226909 non-null  object \n",
      " 2   ord_TotalPaid  226909 non-null  float64\n",
      " 3   ord_State      226909 non-null  object \n",
      "dtypes: float64(1), int64(1), object(2)\n",
      "memory usage: 6.9+ MB\n"
     ]
    }
   ],
   "source": [
    "df_c.info()"
   ]
  },
  {
   "cell_type": "code",
   "execution_count": 26,
   "metadata": {
    "id": "qIRWcTgkfFmy"
   },
   "outputs": [],
   "source": [
    "df_c.ord_CreatDate=pd.to_datetime(df_c.ord_CreatDate,errors=\"raise\")"
   ]
  },
  {
   "cell_type": "code",
   "execution_count": 27,
   "metadata": {
    "colab": {
     "base_uri": "https://localhost:8080/"
    },
    "id": "05zcp9HQgJX5",
    "outputId": "aa0c84f9-fc4b-492e-c69b-a7c83c3384fd"
   },
   "outputs": [
    {
     "name": "stdout",
     "output_type": "stream",
     "text": [
      "<class 'pandas.core.frame.DataFrame'>\n",
      "RangeIndex: 226909 entries, 0 to 226908\n",
      "Data columns (total 4 columns):\n",
      " #   Column         Non-Null Count   Dtype         \n",
      "---  ------         --------------   -----         \n",
      " 0   ord_ID         226909 non-null  int64         \n",
      " 1   ord_CreatDate  226909 non-null  datetime64[ns]\n",
      " 2   ord_TotalPaid  226909 non-null  float64       \n",
      " 3   ord_State      226909 non-null  object        \n",
      "dtypes: datetime64[ns](1), float64(1), int64(1), object(1)\n",
      "memory usage: 6.9+ MB\n"
     ]
    }
   ],
   "source": [
    "df_c.info()"
   ]
  },
  {
   "cell_type": "code",
   "execution_count": 28,
   "metadata": {
    "id": "Hd9EZvnngWeI"
   },
   "outputs": [],
   "source": [
    "df_c.ord_State = df_c.ord_State.astype(\"category\",errors=\"raise\")"
   ]
  },
  {
   "cell_type": "code",
   "execution_count": 29,
   "metadata": {
    "colab": {
     "base_uri": "https://localhost:8080/"
    },
    "id": "sRWFgZP2gqMf",
    "outputId": "e8855bf2-1ba4-438e-d087-7bc04bda3b04"
   },
   "outputs": [
    {
     "name": "stdout",
     "output_type": "stream",
     "text": [
      "<class 'pandas.core.frame.DataFrame'>\n",
      "RangeIndex: 226909 entries, 0 to 226908\n",
      "Data columns (total 4 columns):\n",
      " #   Column         Non-Null Count   Dtype         \n",
      "---  ------         --------------   -----         \n",
      " 0   ord_ID         226909 non-null  int64         \n",
      " 1   ord_CreatDate  226909 non-null  datetime64[ns]\n",
      " 2   ord_TotalPaid  226909 non-null  float64       \n",
      " 3   ord_State      226909 non-null  category      \n",
      "dtypes: category(1), datetime64[ns](1), float64(1), int64(1)\n",
      "memory usage: 5.4 MB\n"
     ]
    }
   ],
   "source": [
    "df_c.info()"
   ]
  },
  {
   "cell_type": "markdown",
   "metadata": {
    "id": "txLIlKN0Jds0"
   },
   "source": [
    "### Drop duplicate/un-necessary Columns\n",
    "- ``` df=df.drop(columns=[\"col1\",\"col2\"])``` "
   ]
  },
  {
   "cell_type": "code",
   "execution_count": 30,
   "metadata": {
    "colab": {
     "base_uri": "https://localhost:8080/",
     "height": 300
    },
    "id": "zlSSs4wChCgj",
    "outputId": "b75b0cb0-ce4b-46a9-bb85-7c7d4034bc11"
   },
   "outputs": [
    {
     "data": {
      "text/html": [
       "<div>\n",
       "<style scoped>\n",
       "    .dataframe tbody tr th:only-of-type {\n",
       "        vertical-align: middle;\n",
       "    }\n",
       "\n",
       "    .dataframe tbody tr th {\n",
       "        vertical-align: top;\n",
       "    }\n",
       "\n",
       "    .dataframe thead th {\n",
       "        text-align: right;\n",
       "    }\n",
       "</style>\n",
       "<table border=\"1\" class=\"dataframe\">\n",
       "  <thead>\n",
       "    <tr style=\"text-align: right;\">\n",
       "      <th></th>\n",
       "      <th>ord_ID</th>\n",
       "      <th>ord_TotalPaid</th>\n",
       "    </tr>\n",
       "  </thead>\n",
       "  <tbody>\n",
       "    <tr>\n",
       "      <th>count</th>\n",
       "      <td>226909.000000</td>\n",
       "      <td>226909.000000</td>\n",
       "    </tr>\n",
       "    <tr>\n",
       "      <th>mean</th>\n",
       "      <td>413296.482480</td>\n",
       "      <td>569.213275</td>\n",
       "    </tr>\n",
       "    <tr>\n",
       "      <th>std</th>\n",
       "      <td>65919.250331</td>\n",
       "      <td>1761.760618</td>\n",
       "    </tr>\n",
       "    <tr>\n",
       "      <th>min</th>\n",
       "      <td>241319.000000</td>\n",
       "      <td>0.000000</td>\n",
       "    </tr>\n",
       "    <tr>\n",
       "      <th>25%</th>\n",
       "      <td>356263.000000</td>\n",
       "      <td>34.190000</td>\n",
       "    </tr>\n",
       "    <tr>\n",
       "      <th>50%</th>\n",
       "      <td>413040.000000</td>\n",
       "      <td>112.990000</td>\n",
       "    </tr>\n",
       "    <tr>\n",
       "      <th>75%</th>\n",
       "      <td>470553.000000</td>\n",
       "      <td>525.970000</td>\n",
       "    </tr>\n",
       "    <tr>\n",
       "      <th>max</th>\n",
       "      <td>527401.000000</td>\n",
       "      <td>214747.530000</td>\n",
       "    </tr>\n",
       "  </tbody>\n",
       "</table>\n",
       "</div>"
      ],
      "text/plain": [
       "              ord_ID  ord_TotalPaid\n",
       "count  226909.000000  226909.000000\n",
       "mean   413296.482480     569.213275\n",
       "std     65919.250331    1761.760618\n",
       "min    241319.000000       0.000000\n",
       "25%    356263.000000      34.190000\n",
       "50%    413040.000000     112.990000\n",
       "75%    470553.000000     525.970000\n",
       "max    527401.000000  214747.530000"
      ]
     },
     "execution_count": 30,
     "metadata": {},
     "output_type": "execute_result"
    }
   ],
   "source": [
    "df_c.describe() ## hint: all columns contain needed data. nothing to drop"
   ]
  },
  {
   "cell_type": "markdown",
   "metadata": {
    "id": "KW-1Z3wsJs7P"
   },
   "source": [
    "## Re-Explore the data\n",
    "draw some ``` df.col.hist()```  , ``` df.ser.boxplot()```  per column\n",
    "take notes"
   ]
  },
  {
   "cell_type": "code",
   "execution_count": 31,
   "metadata": {
    "colab": {
     "base_uri": "https://localhost:8080/",
     "height": 363
    },
    "id": "-X8xGWkoiIhW",
    "outputId": "798403c0-fe63-4e3f-e082-ba37e406ab72"
   },
   "outputs": [
    {
     "data": {
      "text/html": [
       "<div>\n",
       "<style scoped>\n",
       "    .dataframe tbody tr th:only-of-type {\n",
       "        vertical-align: middle;\n",
       "    }\n",
       "\n",
       "    .dataframe tbody tr th {\n",
       "        vertical-align: top;\n",
       "    }\n",
       "\n",
       "    .dataframe thead th {\n",
       "        text-align: right;\n",
       "    }\n",
       "</style>\n",
       "<table border=\"1\" class=\"dataframe\">\n",
       "  <thead>\n",
       "    <tr style=\"text-align: right;\">\n",
       "      <th></th>\n",
       "      <th>ord_ID</th>\n",
       "      <th>ord_CreatDate</th>\n",
       "      <th>ord_TotalPaid</th>\n",
       "      <th>ord_State</th>\n",
       "    </tr>\n",
       "  </thead>\n",
       "  <tbody>\n",
       "    <tr>\n",
       "      <th>192721</th>\n",
       "      <td>493203</td>\n",
       "      <td>2018-01-17 20:58:39</td>\n",
       "      <td>171.97</td>\n",
       "      <td>Place Order</td>\n",
       "    </tr>\n",
       "    <tr>\n",
       "      <th>11087</th>\n",
       "      <td>310560</td>\n",
       "      <td>2017-01-16 17:12:37</td>\n",
       "      <td>3856.48</td>\n",
       "      <td>Place Order</td>\n",
       "    </tr>\n",
       "    <tr>\n",
       "      <th>113375</th>\n",
       "      <td>412961</td>\n",
       "      <td>2017-10-16 10:34:44</td>\n",
       "      <td>23.98</td>\n",
       "      <td>Completed</td>\n",
       "    </tr>\n",
       "    <tr>\n",
       "      <th>112339</th>\n",
       "      <td>411925</td>\n",
       "      <td>2017-10-13 00:06:38</td>\n",
       "      <td>2872.59</td>\n",
       "      <td>Cancelled</td>\n",
       "    </tr>\n",
       "    <tr>\n",
       "      <th>223360</th>\n",
       "      <td>523852</td>\n",
       "      <td>2018-03-09 17:12:54</td>\n",
       "      <td>958.97</td>\n",
       "      <td>Pending</td>\n",
       "    </tr>\n",
       "    <tr>\n",
       "      <th>41627</th>\n",
       "      <td>341116</td>\n",
       "      <td>2017-03-31 10:02:53</td>\n",
       "      <td>1598.99</td>\n",
       "      <td>Cancelled</td>\n",
       "    </tr>\n",
       "    <tr>\n",
       "      <th>50162</th>\n",
       "      <td>349656</td>\n",
       "      <td>2017-04-25 16:44:48</td>\n",
       "      <td>0.00</td>\n",
       "      <td>Shopping Basket</td>\n",
       "    </tr>\n",
       "    <tr>\n",
       "      <th>189009</th>\n",
       "      <td>489488</td>\n",
       "      <td>2018-01-12 13:23:15</td>\n",
       "      <td>34.98</td>\n",
       "      <td>Completed</td>\n",
       "    </tr>\n",
       "    <tr>\n",
       "      <th>82037</th>\n",
       "      <td>381611</td>\n",
       "      <td>2017-07-25 00:07:05</td>\n",
       "      <td>355.22</td>\n",
       "      <td>Shopping Basket</td>\n",
       "    </tr>\n",
       "    <tr>\n",
       "      <th>125942</th>\n",
       "      <td>425555</td>\n",
       "      <td>2017-11-11 22:57:36</td>\n",
       "      <td>266.93</td>\n",
       "      <td>Completed</td>\n",
       "    </tr>\n",
       "  </tbody>\n",
       "</table>\n",
       "</div>"
      ],
      "text/plain": [
       "        ord_ID       ord_CreatDate  ord_TotalPaid        ord_State\n",
       "192721  493203 2018-01-17 20:58:39         171.97      Place Order\n",
       "11087   310560 2017-01-16 17:12:37        3856.48      Place Order\n",
       "113375  412961 2017-10-16 10:34:44          23.98        Completed\n",
       "112339  411925 2017-10-13 00:06:38        2872.59        Cancelled\n",
       "223360  523852 2018-03-09 17:12:54         958.97          Pending\n",
       "41627   341116 2017-03-31 10:02:53        1598.99        Cancelled\n",
       "50162   349656 2017-04-25 16:44:48           0.00  Shopping Basket\n",
       "189009  489488 2018-01-12 13:23:15          34.98        Completed\n",
       "82037   381611 2017-07-25 00:07:05         355.22  Shopping Basket\n",
       "125942  425555 2017-11-11 22:57:36         266.93        Completed"
      ]
     },
     "execution_count": 31,
     "metadata": {},
     "output_type": "execute_result"
    }
   ],
   "source": [
    "df_c.sample(10)  # Question: how state=\"Shopping Basket\" while \"Total_paid\" has a value!! "
   ]
  },
  {
   "cell_type": "code",
   "execution_count": 32,
   "metadata": {
    "colab": {
     "base_uri": "https://localhost:8080/"
    },
    "id": "Z3g7JNrriewg",
    "outputId": "6cd1c3f1-885a-468f-a3b1-fc4b70a6a852"
   },
   "outputs": [
    {
     "data": {
      "text/plain": [
       "['Completed', 'Shopping Basket', 'Place Order', 'Pending', 'Cancelled']\n",
       "Categories (5, object): ['Cancelled', 'Completed', 'Pending', 'Place Order', 'Shopping Basket']"
      ]
     },
     "execution_count": 32,
     "metadata": {},
     "output_type": "execute_result"
    }
   ],
   "source": [
    "df_c.loc[df_c.ord_TotalPaid == 0.0].ord_State.unique()"
   ]
  }
 ],
 "metadata": {
  "colab": {
   "provenance": [],
   "toc_visible": true
  },
  "kernelspec": {
   "display_name": "Python 3 (ipykernel)",
   "language": "python",
   "name": "python3"
  },
  "language_info": {
   "codemirror_mode": {
    "name": "ipython",
    "version": 3
   },
   "file_extension": ".py",
   "mimetype": "text/x-python",
   "name": "python",
   "nbconvert_exporter": "python",
   "pygments_lexer": "ipython3",
   "version": "3.9.13"
  }
 },
 "nbformat": 4,
 "nbformat_minor": 4
}
