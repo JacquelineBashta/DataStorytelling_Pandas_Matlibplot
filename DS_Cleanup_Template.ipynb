{
 "cells": [
  {
   "cell_type": "markdown",
   "metadata": {
    "id": "RCIYjmVBHMnx",
    "tags": []
   },
   "source": [
    "# CleaningUp orders.csv (ord_)\n",
    "orders.csv – Every row in this file represents an order.\n",
    "- order_id – a unique identifier for each order\n",
    "- created_date – a timestamp for when the order was created\n",
    "- total_paid – the total amount paid by the customer for this order, in euros\n",
    "- state \n",
    "  - “Shopping basket” – products have been placed in the shopping basket, but the order has not been processed yet.\n",
    "  - “Pending” – the shopping basket has been processed, but payment confirmation is pending.\n",
    "  - “Completed” – the order has been placed and paid, and the transaction is completed.\n",
    "  - “Cancelled” – the order has been cancelled and the payment returned to the customer."
   ]
  },
  {
   "cell_type": "markdown",
   "metadata": {
    "id": "pG4_-xlaHrtV"
   },
   "source": [
    "## Importing the data\n",
    "- ``` glob-glob(\"file_pat\") ``` --> read multi files \n",
    "- ``` pd.concat(dfs_list, ignore_index=True)```  --> create 1 df from multi dfs\n",
    "- ``` pd.read_csv(path)```  --> create 1 df from a csv file"
   ]
  },
  {
   "cell_type": "code",
   "execution_count": 36,
   "metadata": {
    "id": "N5PcASxWHmmb"
   },
   "outputs": [],
   "source": [
    "import pandas as pd\n",
    "\n",
    "url = \"https://drive.google.com/file/d/1Vu0q91qZw6lqhIqbjoXYvYAQTmVHh6uZ/view?usp=sharing\" \n",
    "path = \"https://drive.google.com/uc?export=download&id=\"+url.split(\"/\")[-2]\n",
    "df = pd.read_csv(path)\n",
    "\n"
   ]
  },
  {
   "cell_type": "code",
   "execution_count": 37,
   "metadata": {
    "colab": {
     "base_uri": "https://localhost:8080/"
    },
    "id": "wdtR5G1SleHd",
    "outputId": "ca93ec7e-90de-4c57-f8dd-0711bea44479"
   },
   "outputs": [
    {
     "data": {
      "text/plain": [
       "0"
      ]
     },
     "execution_count": 37,
     "metadata": {},
     "output_type": "execute_result"
    }
   ],
   "source": [
    "#pd.options.display.max_rows = 999\n",
    "pd.set_option(\"display.min_rows\", 0) \n",
    "pd.get_option(\"display.min_rows\")"
   ]
  },
  {
   "cell_type": "code",
   "execution_count": 38,
   "metadata": {},
   "outputs": [
    {
     "data": {
      "text/plain": [
       "200"
      ]
     },
     "execution_count": 38,
     "metadata": {},
     "output_type": "execute_result"
    }
   ],
   "source": [
    "pd.set_option(\"display.max_rows\", 200) \n",
    "pd.get_option(\"display.max_rows\")"
   ]
  },
  {
   "cell_type": "markdown",
   "metadata": {
    "id": "9OsnA7TrIVZh"
   },
   "source": [
    "## Explore the data\n",
    "- ``` df.shape``` , ``` df.size``` , ``` df.ndim``` \n",
    "- ``` df.sample(5)``` , ``` df.info()``` \n",
    "- Numerical : ``` df.describe()``` , ``` df.nlargest()``` , ``` df.nsmallest()``` \n",
    "- Category : ``` df.nunique()``` , ``` df.unique() ``` "
   ]
  },
  {
   "cell_type": "code",
   "execution_count": 39,
   "metadata": {
    "colab": {
     "base_uri": "https://localhost:8080/"
    },
    "id": "WYH-IAlTMPfb",
    "outputId": "2b890dc0-5e28-4ad0-f284-e5adeed080bb"
   },
   "outputs": [
    {
     "data": {
      "text/plain": [
       "(226909, 4)"
      ]
     },
     "execution_count": 39,
     "metadata": {},
     "output_type": "execute_result"
    }
   ],
   "source": [
    "df.shape"
   ]
  },
  {
   "cell_type": "code",
   "execution_count": 40,
   "metadata": {
    "colab": {
     "base_uri": "https://localhost:8080/",
     "height": 206
    },
    "id": "D-h_qX3xOFje",
    "outputId": "6c50129c-9d43-4d52-ce05-7de640d192bb"
   },
   "outputs": [
    {
     "data": {
      "text/html": [
       "<div>\n",
       "<style scoped>\n",
       "    .dataframe tbody tr th:only-of-type {\n",
       "        vertical-align: middle;\n",
       "    }\n",
       "\n",
       "    .dataframe tbody tr th {\n",
       "        vertical-align: top;\n",
       "    }\n",
       "\n",
       "    .dataframe thead th {\n",
       "        text-align: right;\n",
       "    }\n",
       "</style>\n",
       "<table border=\"1\" class=\"dataframe\">\n",
       "  <thead>\n",
       "    <tr style=\"text-align: right;\">\n",
       "      <th></th>\n",
       "      <th>order_id</th>\n",
       "      <th>created_date</th>\n",
       "      <th>total_paid</th>\n",
       "      <th>state</th>\n",
       "    </tr>\n",
       "  </thead>\n",
       "  <tbody>\n",
       "    <tr>\n",
       "      <th>110482</th>\n",
       "      <td>410068</td>\n",
       "      <td>2017-10-08 20:06:27</td>\n",
       "      <td>0.00</td>\n",
       "      <td>Cancelled</td>\n",
       "    </tr>\n",
       "    <tr>\n",
       "      <th>125939</th>\n",
       "      <td>425552</td>\n",
       "      <td>2017-11-11 22:42:25</td>\n",
       "      <td>87.33</td>\n",
       "      <td>Shopping Basket</td>\n",
       "    </tr>\n",
       "    <tr>\n",
       "      <th>192573</th>\n",
       "      <td>493055</td>\n",
       "      <td>2018-01-17 16:42:15</td>\n",
       "      <td>0.00</td>\n",
       "      <td>Place Order</td>\n",
       "    </tr>\n",
       "    <tr>\n",
       "      <th>135405</th>\n",
       "      <td>435077</td>\n",
       "      <td>2017-11-23 16:36:19</td>\n",
       "      <td>629.99</td>\n",
       "      <td>Shopping Basket</td>\n",
       "    </tr>\n",
       "    <tr>\n",
       "      <th>28879</th>\n",
       "      <td>328359</td>\n",
       "      <td>2017-02-24 10:02:36</td>\n",
       "      <td>114.98</td>\n",
       "      <td>Shopping Basket</td>\n",
       "    </tr>\n",
       "    <tr>\n",
       "      <th>98546</th>\n",
       "      <td>398130</td>\n",
       "      <td>2017-09-09 12:24:56</td>\n",
       "      <td>70.78</td>\n",
       "      <td>Completed</td>\n",
       "    </tr>\n",
       "    <tr>\n",
       "      <th>115026</th>\n",
       "      <td>414612</td>\n",
       "      <td>2017-10-19 19:03:26</td>\n",
       "      <td>74.99</td>\n",
       "      <td>Shopping Basket</td>\n",
       "    </tr>\n",
       "    <tr>\n",
       "      <th>10089</th>\n",
       "      <td>309562</td>\n",
       "      <td>2017-01-14 23:03:56</td>\n",
       "      <td>55.99</td>\n",
       "      <td>Shopping Basket</td>\n",
       "    </tr>\n",
       "    <tr>\n",
       "      <th>67312</th>\n",
       "      <td>366858</td>\n",
       "      <td>2017-06-18 22:23:52</td>\n",
       "      <td>75.52</td>\n",
       "      <td>Shopping Basket</td>\n",
       "    </tr>\n",
       "    <tr>\n",
       "      <th>99446</th>\n",
       "      <td>399030</td>\n",
       "      <td>2017-09-13 13:41:25</td>\n",
       "      <td>2133.59</td>\n",
       "      <td>Cancelled</td>\n",
       "    </tr>\n",
       "    <tr>\n",
       "      <th>76007</th>\n",
       "      <td>375553</td>\n",
       "      <td>2017-07-10 19:27:50</td>\n",
       "      <td>2418.00</td>\n",
       "      <td>Place Order</td>\n",
       "    </tr>\n",
       "    <tr>\n",
       "      <th>9026</th>\n",
       "      <td>308497</td>\n",
       "      <td>2017-01-13 09:40:41</td>\n",
       "      <td>19.98</td>\n",
       "      <td>Completed</td>\n",
       "    </tr>\n",
       "    <tr>\n",
       "      <th>139299</th>\n",
       "      <td>439094</td>\n",
       "      <td>2017-11-24 13:38:46</td>\n",
       "      <td>31.44</td>\n",
       "      <td>Pending</td>\n",
       "    </tr>\n",
       "    <tr>\n",
       "      <th>93870</th>\n",
       "      <td>393449</td>\n",
       "      <td>2017-08-28 13:49:36</td>\n",
       "      <td>119.90</td>\n",
       "      <td>Place Order</td>\n",
       "    </tr>\n",
       "    <tr>\n",
       "      <th>180336</th>\n",
       "      <td>480739</td>\n",
       "      <td>2018-01-03 11:38:04</td>\n",
       "      <td>69.99</td>\n",
       "      <td>Completed</td>\n",
       "    </tr>\n",
       "    <tr>\n",
       "      <th>110570</th>\n",
       "      <td>410156</td>\n",
       "      <td>2017-10-08 22:32:45</td>\n",
       "      <td>50.99</td>\n",
       "      <td>Pending</td>\n",
       "    </tr>\n",
       "    <tr>\n",
       "      <th>115153</th>\n",
       "      <td>414739</td>\n",
       "      <td>2017-10-22 20:39:19</td>\n",
       "      <td>49.96</td>\n",
       "      <td>Completed</td>\n",
       "    </tr>\n",
       "    <tr>\n",
       "      <th>197721</th>\n",
       "      <td>498205</td>\n",
       "      <td>2018-01-25 10:13:45</td>\n",
       "      <td>203.99</td>\n",
       "      <td>Place Order</td>\n",
       "    </tr>\n",
       "    <tr>\n",
       "      <th>24809</th>\n",
       "      <td>324289</td>\n",
       "      <td>2017-02-14 21:31:10</td>\n",
       "      <td>22.98</td>\n",
       "      <td>Completed</td>\n",
       "    </tr>\n",
       "    <tr>\n",
       "      <th>572</th>\n",
       "      <td>299938</td>\n",
       "      <td>2017-01-01 20:21:01</td>\n",
       "      <td>0.00</td>\n",
       "      <td>Shopping Basket</td>\n",
       "    </tr>\n",
       "  </tbody>\n",
       "</table>\n",
       "</div>"
      ],
      "text/plain": [
       "        order_id         created_date  total_paid            state\n",
       "110482    410068  2017-10-08 20:06:27        0.00        Cancelled\n",
       "125939    425552  2017-11-11 22:42:25       87.33  Shopping Basket\n",
       "192573    493055  2018-01-17 16:42:15        0.00      Place Order\n",
       "135405    435077  2017-11-23 16:36:19      629.99  Shopping Basket\n",
       "28879     328359  2017-02-24 10:02:36      114.98  Shopping Basket\n",
       "98546     398130  2017-09-09 12:24:56       70.78        Completed\n",
       "115026    414612  2017-10-19 19:03:26       74.99  Shopping Basket\n",
       "10089     309562  2017-01-14 23:03:56       55.99  Shopping Basket\n",
       "67312     366858  2017-06-18 22:23:52       75.52  Shopping Basket\n",
       "99446     399030  2017-09-13 13:41:25     2133.59        Cancelled\n",
       "76007     375553  2017-07-10 19:27:50     2418.00      Place Order\n",
       "9026      308497  2017-01-13 09:40:41       19.98        Completed\n",
       "139299    439094  2017-11-24 13:38:46       31.44          Pending\n",
       "93870     393449  2017-08-28 13:49:36      119.90      Place Order\n",
       "180336    480739  2018-01-03 11:38:04       69.99        Completed\n",
       "110570    410156  2017-10-08 22:32:45       50.99          Pending\n",
       "115153    414739  2017-10-22 20:39:19       49.96        Completed\n",
       "197721    498205  2018-01-25 10:13:45      203.99      Place Order\n",
       "24809     324289  2017-02-14 21:31:10       22.98        Completed\n",
       "572       299938  2017-01-01 20:21:01        0.00  Shopping Basket"
      ]
     },
     "execution_count": 40,
     "metadata": {},
     "output_type": "execute_result"
    }
   ],
   "source": [
    "df.sample(20)"
   ]
  },
  {
   "cell_type": "code",
   "execution_count": 41,
   "metadata": {
    "colab": {
     "base_uri": "https://localhost:8080/"
    },
    "id": "JrY5nsdmMUeL",
    "outputId": "593ed425-2625-4b10-ba63-4fef445f87c8"
   },
   "outputs": [
    {
     "name": "stdout",
     "output_type": "stream",
     "text": [
      "<class 'pandas.core.frame.DataFrame'>\n",
      "RangeIndex: 226909 entries, 0 to 226908\n",
      "Data columns (total 4 columns):\n",
      " #   Column        Non-Null Count   Dtype  \n",
      "---  ------        --------------   -----  \n",
      " 0   order_id      226909 non-null  int64  \n",
      " 1   created_date  226909 non-null  object \n",
      " 2   total_paid    226904 non-null  float64\n",
      " 3   state         226909 non-null  object \n",
      "dtypes: float64(1), int64(1), object(2)\n",
      "memory usage: 6.9+ MB\n"
     ]
    }
   ],
   "source": [
    "df.info()  \n",
    "## hint: there are 5 nulls in total_paid - fix required\n",
    "## hint: created_date is of type object, has to be datetime - fix required"
   ]
  },
  {
   "cell_type": "code",
   "execution_count": 42,
   "metadata": {
    "colab": {
     "base_uri": "https://localhost:8080/",
     "height": 300
    },
    "id": "xt3AjCMpOWWG",
    "outputId": "23dd0382-bbc5-485f-fb46-bcd2a9953ceb"
   },
   "outputs": [
    {
     "data": {
      "text/html": [
       "<div>\n",
       "<style scoped>\n",
       "    .dataframe tbody tr th:only-of-type {\n",
       "        vertical-align: middle;\n",
       "    }\n",
       "\n",
       "    .dataframe tbody tr th {\n",
       "        vertical-align: top;\n",
       "    }\n",
       "\n",
       "    .dataframe thead th {\n",
       "        text-align: right;\n",
       "    }\n",
       "</style>\n",
       "<table border=\"1\" class=\"dataframe\">\n",
       "  <thead>\n",
       "    <tr style=\"text-align: right;\">\n",
       "      <th></th>\n",
       "      <th>order_id</th>\n",
       "      <th>total_paid</th>\n",
       "    </tr>\n",
       "  </thead>\n",
       "  <tbody>\n",
       "    <tr>\n",
       "      <th>count</th>\n",
       "      <td>226909.000000</td>\n",
       "      <td>226904.000000</td>\n",
       "    </tr>\n",
       "    <tr>\n",
       "      <th>mean</th>\n",
       "      <td>413296.482480</td>\n",
       "      <td>569.225818</td>\n",
       "    </tr>\n",
       "    <tr>\n",
       "      <th>std</th>\n",
       "      <td>65919.250331</td>\n",
       "      <td>1761.778002</td>\n",
       "    </tr>\n",
       "    <tr>\n",
       "      <th>min</th>\n",
       "      <td>241319.000000</td>\n",
       "      <td>0.000000</td>\n",
       "    </tr>\n",
       "    <tr>\n",
       "      <th>25%</th>\n",
       "      <td>356263.000000</td>\n",
       "      <td>34.190000</td>\n",
       "    </tr>\n",
       "    <tr>\n",
       "      <th>50%</th>\n",
       "      <td>413040.000000</td>\n",
       "      <td>112.990000</td>\n",
       "    </tr>\n",
       "    <tr>\n",
       "      <th>75%</th>\n",
       "      <td>470553.000000</td>\n",
       "      <td>525.980000</td>\n",
       "    </tr>\n",
       "    <tr>\n",
       "      <th>max</th>\n",
       "      <td>527401.000000</td>\n",
       "      <td>214747.530000</td>\n",
       "    </tr>\n",
       "  </tbody>\n",
       "</table>\n",
       "</div>"
      ],
      "text/plain": [
       "            order_id     total_paid\n",
       "count  226909.000000  226904.000000\n",
       "mean   413296.482480     569.225818\n",
       "std     65919.250331    1761.778002\n",
       "min    241319.000000       0.000000\n",
       "25%    356263.000000      34.190000\n",
       "50%    413040.000000     112.990000\n",
       "75%    470553.000000     525.980000\n",
       "max    527401.000000  214747.530000"
      ]
     },
     "execution_count": 42,
     "metadata": {},
     "output_type": "execute_result"
    }
   ],
   "source": [
    "df.describe()\n",
    "## hint: total_paid has huge std , min = 0 as some points! probably we should exclude the total_paid = 0 - fix required"
   ]
  },
  {
   "cell_type": "code",
   "execution_count": 43,
   "metadata": {
    "colab": {
     "base_uri": "https://localhost:8080/"
    },
    "id": "JOUkYsQLO5NK",
    "outputId": "59d1a127-6635-43b4-d485-49bd1d6f381c"
   },
   "outputs": [
    {
     "data": {
      "text/plain": [
       "order_id        226909\n",
       "created_date    224828\n",
       "total_paid       31236\n",
       "state                5\n",
       "dtype: int64"
      ]
     },
     "execution_count": 43,
     "metadata": {},
     "output_type": "execute_result"
    }
   ],
   "source": [
    "df.nunique() # hint: order_id is unique per row \n",
    "# hint: state is category data"
   ]
  },
  {
   "cell_type": "code",
   "execution_count": 69,
   "metadata": {
    "colab": {
     "base_uri": "https://localhost:8080/"
    },
    "id": "uNxu8V_zPPV6",
    "outputId": "9c6a92cd-ed76-427e-bc03-a5326683e87b"
   },
   "outputs": [
    {
     "data": {
      "text/plain": [
       "array(['Cancelled', 'Completed', 'Pending', 'Shopping Basket',\n",
       "       'Place Order'], dtype=object)"
      ]
     },
     "execution_count": 69,
     "metadata": {},
     "output_type": "execute_result"
    }
   ],
   "source": [
    "(df\n",
    " .state\n",
    " .unique())\n",
    "\n",
    "\n",
    "#hint: state has value \"Shopping Basket\"/\"Pending\" which ideally shall not be part of the analysis - fix required\n",
    "# (if we care about actuall sold products)\n"
   ]
  },
  {
   "cell_type": "markdown",
   "metadata": {
    "id": "D7qtLn9bIaWv"
   },
   "source": [
    "## Clean the data per csv\n",
    "- Remember to create a copy of the df using ``` df.copy()``` "
   ]
  },
  {
   "cell_type": "code",
   "execution_count": 45,
   "metadata": {
    "id": "2iF8aX-tQce6"
   },
   "outputs": [],
   "source": [
    "df_c = df.copy()"
   ]
  },
  {
   "cell_type": "markdown",
   "metadata": {
    "id": "bWRDa2TgI36i"
   },
   "source": [
    "### Rename Columns , Set Index\n",
    " - ``` df.columns```   , ``` df.index``` \n",
    " - ``` df=df.rename(columns={\"A\": \"a\", \"B\": \"c\"})``` \n",
    " - ``` df.columns = [\"a\",\"b\":\"x\"]``` \n",
    "     - take care, renaming the columns like that will convert the NAN to some value!!\n",
    " - ``` df=df.set_index(\"col\")```  , ``` df=df.reset_index()``` "
   ]
  },
  {
   "cell_type": "code",
   "execution_count": 46,
   "metadata": {
    "colab": {
     "base_uri": "https://localhost:8080/"
    },
    "id": "Bb2s2UbkSDN5",
    "outputId": "85c68e06-128d-40af-efdf-734df950169d"
   },
   "outputs": [
    {
     "data": {
      "text/plain": [
       "Index(['order_id', 'created_date', 'total_paid', 'state'], dtype='object')"
      ]
     },
     "execution_count": 46,
     "metadata": {},
     "output_type": "execute_result"
    }
   ],
   "source": [
    "df_c.columns #hint: columns names shall has indec ord_"
   ]
  },
  {
   "cell_type": "code",
   "execution_count": 47,
   "metadata": {
    "id": "mHDdqIRypXox"
   },
   "outputs": [],
   "source": [
    "#orders_c.columns=['ord_id', 'ord_created_date', 'ord_total_paid', 'ord_state'] \n",
    "## take care, renaming the columns like that will convert the NAN to some value!!\n"
   ]
  },
  {
   "cell_type": "code",
   "execution_count": 70,
   "metadata": {
    "id": "72ZZgSWZqtpo"
   },
   "outputs": [],
   "source": [
    "df_c=(\n",
    "    df_c\n",
    "    .rename(\n",
    "        columns={\"order_id\": \"ord_ID\"\n",
    "                , \"created_date\": \"ord_CreatDate\"\n",
    "                , \"total_paid\": \"ord_TotalPaid\"\n",
    "                , \"state\": \"ord_State\"})\n",
    ")"
   ]
  },
  {
   "cell_type": "code",
   "execution_count": 71,
   "metadata": {
    "colab": {
     "base_uri": "https://localhost:8080/"
    },
    "id": "qD7W0_cBSReE",
    "outputId": "dfc0f8e4-6c19-425f-ef63-d6c3c6e7c759"
   },
   "outputs": [
    {
     "data": {
      "text/plain": [
       "RangeIndex(start=0, stop=226909, step=1)"
      ]
     },
     "execution_count": 71,
     "metadata": {},
     "output_type": "execute_result"
    }
   ],
   "source": [
    "df_c.index #hint: no need to change index"
   ]
  },
  {
   "cell_type": "markdown",
   "metadata": {
    "id": "fgvb_kkVIfSf"
   },
   "source": [
    "### Remove Duplicates Rows\n",
    "- ``` df.duplicated().sum()``` \n",
    "- ``` df.loc[df.duplicated()==True]``` \n",
    "- ``` df=df.drop:duplicates() ``` \n",
    "- ``` df=df.drop:duplicates(subset=[\"col\"])```  --> remove rows based on duplicated in specific column"
   ]
  },
  {
   "cell_type": "code",
   "execution_count": 50,
   "metadata": {
    "colab": {
     "base_uri": "https://localhost:8080/"
    },
    "id": "KmIlg8smTjcd",
    "outputId": "2995d0ec-fb92-4f2f-d551-dee0bcd331ee"
   },
   "outputs": [
    {
     "data": {
      "text/plain": [
       "0"
      ]
     },
     "execution_count": 50,
     "metadata": {},
     "output_type": "execute_result"
    }
   ],
   "source": [
    "df_c.duplicated().sum() #hint : No duplicates"
   ]
  },
  {
   "cell_type": "code",
   "execution_count": 51,
   "metadata": {
    "colab": {
     "base_uri": "https://localhost:8080/",
     "height": 49
    },
    "id": "IDHRyORYUdkB",
    "outputId": "467d14fd-f026-44ff-e187-c848de963ddd"
   },
   "outputs": [
    {
     "data": {
      "text/html": [
       "<div>\n",
       "<style scoped>\n",
       "    .dataframe tbody tr th:only-of-type {\n",
       "        vertical-align: middle;\n",
       "    }\n",
       "\n",
       "    .dataframe tbody tr th {\n",
       "        vertical-align: top;\n",
       "    }\n",
       "\n",
       "    .dataframe thead th {\n",
       "        text-align: right;\n",
       "    }\n",
       "</style>\n",
       "<table border=\"1\" class=\"dataframe\">\n",
       "  <thead>\n",
       "    <tr style=\"text-align: right;\">\n",
       "      <th></th>\n",
       "      <th>ord_ID</th>\n",
       "      <th>ord_CreatDate</th>\n",
       "      <th>ord_TotalPaid</th>\n",
       "      <th>ord_State</th>\n",
       "    </tr>\n",
       "  </thead>\n",
       "  <tbody>\n",
       "  </tbody>\n",
       "</table>\n",
       "</div>"
      ],
      "text/plain": [
       "Empty DataFrame\n",
       "Columns: [ord_ID, ord_CreatDate, ord_TotalPaid, ord_State]\n",
       "Index: []"
      ]
     },
     "execution_count": 51,
     "metadata": {},
     "output_type": "execute_result"
    }
   ],
   "source": [
    "df_c.loc[df_c.duplicated()==True]"
   ]
  },
  {
   "cell_type": "markdown",
   "metadata": {
    "id": "B7UNm64jIq0J"
   },
   "source": [
    "### Clean NAN and empty cells\n",
    "- ``` df.isna().sum()``` \n",
    "- ``` df = df.replace('^\\s*$', np.nan)```  -->replace empty cells and cells with only whitspace with NAN\n",
    "- ``` df=df.col.fillna(value,method=\"bfill\"or\"ffill\",limit=value)``` \n",
    "\n",
    "- Extra: \n",
    "  - ``` (df.values == '').sum()```  --> check if any cell is empty\n",
    "  - ``` df.col.str.isspace().sum()```  --> check if all cell is filled with whitespaces"
   ]
  },
  {
   "cell_type": "code",
   "execution_count": 52,
   "metadata": {
    "colab": {
     "base_uri": "https://localhost:8080/",
     "height": 206
    },
    "id": "bGvRgxz3p_TV",
    "outputId": "19b935cc-c20d-4bd2-fd3f-97ded2cc6988"
   },
   "outputs": [
    {
     "data": {
      "text/html": [
       "<div>\n",
       "<style scoped>\n",
       "    .dataframe tbody tr th:only-of-type {\n",
       "        vertical-align: middle;\n",
       "    }\n",
       "\n",
       "    .dataframe tbody tr th {\n",
       "        vertical-align: top;\n",
       "    }\n",
       "\n",
       "    .dataframe thead th {\n",
       "        text-align: right;\n",
       "    }\n",
       "</style>\n",
       "<table border=\"1\" class=\"dataframe\">\n",
       "  <thead>\n",
       "    <tr style=\"text-align: right;\">\n",
       "      <th></th>\n",
       "      <th>ord_ID</th>\n",
       "      <th>ord_CreatDate</th>\n",
       "      <th>ord_TotalPaid</th>\n",
       "      <th>ord_State</th>\n",
       "    </tr>\n",
       "  </thead>\n",
       "  <tbody>\n",
       "    <tr>\n",
       "      <th>202786</th>\n",
       "      <td>503272</td>\n",
       "      <td>2018-01-31 21:36:27</td>\n",
       "      <td>1948.59</td>\n",
       "      <td>Shopping Basket</td>\n",
       "    </tr>\n",
       "    <tr>\n",
       "      <th>211215</th>\n",
       "      <td>511706</td>\n",
       "      <td>2018-02-14 19:42:16</td>\n",
       "      <td>0.00</td>\n",
       "      <td>Shopping Basket</td>\n",
       "    </tr>\n",
       "    <tr>\n",
       "      <th>115416</th>\n",
       "      <td>415002</td>\n",
       "      <td>2017-10-20 11:21:09</td>\n",
       "      <td>19.99</td>\n",
       "      <td>Shopping Basket</td>\n",
       "    </tr>\n",
       "    <tr>\n",
       "      <th>81538</th>\n",
       "      <td>381112</td>\n",
       "      <td>2017-07-23 23:10:58</td>\n",
       "      <td>34.00</td>\n",
       "      <td>Shopping Basket</td>\n",
       "    </tr>\n",
       "    <tr>\n",
       "      <th>107432</th>\n",
       "      <td>407017</td>\n",
       "      <td>2017-10-01 22:33:45</td>\n",
       "      <td>399.00</td>\n",
       "      <td>Shopping Basket</td>\n",
       "    </tr>\n",
       "  </tbody>\n",
       "</table>\n",
       "</div>"
      ],
      "text/plain": [
       "        ord_ID        ord_CreatDate  ord_TotalPaid        ord_State\n",
       "202786  503272  2018-01-31 21:36:27        1948.59  Shopping Basket\n",
       "211215  511706  2018-02-14 19:42:16           0.00  Shopping Basket\n",
       "115416  415002  2017-10-20 11:21:09          19.99  Shopping Basket\n",
       "81538   381112  2017-07-23 23:10:58          34.00  Shopping Basket\n",
       "107432  407017  2017-10-01 22:33:45         399.00  Shopping Basket"
      ]
     },
     "execution_count": 52,
     "metadata": {},
     "output_type": "execute_result"
    }
   ],
   "source": [
    "df_c.sample(5)"
   ]
  },
  {
   "cell_type": "code",
   "execution_count": 53,
   "metadata": {
    "colab": {
     "base_uri": "https://localhost:8080/"
    },
    "id": "8cQXrWrmU_lv",
    "outputId": "13ec0a12-f2e5-43b9-bcc3-7b51b2466408"
   },
   "outputs": [
    {
     "data": {
      "text/plain": [
       "ord_ID           0\n",
       "ord_CreatDate    0\n",
       "ord_TotalPaid    5\n",
       "ord_State        0\n",
       "dtype: int64"
      ]
     },
     "execution_count": 53,
     "metadata": {},
     "output_type": "execute_result"
    }
   ],
   "source": [
    "df_c.isna().sum()"
   ]
  },
  {
   "cell_type": "code",
   "execution_count": 54,
   "metadata": {
    "colab": {
     "base_uri": "https://localhost:8080/"
    },
    "id": "Z6zNoY-vVx8N",
    "outputId": "c3fc8943-2692-4d8b-f8c8-b5eeeebb0db3"
   },
   "outputs": [
    {
     "name": "stdout",
     "output_type": "stream",
     "text": [
      "<class 'pandas.core.frame.DataFrame'>\n",
      "RangeIndex: 226909 entries, 0 to 226908\n",
      "Data columns (total 4 columns):\n",
      " #   Column         Non-Null Count   Dtype  \n",
      "---  ------         --------------   -----  \n",
      " 0   ord_ID         226909 non-null  int64  \n",
      " 1   ord_CreatDate  226909 non-null  object \n",
      " 2   ord_TotalPaid  226904 non-null  float64\n",
      " 3   ord_State      226909 non-null  object \n",
      "dtypes: float64(1), int64(1), object(2)\n",
      "memory usage: 6.9+ MB\n"
     ]
    }
   ],
   "source": [
    "df_c.info()"
   ]
  },
  {
   "cell_type": "code",
   "execution_count": 55,
   "metadata": {
    "id": "y_O3cG6YYOtI"
   },
   "outputs": [],
   "source": [
    "import numpy as np\n",
    "df_c = df_c.replace('^\\s*$', np.nan) #Question is it safe to do that?\n"
   ]
  },
  {
   "cell_type": "code",
   "execution_count": 56,
   "metadata": {
    "colab": {
     "base_uri": "https://localhost:8080/"
    },
    "id": "lXZRPynxaN49",
    "outputId": "72c0afea-08a3-4c21-ec91-adb2314d48cf"
   },
   "outputs": [
    {
     "data": {
      "text/plain": [
       "ord_ID           0\n",
       "ord_CreatDate    0\n",
       "ord_TotalPaid    5\n",
       "ord_State        0\n",
       "dtype: int64"
      ]
     },
     "execution_count": 56,
     "metadata": {},
     "output_type": "execute_result"
    }
   ],
   "source": [
    "df_c.isna().sum()"
   ]
  },
  {
   "cell_type": "code",
   "execution_count": 57,
   "metadata": {
    "colab": {
     "base_uri": "https://localhost:8080/"
    },
    "id": "PItz3zJjbXn7",
    "outputId": "2a27c57f-d0a8-4a4e-fb70-f09a242b82b0"
   },
   "outputs": [
    {
     "data": {
      "text/plain": [
       "dtype('float64')"
      ]
     },
     "execution_count": 57,
     "metadata": {},
     "output_type": "execute_result"
    }
   ],
   "source": [
    "df_c.ord_TotalPaid.dtype"
   ]
  },
  {
   "cell_type": "code",
   "execution_count": 58,
   "metadata": {
    "id": "8wLfrPM3bg4A"
   },
   "outputs": [],
   "source": [
    "df_c.ord_TotalPaid=df_c.ord_TotalPaid.fillna(0.0)"
   ]
  },
  {
   "cell_type": "code",
   "execution_count": 59,
   "metadata": {
    "colab": {
     "base_uri": "https://localhost:8080/"
    },
    "id": "k-NpApZjbuSQ",
    "outputId": "2884b2ac-bb84-4c61-b68e-fc61a34973ad"
   },
   "outputs": [
    {
     "data": {
      "text/plain": [
       "dtype('float64')"
      ]
     },
     "execution_count": 59,
     "metadata": {},
     "output_type": "execute_result"
    }
   ],
   "source": [
    "df_c.ord_TotalPaid.dtype"
   ]
  },
  {
   "cell_type": "code",
   "execution_count": 60,
   "metadata": {
    "colab": {
     "base_uri": "https://localhost:8080/"
    },
    "id": "FzfCtPiubqm1",
    "outputId": "11db28bc-9139-4924-88de-255c1452418e"
   },
   "outputs": [
    {
     "data": {
      "text/plain": [
       "ord_ID           0\n",
       "ord_CreatDate    0\n",
       "ord_TotalPaid    0\n",
       "ord_State        0\n",
       "dtype: int64"
      ]
     },
     "execution_count": 60,
     "metadata": {},
     "output_type": "execute_result"
    }
   ],
   "source": [
    "df_c.isna().sum()"
   ]
  },
  {
   "cell_type": "markdown",
   "metadata": {
    "id": "-EJsq-6qIvA_"
   },
   "source": [
    "### Fix DataTypes\n",
    "TODO: update to use assign\n",
    "- ``` df.col.astype(type,errors=\"raise\")``` \n",
    "  - type = \"int\",\"float\",\"bool\",\"category\",\"object\",\"datetime\",\"timedelta\"\n",
    "- for mixed data\n",
    "  - ``` pd.to_numeric(df.col, downcast=x,errors=\"raise\") ``` \n",
    "  x = \"integer\" or \"float\"\n",
    "  - ``` pd.to_datetime(df.col, downcast=None,errors=\"raise\") ``` \n",
    "  - ``` pd.to_timedelta(df.col, downcast=None,errors=\"raise\") ``` "
   ]
  },
  {
   "cell_type": "code",
   "execution_count": 61,
   "metadata": {
    "colab": {
     "base_uri": "https://localhost:8080/"
    },
    "id": "4HelvLkBfjrm",
    "outputId": "0363fda5-9cfa-4d08-bb55-4ef4cb2d1bf3"
   },
   "outputs": [
    {
     "name": "stdout",
     "output_type": "stream",
     "text": [
      "<class 'pandas.core.frame.DataFrame'>\n",
      "RangeIndex: 226909 entries, 0 to 226908\n",
      "Data columns (total 4 columns):\n",
      " #   Column         Non-Null Count   Dtype  \n",
      "---  ------         --------------   -----  \n",
      " 0   ord_ID         226909 non-null  int64  \n",
      " 1   ord_CreatDate  226909 non-null  object \n",
      " 2   ord_TotalPaid  226909 non-null  float64\n",
      " 3   ord_State      226909 non-null  object \n",
      "dtypes: float64(1), int64(1), object(2)\n",
      "memory usage: 6.9+ MB\n"
     ]
    }
   ],
   "source": [
    "df_c.info()"
   ]
  },
  {
   "cell_type": "code",
   "execution_count": 62,
   "metadata": {
    "id": "qIRWcTgkfFmy"
   },
   "outputs": [],
   "source": [
    "df_c.ord_CreatDate=pd.to_datetime(df_c.ord_CreatDate,errors=\"raise\")"
   ]
  },
  {
   "cell_type": "code",
   "execution_count": 63,
   "metadata": {
    "colab": {
     "base_uri": "https://localhost:8080/"
    },
    "id": "05zcp9HQgJX5",
    "outputId": "aa0c84f9-fc4b-492e-c69b-a7c83c3384fd"
   },
   "outputs": [
    {
     "name": "stdout",
     "output_type": "stream",
     "text": [
      "<class 'pandas.core.frame.DataFrame'>\n",
      "RangeIndex: 226909 entries, 0 to 226908\n",
      "Data columns (total 4 columns):\n",
      " #   Column         Non-Null Count   Dtype         \n",
      "---  ------         --------------   -----         \n",
      " 0   ord_ID         226909 non-null  int64         \n",
      " 1   ord_CreatDate  226909 non-null  datetime64[ns]\n",
      " 2   ord_TotalPaid  226909 non-null  float64       \n",
      " 3   ord_State      226909 non-null  object        \n",
      "dtypes: datetime64[ns](1), float64(1), int64(1), object(1)\n",
      "memory usage: 6.9+ MB\n"
     ]
    }
   ],
   "source": [
    "df_c.info()"
   ]
  },
  {
   "cell_type": "code",
   "execution_count": 64,
   "metadata": {
    "id": "Hd9EZvnngWeI"
   },
   "outputs": [],
   "source": [
    "df_c.ord_State = df_c.ord_State.astype(\"category\",errors=\"raise\")"
   ]
  },
  {
   "cell_type": "code",
   "execution_count": 65,
   "metadata": {
    "colab": {
     "base_uri": "https://localhost:8080/"
    },
    "id": "sRWFgZP2gqMf",
    "outputId": "e8855bf2-1ba4-438e-d087-7bc04bda3b04"
   },
   "outputs": [
    {
     "name": "stdout",
     "output_type": "stream",
     "text": [
      "<class 'pandas.core.frame.DataFrame'>\n",
      "RangeIndex: 226909 entries, 0 to 226908\n",
      "Data columns (total 4 columns):\n",
      " #   Column         Non-Null Count   Dtype         \n",
      "---  ------         --------------   -----         \n",
      " 0   ord_ID         226909 non-null  int64         \n",
      " 1   ord_CreatDate  226909 non-null  datetime64[ns]\n",
      " 2   ord_TotalPaid  226909 non-null  float64       \n",
      " 3   ord_State      226909 non-null  category      \n",
      "dtypes: category(1), datetime64[ns](1), float64(1), int64(1)\n",
      "memory usage: 5.4 MB\n"
     ]
    }
   ],
   "source": [
    "df_c.info()"
   ]
  },
  {
   "cell_type": "markdown",
   "metadata": {},
   "source": [
    "### Remove Outliers ??\n",
    "TODO: Detailed it\n",
    "remove un-necessary values(respectively related rows) of specific columns"
   ]
  },
  {
   "cell_type": "markdown",
   "metadata": {
    "id": "txLIlKN0Jds0"
   },
   "source": [
    "### Drop duplicate/un-necessary Columns\n",
    "- ``` df=df.drop(columns=[\"col1\",\"col2\"])``` "
   ]
  },
  {
   "cell_type": "code",
   "execution_count": 66,
   "metadata": {
    "colab": {
     "base_uri": "https://localhost:8080/",
     "height": 300
    },
    "id": "zlSSs4wChCgj",
    "outputId": "b75b0cb0-ce4b-46a9-bb85-7c7d4034bc11"
   },
   "outputs": [
    {
     "data": {
      "text/html": [
       "<div>\n",
       "<style scoped>\n",
       "    .dataframe tbody tr th:only-of-type {\n",
       "        vertical-align: middle;\n",
       "    }\n",
       "\n",
       "    .dataframe tbody tr th {\n",
       "        vertical-align: top;\n",
       "    }\n",
       "\n",
       "    .dataframe thead th {\n",
       "        text-align: right;\n",
       "    }\n",
       "</style>\n",
       "<table border=\"1\" class=\"dataframe\">\n",
       "  <thead>\n",
       "    <tr style=\"text-align: right;\">\n",
       "      <th></th>\n",
       "      <th>ord_ID</th>\n",
       "      <th>ord_TotalPaid</th>\n",
       "    </tr>\n",
       "  </thead>\n",
       "  <tbody>\n",
       "    <tr>\n",
       "      <th>count</th>\n",
       "      <td>226909.000000</td>\n",
       "      <td>226909.000000</td>\n",
       "    </tr>\n",
       "    <tr>\n",
       "      <th>mean</th>\n",
       "      <td>413296.482480</td>\n",
       "      <td>569.213275</td>\n",
       "    </tr>\n",
       "    <tr>\n",
       "      <th>std</th>\n",
       "      <td>65919.250331</td>\n",
       "      <td>1761.760618</td>\n",
       "    </tr>\n",
       "    <tr>\n",
       "      <th>min</th>\n",
       "      <td>241319.000000</td>\n",
       "      <td>0.000000</td>\n",
       "    </tr>\n",
       "    <tr>\n",
       "      <th>25%</th>\n",
       "      <td>356263.000000</td>\n",
       "      <td>34.190000</td>\n",
       "    </tr>\n",
       "    <tr>\n",
       "      <th>50%</th>\n",
       "      <td>413040.000000</td>\n",
       "      <td>112.990000</td>\n",
       "    </tr>\n",
       "    <tr>\n",
       "      <th>75%</th>\n",
       "      <td>470553.000000</td>\n",
       "      <td>525.970000</td>\n",
       "    </tr>\n",
       "    <tr>\n",
       "      <th>max</th>\n",
       "      <td>527401.000000</td>\n",
       "      <td>214747.530000</td>\n",
       "    </tr>\n",
       "  </tbody>\n",
       "</table>\n",
       "</div>"
      ],
      "text/plain": [
       "              ord_ID  ord_TotalPaid\n",
       "count  226909.000000  226909.000000\n",
       "mean   413296.482480     569.213275\n",
       "std     65919.250331    1761.760618\n",
       "min    241319.000000       0.000000\n",
       "25%    356263.000000      34.190000\n",
       "50%    413040.000000     112.990000\n",
       "75%    470553.000000     525.970000\n",
       "max    527401.000000  214747.530000"
      ]
     },
     "execution_count": 66,
     "metadata": {},
     "output_type": "execute_result"
    }
   ],
   "source": [
    "df_c.describe() ## hint: all columns contain needed data. nothing to drop"
   ]
  },
  {
   "cell_type": "markdown",
   "metadata": {
    "id": "KW-1Z3wsJs7P"
   },
   "source": [
    "## Re-Explore the data\n",
    "draw some ``` df.col.hist()```  , ``` df.ser.boxplot()```  per column\n",
    "take notes"
   ]
  },
  {
   "cell_type": "code",
   "execution_count": 67,
   "metadata": {
    "colab": {
     "base_uri": "https://localhost:8080/",
     "height": 363
    },
    "id": "-X8xGWkoiIhW",
    "outputId": "798403c0-fe63-4e3f-e082-ba37e406ab72"
   },
   "outputs": [
    {
     "data": {
      "text/html": [
       "<div>\n",
       "<style scoped>\n",
       "    .dataframe tbody tr th:only-of-type {\n",
       "        vertical-align: middle;\n",
       "    }\n",
       "\n",
       "    .dataframe tbody tr th {\n",
       "        vertical-align: top;\n",
       "    }\n",
       "\n",
       "    .dataframe thead th {\n",
       "        text-align: right;\n",
       "    }\n",
       "</style>\n",
       "<table border=\"1\" class=\"dataframe\">\n",
       "  <thead>\n",
       "    <tr style=\"text-align: right;\">\n",
       "      <th></th>\n",
       "      <th>ord_ID</th>\n",
       "      <th>ord_CreatDate</th>\n",
       "      <th>ord_TotalPaid</th>\n",
       "      <th>ord_State</th>\n",
       "    </tr>\n",
       "  </thead>\n",
       "  <tbody>\n",
       "    <tr>\n",
       "      <th>213132</th>\n",
       "      <td>513623</td>\n",
       "      <td>2018-02-18 07:28:32</td>\n",
       "      <td>620.00</td>\n",
       "      <td>Shopping Basket</td>\n",
       "    </tr>\n",
       "    <tr>\n",
       "      <th>148787</th>\n",
       "      <td>448920</td>\n",
       "      <td>2017-11-27 17:40:19</td>\n",
       "      <td>5.09</td>\n",
       "      <td>Shopping Basket</td>\n",
       "    </tr>\n",
       "    <tr>\n",
       "      <th>127949</th>\n",
       "      <td>427563</td>\n",
       "      <td>2017-11-16 12:30:26</td>\n",
       "      <td>415.44</td>\n",
       "      <td>Shopping Basket</td>\n",
       "    </tr>\n",
       "    <tr>\n",
       "      <th>170181</th>\n",
       "      <td>470553</td>\n",
       "      <td>2017-12-24 00:59:46</td>\n",
       "      <td>120.99</td>\n",
       "      <td>Completed</td>\n",
       "    </tr>\n",
       "    <tr>\n",
       "      <th>1103</th>\n",
       "      <td>300495</td>\n",
       "      <td>2017-01-02 13:02:55</td>\n",
       "      <td>300.94</td>\n",
       "      <td>Completed</td>\n",
       "    </tr>\n",
       "    <tr>\n",
       "      <th>28723</th>\n",
       "      <td>328203</td>\n",
       "      <td>2017-02-23 22:31:40</td>\n",
       "      <td>96.98</td>\n",
       "      <td>Place Order</td>\n",
       "    </tr>\n",
       "    <tr>\n",
       "      <th>138901</th>\n",
       "      <td>438696</td>\n",
       "      <td>2017-11-24 12:10:58</td>\n",
       "      <td>31.42</td>\n",
       "      <td>Shopping Basket</td>\n",
       "    </tr>\n",
       "    <tr>\n",
       "      <th>112239</th>\n",
       "      <td>411825</td>\n",
       "      <td>2017-10-12 16:56:39</td>\n",
       "      <td>3.99</td>\n",
       "      <td>Shopping Basket</td>\n",
       "    </tr>\n",
       "    <tr>\n",
       "      <th>72270</th>\n",
       "      <td>371816</td>\n",
       "      <td>2017-07-03 12:25:52</td>\n",
       "      <td>56.00</td>\n",
       "      <td>Shopping Basket</td>\n",
       "    </tr>\n",
       "    <tr>\n",
       "      <th>119939</th>\n",
       "      <td>419527</td>\n",
       "      <td>2017-10-30 01:13:02</td>\n",
       "      <td>399.00</td>\n",
       "      <td>Shopping Basket</td>\n",
       "    </tr>\n",
       "  </tbody>\n",
       "</table>\n",
       "</div>"
      ],
      "text/plain": [
       "        ord_ID       ord_CreatDate  ord_TotalPaid        ord_State\n",
       "213132  513623 2018-02-18 07:28:32         620.00  Shopping Basket\n",
       "148787  448920 2017-11-27 17:40:19           5.09  Shopping Basket\n",
       "127949  427563 2017-11-16 12:30:26         415.44  Shopping Basket\n",
       "170181  470553 2017-12-24 00:59:46         120.99        Completed\n",
       "1103    300495 2017-01-02 13:02:55         300.94        Completed\n",
       "28723   328203 2017-02-23 22:31:40          96.98      Place Order\n",
       "138901  438696 2017-11-24 12:10:58          31.42  Shopping Basket\n",
       "112239  411825 2017-10-12 16:56:39           3.99  Shopping Basket\n",
       "72270   371816 2017-07-03 12:25:52          56.00  Shopping Basket\n",
       "119939  419527 2017-10-30 01:13:02         399.00  Shopping Basket"
      ]
     },
     "execution_count": 67,
     "metadata": {},
     "output_type": "execute_result"
    }
   ],
   "source": [
    "df_c.sample(10)  # Question: how state=\"Shopping Basket\" while \"Total_paid\" has a value!! "
   ]
  },
  {
   "cell_type": "code",
   "execution_count": 68,
   "metadata": {
    "colab": {
     "base_uri": "https://localhost:8080/"
    },
    "id": "Z3g7JNrriewg",
    "outputId": "6cd1c3f1-885a-468f-a3b1-fc4b70a6a852"
   },
   "outputs": [
    {
     "data": {
      "text/plain": [
       "['Completed', 'Shopping Basket', 'Place Order', 'Pending', 'Cancelled']\n",
       "Categories (5, object): ['Cancelled', 'Completed', 'Pending', 'Place Order', 'Shopping Basket']"
      ]
     },
     "execution_count": 68,
     "metadata": {},
     "output_type": "execute_result"
    }
   ],
   "source": [
    "df_c.loc[df_c.ord_TotalPaid == 0.0].ord_State.unique()"
   ]
  }
 ],
 "metadata": {
  "colab": {
   "provenance": [],
   "toc_visible": true
  },
  "kernelspec": {
   "display_name": "Python 3.9.1 64-bit",
   "language": "python",
   "name": "python3"
  },
  "language_info": {
   "codemirror_mode": {
    "name": "ipython",
    "version": 3
   },
   "file_extension": ".py",
   "mimetype": "text/x-python",
   "name": "python",
   "nbconvert_exporter": "python",
   "pygments_lexer": "ipython3",
   "version": "3.9.1"
  },
  "vscode": {
   "interpreter": {
    "hash": "81794d4967e6c3204c66dcd87b604927b115b27c00565d3d43f05ba2f3a2cb0d"
   }
  }
 },
 "nbformat": 4,
 "nbformat_minor": 4
}
