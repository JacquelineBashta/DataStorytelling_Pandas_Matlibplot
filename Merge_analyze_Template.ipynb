{
  "cells": [
    {
      "cell_type": "markdown",
      "metadata": {
        "id": "mo3w8u4OnEFD"
      },
      "source": [
        "    ==============================================================================================\n",
        "\n",
        "## Importing the DataFrames\n",
        "- ``` df = pd.read_pickle(\"file_name.pkl\")```  --> create 1 df from a pkl file"
      ]
    },
    {
      "cell_type": "code",
      "execution_count": null,
      "metadata": {
        "id": "cI0W2L18nEFD"
      },
      "outputs": [],
      "source": [
        "import pandas as pd\n",
        "import numpy as np\n",
        "pd.set_option(\"display.min_rows\", 0) \n",
        "pd.set_option(\"display.max_rows\", 30) \n",
        "pd.__version__"
      ]
    },
    {
      "cell_type": "code",
      "execution_count": null,
      "metadata": {
        "colab": {
          "base_uri": "https://localhost:8080/"
        },
        "id": "OH3Hy6AMnEFD",
        "outputId": "3002ac6e-013c-4334-db4c-382c2584f60e"
      },
      "outputs": [],
      "source": [
        "ord = pd.read_pickle(\"clean_Tables\\Orders_c.pkl\")\n",
        "ol = pd.read_pickle(\"clean_Tables\\OrderLines_c.pkl\")\n",
        "pro = pd.read_pickle(\"clean_Tables\\Products_c.pkl\")"
      ]
    },
    {
      "cell_type": "code",
      "execution_count": null,
      "metadata": {},
      "outputs": [],
      "source": [
        "ord.info()"
      ]
    },
    {
      "cell_type": "code",
      "execution_count": null,
      "metadata": {},
      "outputs": [],
      "source": [
        "ol.info()"
      ]
    },
    {
      "cell_type": "code",
      "execution_count": null,
      "metadata": {},
      "outputs": [],
      "source": [
        "pro.info()"
      ]
    },
    {
      "cell_type": "markdown",
      "metadata": {
        "id": "H_6VgqtSnEFD"
      },
      "source": [
        "    ==============================================================================================\n",
        "\n",
        "## Merge DataFrames\n",
        "- ``` df.shape``` , ``` df.size``` , ``` df.ndim``` \n",
        "- ``` df.sample(5)``` , ``` df.info()``` \n",
        "- Numerical : ``` df.describe()``` , ``` df.col.nlargest()``` , ``` df.col.nsmallest()``` \n",
        "- Category : ``` df.nunique()``` , ``` df.unique() ``` "
      ]
    },
    {
      "cell_type": "code",
      "execution_count": null,
      "metadata": {},
      "outputs": [],
      "source": [
        "db = ord.copy()"
      ]
    },
    {
      "cell_type": "code",
      "execution_count": null,
      "metadata": {},
      "outputs": [],
      "source": [
        "db = db.merge(ol,how=\"inner\",left_on=\"ORD_ID\",right_on=\"ol_ORD_ID\",validate=\"one_to_many\")"
      ]
    },
    {
      "cell_type": "code",
      "execution_count": null,
      "metadata": {},
      "outputs": [],
      "source": [
        "db = db.merge(pro,how=\"inner\",left_on=\"ol_Sku\",right_on=\"PRO_SKU\",validate=\"many_to_one\")"
      ]
    },
    {
      "cell_type": "code",
      "execution_count": null,
      "metadata": {},
      "outputs": [],
      "source": [
        "pd.set_option('max_colwidth', 40)\n",
        "pd.get_option('max_colwidth')"
      ]
    },
    {
      "cell_type": "code",
      "execution_count": null,
      "metadata": {},
      "outputs": [],
      "source": [
        "db.sample(5)"
      ]
    },
    {
      "cell_type": "markdown",
      "metadata": {
        "id": "iBFBMEEWnEFG"
      },
      "source": [
        "    ==============================================================================================\n",
        "\n",
        "## Clean Merged Data\n",
        "- Remember to create a copy of the df using ``` df.copy()``` "
      ]
    },
    {
      "cell_type": "code",
      "execution_count": null,
      "metadata": {
        "id": "Ojy5J29rnEFG"
      },
      "outputs": [],
      "source": [
        "db_original = db.copy()"
      ]
    },
    {
      "cell_type": "markdown",
      "metadata": {
        "id": "emAynTSAnEFG"
      },
      "source": [
        "      ===============================================\n",
        "\n",
        "### Drop duplicated Columns, Reorder and Set Index\n",
        " - ``` df.columns```   , ``` df.index``` \n",
        " - ``` df=df.rename(columns={\"A\": \"a\", \"B\": \"c\"})``` \n",
        " - ``` df.columns = [\"a\",\"b\":\"x\"]``` \n",
        "     - take care, renaming the columns like that will convert the NAN to some value!!\n",
        " - ``` df=df.set_index(\"col\")```  , ``` df=df.reset_index()``` "
      ]
    },
    {
      "cell_type": "code",
      "execution_count": null,
      "metadata": {
        "colab": {
          "base_uri": "https://localhost:8080/"
        },
        "id": "SrA_W_qWnEFG",
        "outputId": "78b0fa7e-b4e6-46b6-8754-0795641bf050"
      },
      "outputs": [],
      "source": [
        "db = db.drop(columns=[\"ol_ORD_ID\",\"ol_Sku\",\"ord_State\"])"
      ]
    },
    {
      "cell_type": "code",
      "execution_count": null,
      "metadata": {},
      "outputs": [],
      "source": [
        "db.info()"
      ]
    },
    {
      "cell_type": "code",
      "execution_count": null,
      "metadata": {},
      "outputs": [],
      "source": [
        "db.shape"
      ]
    },
    {
      "cell_type": "code",
      "execution_count": null,
      "metadata": {
        "colab": {
          "base_uri": "https://localhost:8080/"
        },
        "id": "A7T1mMH1nEFH",
        "outputId": "2ebba2d5-5423-46df-f331-baa8e559fd53"
      },
      "outputs": [],
      "source": [
        "db.index #hint: no need to change index"
      ]
    },
    {
      "cell_type": "markdown",
      "metadata": {
        "id": "HbC0NAl9nEFI"
      },
      "source": [
        "      ===============================================\n",
        "      \n",
        "### Clean NAN and empty cells\n",
        "- ``` df.isna().sum()``` \n",
        "- check if it make sense to replace empty cells with NAN or with another value!\n",
        "- ``` df = df.replace('^\\s*$', np.nan)```  -->replace empty cells and cells with only whitspace with NAN\n",
        "- check if other cells has the value you want to use to fill nan  ``` df.col.str.contains(\"pat\", na=False).sum() ```\n",
        "- ``` df=df.col.fillna(value,method=\"bfill\"or\"ffill\",limit=value)``` \n",
        "\n",
        "- Extra: \n",
        "  - ``` (df.values == '').sum()```  --> check if any cell is empty\n",
        "  - ``` df.col.str.isspace().sum()```  --> check if all cell is filled with whitespaces"
      ]
    },
    {
      "cell_type": "code",
      "execution_count": null,
      "metadata": {
        "colab": {
          "base_uri": "https://localhost:8080/",
          "height": 206
        },
        "id": "bGvRgxz3p_TV",
        "outputId": "132e4088-a562-4f8d-e0f7-d32eb775321e"
      },
      "outputs": [],
      "source": [
        "db.info()"
      ]
    },
    {
      "cell_type": "code",
      "execution_count": null,
      "metadata": {
        "colab": {
          "base_uri": "https://localhost:8080/"
        },
        "id": "8cQXrWrmU_lv",
        "outputId": "50f2daff-89b4-41b9-d2ff-799380e8a804"
      },
      "outputs": [],
      "source": [
        "db.isna().sum()"
      ]
    },
    {
      "cell_type": "code",
      "execution_count": null,
      "metadata": {
        "id": "y_O3cG6YYOtI"
      },
      "outputs": [],
      "source": [
        "\n",
        "db = db.replace('^\\s*$', np.nan)\n",
        "# TODO:HANA Question is it safe to do that?\n"
      ]
    },
    {
      "cell_type": "code",
      "execution_count": null,
      "metadata": {
        "colab": {
          "base_uri": "https://localhost:8080/"
        },
        "id": "lXZRPynxaN49",
        "outputId": "7ddb1349-627f-4bb8-c178-d6b7e7e4d4a8"
      },
      "outputs": [],
      "source": [
        "db.isna().sum()"
      ]
    },
    {
      "cell_type": "markdown",
      "metadata": {},
      "source": [
        "___ For pro_Desc   ___"
      ]
    },
    {
      "cell_type": "code",
      "execution_count": null,
      "metadata": {},
      "outputs": [],
      "source": [
        "db.pro_Desc.dtype"
      ]
    },
    {
      "cell_type": "code",
      "execution_count": null,
      "metadata": {},
      "outputs": [],
      "source": [
        "db.pro_Desc = db.pro_Desc.fillna(\"No Description\")"
      ]
    },
    {
      "cell_type": "code",
      "execution_count": null,
      "metadata": {},
      "outputs": [],
      "source": [
        "db.isna().sum()"
      ]
    },
    {
      "cell_type": "markdown",
      "metadata": {},
      "source": [
        "___ For pro_Type   ___"
      ]
    },
    {
      "cell_type": "code",
      "execution_count": null,
      "metadata": {},
      "outputs": [],
      "source": [
        "db.pro_Type.str.contains(\"^0+\\.0+$\", na=False).sum()\n",
        "# No value is Zero , safely set NAN to 0"
      ]
    },
    {
      "cell_type": "code",
      "execution_count": null,
      "metadata": {},
      "outputs": [],
      "source": [
        "db.pro_Type = db.pro_Type.fillna(\"0\")"
      ]
    },
    {
      "cell_type": "code",
      "execution_count": null,
      "metadata": {},
      "outputs": [],
      "source": [
        "db.isna().sum()"
      ]
    },
    {
      "cell_type": "markdown",
      "metadata": {},
      "source": [
        "___ For pro_Pr   ___"
      ]
    },
    {
      "cell_type": "code",
      "execution_count": null,
      "metadata": {},
      "outputs": [],
      "source": [
        "db.pro_Pr.str.contains(\"^0+\\.0+$\", na=False).sum()\n",
        "# No value is Zero , safely set NAN to 0"
      ]
    },
    {
      "cell_type": "code",
      "execution_count": null,
      "metadata": {},
      "outputs": [],
      "source": [
        "db.pro_Pr = db.pro_Pr.fillna(\"0\")"
      ]
    },
    {
      "cell_type": "code",
      "execution_count": null,
      "metadata": {},
      "outputs": [],
      "source": [
        "db.isna().sum()"
      ]
    },
    {
      "cell_type": "markdown",
      "metadata": {
        "id": "04bz8cjKnEFK"
      },
      "source": [
        "      ===============================================\n",
        "### Fix DataTypes\n",
        "- use ```df.nunique()``` to find if column is bool or Category\n",
        "- before change, make sure all values will be converted correct\n",
        "  - to convert to numeric : check no letters, \n",
        "      - if float(2dec) ```(~df.col.str.contains(\"^\\d+.\\d{2}$\")).sum()```\n",
        "      - if integer ```(~df.col.str.contains(\"^\\d+$\")).sum()```\n",
        "  - to convert to category : check there are reasonable number of unique items\n",
        "  - to convert to Datetime : ```(~df.col.str.contains(\"^\\d{4}-\\d{2}-\\d{2} \\d{2}:\\d{2}:\\d{2}$\")).sum()```\n",
        "- ``` df.col.astype(type,errors=\"raise\")``` \n",
        "  - type = \"int\",\"float\",\"bool\",\"category\",\"object\",\"datetime\",\"timedelta\"\n",
        "- for mixed data\n",
        "  - ``` pd.to_numeric(df.col, downcast=x,errors=\"raise\") ``` \n",
        "  x = \"integer\" or \"float\"\n",
        "  - ``` pd.to_datetime(df.col, downcast=None,errors=\"raise\") ``` \n",
        "  - ``` pd.to_timedelta(df.col, downcast=None,errors=\"raise\") ``` "
      ]
    },
    {
      "cell_type": "markdown",
      "metadata": {},
      "source": [
        "___ For ord_CreatDate ___"
      ]
    },
    {
      "cell_type": "code",
      "execution_count": null,
      "metadata": {
        "colab": {
          "base_uri": "https://localhost:8080/"
        },
        "id": "4HelvLkBfjrm",
        "outputId": "00ceccbc-9ac8-466a-e84b-aeb777198f40"
      },
      "outputs": [],
      "source": [
        "db.info()"
      ]
    },
    {
      "cell_type": "code",
      "execution_count": null,
      "metadata": {
        "id": "DYtBeUmZnEFL"
      },
      "outputs": [],
      "source": [
        "(~db.ord_CreatDate.str.contains(\"^\\d{4}-\\d{2}-\\d{2} \\d{2}:\\d{2}:\\d{2}$\")).sum() \n",
        "# all rows has the datetime pattern, save to convert"
      ]
    },
    {
      "cell_type": "code",
      "execution_count": null,
      "metadata": {
        "id": "qIRWcTgkfFmy"
      },
      "outputs": [],
      "source": [
        "db.ord_CreatDate=pd.to_datetime(db.ord_CreatDate,errors=\"raise\")"
      ]
    },
    {
      "cell_type": "code",
      "execution_count": null,
      "metadata": {
        "colab": {
          "base_uri": "https://localhost:8080/"
        },
        "id": "05zcp9HQgJX5",
        "outputId": "f3e7e90b-09c6-467c-fdae-fcb2d7ca680c"
      },
      "outputs": [],
      "source": [
        "db.info()"
      ]
    },
    {
      "cell_type": "markdown",
      "metadata": {},
      "source": [
        "___ For ol_ProcessDate ___"
      ]
    },
    {
      "cell_type": "code",
      "execution_count": null,
      "metadata": {
        "id": "DYtBeUmZnEFL"
      },
      "outputs": [],
      "source": [
        "(~db.ol_ProcessDate.str.contains(\"^\\d{4}-\\d{2}-\\d{2} \\d{2}:\\d{2}:\\d{2}$\")).sum() \n",
        "# all rows has the datetime pattern, save to convert"
      ]
    },
    {
      "cell_type": "code",
      "execution_count": null,
      "metadata": {
        "id": "qIRWcTgkfFmy"
      },
      "outputs": [],
      "source": [
        "db.ol_ProcessDate=pd.to_datetime(db.ol_ProcessDate,errors=\"raise\")"
      ]
    },
    {
      "cell_type": "markdown",
      "metadata": {},
      "source": [
        "___ For pro_InStock ___"
      ]
    },
    {
      "cell_type": "code",
      "execution_count": null,
      "metadata": {},
      "outputs": [],
      "source": [
        "db.pro_InStock.unique()"
      ]
    },
    {
      "cell_type": "code",
      "execution_count": null,
      "metadata": {},
      "outputs": [],
      "source": [
        "db.pro_InStock = db.pro_InStock.astype(\"bool\",errors=\"raise\")"
      ]
    },
    {
      "cell_type": "code",
      "execution_count": null,
      "metadata": {
        "colab": {
          "base_uri": "https://localhost:8080/"
        },
        "id": "LnKqIQTMnEFK",
        "outputId": "6eb167b8-5828-439f-bce6-279ec0301c82"
      },
      "outputs": [],
      "source": [
        "db.info()\n"
      ]
    },
    {
      "cell_type": "markdown",
      "metadata": {},
      "source": [
        "___ For ol_ProdUntPr ___"
      ]
    },
    {
      "cell_type": "code",
      "execution_count": null,
      "metadata": {},
      "outputs": [],
      "source": [
        "#db_Pr = db[[\"ORD_ID\",\"ord_TotlPaid\",\"ol_ProdQnty\",\"ol_ProdUntPr\",\"pro_Pr\",\"PRO_SKU\",\"pro_Name\"]].copy()\n"
      ]
    },
    {
      "cell_type": "code",
      "execution_count": null,
      "metadata": {},
      "outputs": [],
      "source": [
        "db.sample(5)"
      ]
    },
    {
      "cell_type": "code",
      "execution_count": null,
      "metadata": {},
      "outputs": [],
      "source": [
        "db.ol_ProdUntPr.dtype"
      ]
    },
    {
      "cell_type": "code",
      "execution_count": null,
      "metadata": {},
      "outputs": [],
      "source": [
        "str_decide=\"Drop it\"\n",
        "x= round((((db.ol_ProdUntPr.str.count('\\.') > 1).sum())/db.shape[0])*100,2)\n",
        "if x > 5:\n",
        "    str_decide = \"Clean it\""
      ]
    },
    {
      "cell_type": "code",
      "execution_count": null,
      "metadata": {},
      "outputs": [],
      "source": [
        "print(f\"the percentage of 2dec ol_ProdUntPr rows is {x}%, hence {str_decide}\")"
      ]
    },
    {
      "cell_type": "code",
      "execution_count": null,
      "metadata": {},
      "outputs": [],
      "source": [
        "db[(db.ol_ProdUntPr.str.count('\\.') > 1)].sample(5)"
      ]
    },
    {
      "cell_type": "code",
      "execution_count": null,
      "metadata": {},
      "outputs": [],
      "source": [
        "db=(\n",
        "    db\n",
        "    .assign(ol_ProdUntPr = lambda x:np.where(\n",
        "      (x.ol_ProdUntPr.str.count('\\.') == 2)\n",
        "      ,x.ol_ProdUntPr.str.replace(\"\\.\",\"\",1,regex=True)\n",
        "      ,x.ol_ProdUntPr\n",
        "      ))\n",
        ")"
      ]
    },
    {
      "cell_type": "code",
      "execution_count": null,
      "metadata": {},
      "outputs": [],
      "source": [
        "db.info()"
      ]
    },
    {
      "cell_type": "code",
      "execution_count": null,
      "metadata": {},
      "outputs": [],
      "source": [
        "db.ol_ProdUntPr = db.ol_ProdUntPr.astype(float)"
      ]
    },
    {
      "cell_type": "markdown",
      "metadata": {},
      "source": [
        "___ For pro_Pr  ___"
      ]
    },
    {
      "cell_type": "code",
      "execution_count": null,
      "metadata": {},
      "outputs": [],
      "source": [
        "db.sample(5)"
      ]
    },
    {
      "cell_type": "code",
      "execution_count": null,
      "metadata": {},
      "outputs": [],
      "source": [
        "str_decide=\"Drop it\"\n",
        "x= round((((db.pro_Pr.str.count('\\.') > 1).sum())/db.shape[0])*100,2)\n",
        "if x > 5:\n",
        "    str_decide = \"Clean it\"\n",
        "print(f\"the percentage of 2dec pro_Pr rows is {round(x,2)}% , Hence {str_decide}\")"
      ]
    },
    {
      "cell_type": "code",
      "execution_count": null,
      "metadata": {},
      "outputs": [],
      "source": [
        "db.shape"
      ]
    },
    {
      "cell_type": "code",
      "execution_count": null,
      "metadata": {},
      "outputs": [],
      "source": [
        "db = db.loc[db.pro_Pr.str.count('\\.') < 2]"
      ]
    },
    {
      "cell_type": "code",
      "execution_count": null,
      "metadata": {},
      "outputs": [],
      "source": [
        "db.shape"
      ]
    },
    {
      "cell_type": "code",
      "execution_count": null,
      "metadata": {},
      "outputs": [],
      "source": [
        "db.pro_Pr = db.pro_Pr.astype(float)"
      ]
    },
    {
      "cell_type": "code",
      "execution_count": null,
      "metadata": {},
      "outputs": [],
      "source": [
        "db.info()"
      ]
    },
    {
      "cell_type": "markdown",
      "metadata": {
        "id": "uaSmyQ4bnEFN"
      },
      "source": [
        "    ==============================================================================================\n",
        "\n",
        "## Re-Explore the data\n",
        "draw some ``` df.col.hist()```  , ``` df.ser.boxplot()```  per column\n",
        "take notes"
      ]
    },
    {
      "cell_type": "code",
      "execution_count": null,
      "metadata": {},
      "outputs": [],
      "source": [
        "db.columns"
      ]
    },
    {
      "cell_type": "code",
      "execution_count": null,
      "metadata": {},
      "outputs": [],
      "source": [
        "db.groupby(db.ord_CreatDate.dt.year).ord_CreatDate.hist()"
      ]
    },
    {
      "cell_type": "code",
      "execution_count": null,
      "metadata": {},
      "outputs": [],
      "source": [
        "db.ord_CreatDate.hist();"
      ]
    },
    {
      "cell_type": "code",
      "execution_count": null,
      "metadata": {},
      "outputs": [],
      "source": [
        "db.ord_TotlPaid.hist();"
      ]
    },
    {
      "cell_type": "code",
      "execution_count": null,
      "metadata": {},
      "outputs": [],
      "source": [
        "db.ol_ProdQnty.hist(bins=3);"
      ]
    },
    {
      "cell_type": "code",
      "execution_count": null,
      "metadata": {},
      "outputs": [],
      "source": [
        "db.ol_ProdUntPr.hist();"
      ]
    },
    {
      "cell_type": "code",
      "execution_count": null,
      "metadata": {},
      "outputs": [],
      "source": [
        "db.pro_Pr.hist();"
      ]
    },
    {
      "cell_type": "code",
      "execution_count": null,
      "metadata": {},
      "outputs": [],
      "source": [
        "db.pro_Type.hist();"
      ]
    },
    {
      "cell_type": "code",
      "execution_count": null,
      "metadata": {},
      "outputs": [],
      "source": [
        "db.columns"
      ]
    },
    {
      "cell_type": "code",
      "execution_count": null,
      "metadata": {},
      "outputs": [],
      "source": [
        "#db.groupby(\"ord_TotlPaid\").boxplot()"
      ]
    }
  ],
  "metadata": {
    "colab": {
      "authorship_tag": "ABX9TyMT7v9XshVXAURmbT7onweZ",
      "include_colab_link": true,
      "provenance": [],
      "toc_visible": true
    },
    "kernelspec": {
      "display_name": "Python 3.9.1 64-bit",
      "language": "python",
      "name": "python3"
    },
    "language_info": {
      "codemirror_mode": {
        "name": "ipython",
        "version": 3
      },
      "file_extension": ".py",
      "mimetype": "text/x-python",
      "name": "python",
      "nbconvert_exporter": "python",
      "pygments_lexer": "ipython3",
      "version": "3.9.1"
    },
    "vscode": {
      "interpreter": {
        "hash": "81794d4967e6c3204c66dcd87b604927b115b27c00565d3d43f05ba2f3a2cb0d"
      }
    }
  },
  "nbformat": 4,
  "nbformat_minor": 0
}
