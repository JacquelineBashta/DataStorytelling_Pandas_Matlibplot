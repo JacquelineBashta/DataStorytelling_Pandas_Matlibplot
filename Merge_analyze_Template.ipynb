{
  "cells": [
    {
      "cell_type": "markdown",
      "metadata": {
        "id": "mo3w8u4OnEFD"
      },
      "source": [
        "    ==============================================================================================\n",
        "\n",
        "## Importing the DataFrames\n",
        "- ``` df = pd.read_pickle(\"file_name.pkl\")```  --> create 1 df from a pkl file"
      ]
    },
    {
      "cell_type": "code",
      "execution_count": 6,
      "metadata": {
        "id": "cI0W2L18nEFD"
      },
      "outputs": [
        {
          "data": {
            "text/plain": [
              "'1.4.4'"
            ]
          },
          "execution_count": 6,
          "metadata": {},
          "output_type": "execute_result"
        }
      ],
      "source": [
        "import pandas as pd\n",
        "import numpy as np\n",
        "pd.set_option(\"display.min_rows\", 0) \n",
        "pd.set_option(\"display.max_rows\", 30) \n",
        "pd.__version__"
      ]
    },
    {
      "cell_type": "code",
      "execution_count": 11,
      "metadata": {
        "colab": {
          "base_uri": "https://localhost:8080/"
        },
        "id": "OH3Hy6AMnEFD",
        "outputId": "3002ac6e-013c-4334-db4c-382c2584f60e"
      },
      "outputs": [],
      "source": [
        "\n",
        "ol = pd.read_pickle(\"clean_Tables\\OrderLines_c.pkl\")\n",
        "ord = pd.read_pickle(\"clean_Tables\\Orders_c.pkl\")\n",
        "\n",
        "pro = pd.read_pickle(\"clean_Tables\\Products_c.pkl\")"
      ]
    },
    {
      "cell_type": "code",
      "execution_count": 12,
      "metadata": {},
      "outputs": [
        {
          "name": "stdout",
          "output_type": "stream",
          "text": [
            "<class 'pandas.core.frame.DataFrame'>\n",
            "RangeIndex: 226909 entries, 0 to 226908\n",
            "Data columns (total 4 columns):\n",
            " #   Column         Non-Null Count   Dtype  \n",
            "---  ------         --------------   -----  \n",
            " 0   ORD_ID         226909 non-null  int64  \n",
            " 1   ordreatDate    226909 non-null  object \n",
            " 2   ord_TotalPaid  226904 non-null  float64\n",
            " 3   ord_State      226909 non-null  object \n",
            "dtypes: float64(1), int64(1), object(2)\n",
            "memory usage: 6.9+ MB\n"
          ]
        }
      ],
      "source": [
        "ord.info()"
      ]
    },
    {
      "cell_type": "code",
      "execution_count": 13,
      "metadata": {},
      "outputs": [
        {
          "name": "stdout",
          "output_type": "stream",
          "text": [
            "<class 'pandas.core.frame.DataFrame'>\n",
            "RangeIndex: 293983 entries, 0 to 293982\n",
            "Data columns (total 6 columns):\n",
            " #   Column            Non-Null Count   Dtype \n",
            "---  ------            --------------   ----- \n",
            " 0   OL_ID             293983 non-null  int64 \n",
            " 1   ol_ORD_ID         293983 non-null  int64 \n",
            " 2   ol_ProdQuantity   293983 non-null  int64 \n",
            " 3   ol_sku            293983 non-null  object\n",
            " 4   ol_ProdUnitPrice  293983 non-null  object\n",
            " 5   ol_ProcessDate    293983 non-null  object\n",
            "dtypes: int64(3), object(3)\n",
            "memory usage: 13.5+ MB\n"
          ]
        }
      ],
      "source": [
        "ol.info()"
      ]
    },
    {
      "cell_type": "code",
      "execution_count": 14,
      "metadata": {},
      "outputs": [
        {
          "name": "stdout",
          "output_type": "stream",
          "text": [
            "<class 'pandas.core.frame.DataFrame'>\n",
            "Int64Index: 10579 entries, 0 to 19325\n",
            "Data columns (total 7 columns):\n",
            " #   Column          Non-Null Count  Dtype \n",
            "---  ------          --------------  ----- \n",
            " 0   PRO_SKU         10579 non-null  object\n",
            " 1   pro_Name        10579 non-null  object\n",
            " 2   pro_Desc        10572 non-null  object\n",
            " 3   pro_Price       10534 non-null  object\n",
            " 4   pro_PromoPrice  10579 non-null  object\n",
            " 5   pro_InStock     10579 non-null  int64 \n",
            " 6   pro_Type        10529 non-null  object\n",
            "dtypes: int64(1), object(6)\n",
            "memory usage: 661.2+ KB\n"
          ]
        }
      ],
      "source": [
        "pro.info()"
      ]
    },
    {
      "cell_type": "markdown",
      "metadata": {
        "id": "H_6VgqtSnEFD"
      },
      "source": [
        "    ==============================================================================================\n",
        "\n",
        "## Merge DataFrames\n",
        "- ``` df.shape``` , ``` df.size``` , ``` df.ndim``` \n",
        "- ``` df.sample(5)``` , ``` df.info()``` \n",
        "- Numerical : ``` df.describe()``` , ``` df.col.nlargest()``` , ``` df.col.nsmallest()``` \n",
        "- Category : ``` df.nunique()``` , ``` df.unique() ``` "
      ]
    },
    {
      "cell_type": "markdown",
      "metadata": {
        "id": "iBFBMEEWnEFG"
      },
      "source": [
        "    ==============================================================================================\n",
        "\n",
        "## Clean Merged Data\n",
        "- Remember to create a copy of the df using ``` df.copy()``` "
      ]
    },
    {
      "cell_type": "code",
      "execution_count": null,
      "metadata": {
        "id": "Ojy5J29rnEFG"
      },
      "outputs": [],
      "source": [
        "pro_c = pro.copy()"
      ]
    },
    {
      "cell_type": "markdown",
      "metadata": {
        "id": "emAynTSAnEFG"
      },
      "source": [
        "      ===============================================\n",
        "\n",
        "### Drop duplicated Columns , Set Index\n",
        " - ``` df.columns```   , ``` df.index``` \n",
        " - ``` df=df.rename(columns={\"A\": \"a\", \"B\": \"c\"})``` \n",
        " - ``` df.columns = [\"a\",\"b\":\"x\"]``` \n",
        "     - take care, renaming the columns like that will convert the NAN to some value!!\n",
        " - ``` df=df.set_index(\"col\")```  , ``` df=df.reset_index()``` "
      ]
    },
    {
      "cell_type": "code",
      "execution_count": null,
      "metadata": {
        "colab": {
          "base_uri": "https://localhost:8080/"
        },
        "id": "SrA_W_qWnEFG",
        "outputId": "78b0fa7e-b4e6-46b6-8754-0795641bf050"
      },
      "outputs": [],
      "source": [
        "pro_c.columns"
      ]
    },
    {
      "cell_type": "code",
      "execution_count": null,
      "metadata": {
        "id": "qXZYkcSwvSWx"
      },
      "outputs": [],
      "source": [
        "pro_c=pro_c.rename(columns={\"sku\": \"pro_SKU\"\n",
        "                        , \"name\": \"pro_Name\"\n",
        "                        , \"desc\": \"pro_Desc\"\n",
        "                        , \"price\": \"pro_Price\"\n",
        "                        , \"promo_price\": \"pro_PromoPrice\"\n",
        "                        , \"in_stock\": \"pro_InStock\"\n",
        "                        , \"type\": \"pro_Type\"})"
      ]
    },
    {
      "cell_type": "code",
      "execution_count": null,
      "metadata": {},
      "outputs": [],
      "source": [
        "pro_c.columns"
      ]
    },
    {
      "cell_type": "code",
      "execution_count": null,
      "metadata": {
        "colab": {
          "base_uri": "https://localhost:8080/"
        },
        "id": "A7T1mMH1nEFH",
        "outputId": "2ebba2d5-5423-46df-f331-baa8e559fd53"
      },
      "outputs": [],
      "source": [
        "pro_c.index #hint: no need to change index"
      ]
    },
    {
      "cell_type": "markdown",
      "metadata": {
        "id": "HbC0NAl9nEFI"
      },
      "source": [
        "      ===============================================\n",
        "      \n",
        "### Clean NAN and empty cells\n",
        "- ``` df.isna().sum()``` \n",
        "- check if it makse sense to replace empty cells with NAN or with another value!\n",
        "- ``` df = df.replace('^\\s*$', np.nan)```  -->replace empty cells and cells with only whitspace with NAN\n",
        "- ``` df=df.col.fillna(value,method=\"bfill\"or\"ffill\",limit=value)``` \n",
        "\n",
        "- Extra: \n",
        "  - ``` (df.values == '').sum()```  --> check if any cell is empty\n",
        "  - ``` df.col.str.isspace().sum()```  --> check if all cell is filled with whitespaces"
      ]
    },
    {
      "cell_type": "markdown",
      "metadata": {},
      "source": [
        "___ For Order.csv___"
      ]
    },
    {
      "cell_type": "code",
      "execution_count": null,
      "metadata": {
        "colab": {
          "base_uri": "https://localhost:8080/",
          "height": 206
        },
        "id": "bGvRgxz3p_TV",
        "outputId": "132e4088-a562-4f8d-e0f7-d32eb775321e"
      },
      "outputs": [],
      "source": [
        "ord_c.sample(5)"
      ]
    },
    {
      "cell_type": "code",
      "execution_count": null,
      "metadata": {
        "colab": {
          "base_uri": "https://localhost:8080/"
        },
        "id": "8cQXrWrmU_lv",
        "outputId": "50f2daff-89b4-41b9-d2ff-799380e8a804"
      },
      "outputs": [],
      "source": [
        "ord_c.isna().sum()"
      ]
    },
    {
      "cell_type": "code",
      "execution_count": null,
      "metadata": {
        "colab": {
          "base_uri": "https://localhost:8080/"
        },
        "id": "Z6zNoY-vVx8N",
        "outputId": "a9fc4762-d731-41cf-b0f5-124621a50ca1"
      },
      "outputs": [],
      "source": [
        "ord_c.info()"
      ]
    },
    {
      "cell_type": "code",
      "execution_count": null,
      "metadata": {
        "id": "y_O3cG6YYOtI"
      },
      "outputs": [],
      "source": [
        "import numpy as np\n",
        "ord_c = ord_c.replace('^\\s*$', np.nan) #Question is it safe to do that?\n"
      ]
    },
    {
      "cell_type": "code",
      "execution_count": null,
      "metadata": {
        "colab": {
          "base_uri": "https://localhost:8080/"
        },
        "id": "lXZRPynxaN49",
        "outputId": "7ddb1349-627f-4bb8-c178-d6b7e7e4d4a8"
      },
      "outputs": [],
      "source": [
        "ord_c.isna().sum()"
      ]
    },
    {
      "cell_type": "code",
      "execution_count": null,
      "metadata": {
        "colab": {
          "base_uri": "https://localhost:8080/"
        },
        "id": "PItz3zJjbXn7",
        "outputId": "3c6cf23a-0a2a-48e0-ecaf-4c647e765c57"
      },
      "outputs": [],
      "source": [
        "ord_c.ord_total_paid.dtype"
      ]
    },
    {
      "cell_type": "code",
      "execution_count": null,
      "metadata": {
        "id": "8wLfrPM3bg4A"
      },
      "outputs": [],
      "source": [
        "ord_c.ord_total_paid=ord_c.ord_total_paid.fillna(0.0)"
      ]
    },
    {
      "cell_type": "code",
      "execution_count": null,
      "metadata": {
        "colab": {
          "base_uri": "https://localhost:8080/"
        },
        "id": "k-NpApZjbuSQ",
        "outputId": "f1276805-74d7-41f7-f003-6403658d7549"
      },
      "outputs": [],
      "source": [
        "ord_c.ord_total_paid.dtype"
      ]
    },
    {
      "cell_type": "code",
      "execution_count": null,
      "metadata": {
        "colab": {
          "base_uri": "https://localhost:8080/"
        },
        "id": "FzfCtPiubqm1",
        "outputId": "6c2f7600-a643-45e2-e75f-d2c52e8614ad"
      },
      "outputs": [],
      "source": [
        "ord_c.isna().sum()"
      ]
    },
    {
      "cell_type": "markdown",
      "metadata": {},
      "source": [
        "___ For OrderLines.csv ____"
      ]
    },
    {
      "cell_type": "code",
      "execution_count": null,
      "metadata": {
        "colab": {
          "base_uri": "https://localhost:8080/"
        },
        "id": "MBeRQrwWnEFI",
        "outputId": "e40ba6fe-a9c7-4c15-ec3e-a267c398959f"
      },
      "outputs": [],
      "source": [
        "ol_c.isna().sum()"
      ]
    },
    {
      "cell_type": "code",
      "execution_count": null,
      "metadata": {
        "colab": {
          "base_uri": "https://localhost:8080/"
        },
        "id": "1ibrQEP-nEFI",
        "outputId": "f08ffa8c-d839-4765-b0bd-d047d161e6c5"
      },
      "outputs": [],
      "source": [
        "ol_c.info()"
      ]
    },
    {
      "cell_type": "code",
      "execution_count": null,
      "metadata": {
        "id": "ML931FKUnEFJ"
      },
      "outputs": [],
      "source": [
        "\n",
        "ol_c = ol_c.replace('^\\s*$', np.nan)\n"
      ]
    },
    {
      "cell_type": "code",
      "execution_count": null,
      "metadata": {
        "colab": {
          "base_uri": "https://localhost:8080/"
        },
        "id": "oA0Y_VPDnEFJ",
        "outputId": "c3ddaf24-98c5-4c12-c60e-1035f92373a2"
      },
      "outputs": [],
      "source": [
        "ol_c.isna().sum()"
      ]
    },
    {
      "cell_type": "markdown",
      "metadata": {},
      "source": [
        "___ For Products.csv ____"
      ]
    },
    {
      "cell_type": "code",
      "execution_count": null,
      "metadata": {
        "colab": {
          "base_uri": "https://localhost:8080/"
        },
        "id": "MBeRQrwWnEFI",
        "outputId": "e40ba6fe-a9c7-4c15-ec3e-a267c398959f"
      },
      "outputs": [],
      "source": [
        "pro_c.isna().sum()"
      ]
    },
    {
      "cell_type": "code",
      "execution_count": null,
      "metadata": {
        "colab": {
          "base_uri": "https://localhost:8080/"
        },
        "id": "1ibrQEP-nEFI",
        "outputId": "f08ffa8c-d839-4765-b0bd-d047d161e6c5"
      },
      "outputs": [],
      "source": [
        "pro_c.info()"
      ]
    },
    {
      "cell_type": "code",
      "execution_count": null,
      "metadata": {},
      "outputs": [],
      "source": [
        "(pro_c.values == '').sum()"
      ]
    },
    {
      "cell_type": "code",
      "execution_count": null,
      "metadata": {
        "id": "ML931FKUnEFJ"
      },
      "outputs": [],
      "source": [
        "\n",
        "pro_c = pro_c.replace('^\\s*$', np.nan)\n"
      ]
    },
    {
      "cell_type": "code",
      "execution_count": null,
      "metadata": {
        "colab": {
          "base_uri": "https://localhost:8080/"
        },
        "id": "oA0Y_VPDnEFJ",
        "outputId": "c3ddaf24-98c5-4c12-c60e-1035f92373a2"
      },
      "outputs": [],
      "source": [
        "pro_c.isna().sum()"
      ]
    },
    {
      "cell_type": "markdown",
      "metadata": {},
      "source": [
        "Fix NAN from pro_Desc        "
      ]
    },
    {
      "cell_type": "code",
      "execution_count": null,
      "metadata": {},
      "outputs": [],
      "source": [
        "pro_c.pro_Desc=pro_c.pro_Desc.fillna(\"No Description\")"
      ]
    },
    {
      "cell_type": "markdown",
      "metadata": {},
      "source": [
        "Fix NAN from pro_Type           "
      ]
    },
    {
      "cell_type": "code",
      "execution_count": null,
      "metadata": {},
      "outputs": [],
      "source": [
        "pro_c.loc[pro_c.pro_Type == \"0\"]\n",
        "# No value is Zero , safelly set NAN to 0"
      ]
    },
    {
      "cell_type": "code",
      "execution_count": null,
      "metadata": {},
      "outputs": [],
      "source": [
        "pro_c.pro_Type = pro_c.pro_Type.fillna(\"0\")"
      ]
    },
    {
      "cell_type": "code",
      "execution_count": null,
      "metadata": {},
      "outputs": [],
      "source": [
        "pro_c.isna().sum()"
      ]
    },
    {
      "cell_type": "markdown",
      "metadata": {},
      "source": [
        "Fix NAN from pro_Price   "
      ]
    },
    {
      "cell_type": "code",
      "execution_count": null,
      "metadata": {},
      "outputs": [],
      "source": [
        "pro_c.loc[pro_c.pro_Price == \"0.0\"]\n",
        "# No value is Zero , safelly set NAN to 0"
      ]
    },
    {
      "cell_type": "code",
      "execution_count": null,
      "metadata": {},
      "outputs": [],
      "source": [
        "pro_c.pro_Price = pro_c.pro_Price.fillna(\"0.0\")"
      ]
    },
    {
      "cell_type": "code",
      "execution_count": null,
      "metadata": {},
      "outputs": [],
      "source": [
        "pro_c.isna().sum()"
      ]
    },
    {
      "cell_type": "markdown",
      "metadata": {
        "id": "04bz8cjKnEFK"
      },
      "source": [
        "      ===============================================\n",
        "### Fix DataTypes\n",
        "- use ```df.nunique()``` to find if column is bool or Category\n",
        "- before change, make sure all values will be converted correct\n",
        "  - to convert to numeric : check no letters, \n",
        "      - if float(2dec) ```(~df.col.str.contains(\"^\\d+.\\d{2}$\")).sum()```\n",
        "      - if integer ```(~df.col.str.contains(\"^\\d+$\")).sum()```\n",
        "  - to convert to category : check there are reasonable number of unique items\n",
        "  - to convert to Datetime : ```(~df.col.str.contains(\"^\\d{4}-\\d{2}-\\d{2} \\d{2}:\\d{2}:\\d{2}$\")).sum()```\n",
        "- ``` df.col.astype(type,errors=\"raise\")``` \n",
        "  - type = \"int\",\"float\",\"bool\",\"category\",\"object\",\"datetime\",\"timedelta\"\n",
        "- for mixed data\n",
        "  - ``` pd.to_numeric(df.col, downcast=x,errors=\"raise\") ``` \n",
        "  x = \"integer\" or \"float\"\n",
        "  - ``` pd.to_datetime(df.col, downcast=None,errors=\"raise\") ``` \n",
        "  - ``` pd.to_timedelta(df.col, downcast=None,errors=\"raise\") ``` "
      ]
    },
    {
      "cell_type": "markdown",
      "metadata": {},
      "source": [
        "___ For Orders.csv ____"
      ]
    },
    {
      "cell_type": "code",
      "execution_count": null,
      "metadata": {
        "colab": {
          "base_uri": "https://localhost:8080/"
        },
        "id": "4HelvLkBfjrm",
        "outputId": "00ceccbc-9ac8-466a-e84b-aeb777198f40"
      },
      "outputs": [],
      "source": [
        "ord_c.info()"
      ]
    },
    {
      "cell_type": "code",
      "execution_count": null,
      "metadata": {
        "id": "qIRWcTgkfFmy"
      },
      "outputs": [],
      "source": [
        "ord_c.ord_created_date=pd.to_datetime(ord_c.ord_created_date,errors=\"raise\")"
      ]
    },
    {
      "cell_type": "code",
      "execution_count": null,
      "metadata": {
        "colab": {
          "base_uri": "https://localhost:8080/"
        },
        "id": "05zcp9HQgJX5",
        "outputId": "f3e7e90b-09c6-467c-fdae-fcb2d7ca680c"
      },
      "outputs": [],
      "source": [
        "ord_c.info()"
      ]
    },
    {
      "cell_type": "code",
      "execution_count": null,
      "metadata": {
        "id": "Hd9EZvnngWeI"
      },
      "outputs": [],
      "source": [
        "ord_c.ord_state=ord_c.ord_state.astype(\"category\",errors=\"raise\")"
      ]
    },
    {
      "cell_type": "code",
      "execution_count": null,
      "metadata": {
        "colab": {
          "base_uri": "https://localhost:8080/"
        },
        "id": "sRWFgZP2gqMf",
        "outputId": "fd41cd8c-4509-4e58-f048-3f75b5a53d84"
      },
      "outputs": [],
      "source": [
        "ord_c.info()"
      ]
    },
    {
      "cell_type": "markdown",
      "metadata": {},
      "source": [
        "___ For OrderLines.csv ____"
      ]
    },
    {
      "cell_type": "code",
      "execution_count": null,
      "metadata": {
        "colab": {
          "base_uri": "https://localhost:8080/"
        },
        "id": "LnKqIQTMnEFK",
        "outputId": "6eb167b8-5828-439f-bce6-279ec0301c82"
      },
      "outputs": [],
      "source": [
        "ol_c.info()\n",
        "#ol_ProcessDate need to be changed to"
      ]
    },
    {
      "cell_type": "markdown",
      "metadata": {},
      "source": [
        "____  Convert ol_ProcessDate to datetime  _______"
      ]
    },
    {
      "cell_type": "code",
      "execution_count": null,
      "metadata": {
        "id": "DYtBeUmZnEFL"
      },
      "outputs": [],
      "source": [
        "(~ol_c.ol_ProcessDate.str.contains(\"^\\d{4}-\\d{2}-\\d{2} \\d{2}:\\d{2}:\\d{2}$\")).sum() \n",
        "# all rows has the datetime pattern, save to convert"
      ]
    },
    {
      "cell_type": "code",
      "execution_count": null,
      "metadata": {},
      "outputs": [],
      "source": [
        "ol_c.ol_ProcessDate = pd.to_datetime(ol_c.ol_ProcessDate, errors=\"raise\")"
      ]
    },
    {
      "cell_type": "code",
      "execution_count": null,
      "metadata": {},
      "outputs": [],
      "source": [
        "ol_c.ol_ProcessDate.sample(10)"
      ]
    },
    {
      "cell_type": "markdown",
      "metadata": {},
      "source": [
        "____  Convert ol_ProdUnitPrice to float  _______"
      ]
    },
    {
      "cell_type": "code",
      "execution_count": null,
      "metadata": {
        "colab": {
          "base_uri": "https://localhost:8080/"
        },
        "id": "af0OZtmInEFM",
        "outputId": "74add692-079a-486e-bfce-17e44ebf8dcf"
      },
      "outputs": [],
      "source": [
        "ol_c.info()"
      ]
    },
    {
      "cell_type": "code",
      "execution_count": null,
      "metadata": {
        "id": "I9RoFzwznEFM"
      },
      "outputs": [],
      "source": [
        "ol_c.ol_ProdUnitPrice.sample(10)"
      ]
    },
    {
      "cell_type": "markdown",
      "metadata": {},
      "source": [
        "Check if some values are not of float pattern"
      ]
    },
    {
      "cell_type": "code",
      "execution_count": null,
      "metadata": {},
      "outputs": [],
      "source": [
        "(~ol_c.ol_ProdUnitPrice.str.contains(\"^\\d+.\\d{2}$\")).sum()\n",
        "#36170 rows doesn't has the correct pattern"
      ]
    },
    {
      "cell_type": "code",
      "execution_count": null,
      "metadata": {},
      "outputs": [],
      "source": [
        "ol_c.ol_ProdUnitPrice[(~ol_c.ol_ProdUnitPrice.str.contains(\"^\\d+.\\d{2}$\"))].sort_values()\n",
        "# can not convert as:\n",
        "# there is 1 negative value, make it +ve\n",
        "# for the values 6.543.59 convert it to 6543.59"
      ]
    },
    {
      "cell_type": "markdown",
      "metadata": {},
      "source": [
        "Get rid of the negative value"
      ]
    },
    {
      "cell_type": "code",
      "execution_count": null,
      "metadata": {},
      "outputs": [],
      "source": [
        "ol_c.ol_ProdUnitPrice = ol_c.ol_ProdUnitPrice.str.replace(\"-\",\"\")\n"
      ]
    },
    {
      "cell_type": "code",
      "execution_count": null,
      "metadata": {},
      "outputs": [],
      "source": [
        "ol_c.ol_ProdUnitPrice.str.contains(\"-\").sum()"
      ]
    },
    {
      "cell_type": "markdown",
      "metadata": {},
      "source": [
        "Get rid of the first dot 3.112.23 --> 3112.23"
      ]
    },
    {
      "cell_type": "code",
      "execution_count": null,
      "metadata": {
        "colab": {
          "base_uri": "https://localhost:8080/"
        },
        "id": "Ey_Ep5iZnEFM",
        "outputId": "f56f302b-8a2e-400b-cabb-305d5d72c039"
      },
      "outputs": [],
      "source": [
        "ol_c.info()"
      ]
    },
    {
      "cell_type": "code",
      "execution_count": null,
      "metadata": {},
      "outputs": [],
      "source": [
        "ol_c.loc[ol_c.ol_ProdUnitPrice.str.contains(\"\\d+\\.\\d{3}\\.\\d{2}\")]"
      ]
    },
    {
      "cell_type": "code",
      "execution_count": null,
      "metadata": {},
      "outputs": [],
      "source": [
        "ol_c.ol_ProdUnitPrice.str.replace(r\"(\\d+)\\.(\\d{3})(\\.\\d{2})\",lambda m: m.group(1) + m.group(2) + m.group(3))\n"
      ]
    },
    {
      "cell_type": "code",
      "execution_count": null,
      "metadata": {},
      "outputs": [],
      "source": [
        "ol_c=(\n",
        "    ol_c\n",
        "    .assign(ol_ProdUnitPrice = lambda x:np.where(\n",
        "      x.ol_ProdUnitPrice.str.contains('\\d+\\.\\d{3}\\.\\d{2}'),\n",
        "      x.ol_ProdUnitPrice.str.replace(r\"(\\d+)\\.(\\d{3})(\\.\\d{2})\"\n",
        "                ,lambda m: m.group(1) + m.group(2) + m.group(3)), \n",
        "      x.ol_ProdUnitPrice\n",
        "      ))\n",
        ")"
      ]
    },
    {
      "cell_type": "code",
      "execution_count": null,
      "metadata": {},
      "outputs": [],
      "source": [
        "\n",
        "# (\n",
        "# ol_c\n",
        "#   .assign(\n",
        "#     problem_number = lambda x: np.where(\n",
        "#       # condition to find out the error\n",
        "#       x['unit_price'].str.contains('\\d.'),\n",
        "#       # apply the solution when you find the error \n",
        "#       x['unit_price'].str.replace('-','',1), \n",
        "#       # leave the unit price as it was, as it doesn't have any error\n",
        "#       x['unit_price']\n",
        "#       )\n",
        "#   )\n",
        "#   #.query(\"id_order == 365886\")\n",
        "# )"
      ]
    },
    {
      "cell_type": "markdown",
      "metadata": {},
      "source": [
        "Converting the col to float"
      ]
    },
    {
      "cell_type": "code",
      "execution_count": null,
      "metadata": {},
      "outputs": [],
      "source": [
        "ol_c.ol_ProdUnitPrice = pd.to_numeric(ol_c.ol_ProdUnitPrice, errors=\"raise\")"
      ]
    },
    {
      "cell_type": "code",
      "execution_count": null,
      "metadata": {},
      "outputs": [],
      "source": [
        "ol_c.info()"
      ]
    },
    {
      "cell_type": "markdown",
      "metadata": {},
      "source": [
        "___ For Products.csv ____"
      ]
    },
    {
      "cell_type": "code",
      "execution_count": null,
      "metadata": {
        "colab": {
          "base_uri": "https://localhost:8080/"
        },
        "id": "LnKqIQTMnEFK",
        "outputId": "6eb167b8-5828-439f-bce6-279ec0301c82"
      },
      "outputs": [],
      "source": [
        "pro_c.info()\n",
        "#ol_ProcessDate need to be changed to"
      ]
    },
    {
      "cell_type": "markdown",
      "metadata": {},
      "source": [
        "____  Convert pro_Price  to float  _______"
      ]
    },
    {
      "cell_type": "code",
      "execution_count": null,
      "metadata": {
        "colab": {
          "base_uri": "https://localhost:8080/"
        },
        "id": "af0OZtmInEFM",
        "outputId": "74add692-079a-486e-bfce-17e44ebf8dcf"
      },
      "outputs": [],
      "source": [
        "pro_c.info()"
      ]
    },
    {
      "cell_type": "code",
      "execution_count": null,
      "metadata": {
        "id": "I9RoFzwznEFM"
      },
      "outputs": [],
      "source": [
        "pro_c.pro_Price.sample(10)"
      ]
    },
    {
      "cell_type": "markdown",
      "metadata": {},
      "source": [
        "Check if some values are not of float pattern"
      ]
    },
    {
      "cell_type": "code",
      "execution_count": null,
      "metadata": {},
      "outputs": [],
      "source": [
        "(~pro_c.pro_Price.str.contains(\"^\\d+.\\d{2}$\")).sum()\n",
        "#3134 rows doesn't has the correct pattern"
      ]
    },
    {
      "cell_type": "code",
      "execution_count": null,
      "metadata": {},
      "outputs": [],
      "source": [
        "pro_c.pro_Price[(~pro_c.pro_Price.str.contains(\"^\\d+.\\d{2}$\"))].sort_values()\n",
        "# for the values 6.543.59 convert it to 6543.59"
      ]
    },
    {
      "cell_type": "markdown",
      "metadata": {},
      "source": [
        "Get rid of the first dot 3.112.23 --> 3112.23"
      ]
    },
    {
      "cell_type": "code",
      "execution_count": null,
      "metadata": {},
      "outputs": [],
      "source": [
        "pro_c.loc[pro_c.pro_Price.str.contains(\"\\d+\\.\\d{3}\\.\\d{2}\")]"
      ]
    },
    {
      "cell_type": "code",
      "execution_count": null,
      "metadata": {},
      "outputs": [],
      "source": [
        "#pro_c.ol_ProdUnitPrice.str.replace(r\"(?P<one>\\d+).(?P<two>\\d{3})(?P<three>.\\d{2})\"\n",
        "#                                  ,lambda m: m.group(\"one\") + m.group(\"two\") + m.group(\"three\"))\n"
      ]
    },
    {
      "cell_type": "code",
      "execution_count": null,
      "metadata": {},
      "outputs": [],
      "source": [
        "pro_c=(\n",
        "    pro_c\n",
        "    .assign(ol_ProdUnitPrice = lambda x:np.where(\n",
        "      x.ol_ProdUnitPrice.str.contains('\\d+\\.\\d{3}\\.\\d{2}'),\n",
        "      x.ol_ProdUnitPrice.str.replace(r\"(\\d+)\\.(\\d{3})(\\.\\d{2})\"\n",
        "                ,lambda m: m.group(1) + m.group(2) + m.group(3)), \n",
        "      x.ol_ProdUnitPrice\n",
        "      ))\n",
        ")"
      ]
    },
    {
      "cell_type": "code",
      "execution_count": null,
      "metadata": {},
      "outputs": [],
      "source": [
        "\n",
        "# (\n",
        "# pro_c\n",
        "#   .assign(\n",
        "#     problem_number = lambda x: np.where(\n",
        "#       # condition to find out the error\n",
        "#       x['unit_price'].str.contains('\\d.'),\n",
        "#       # apply the solution when you find the error \n",
        "#       x['unit_price'].str.replace('-','',1), \n",
        "#       # leave the unit price as it was, as it doesn't have any error\n",
        "#       x['unit_price']\n",
        "#       )\n",
        "#   )\n",
        "#   #.query(\"id_order == 365886\")\n",
        "# )"
      ]
    },
    {
      "cell_type": "markdown",
      "metadata": {},
      "source": [
        "Converting the col to float"
      ]
    },
    {
      "cell_type": "code",
      "execution_count": null,
      "metadata": {},
      "outputs": [],
      "source": [
        "pro_c.ol_ProdUnitPrice = pd.to_numeric(pro_c.ol_ProdUnitPrice, errors=\"raise\")"
      ]
    },
    {
      "cell_type": "code",
      "execution_count": null,
      "metadata": {},
      "outputs": [],
      "source": [
        "pro_c.info()"
      ]
    },
    {
      "cell_type": "markdown",
      "metadata": {
        "id": "uaSmyQ4bnEFN"
      },
      "source": [
        "    ==============================================================================================\n",
        "\n",
        "## Re-Explore the data\n",
        "draw some ``` df.col.hist()```  , ``` df.ser.boxplot()```  per column\n",
        "take notes"
      ]
    },
    {
      "cell_type": "code",
      "execution_count": null,
      "metadata": {
        "colab": {
          "base_uri": "https://localhost:8080/",
          "height": 363
        },
        "id": "eQtrH6R3nEFN",
        "outputId": "cdbeab0d-f6b0-4bb6-b913-a1ac8c5ab50c"
      },
      "outputs": [],
      "source": [
        "pro_c.sample(10)  # Question: how state=\"Shopping Basket\" while \"Total_paid\" has a value!! "
      ]
    },
    {
      "cell_type": "markdown",
      "metadata": {},
      "source": [
        "    ==============================================================================================\n",
        "\n",
        "## Answer Bussines questions\n"
      ]
    }
  ],
  "metadata": {
    "colab": {
      "authorship_tag": "ABX9TyMT7v9XshVXAURmbT7onweZ",
      "include_colab_link": true,
      "provenance": [],
      "toc_visible": true
    },
    "kernelspec": {
      "display_name": "Python 3.9.1 64-bit",
      "language": "python",
      "name": "python3"
    },
    "language_info": {
      "codemirror_mode": {
        "name": "ipython",
        "version": 3
      },
      "file_extension": ".py",
      "mimetype": "text/x-python",
      "name": "python",
      "nbconvert_exporter": "python",
      "pygments_lexer": "ipython3",
      "version": "3.9.1"
    },
    "vscode": {
      "interpreter": {
        "hash": "81794d4967e6c3204c66dcd87b604927b115b27c00565d3d43f05ba2f3a2cb0d"
      }
    }
  },
  "nbformat": 4,
  "nbformat_minor": 0
}
